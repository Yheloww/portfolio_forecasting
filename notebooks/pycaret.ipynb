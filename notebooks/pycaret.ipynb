{
 "cells": [
  {
   "cell_type": "code",
   "execution_count": 3,
   "metadata": {},
   "outputs": [],
   "source": [
    "from pycaret.datasets import get_data\n",
    "data = get_data('diabetes')\n"
   ]
  },
  {
   "cell_type": "code",
   "execution_count": 4,
   "metadata": {},
   "outputs": [],
   "source": [
    "from pycaret.classification import *\n",
    "s = setup(data, target = 'Class variable')"
   ]
  },
  {
   "cell_type": "code",
   "execution_count": 5,
   "metadata": {},
   "outputs": [
    {
     "data": {
      "text/html": [
       "<div>\n",
       "<style scoped>\n",
       "    .dataframe tbody tr th:only-of-type {\n",
       "        vertical-align: middle;\n",
       "    }\n",
       "\n",
       "    .dataframe tbody tr th {\n",
       "        vertical-align: top;\n",
       "    }\n",
       "\n",
       "    .dataframe thead th {\n",
       "        text-align: right;\n",
       "    }\n",
       "</style>\n",
       "<table border=\"1\" class=\"dataframe\">\n",
       "  <thead>\n",
       "    <tr style=\"text-align: right;\">\n",
       "      <th></th>\n",
       "      <th></th>\n",
       "      <th></th>\n",
       "    </tr>\n",
       "    <tr>\n",
       "      <th></th>\n",
       "      <th></th>\n",
       "      <th></th>\n",
       "    </tr>\n",
       "  </thead>\n",
       "  <tbody>\n",
       "    <tr>\n",
       "      <th>Initiated</th>\n",
       "      <td>. . . . . . . . . . . . . . . . . .</td>\n",
       "      <td>11:48:44</td>\n",
       "    </tr>\n",
       "    <tr>\n",
       "      <th>Status</th>\n",
       "      <td>. . . . . . . . . . . . . . . . . .</td>\n",
       "      <td>Loading Estimator</td>\n",
       "    </tr>\n",
       "    <tr>\n",
       "      <th>Estimator</th>\n",
       "      <td>. . . . . . . . . . . . . . . . . .</td>\n",
       "      <td>Compiling Library</td>\n",
       "    </tr>\n",
       "  </tbody>\n",
       "</table>\n",
       "</div>"
      ],
      "text/plain": [
       "                                                                 \n",
       "                                                                 \n",
       "Initiated  . . . . . . . . . . . . . . . . . .           11:48:44\n",
       "Status     . . . . . . . . . . . . . . . . . .  Loading Estimator\n",
       "Estimator  . . . . . . . . . . . . . . . . . .  Compiling Library"
      ]
     },
     "metadata": {},
     "output_type": "display_data"
    },
    {
     "data": {
      "text/html": [
       "<style type=\"text/css\">\n",
       "#T_a0aff th {\n",
       "  text-align: left;\n",
       "}\n",
       "#T_a0aff_row0_col0, #T_a0aff_row0_col3, #T_a0aff_row0_col4, #T_a0aff_row0_col5, #T_a0aff_row1_col0, #T_a0aff_row1_col1, #T_a0aff_row1_col2, #T_a0aff_row1_col4, #T_a0aff_row1_col6, #T_a0aff_row1_col7, #T_a0aff_row2_col0, #T_a0aff_row2_col1, #T_a0aff_row2_col2, #T_a0aff_row2_col3, #T_a0aff_row2_col4, #T_a0aff_row2_col5, #T_a0aff_row2_col6, #T_a0aff_row2_col7, #T_a0aff_row3_col0, #T_a0aff_row3_col1, #T_a0aff_row3_col2, #T_a0aff_row3_col3, #T_a0aff_row3_col5, #T_a0aff_row3_col6, #T_a0aff_row3_col7, #T_a0aff_row4_col0, #T_a0aff_row4_col1, #T_a0aff_row4_col2, #T_a0aff_row4_col3, #T_a0aff_row4_col4, #T_a0aff_row4_col5, #T_a0aff_row4_col6, #T_a0aff_row4_col7, #T_a0aff_row5_col0, #T_a0aff_row5_col1, #T_a0aff_row5_col2, #T_a0aff_row5_col3, #T_a0aff_row5_col4, #T_a0aff_row5_col5, #T_a0aff_row5_col6, #T_a0aff_row5_col7, #T_a0aff_row6_col0, #T_a0aff_row6_col1, #T_a0aff_row6_col2, #T_a0aff_row6_col3, #T_a0aff_row6_col4, #T_a0aff_row6_col5, #T_a0aff_row6_col6, #T_a0aff_row6_col7, #T_a0aff_row7_col0, #T_a0aff_row7_col1, #T_a0aff_row7_col2, #T_a0aff_row7_col3, #T_a0aff_row7_col4, #T_a0aff_row7_col5, #T_a0aff_row7_col6, #T_a0aff_row7_col7, #T_a0aff_row8_col0, #T_a0aff_row8_col1, #T_a0aff_row8_col2, #T_a0aff_row8_col3, #T_a0aff_row8_col4, #T_a0aff_row8_col5, #T_a0aff_row8_col6, #T_a0aff_row8_col7, #T_a0aff_row9_col0, #T_a0aff_row9_col1, #T_a0aff_row9_col2, #T_a0aff_row9_col3, #T_a0aff_row9_col4, #T_a0aff_row9_col5, #T_a0aff_row9_col6, #T_a0aff_row9_col7, #T_a0aff_row10_col0, #T_a0aff_row10_col1, #T_a0aff_row10_col2, #T_a0aff_row10_col3, #T_a0aff_row10_col4, #T_a0aff_row10_col5, #T_a0aff_row10_col6, #T_a0aff_row10_col7, #T_a0aff_row11_col0, #T_a0aff_row11_col1, #T_a0aff_row11_col2, #T_a0aff_row11_col3, #T_a0aff_row11_col4, #T_a0aff_row11_col5, #T_a0aff_row11_col6, #T_a0aff_row11_col7, #T_a0aff_row12_col0, #T_a0aff_row12_col1, #T_a0aff_row12_col2, #T_a0aff_row12_col3, #T_a0aff_row12_col4, #T_a0aff_row12_col5, #T_a0aff_row12_col6, #T_a0aff_row12_col7, #T_a0aff_row13_col0, #T_a0aff_row13_col1, #T_a0aff_row13_col2, #T_a0aff_row13_col3, #T_a0aff_row13_col4, #T_a0aff_row13_col5, #T_a0aff_row13_col6, #T_a0aff_row13_col7 {\n",
       "  text-align: left;\n",
       "}\n",
       "#T_a0aff_row0_col1, #T_a0aff_row0_col2, #T_a0aff_row0_col6, #T_a0aff_row0_col7, #T_a0aff_row1_col3, #T_a0aff_row1_col5, #T_a0aff_row3_col4 {\n",
       "  text-align: left;\n",
       "  background-color: yellow;\n",
       "}\n",
       "#T_a0aff_row0_col8, #T_a0aff_row1_col8, #T_a0aff_row2_col8, #T_a0aff_row3_col8, #T_a0aff_row4_col8, #T_a0aff_row5_col8, #T_a0aff_row6_col8, #T_a0aff_row7_col8, #T_a0aff_row8_col8, #T_a0aff_row9_col8, #T_a0aff_row10_col8, #T_a0aff_row11_col8, #T_a0aff_row12_col8 {\n",
       "  text-align: left;\n",
       "  background-color: lightgrey;\n",
       "}\n",
       "#T_a0aff_row13_col8 {\n",
       "  text-align: left;\n",
       "  background-color: yellow;\n",
       "  background-color: lightgrey;\n",
       "}\n",
       "</style>\n",
       "<table id=\"T_a0aff\">\n",
       "  <thead>\n",
       "    <tr>\n",
       "      <th class=\"blank level0\" >&nbsp;</th>\n",
       "      <th id=\"T_a0aff_level0_col0\" class=\"col_heading level0 col0\" >Model</th>\n",
       "      <th id=\"T_a0aff_level0_col1\" class=\"col_heading level0 col1\" >Accuracy</th>\n",
       "      <th id=\"T_a0aff_level0_col2\" class=\"col_heading level0 col2\" >AUC</th>\n",
       "      <th id=\"T_a0aff_level0_col3\" class=\"col_heading level0 col3\" >Recall</th>\n",
       "      <th id=\"T_a0aff_level0_col4\" class=\"col_heading level0 col4\" >Prec.</th>\n",
       "      <th id=\"T_a0aff_level0_col5\" class=\"col_heading level0 col5\" >F1</th>\n",
       "      <th id=\"T_a0aff_level0_col6\" class=\"col_heading level0 col6\" >Kappa</th>\n",
       "      <th id=\"T_a0aff_level0_col7\" class=\"col_heading level0 col7\" >MCC</th>\n",
       "      <th id=\"T_a0aff_level0_col8\" class=\"col_heading level0 col8\" >TT (Sec)</th>\n",
       "    </tr>\n",
       "  </thead>\n",
       "  <tbody>\n",
       "    <tr>\n",
       "      <th id=\"T_a0aff_level0_row0\" class=\"row_heading level0 row0\" >gbc</th>\n",
       "      <td id=\"T_a0aff_row0_col0\" class=\"data row0 col0\" >Gradient Boosting Classifier</td>\n",
       "      <td id=\"T_a0aff_row0_col1\" class=\"data row0 col1\" >0.7858</td>\n",
       "      <td id=\"T_a0aff_row0_col2\" class=\"data row0 col2\" >0.8525</td>\n",
       "      <td id=\"T_a0aff_row0_col3\" class=\"data row0 col3\" >0.6348</td>\n",
       "      <td id=\"T_a0aff_row0_col4\" class=\"data row0 col4\" >0.7233</td>\n",
       "      <td id=\"T_a0aff_row0_col5\" class=\"data row0 col5\" >0.6681</td>\n",
       "      <td id=\"T_a0aff_row0_col6\" class=\"data row0 col6\" >0.5123</td>\n",
       "      <td id=\"T_a0aff_row0_col7\" class=\"data row0 col7\" >0.5205</td>\n",
       "      <td id=\"T_a0aff_row0_col8\" class=\"data row0 col8\" >0.1080</td>\n",
       "    </tr>\n",
       "    <tr>\n",
       "      <th id=\"T_a0aff_level0_row1\" class=\"row_heading level0 row1\" >ada</th>\n",
       "      <td id=\"T_a0aff_row1_col0\" class=\"data row1 col0\" >Ada Boost Classifier</td>\n",
       "      <td id=\"T_a0aff_row1_col1\" class=\"data row1 col1\" >0.7840</td>\n",
       "      <td id=\"T_a0aff_row1_col2\" class=\"data row1 col2\" >0.8484</td>\n",
       "      <td id=\"T_a0aff_row1_col3\" class=\"data row1 col3\" >0.6515</td>\n",
       "      <td id=\"T_a0aff_row1_col4\" class=\"data row1 col4\" >0.7059</td>\n",
       "      <td id=\"T_a0aff_row1_col5\" class=\"data row1 col5\" >0.6711</td>\n",
       "      <td id=\"T_a0aff_row1_col6\" class=\"data row1 col6\" >0.5119</td>\n",
       "      <td id=\"T_a0aff_row1_col7\" class=\"data row1 col7\" >0.5181</td>\n",
       "      <td id=\"T_a0aff_row1_col8\" class=\"data row1 col8\" >0.0910</td>\n",
       "    </tr>\n",
       "    <tr>\n",
       "      <th id=\"T_a0aff_level0_row2\" class=\"row_heading level0 row2\" >lr</th>\n",
       "      <td id=\"T_a0aff_row2_col0\" class=\"data row2 col0\" >Logistic Regression</td>\n",
       "      <td id=\"T_a0aff_row2_col1\" class=\"data row2 col1\" >0.7710</td>\n",
       "      <td id=\"T_a0aff_row2_col2\" class=\"data row2 col2\" >0.8386</td>\n",
       "      <td id=\"T_a0aff_row2_col3\" class=\"data row2 col3\" >0.5620</td>\n",
       "      <td id=\"T_a0aff_row2_col4\" class=\"data row2 col4\" >0.7241</td>\n",
       "      <td id=\"T_a0aff_row2_col5\" class=\"data row2 col5\" >0.6292</td>\n",
       "      <td id=\"T_a0aff_row2_col6\" class=\"data row2 col6\" >0.4680</td>\n",
       "      <td id=\"T_a0aff_row2_col7\" class=\"data row2 col7\" >0.4783</td>\n",
       "      <td id=\"T_a0aff_row2_col8\" class=\"data row2 col8\" >0.8350</td>\n",
       "    </tr>\n",
       "    <tr>\n",
       "      <th id=\"T_a0aff_level0_row3\" class=\"row_heading level0 row3\" >ridge</th>\n",
       "      <td id=\"T_a0aff_row3_col0\" class=\"data row3 col0\" >Ridge Classifier</td>\n",
       "      <td id=\"T_a0aff_row3_col1\" class=\"data row3 col1\" >0.7691</td>\n",
       "      <td id=\"T_a0aff_row3_col2\" class=\"data row3 col2\" >0.0000</td>\n",
       "      <td id=\"T_a0aff_row3_col3\" class=\"data row3 col3\" >0.5509</td>\n",
       "      <td id=\"T_a0aff_row3_col4\" class=\"data row3 col4\" >0.7255</td>\n",
       "      <td id=\"T_a0aff_row3_col5\" class=\"data row3 col5\" >0.6221</td>\n",
       "      <td id=\"T_a0aff_row3_col6\" class=\"data row3 col6\" >0.4611</td>\n",
       "      <td id=\"T_a0aff_row3_col7\" class=\"data row3 col7\" >0.4727</td>\n",
       "      <td id=\"T_a0aff_row3_col8\" class=\"data row3 col8\" >0.0250</td>\n",
       "    </tr>\n",
       "    <tr>\n",
       "      <th id=\"T_a0aff_level0_row4\" class=\"row_heading level0 row4\" >nb</th>\n",
       "      <td id=\"T_a0aff_row4_col0\" class=\"data row4 col0\" >Naive Bayes</td>\n",
       "      <td id=\"T_a0aff_row4_col1\" class=\"data row4 col1\" >0.7690</td>\n",
       "      <td id=\"T_a0aff_row4_col2\" class=\"data row4 col2\" >0.8356</td>\n",
       "      <td id=\"T_a0aff_row4_col3\" class=\"data row4 col3\" >0.5877</td>\n",
       "      <td id=\"T_a0aff_row4_col4\" class=\"data row4 col4\" >0.7091</td>\n",
       "      <td id=\"T_a0aff_row4_col5\" class=\"data row4 col5\" >0.6379</td>\n",
       "      <td id=\"T_a0aff_row4_col6\" class=\"data row4 col6\" >0.4711</td>\n",
       "      <td id=\"T_a0aff_row4_col7\" class=\"data row4 col7\" >0.4791</td>\n",
       "      <td id=\"T_a0aff_row4_col8\" class=\"data row4 col8\" >0.0290</td>\n",
       "    </tr>\n",
       "    <tr>\n",
       "      <th id=\"T_a0aff_level0_row5\" class=\"row_heading level0 row5\" >lda</th>\n",
       "      <td id=\"T_a0aff_row5_col0\" class=\"data row5 col0\" >Linear Discriminant Analysis</td>\n",
       "      <td id=\"T_a0aff_row5_col1\" class=\"data row5 col1\" >0.7673</td>\n",
       "      <td id=\"T_a0aff_row5_col2\" class=\"data row5 col2\" >0.8399</td>\n",
       "      <td id=\"T_a0aff_row5_col3\" class=\"data row5 col3\" >0.5564</td>\n",
       "      <td id=\"T_a0aff_row5_col4\" class=\"data row5 col4\" >0.7162</td>\n",
       "      <td id=\"T_a0aff_row5_col5\" class=\"data row5 col5\" >0.6219</td>\n",
       "      <td id=\"T_a0aff_row5_col6\" class=\"data row5 col6\" >0.4587</td>\n",
       "      <td id=\"T_a0aff_row5_col7\" class=\"data row5 col7\" >0.4689</td>\n",
       "      <td id=\"T_a0aff_row5_col8\" class=\"data row5 col8\" >0.0250</td>\n",
       "    </tr>\n",
       "    <tr>\n",
       "      <th id=\"T_a0aff_level0_row6\" class=\"row_heading level0 row6\" >rf</th>\n",
       "      <td id=\"T_a0aff_row6_col0\" class=\"data row6 col0\" >Random Forest Classifier</td>\n",
       "      <td id=\"T_a0aff_row6_col1\" class=\"data row6 col1\" >0.7618</td>\n",
       "      <td id=\"T_a0aff_row6_col2\" class=\"data row6 col2\" >0.8361</td>\n",
       "      <td id=\"T_a0aff_row6_col3\" class=\"data row6 col3\" >0.6038</td>\n",
       "      <td id=\"T_a0aff_row6_col4\" class=\"data row6 col4\" >0.6859</td>\n",
       "      <td id=\"T_a0aff_row6_col5\" class=\"data row6 col5\" >0.6382</td>\n",
       "      <td id=\"T_a0aff_row6_col6\" class=\"data row6 col6\" >0.4620</td>\n",
       "      <td id=\"T_a0aff_row6_col7\" class=\"data row6 col7\" >0.4673</td>\n",
       "      <td id=\"T_a0aff_row6_col8\" class=\"data row6 col8\" >0.1950</td>\n",
       "    </tr>\n",
       "    <tr>\n",
       "      <th id=\"T_a0aff_level0_row7\" class=\"row_heading level0 row7\" >et</th>\n",
       "      <td id=\"T_a0aff_row7_col0\" class=\"data row7 col0\" >Extra Trees Classifier</td>\n",
       "      <td id=\"T_a0aff_row7_col1\" class=\"data row7 col1\" >0.7617</td>\n",
       "      <td id=\"T_a0aff_row7_col2\" class=\"data row7 col2\" >0.8261</td>\n",
       "      <td id=\"T_a0aff_row7_col3\" class=\"data row7 col3\" >0.5819</td>\n",
       "      <td id=\"T_a0aff_row7_col4\" class=\"data row7 col4\" >0.6864</td>\n",
       "      <td id=\"T_a0aff_row7_col5\" class=\"data row7 col5\" >0.6237</td>\n",
       "      <td id=\"T_a0aff_row7_col6\" class=\"data row7 col6\" >0.4527</td>\n",
       "      <td id=\"T_a0aff_row7_col7\" class=\"data row7 col7\" >0.4597</td>\n",
       "      <td id=\"T_a0aff_row7_col8\" class=\"data row7 col8\" >0.1730</td>\n",
       "    </tr>\n",
       "    <tr>\n",
       "      <th id=\"T_a0aff_level0_row8\" class=\"row_heading level0 row8\" >qda</th>\n",
       "      <td id=\"T_a0aff_row8_col0\" class=\"data row8 col0\" >Quadratic Discriminant Analysis</td>\n",
       "      <td id=\"T_a0aff_row8_col1\" class=\"data row8 col1\" >0.7559</td>\n",
       "      <td id=\"T_a0aff_row8_col2\" class=\"data row8 col2\" >0.8342</td>\n",
       "      <td id=\"T_a0aff_row8_col3\" class=\"data row8 col3\" >0.5713</td>\n",
       "      <td id=\"T_a0aff_row8_col4\" class=\"data row8 col4\" >0.6922</td>\n",
       "      <td id=\"T_a0aff_row8_col5\" class=\"data row8 col5\" >0.6218</td>\n",
       "      <td id=\"T_a0aff_row8_col6\" class=\"data row8 col6\" >0.4439</td>\n",
       "      <td id=\"T_a0aff_row8_col7\" class=\"data row8 col7\" >0.4518</td>\n",
       "      <td id=\"T_a0aff_row8_col8\" class=\"data row8 col8\" >0.0260</td>\n",
       "    </tr>\n",
       "    <tr>\n",
       "      <th id=\"T_a0aff_level0_row9\" class=\"row_heading level0 row9\" >lightgbm</th>\n",
       "      <td id=\"T_a0aff_row9_col0\" class=\"data row9 col0\" >Light Gradient Boosting Machine</td>\n",
       "      <td id=\"T_a0aff_row9_col1\" class=\"data row9 col1\" >0.7507</td>\n",
       "      <td id=\"T_a0aff_row9_col2\" class=\"data row9 col2\" >0.8128</td>\n",
       "      <td id=\"T_a0aff_row9_col3\" class=\"data row9 col3\" >0.5936</td>\n",
       "      <td id=\"T_a0aff_row9_col4\" class=\"data row9 col4\" >0.6546</td>\n",
       "      <td id=\"T_a0aff_row9_col5\" class=\"data row9 col5\" >0.6190</td>\n",
       "      <td id=\"T_a0aff_row9_col6\" class=\"data row9 col6\" >0.4353</td>\n",
       "      <td id=\"T_a0aff_row9_col7\" class=\"data row9 col7\" >0.4390</td>\n",
       "      <td id=\"T_a0aff_row9_col8\" class=\"data row9 col8\" >0.0460</td>\n",
       "    </tr>\n",
       "    <tr>\n",
       "      <th id=\"T_a0aff_level0_row10\" class=\"row_heading level0 row10\" >knn</th>\n",
       "      <td id=\"T_a0aff_row10_col0\" class=\"data row10 col0\" >K Neighbors Classifier</td>\n",
       "      <td id=\"T_a0aff_row10_col1\" class=\"data row10 col1\" >0.7279</td>\n",
       "      <td id=\"T_a0aff_row10_col2\" class=\"data row10 col2\" >0.7455</td>\n",
       "      <td id=\"T_a0aff_row10_col3\" class=\"data row10 col3\" >0.5442</td>\n",
       "      <td id=\"T_a0aff_row10_col4\" class=\"data row10 col4\" >0.6187</td>\n",
       "      <td id=\"T_a0aff_row10_col5\" class=\"data row10 col5\" >0.5765</td>\n",
       "      <td id=\"T_a0aff_row10_col6\" class=\"data row10 col6\" >0.3791</td>\n",
       "      <td id=\"T_a0aff_row10_col7\" class=\"data row10 col7\" >0.3812</td>\n",
       "      <td id=\"T_a0aff_row10_col8\" class=\"data row10 col8\" >0.3210</td>\n",
       "    </tr>\n",
       "    <tr>\n",
       "      <th id=\"T_a0aff_level0_row11\" class=\"row_heading level0 row11\" >dt</th>\n",
       "      <td id=\"T_a0aff_row11_col0\" class=\"data row11 col0\" >Decision Tree Classifier</td>\n",
       "      <td id=\"T_a0aff_row11_col1\" class=\"data row11 col1\" >0.7172</td>\n",
       "      <td id=\"T_a0aff_row11_col2\" class=\"data row11 col2\" >0.6884</td>\n",
       "      <td id=\"T_a0aff_row11_col3\" class=\"data row11 col3\" >0.5939</td>\n",
       "      <td id=\"T_a0aff_row11_col4\" class=\"data row11 col4\" >0.6034</td>\n",
       "      <td id=\"T_a0aff_row11_col5\" class=\"data row11 col5\" >0.5953</td>\n",
       "      <td id=\"T_a0aff_row11_col6\" class=\"data row11 col6\" >0.3784</td>\n",
       "      <td id=\"T_a0aff_row11_col7\" class=\"data row11 col7\" >0.3810</td>\n",
       "      <td id=\"T_a0aff_row11_col8\" class=\"data row11 col8\" >0.0270</td>\n",
       "    </tr>\n",
       "    <tr>\n",
       "      <th id=\"T_a0aff_level0_row12\" class=\"row_heading level0 row12\" >dummy</th>\n",
       "      <td id=\"T_a0aff_row12_col0\" class=\"data row12 col0\" >Dummy Classifier</td>\n",
       "      <td id=\"T_a0aff_row12_col1\" class=\"data row12 col1\" >0.6518</td>\n",
       "      <td id=\"T_a0aff_row12_col2\" class=\"data row12 col2\" >0.5000</td>\n",
       "      <td id=\"T_a0aff_row12_col3\" class=\"data row12 col3\" >0.0000</td>\n",
       "      <td id=\"T_a0aff_row12_col4\" class=\"data row12 col4\" >0.0000</td>\n",
       "      <td id=\"T_a0aff_row12_col5\" class=\"data row12 col5\" >0.0000</td>\n",
       "      <td id=\"T_a0aff_row12_col6\" class=\"data row12 col6\" >0.0000</td>\n",
       "      <td id=\"T_a0aff_row12_col7\" class=\"data row12 col7\" >0.0000</td>\n",
       "      <td id=\"T_a0aff_row12_col8\" class=\"data row12 col8\" >0.0250</td>\n",
       "    </tr>\n",
       "    <tr>\n",
       "      <th id=\"T_a0aff_level0_row13\" class=\"row_heading level0 row13\" >svm</th>\n",
       "      <td id=\"T_a0aff_row13_col0\" class=\"data row13 col0\" >SVM - Linear Kernel</td>\n",
       "      <td id=\"T_a0aff_row13_col1\" class=\"data row13 col1\" >0.5454</td>\n",
       "      <td id=\"T_a0aff_row13_col2\" class=\"data row13 col2\" >0.0000</td>\n",
       "      <td id=\"T_a0aff_row13_col3\" class=\"data row13 col3\" >0.6032</td>\n",
       "      <td id=\"T_a0aff_row13_col4\" class=\"data row13 col4\" >0.3607</td>\n",
       "      <td id=\"T_a0aff_row13_col5\" class=\"data row13 col5\" >0.3938</td>\n",
       "      <td id=\"T_a0aff_row13_col6\" class=\"data row13 col6\" >0.1050</td>\n",
       "      <td id=\"T_a0aff_row13_col7\" class=\"data row13 col7\" >0.1603</td>\n",
       "      <td id=\"T_a0aff_row13_col8\" class=\"data row13 col8\" >0.0230</td>\n",
       "    </tr>\n",
       "  </tbody>\n",
       "</table>\n"
      ],
      "text/plain": [
       "<pandas.io.formats.style.Styler at 0x1ef23a12d60>"
      ]
     },
     "metadata": {},
     "output_type": "display_data"
    }
   ],
   "source": [
    "best = compare_models()"
   ]
  },
  {
   "cell_type": "code",
   "execution_count": 6,
   "metadata": {},
   "outputs": [
    {
     "data": {
      "application/vnd.jupyter.widget-view+json": {
       "model_id": "585e46541c434813822aea4a6558d9c4",
       "version_major": 2,
       "version_minor": 0
      },
      "text/plain": [
       "interactive(children=(ToggleButtons(description='Plot Type:', icons=('',), options=(('Pipeline Plot', 'pipelin…"
      ]
     },
     "metadata": {},
     "output_type": "display_data"
    }
   ],
   "source": [
    "evaluate_model(best)"
   ]
  },
  {
   "cell_type": "code",
   "execution_count": 7,
   "metadata": {},
   "outputs": [],
   "source": [
    "from pycaret.datasets import get_data\n",
    "data = get_data('insurance')"
   ]
  },
  {
   "cell_type": "code",
   "execution_count": 8,
   "metadata": {},
   "outputs": [
    {
     "data": {
      "text/html": [
       "<style type=\"text/css\">\n",
       "#T_944e4_row10_col1 {\n",
       "  background-color: lightgreen;\n",
       "}\n",
       "</style>\n",
       "<table id=\"T_944e4\">\n",
       "  <thead>\n",
       "    <tr>\n",
       "      <th class=\"blank level0\" >&nbsp;</th>\n",
       "      <th id=\"T_944e4_level0_col0\" class=\"col_heading level0 col0\" >Description</th>\n",
       "      <th id=\"T_944e4_level0_col1\" class=\"col_heading level0 col1\" >Value</th>\n",
       "    </tr>\n",
       "  </thead>\n",
       "  <tbody>\n",
       "    <tr>\n",
       "      <th id=\"T_944e4_level0_row0\" class=\"row_heading level0 row0\" >0</th>\n",
       "      <td id=\"T_944e4_row0_col0\" class=\"data row0 col0\" >Session id</td>\n",
       "      <td id=\"T_944e4_row0_col1\" class=\"data row0 col1\" >3344</td>\n",
       "    </tr>\n",
       "    <tr>\n",
       "      <th id=\"T_944e4_level0_row1\" class=\"row_heading level0 row1\" >1</th>\n",
       "      <td id=\"T_944e4_row1_col0\" class=\"data row1 col0\" >Target</td>\n",
       "      <td id=\"T_944e4_row1_col1\" class=\"data row1 col1\" >charges</td>\n",
       "    </tr>\n",
       "    <tr>\n",
       "      <th id=\"T_944e4_level0_row2\" class=\"row_heading level0 row2\" >2</th>\n",
       "      <td id=\"T_944e4_row2_col0\" class=\"data row2 col0\" >Target type</td>\n",
       "      <td id=\"T_944e4_row2_col1\" class=\"data row2 col1\" >Regression</td>\n",
       "    </tr>\n",
       "    <tr>\n",
       "      <th id=\"T_944e4_level0_row3\" class=\"row_heading level0 row3\" >3</th>\n",
       "      <td id=\"T_944e4_row3_col0\" class=\"data row3 col0\" >Original data shape</td>\n",
       "      <td id=\"T_944e4_row3_col1\" class=\"data row3 col1\" >(1338, 7)</td>\n",
       "    </tr>\n",
       "    <tr>\n",
       "      <th id=\"T_944e4_level0_row4\" class=\"row_heading level0 row4\" >4</th>\n",
       "      <td id=\"T_944e4_row4_col0\" class=\"data row4 col0\" >Transformed data shape</td>\n",
       "      <td id=\"T_944e4_row4_col1\" class=\"data row4 col1\" >(1338, 10)</td>\n",
       "    </tr>\n",
       "    <tr>\n",
       "      <th id=\"T_944e4_level0_row5\" class=\"row_heading level0 row5\" >5</th>\n",
       "      <td id=\"T_944e4_row5_col0\" class=\"data row5 col0\" >Transformed train set shape</td>\n",
       "      <td id=\"T_944e4_row5_col1\" class=\"data row5 col1\" >(936, 10)</td>\n",
       "    </tr>\n",
       "    <tr>\n",
       "      <th id=\"T_944e4_level0_row6\" class=\"row_heading level0 row6\" >6</th>\n",
       "      <td id=\"T_944e4_row6_col0\" class=\"data row6 col0\" >Transformed test set shape</td>\n",
       "      <td id=\"T_944e4_row6_col1\" class=\"data row6 col1\" >(402, 10)</td>\n",
       "    </tr>\n",
       "    <tr>\n",
       "      <th id=\"T_944e4_level0_row7\" class=\"row_heading level0 row7\" >7</th>\n",
       "      <td id=\"T_944e4_row7_col0\" class=\"data row7 col0\" >Ordinal features</td>\n",
       "      <td id=\"T_944e4_row7_col1\" class=\"data row7 col1\" >2</td>\n",
       "    </tr>\n",
       "    <tr>\n",
       "      <th id=\"T_944e4_level0_row8\" class=\"row_heading level0 row8\" >8</th>\n",
       "      <td id=\"T_944e4_row8_col0\" class=\"data row8 col0\" >Numeric features</td>\n",
       "      <td id=\"T_944e4_row8_col1\" class=\"data row8 col1\" >3</td>\n",
       "    </tr>\n",
       "    <tr>\n",
       "      <th id=\"T_944e4_level0_row9\" class=\"row_heading level0 row9\" >9</th>\n",
       "      <td id=\"T_944e4_row9_col0\" class=\"data row9 col0\" >Categorical features</td>\n",
       "      <td id=\"T_944e4_row9_col1\" class=\"data row9 col1\" >3</td>\n",
       "    </tr>\n",
       "    <tr>\n",
       "      <th id=\"T_944e4_level0_row10\" class=\"row_heading level0 row10\" >10</th>\n",
       "      <td id=\"T_944e4_row10_col0\" class=\"data row10 col0\" >Preprocess</td>\n",
       "      <td id=\"T_944e4_row10_col1\" class=\"data row10 col1\" >True</td>\n",
       "    </tr>\n",
       "    <tr>\n",
       "      <th id=\"T_944e4_level0_row11\" class=\"row_heading level0 row11\" >11</th>\n",
       "      <td id=\"T_944e4_row11_col0\" class=\"data row11 col0\" >Imputation type</td>\n",
       "      <td id=\"T_944e4_row11_col1\" class=\"data row11 col1\" >simple</td>\n",
       "    </tr>\n",
       "    <tr>\n",
       "      <th id=\"T_944e4_level0_row12\" class=\"row_heading level0 row12\" >12</th>\n",
       "      <td id=\"T_944e4_row12_col0\" class=\"data row12 col0\" >Numeric imputation</td>\n",
       "      <td id=\"T_944e4_row12_col1\" class=\"data row12 col1\" >mean</td>\n",
       "    </tr>\n",
       "    <tr>\n",
       "      <th id=\"T_944e4_level0_row13\" class=\"row_heading level0 row13\" >13</th>\n",
       "      <td id=\"T_944e4_row13_col0\" class=\"data row13 col0\" >Categorical imputation</td>\n",
       "      <td id=\"T_944e4_row13_col1\" class=\"data row13 col1\" >mode</td>\n",
       "    </tr>\n",
       "    <tr>\n",
       "      <th id=\"T_944e4_level0_row14\" class=\"row_heading level0 row14\" >14</th>\n",
       "      <td id=\"T_944e4_row14_col0\" class=\"data row14 col0\" >Maximum one-hot encoding</td>\n",
       "      <td id=\"T_944e4_row14_col1\" class=\"data row14 col1\" >25</td>\n",
       "    </tr>\n",
       "    <tr>\n",
       "      <th id=\"T_944e4_level0_row15\" class=\"row_heading level0 row15\" >15</th>\n",
       "      <td id=\"T_944e4_row15_col0\" class=\"data row15 col0\" >Encoding method</td>\n",
       "      <td id=\"T_944e4_row15_col1\" class=\"data row15 col1\" >None</td>\n",
       "    </tr>\n",
       "    <tr>\n",
       "      <th id=\"T_944e4_level0_row16\" class=\"row_heading level0 row16\" >16</th>\n",
       "      <td id=\"T_944e4_row16_col0\" class=\"data row16 col0\" >Fold Generator</td>\n",
       "      <td id=\"T_944e4_row16_col1\" class=\"data row16 col1\" >KFold</td>\n",
       "    </tr>\n",
       "    <tr>\n",
       "      <th id=\"T_944e4_level0_row17\" class=\"row_heading level0 row17\" >17</th>\n",
       "      <td id=\"T_944e4_row17_col0\" class=\"data row17 col0\" >Fold Number</td>\n",
       "      <td id=\"T_944e4_row17_col1\" class=\"data row17 col1\" >10</td>\n",
       "    </tr>\n",
       "    <tr>\n",
       "      <th id=\"T_944e4_level0_row18\" class=\"row_heading level0 row18\" >18</th>\n",
       "      <td id=\"T_944e4_row18_col0\" class=\"data row18 col0\" >CPU Jobs</td>\n",
       "      <td id=\"T_944e4_row18_col1\" class=\"data row18 col1\" >-1</td>\n",
       "    </tr>\n",
       "    <tr>\n",
       "      <th id=\"T_944e4_level0_row19\" class=\"row_heading level0 row19\" >19</th>\n",
       "      <td id=\"T_944e4_row19_col0\" class=\"data row19 col0\" >Use GPU</td>\n",
       "      <td id=\"T_944e4_row19_col1\" class=\"data row19 col1\" >False</td>\n",
       "    </tr>\n",
       "    <tr>\n",
       "      <th id=\"T_944e4_level0_row20\" class=\"row_heading level0 row20\" >20</th>\n",
       "      <td id=\"T_944e4_row20_col0\" class=\"data row20 col0\" >Log Experiment</td>\n",
       "      <td id=\"T_944e4_row20_col1\" class=\"data row20 col1\" >False</td>\n",
       "    </tr>\n",
       "    <tr>\n",
       "      <th id=\"T_944e4_level0_row21\" class=\"row_heading level0 row21\" >21</th>\n",
       "      <td id=\"T_944e4_row21_col0\" class=\"data row21 col0\" >Experiment Name</td>\n",
       "      <td id=\"T_944e4_row21_col1\" class=\"data row21 col1\" >reg-default-name</td>\n",
       "    </tr>\n",
       "    <tr>\n",
       "      <th id=\"T_944e4_level0_row22\" class=\"row_heading level0 row22\" >22</th>\n",
       "      <td id=\"T_944e4_row22_col0\" class=\"data row22 col0\" >USI</td>\n",
       "      <td id=\"T_944e4_row22_col1\" class=\"data row22 col1\" >bb98</td>\n",
       "    </tr>\n",
       "  </tbody>\n",
       "</table>\n"
      ],
      "text/plain": [
       "<pandas.io.formats.style.Styler at 0x1ef2356e0a0>"
      ]
     },
     "metadata": {},
     "output_type": "display_data"
    }
   ],
   "source": [
    "from pycaret.regression import *\n",
    "s = setup(data, target = 'charges')"
   ]
  },
  {
   "cell_type": "code",
   "execution_count": 9,
   "metadata": {},
   "outputs": [
    {
     "data": {
      "text/html": [
       "<div>\n",
       "<style scoped>\n",
       "    .dataframe tbody tr th:only-of-type {\n",
       "        vertical-align: middle;\n",
       "    }\n",
       "\n",
       "    .dataframe tbody tr th {\n",
       "        vertical-align: top;\n",
       "    }\n",
       "\n",
       "    .dataframe thead th {\n",
       "        text-align: right;\n",
       "    }\n",
       "</style>\n",
       "<table border=\"1\" class=\"dataframe\">\n",
       "  <thead>\n",
       "    <tr style=\"text-align: right;\">\n",
       "      <th></th>\n",
       "      <th></th>\n",
       "      <th></th>\n",
       "    </tr>\n",
       "    <tr>\n",
       "      <th></th>\n",
       "      <th></th>\n",
       "      <th></th>\n",
       "    </tr>\n",
       "  </thead>\n",
       "  <tbody>\n",
       "    <tr>\n",
       "      <th>Initiated</th>\n",
       "      <td>. . . . . . . . . . . . . . . . . .</td>\n",
       "      <td>11:49:11</td>\n",
       "    </tr>\n",
       "    <tr>\n",
       "      <th>Status</th>\n",
       "      <td>. . . . . . . . . . . . . . . . . .</td>\n",
       "      <td>Loading Estimator</td>\n",
       "    </tr>\n",
       "    <tr>\n",
       "      <th>Estimator</th>\n",
       "      <td>. . . . . . . . . . . . . . . . . .</td>\n",
       "      <td>Linear Regression</td>\n",
       "    </tr>\n",
       "  </tbody>\n",
       "</table>\n",
       "</div>"
      ],
      "text/plain": [
       "                                                                 \n",
       "                                                                 \n",
       "Initiated  . . . . . . . . . . . . . . . . . .           11:49:11\n",
       "Status     . . . . . . . . . . . . . . . . . .  Loading Estimator\n",
       "Estimator  . . . . . . . . . . . . . . . . . .  Linear Regression"
      ]
     },
     "metadata": {},
     "output_type": "display_data"
    },
    {
     "data": {
      "text/html": [
       "<style type=\"text/css\">\n",
       "#T_fddc5 th {\n",
       "  text-align: left;\n",
       "}\n",
       "#T_fddc5_row0_col0, #T_fddc5_row0_col6, #T_fddc5_row1_col0, #T_fddc5_row1_col1, #T_fddc5_row1_col2, #T_fddc5_row1_col3, #T_fddc5_row1_col4, #T_fddc5_row1_col5, #T_fddc5_row1_col6, #T_fddc5_row2_col0, #T_fddc5_row2_col1, #T_fddc5_row2_col2, #T_fddc5_row2_col3, #T_fddc5_row2_col4, #T_fddc5_row2_col5, #T_fddc5_row2_col6, #T_fddc5_row3_col0, #T_fddc5_row3_col1, #T_fddc5_row3_col2, #T_fddc5_row3_col3, #T_fddc5_row3_col4, #T_fddc5_row3_col5, #T_fddc5_row3_col6, #T_fddc5_row4_col0, #T_fddc5_row4_col1, #T_fddc5_row4_col2, #T_fddc5_row4_col3, #T_fddc5_row4_col4, #T_fddc5_row4_col5, #T_fddc5_row4_col6, #T_fddc5_row5_col0, #T_fddc5_row5_col1, #T_fddc5_row5_col2, #T_fddc5_row5_col3, #T_fddc5_row5_col4, #T_fddc5_row5_col5, #T_fddc5_row5_col6, #T_fddc5_row6_col0, #T_fddc5_row6_col1, #T_fddc5_row6_col2, #T_fddc5_row6_col3, #T_fddc5_row6_col4, #T_fddc5_row6_col5, #T_fddc5_row6_col6, #T_fddc5_row7_col0, #T_fddc5_row7_col1, #T_fddc5_row7_col2, #T_fddc5_row7_col3, #T_fddc5_row7_col4, #T_fddc5_row7_col5, #T_fddc5_row7_col6, #T_fddc5_row8_col0, #T_fddc5_row8_col1, #T_fddc5_row8_col2, #T_fddc5_row8_col3, #T_fddc5_row8_col4, #T_fddc5_row8_col5, #T_fddc5_row8_col6, #T_fddc5_row9_col0, #T_fddc5_row9_col1, #T_fddc5_row9_col2, #T_fddc5_row9_col3, #T_fddc5_row9_col4, #T_fddc5_row9_col5, #T_fddc5_row9_col6, #T_fddc5_row10_col0, #T_fddc5_row10_col1, #T_fddc5_row10_col2, #T_fddc5_row10_col3, #T_fddc5_row10_col4, #T_fddc5_row10_col5, #T_fddc5_row10_col6, #T_fddc5_row11_col0, #T_fddc5_row11_col1, #T_fddc5_row11_col2, #T_fddc5_row11_col3, #T_fddc5_row11_col4, #T_fddc5_row11_col5, #T_fddc5_row11_col6, #T_fddc5_row12_col0, #T_fddc5_row12_col1, #T_fddc5_row12_col2, #T_fddc5_row12_col3, #T_fddc5_row12_col4, #T_fddc5_row12_col5, #T_fddc5_row13_col0, #T_fddc5_row13_col1, #T_fddc5_row13_col2, #T_fddc5_row13_col3, #T_fddc5_row13_col4, #T_fddc5_row13_col5, #T_fddc5_row13_col6, #T_fddc5_row14_col0, #T_fddc5_row14_col1, #T_fddc5_row14_col2, #T_fddc5_row14_col3, #T_fddc5_row14_col4, #T_fddc5_row14_col5, #T_fddc5_row14_col6, #T_fddc5_row15_col0, #T_fddc5_row15_col1, #T_fddc5_row15_col2, #T_fddc5_row15_col3, #T_fddc5_row15_col4, #T_fddc5_row15_col5, #T_fddc5_row15_col6, #T_fddc5_row16_col0, #T_fddc5_row16_col1, #T_fddc5_row16_col2, #T_fddc5_row16_col3, #T_fddc5_row16_col4, #T_fddc5_row16_col5, #T_fddc5_row16_col6, #T_fddc5_row17_col0, #T_fddc5_row17_col1, #T_fddc5_row17_col2, #T_fddc5_row17_col3, #T_fddc5_row17_col4, #T_fddc5_row17_col5, #T_fddc5_row17_col6 {\n",
       "  text-align: left;\n",
       "}\n",
       "#T_fddc5_row0_col1, #T_fddc5_row0_col2, #T_fddc5_row0_col3, #T_fddc5_row0_col4, #T_fddc5_row0_col5, #T_fddc5_row12_col6 {\n",
       "  text-align: left;\n",
       "  background-color: yellow;\n",
       "}\n",
       "#T_fddc5_row0_col7, #T_fddc5_row1_col7, #T_fddc5_row2_col7, #T_fddc5_row3_col7, #T_fddc5_row4_col7, #T_fddc5_row5_col7, #T_fddc5_row6_col7, #T_fddc5_row7_col7, #T_fddc5_row8_col7, #T_fddc5_row9_col7, #T_fddc5_row10_col7, #T_fddc5_row11_col7, #T_fddc5_row12_col7, #T_fddc5_row13_col7, #T_fddc5_row14_col7, #T_fddc5_row15_col7, #T_fddc5_row17_col7 {\n",
       "  text-align: left;\n",
       "  background-color: lightgrey;\n",
       "}\n",
       "#T_fddc5_row16_col7 {\n",
       "  text-align: left;\n",
       "  background-color: yellow;\n",
       "  background-color: lightgrey;\n",
       "}\n",
       "</style>\n",
       "<table id=\"T_fddc5\">\n",
       "  <thead>\n",
       "    <tr>\n",
       "      <th class=\"blank level0\" >&nbsp;</th>\n",
       "      <th id=\"T_fddc5_level0_col0\" class=\"col_heading level0 col0\" >Model</th>\n",
       "      <th id=\"T_fddc5_level0_col1\" class=\"col_heading level0 col1\" >MAE</th>\n",
       "      <th id=\"T_fddc5_level0_col2\" class=\"col_heading level0 col2\" >MSE</th>\n",
       "      <th id=\"T_fddc5_level0_col3\" class=\"col_heading level0 col3\" >RMSE</th>\n",
       "      <th id=\"T_fddc5_level0_col4\" class=\"col_heading level0 col4\" >R2</th>\n",
       "      <th id=\"T_fddc5_level0_col5\" class=\"col_heading level0 col5\" >RMSLE</th>\n",
       "      <th id=\"T_fddc5_level0_col6\" class=\"col_heading level0 col6\" >MAPE</th>\n",
       "      <th id=\"T_fddc5_level0_col7\" class=\"col_heading level0 col7\" >TT (Sec)</th>\n",
       "    </tr>\n",
       "  </thead>\n",
       "  <tbody>\n",
       "    <tr>\n",
       "      <th id=\"T_fddc5_level0_row0\" class=\"row_heading level0 row0\" >gbr</th>\n",
       "      <td id=\"T_fddc5_row0_col0\" class=\"data row0 col0\" >Gradient Boosting Regressor</td>\n",
       "      <td id=\"T_fddc5_row0_col1\" class=\"data row0 col1\" >2697.3238</td>\n",
       "      <td id=\"T_fddc5_row0_col2\" class=\"data row0 col2\" >23280507.4215</td>\n",
       "      <td id=\"T_fddc5_row0_col3\" class=\"data row0 col3\" >4800.2506</td>\n",
       "      <td id=\"T_fddc5_row0_col4\" class=\"data row0 col4\" >0.8394</td>\n",
       "      <td id=\"T_fddc5_row0_col5\" class=\"data row0 col5\" >0.4402</td>\n",
       "      <td id=\"T_fddc5_row0_col6\" class=\"data row0 col6\" >0.3115</td>\n",
       "      <td id=\"T_fddc5_row0_col7\" class=\"data row0 col7\" >0.1660</td>\n",
       "    </tr>\n",
       "    <tr>\n",
       "      <th id=\"T_fddc5_level0_row1\" class=\"row_heading level0 row1\" >lightgbm</th>\n",
       "      <td id=\"T_fddc5_row1_col0\" class=\"data row1 col0\" >Light Gradient Boosting Machine</td>\n",
       "      <td id=\"T_fddc5_row1_col1\" class=\"data row1 col1\" >2992.6308</td>\n",
       "      <td id=\"T_fddc5_row1_col2\" class=\"data row1 col2\" >25106445.3060</td>\n",
       "      <td id=\"T_fddc5_row1_col3\" class=\"data row1 col3\" >4984.6546</td>\n",
       "      <td id=\"T_fddc5_row1_col4\" class=\"data row1 col4\" >0.8272</td>\n",
       "      <td id=\"T_fddc5_row1_col5\" class=\"data row1 col5\" >0.4998</td>\n",
       "      <td id=\"T_fddc5_row1_col6\" class=\"data row1 col6\" >0.3543</td>\n",
       "      <td id=\"T_fddc5_row1_col7\" class=\"data row1 col7\" >0.1360</td>\n",
       "    </tr>\n",
       "    <tr>\n",
       "      <th id=\"T_fddc5_level0_row2\" class=\"row_heading level0 row2\" >rf</th>\n",
       "      <td id=\"T_fddc5_row2_col0\" class=\"data row2 col0\" >Random Forest Regressor</td>\n",
       "      <td id=\"T_fddc5_row2_col1\" class=\"data row2 col1\" >2842.6425</td>\n",
       "      <td id=\"T_fddc5_row2_col2\" class=\"data row2 col2\" >24975303.9685</td>\n",
       "      <td id=\"T_fddc5_row2_col3\" class=\"data row2 col3\" >4979.5175</td>\n",
       "      <td id=\"T_fddc5_row2_col4\" class=\"data row2 col4\" >0.8271</td>\n",
       "      <td id=\"T_fddc5_row2_col5\" class=\"data row2 col5\" >0.4665</td>\n",
       "      <td id=\"T_fddc5_row2_col6\" class=\"data row2 col6\" >0.3346</td>\n",
       "      <td id=\"T_fddc5_row2_col7\" class=\"data row2 col7\" >0.3300</td>\n",
       "    </tr>\n",
       "    <tr>\n",
       "      <th id=\"T_fddc5_level0_row3\" class=\"row_heading level0 row3\" >ada</th>\n",
       "      <td id=\"T_fddc5_row3_col0\" class=\"data row3 col0\" >AdaBoost Regressor</td>\n",
       "      <td id=\"T_fddc5_row3_col1\" class=\"data row3 col1\" >4126.8914</td>\n",
       "      <td id=\"T_fddc5_row3_col2\" class=\"data row3 col2\" >27529563.8892</td>\n",
       "      <td id=\"T_fddc5_row3_col3\" class=\"data row3 col3\" >5234.3456</td>\n",
       "      <td id=\"T_fddc5_row3_col4\" class=\"data row3 col4\" >0.8094</td>\n",
       "      <td id=\"T_fddc5_row3_col5\" class=\"data row3 col5\" >0.5904</td>\n",
       "      <td id=\"T_fddc5_row3_col6\" class=\"data row3 col6\" >0.6494</td>\n",
       "      <td id=\"T_fddc5_row3_col7\" class=\"data row3 col7\" >0.0970</td>\n",
       "    </tr>\n",
       "    <tr>\n",
       "      <th id=\"T_fddc5_level0_row4\" class=\"row_heading level0 row4\" >et</th>\n",
       "      <td id=\"T_fddc5_row4_col0\" class=\"data row4 col0\" >Extra Trees Regressor</td>\n",
       "      <td id=\"T_fddc5_row4_col1\" class=\"data row4 col1\" >2933.4285</td>\n",
       "      <td id=\"T_fddc5_row4_col2\" class=\"data row4 col2\" >29428440.2604</td>\n",
       "      <td id=\"T_fddc5_row4_col3\" class=\"data row4 col3\" >5399.2340</td>\n",
       "      <td id=\"T_fddc5_row4_col4\" class=\"data row4 col4\" >0.7956</td>\n",
       "      <td id=\"T_fddc5_row4_col5\" class=\"data row4 col5\" >0.4868</td>\n",
       "      <td id=\"T_fddc5_row4_col6\" class=\"data row4 col6\" >0.3488</td>\n",
       "      <td id=\"T_fddc5_row4_col7\" class=\"data row4 col7\" >0.2710</td>\n",
       "    </tr>\n",
       "    <tr>\n",
       "      <th id=\"T_fddc5_level0_row5\" class=\"row_heading level0 row5\" >ridge</th>\n",
       "      <td id=\"T_fddc5_row5_col0\" class=\"data row5 col0\" >Ridge Regression</td>\n",
       "      <td id=\"T_fddc5_row5_col1\" class=\"data row5 col1\" >4273.2622</td>\n",
       "      <td id=\"T_fddc5_row5_col2\" class=\"data row5 col2\" >38834673.7431</td>\n",
       "      <td id=\"T_fddc5_row5_col3\" class=\"data row5 col3\" >6205.8466</td>\n",
       "      <td id=\"T_fddc5_row5_col4\" class=\"data row5 col4\" >0.7301</td>\n",
       "      <td id=\"T_fddc5_row5_col5\" class=\"data row5 col5\" >0.5839</td>\n",
       "      <td id=\"T_fddc5_row5_col6\" class=\"data row5 col6\" >0.4105</td>\n",
       "      <td id=\"T_fddc5_row5_col7\" class=\"data row5 col7\" >0.0820</td>\n",
       "    </tr>\n",
       "    <tr>\n",
       "      <th id=\"T_fddc5_level0_row6\" class=\"row_heading level0 row6\" >lar</th>\n",
       "      <td id=\"T_fddc5_row6_col0\" class=\"data row6 col0\" >Least Angle Regression</td>\n",
       "      <td id=\"T_fddc5_row6_col1\" class=\"data row6 col1\" >4259.6241</td>\n",
       "      <td id=\"T_fddc5_row6_col2\" class=\"data row6 col2\" >38835665.7063</td>\n",
       "      <td id=\"T_fddc5_row6_col3\" class=\"data row6 col3\" >6205.5619</td>\n",
       "      <td id=\"T_fddc5_row6_col4\" class=\"data row6 col4\" >0.7300</td>\n",
       "      <td id=\"T_fddc5_row6_col5\" class=\"data row6 col5\" >0.5704</td>\n",
       "      <td id=\"T_fddc5_row6_col6\" class=\"data row6 col6\" >0.4080</td>\n",
       "      <td id=\"T_fddc5_row6_col7\" class=\"data row6 col7\" >0.0740</td>\n",
       "    </tr>\n",
       "    <tr>\n",
       "      <th id=\"T_fddc5_level0_row7\" class=\"row_heading level0 row7\" >llar</th>\n",
       "      <td id=\"T_fddc5_row7_col0\" class=\"data row7 col0\" >Lasso Least Angle Regression</td>\n",
       "      <td id=\"T_fddc5_row7_col1\" class=\"data row7 col1\" >4260.0025</td>\n",
       "      <td id=\"T_fddc5_row7_col2\" class=\"data row7 col2\" >38835755.1200</td>\n",
       "      <td id=\"T_fddc5_row7_col3\" class=\"data row7 col3\" >6205.6130</td>\n",
       "      <td id=\"T_fddc5_row7_col4\" class=\"data row7 col4\" >0.7300</td>\n",
       "      <td id=\"T_fddc5_row7_col5\" class=\"data row7 col5\" >0.5713</td>\n",
       "      <td id=\"T_fddc5_row7_col6\" class=\"data row7 col6\" >0.4081</td>\n",
       "      <td id=\"T_fddc5_row7_col7\" class=\"data row7 col7\" >0.0710</td>\n",
       "    </tr>\n",
       "    <tr>\n",
       "      <th id=\"T_fddc5_level0_row8\" class=\"row_heading level0 row8\" >br</th>\n",
       "      <td id=\"T_fddc5_row8_col0\" class=\"data row8 col0\" >Bayesian Ridge</td>\n",
       "      <td id=\"T_fddc5_row8_col1\" class=\"data row8 col1\" >4267.0190</td>\n",
       "      <td id=\"T_fddc5_row8_col2\" class=\"data row8 col2\" >38836182.2674</td>\n",
       "      <td id=\"T_fddc5_row8_col3\" class=\"data row8 col3\" >6205.7962</td>\n",
       "      <td id=\"T_fddc5_row8_col4\" class=\"data row8 col4\" >0.7300</td>\n",
       "      <td id=\"T_fddc5_row8_col5\" class=\"data row8 col5\" >0.5739</td>\n",
       "      <td id=\"T_fddc5_row8_col6\" class=\"data row8 col6\" >0.4093</td>\n",
       "      <td id=\"T_fddc5_row8_col7\" class=\"data row8 col7\" >0.0770</td>\n",
       "    </tr>\n",
       "    <tr>\n",
       "      <th id=\"T_fddc5_level0_row9\" class=\"row_heading level0 row9\" >lasso</th>\n",
       "      <td id=\"T_fddc5_row9_col0\" class=\"data row9 col0\" >Lasso Regression</td>\n",
       "      <td id=\"T_fddc5_row9_col1\" class=\"data row9 col1\" >4260.0028</td>\n",
       "      <td id=\"T_fddc5_row9_col2\" class=\"data row9 col2\" >38835741.4315</td>\n",
       "      <td id=\"T_fddc5_row9_col3\" class=\"data row9 col3\" >6205.6119</td>\n",
       "      <td id=\"T_fddc5_row9_col4\" class=\"data row9 col4\" >0.7300</td>\n",
       "      <td id=\"T_fddc5_row9_col5\" class=\"data row9 col5\" >0.5713</td>\n",
       "      <td id=\"T_fddc5_row9_col6\" class=\"data row9 col6\" >0.4081</td>\n",
       "      <td id=\"T_fddc5_row9_col7\" class=\"data row9 col7\" >0.0810</td>\n",
       "    </tr>\n",
       "    <tr>\n",
       "      <th id=\"T_fddc5_level0_row10\" class=\"row_heading level0 row10\" >lr</th>\n",
       "      <td id=\"T_fddc5_row10_col0\" class=\"data row10 col0\" >Linear Regression</td>\n",
       "      <td id=\"T_fddc5_row10_col1\" class=\"data row10 col1\" >4259.6241</td>\n",
       "      <td id=\"T_fddc5_row10_col2\" class=\"data row10 col2\" >38835665.7063</td>\n",
       "      <td id=\"T_fddc5_row10_col3\" class=\"data row10 col3\" >6205.5619</td>\n",
       "      <td id=\"T_fddc5_row10_col4\" class=\"data row10 col4\" >0.7300</td>\n",
       "      <td id=\"T_fddc5_row10_col5\" class=\"data row10 col5\" >0.5704</td>\n",
       "      <td id=\"T_fddc5_row10_col6\" class=\"data row10 col6\" >0.4080</td>\n",
       "      <td id=\"T_fddc5_row10_col7\" class=\"data row10 col7\" >0.1250</td>\n",
       "    </tr>\n",
       "    <tr>\n",
       "      <th id=\"T_fddc5_level0_row11\" class=\"row_heading level0 row11\" >dt</th>\n",
       "      <td id=\"T_fddc5_row11_col0\" class=\"data row11 col0\" >Decision Tree Regressor</td>\n",
       "      <td id=\"T_fddc5_row11_col1\" class=\"data row11 col1\" >3170.6365</td>\n",
       "      <td id=\"T_fddc5_row11_col2\" class=\"data row11 col2\" >42647776.7382</td>\n",
       "      <td id=\"T_fddc5_row11_col3\" class=\"data row11 col3\" >6477.9912</td>\n",
       "      <td id=\"T_fddc5_row11_col4\" class=\"data row11 col4\" >0.7044</td>\n",
       "      <td id=\"T_fddc5_row11_col5\" class=\"data row11 col5\" >0.5318</td>\n",
       "      <td id=\"T_fddc5_row11_col6\" class=\"data row11 col6\" >0.3778</td>\n",
       "      <td id=\"T_fddc5_row11_col7\" class=\"data row11 col7\" >0.0820</td>\n",
       "    </tr>\n",
       "    <tr>\n",
       "      <th id=\"T_fddc5_level0_row12\" class=\"row_heading level0 row12\" >huber</th>\n",
       "      <td id=\"T_fddc5_row12_col0\" class=\"data row12 col0\" >Huber Regressor</td>\n",
       "      <td id=\"T_fddc5_row12_col1\" class=\"data row12 col1\" >3476.9866</td>\n",
       "      <td id=\"T_fddc5_row12_col2\" class=\"data row12 col2\" >48592892.2391</td>\n",
       "      <td id=\"T_fddc5_row12_col3\" class=\"data row12 col3\" >6916.8037</td>\n",
       "      <td id=\"T_fddc5_row12_col4\" class=\"data row12 col4\" >0.6571</td>\n",
       "      <td id=\"T_fddc5_row12_col5\" class=\"data row12 col5\" >0.4683</td>\n",
       "      <td id=\"T_fddc5_row12_col6\" class=\"data row12 col6\" >0.2170</td>\n",
       "      <td id=\"T_fddc5_row12_col7\" class=\"data row12 col7\" >0.1040</td>\n",
       "    </tr>\n",
       "    <tr>\n",
       "      <th id=\"T_fddc5_level0_row13\" class=\"row_heading level0 row13\" >par</th>\n",
       "      <td id=\"T_fddc5_row13_col0\" class=\"data row13 col0\" >Passive Aggressive Regressor</td>\n",
       "      <td id=\"T_fddc5_row13_col1\" class=\"data row13 col1\" >4213.1757</td>\n",
       "      <td id=\"T_fddc5_row13_col2\" class=\"data row13 col2\" >65844735.6294</td>\n",
       "      <td id=\"T_fddc5_row13_col3\" class=\"data row13 col3\" >8060.6188</td>\n",
       "      <td id=\"T_fddc5_row13_col4\" class=\"data row13 col4\" >0.5531</td>\n",
       "      <td id=\"T_fddc5_row13_col5\" class=\"data row13 col5\" >0.4559</td>\n",
       "      <td id=\"T_fddc5_row13_col6\" class=\"data row13 col6\" >0.2286</td>\n",
       "      <td id=\"T_fddc5_row13_col7\" class=\"data row13 col7\" >0.0710</td>\n",
       "    </tr>\n",
       "    <tr>\n",
       "      <th id=\"T_fddc5_level0_row14\" class=\"row_heading level0 row14\" >en</th>\n",
       "      <td id=\"T_fddc5_row14_col0\" class=\"data row14 col0\" >Elastic Net</td>\n",
       "      <td id=\"T_fddc5_row14_col1\" class=\"data row14 col1\" >7423.0115</td>\n",
       "      <td id=\"T_fddc5_row14_col2\" class=\"data row14 col2\" >92224305.0125</td>\n",
       "      <td id=\"T_fddc5_row14_col3\" class=\"data row14 col3\" >9578.4528</td>\n",
       "      <td id=\"T_fddc5_row14_col4\" class=\"data row14 col4\" >0.3659</td>\n",
       "      <td id=\"T_fddc5_row14_col5\" class=\"data row14 col5\" >0.7384</td>\n",
       "      <td id=\"T_fddc5_row14_col6\" class=\"data row14 col6\" >0.9293</td>\n",
       "      <td id=\"T_fddc5_row14_col7\" class=\"data row14 col7\" >0.0930</td>\n",
       "    </tr>\n",
       "    <tr>\n",
       "      <th id=\"T_fddc5_level0_row15\" class=\"row_heading level0 row15\" >knn</th>\n",
       "      <td id=\"T_fddc5_row15_col0\" class=\"data row15 col0\" >K Neighbors Regressor</td>\n",
       "      <td id=\"T_fddc5_row15_col1\" class=\"data row15 col1\" >8039.6843</td>\n",
       "      <td id=\"T_fddc5_row15_col2\" class=\"data row15 col2\" >129857508.8000</td>\n",
       "      <td id=\"T_fddc5_row15_col3\" class=\"data row15 col3\" >11350.6735</td>\n",
       "      <td id=\"T_fddc5_row15_col4\" class=\"data row15 col4\" >0.1100</td>\n",
       "      <td id=\"T_fddc5_row15_col5\" class=\"data row15 col5\" >0.8433</td>\n",
       "      <td id=\"T_fddc5_row15_col6\" class=\"data row15 col6\" >0.9465</td>\n",
       "      <td id=\"T_fddc5_row15_col7\" class=\"data row15 col7\" >0.1040</td>\n",
       "    </tr>\n",
       "    <tr>\n",
       "      <th id=\"T_fddc5_level0_row16\" class=\"row_heading level0 row16\" >omp</th>\n",
       "      <td id=\"T_fddc5_row16_col0\" class=\"data row16 col0\" >Orthogonal Matching Pursuit</td>\n",
       "      <td id=\"T_fddc5_row16_col1\" class=\"data row16 col1\" >9185.7567</td>\n",
       "      <td id=\"T_fddc5_row16_col2\" class=\"data row16 col2\" >136776711.0936</td>\n",
       "      <td id=\"T_fddc5_row16_col3\" class=\"data row16 col3\" >11668.3775</td>\n",
       "      <td id=\"T_fddc5_row16_col4\" class=\"data row16 col4\" >0.0596</td>\n",
       "      <td id=\"T_fddc5_row16_col5\" class=\"data row16 col5\" >0.8771</td>\n",
       "      <td id=\"T_fddc5_row16_col6\" class=\"data row16 col6\" >1.1533</td>\n",
       "      <td id=\"T_fddc5_row16_col7\" class=\"data row16 col7\" >0.0660</td>\n",
       "    </tr>\n",
       "    <tr>\n",
       "      <th id=\"T_fddc5_level0_row17\" class=\"row_heading level0 row17\" >dummy</th>\n",
       "      <td id=\"T_fddc5_row17_col0\" class=\"data row17 col0\" >Dummy Regressor</td>\n",
       "      <td id=\"T_fddc5_row17_col1\" class=\"data row17 col1\" >9140.8601</td>\n",
       "      <td id=\"T_fddc5_row17_col2\" class=\"data row17 col2\" >147208260.0000</td>\n",
       "      <td id=\"T_fddc5_row17_col3\" class=\"data row17 col3\" >12093.1440</td>\n",
       "      <td id=\"T_fddc5_row17_col4\" class=\"data row17 col4\" >-0.0058</td>\n",
       "      <td id=\"T_fddc5_row17_col5\" class=\"data row17 col5\" >0.9792</td>\n",
       "      <td id=\"T_fddc5_row17_col6\" class=\"data row17 col6\" >1.4621</td>\n",
       "      <td id=\"T_fddc5_row17_col7\" class=\"data row17 col7\" >0.0810</td>\n",
       "    </tr>\n",
       "  </tbody>\n",
       "</table>\n"
      ],
      "text/plain": [
       "<pandas.io.formats.style.Styler at 0x1ef236ef970>"
      ]
     },
     "metadata": {},
     "output_type": "display_data"
    }
   ],
   "source": [
    "best = compare_models()"
   ]
  },
  {
   "cell_type": "code",
   "execution_count": 10,
   "metadata": {},
   "outputs": [
    {
     "data": {
      "application/vnd.jupyter.widget-view+json": {
       "model_id": "2f1169a3f91b4fdeaf79adf415401419",
       "version_major": 2,
       "version_minor": 0
      },
      "text/plain": [
       "interactive(children=(ToggleButtons(description='Plot Type:', icons=('',), options=(('Pipeline Plot', 'pipelin…"
      ]
     },
     "metadata": {},
     "output_type": "display_data"
    }
   ],
   "source": [
    "evaluate_model(best)"
   ]
  },
  {
   "cell_type": "code",
   "execution_count": 11,
   "metadata": {},
   "outputs": [],
   "source": [
    "from pycaret.datasets import get_data\n",
    "data = get_data('jewellery')"
   ]
  },
  {
   "cell_type": "code",
   "execution_count": 12,
   "metadata": {},
   "outputs": [],
   "source": [
    "from pycaret.clustering import *\n",
    "s = setup(data, normalize = True)"
   ]
  },
  {
   "cell_type": "code",
   "execution_count": 13,
   "metadata": {},
   "outputs": [
    {
     "data": {
      "text/html": [
       "<div>\n",
       "<style scoped>\n",
       "    .dataframe tbody tr th:only-of-type {\n",
       "        vertical-align: middle;\n",
       "    }\n",
       "\n",
       "    .dataframe tbody tr th {\n",
       "        vertical-align: top;\n",
       "    }\n",
       "\n",
       "    .dataframe thead th {\n",
       "        text-align: right;\n",
       "    }\n",
       "</style>\n",
       "<table border=\"1\" class=\"dataframe\">\n",
       "  <thead>\n",
       "    <tr style=\"text-align: right;\">\n",
       "      <th></th>\n",
       "      <th></th>\n",
       "      <th></th>\n",
       "    </tr>\n",
       "    <tr>\n",
       "      <th></th>\n",
       "      <th></th>\n",
       "      <th></th>\n",
       "    </tr>\n",
       "  </thead>\n",
       "  <tbody>\n",
       "    <tr>\n",
       "      <th>Initiated</th>\n",
       "      <td>. . . . . . . . . . . . . . . . . .</td>\n",
       "      <td>11:49:38</td>\n",
       "    </tr>\n",
       "    <tr>\n",
       "      <th>Status</th>\n",
       "      <td>. . . . . . . . . . . . . . . . . .</td>\n",
       "      <td>Fitting 4 Clusters</td>\n",
       "    </tr>\n",
       "    <tr>\n",
       "      <th>Estimator</th>\n",
       "      <td>. . . . . . . . . . . . . . . . . .</td>\n",
       "      <td>K-Means Clustering</td>\n",
       "    </tr>\n",
       "  </tbody>\n",
       "</table>\n",
       "</div>"
      ],
      "text/plain": [
       "                                                                  \n",
       "                                                                  \n",
       "Initiated  . . . . . . . . . . . . . . . . . .            11:49:38\n",
       "Status     . . . . . . . . . . . . . . . . . .  Fitting 4 Clusters\n",
       "Estimator  . . . . . . . . . . . . . . . . . .  K-Means Clustering"
      ]
     },
     "metadata": {},
     "output_type": "display_data"
    },
    {
     "data": {
      "text/html": [
       "<style type=\"text/css\">\n",
       "</style>\n",
       "<table id=\"T_cb8b6\">\n",
       "  <thead>\n",
       "    <tr>\n",
       "      <th class=\"blank level0\" >&nbsp;</th>\n",
       "      <th id=\"T_cb8b6_level0_col0\" class=\"col_heading level0 col0\" >Silhouette</th>\n",
       "      <th id=\"T_cb8b6_level0_col1\" class=\"col_heading level0 col1\" >Calinski-Harabasz</th>\n",
       "      <th id=\"T_cb8b6_level0_col2\" class=\"col_heading level0 col2\" >Davies-Bouldin</th>\n",
       "      <th id=\"T_cb8b6_level0_col3\" class=\"col_heading level0 col3\" >Homogeneity</th>\n",
       "      <th id=\"T_cb8b6_level0_col4\" class=\"col_heading level0 col4\" >Rand Index</th>\n",
       "      <th id=\"T_cb8b6_level0_col5\" class=\"col_heading level0 col5\" >Completeness</th>\n",
       "    </tr>\n",
       "  </thead>\n",
       "  <tbody>\n",
       "    <tr>\n",
       "      <th id=\"T_cb8b6_level0_row0\" class=\"row_heading level0 row0\" >0</th>\n",
       "      <td id=\"T_cb8b6_row0_col0\" class=\"data row0 col0\" >0.7581</td>\n",
       "      <td id=\"T_cb8b6_row0_col1\" class=\"data row0 col1\" >1611.2647</td>\n",
       "      <td id=\"T_cb8b6_row0_col2\" class=\"data row0 col2\" >0.3743</td>\n",
       "      <td id=\"T_cb8b6_row0_col3\" class=\"data row0 col3\" >0</td>\n",
       "      <td id=\"T_cb8b6_row0_col4\" class=\"data row0 col4\" >0</td>\n",
       "      <td id=\"T_cb8b6_row0_col5\" class=\"data row0 col5\" >0</td>\n",
       "    </tr>\n",
       "  </tbody>\n",
       "</table>\n"
      ],
      "text/plain": [
       "<pandas.io.formats.style.Styler at 0x1ef23577a30>"
      ]
     },
     "metadata": {},
     "output_type": "display_data"
    },
    {
     "data": {
      "text/html": [
       "<style type=\"text/css\">\n",
       "</style>\n",
       "<table id=\"T_cb8b6\">\n",
       "  <thead>\n",
       "    <tr>\n",
       "      <th class=\"blank level0\" >&nbsp;</th>\n",
       "      <th id=\"T_cb8b6_level0_col0\" class=\"col_heading level0 col0\" >Silhouette</th>\n",
       "      <th id=\"T_cb8b6_level0_col1\" class=\"col_heading level0 col1\" >Calinski-Harabasz</th>\n",
       "      <th id=\"T_cb8b6_level0_col2\" class=\"col_heading level0 col2\" >Davies-Bouldin</th>\n",
       "      <th id=\"T_cb8b6_level0_col3\" class=\"col_heading level0 col3\" >Homogeneity</th>\n",
       "      <th id=\"T_cb8b6_level0_col4\" class=\"col_heading level0 col4\" >Rand Index</th>\n",
       "      <th id=\"T_cb8b6_level0_col5\" class=\"col_heading level0 col5\" >Completeness</th>\n",
       "    </tr>\n",
       "  </thead>\n",
       "  <tbody>\n",
       "    <tr>\n",
       "      <th id=\"T_cb8b6_level0_row0\" class=\"row_heading level0 row0\" >0</th>\n",
       "      <td id=\"T_cb8b6_row0_col0\" class=\"data row0 col0\" >0.7581</td>\n",
       "      <td id=\"T_cb8b6_row0_col1\" class=\"data row0 col1\" >1611.2647</td>\n",
       "      <td id=\"T_cb8b6_row0_col2\" class=\"data row0 col2\" >0.3743</td>\n",
       "      <td id=\"T_cb8b6_row0_col3\" class=\"data row0 col3\" >0</td>\n",
       "      <td id=\"T_cb8b6_row0_col4\" class=\"data row0 col4\" >0</td>\n",
       "      <td id=\"T_cb8b6_row0_col5\" class=\"data row0 col5\" >0</td>\n",
       "    </tr>\n",
       "  </tbody>\n",
       "</table>\n"
      ],
      "text/plain": [
       "<pandas.io.formats.style.Styler at 0x1ef23577a30>"
      ]
     },
     "metadata": {},
     "output_type": "display_data"
    }
   ],
   "source": [
    "kmeans = create_model('kmeans')"
   ]
  },
  {
   "cell_type": "code",
   "execution_count": 14,
   "metadata": {},
   "outputs": [
    {
     "data": {
      "application/vnd.jupyter.widget-view+json": {
       "model_id": "770588fb7b524f1eb38113216fa9e470",
       "version_major": 2,
       "version_minor": 0
      },
      "text/plain": [
       "interactive(children=(ToggleButtons(description='Plot Type:', icons=('',), options=(('Pipeline Plot', 'pipelin…"
      ]
     },
     "metadata": {},
     "output_type": "display_data"
    }
   ],
   "source": [
    "evaluate_model(kmeans)"
   ]
  },
  {
   "cell_type": "code",
   "execution_count": 15,
   "metadata": {},
   "outputs": [
    {
     "name": "stdout",
     "output_type": "stream",
     "text": [
      "[*********************100%***********************]  1 of 1 completed\n"
     ]
    },
    {
     "data": {
      "text/plain": [
       "Date\n",
       "2013-03-26     14.224215\n",
       "2013-03-27     13.944748\n",
       "2013-03-28     13.654181\n",
       "2013-04-01     13.230054\n",
       "2013-04-02     13.257195\n",
       "                 ...    \n",
       "2023-03-07    151.600006\n",
       "2023-03-08    152.869995\n",
       "2023-03-09    150.589996\n",
       "2023-03-10    148.500000\n",
       "2023-03-13    150.470001\n",
       "Name: Adj Close, Length: 2509, dtype: float64"
      ]
     },
     "execution_count": 15,
     "metadata": {},
     "output_type": "execute_result"
    }
   ],
   "source": [
    "from datetime import datetime, date, timedelta\n",
    "import yfinance as yf\n",
    "\n",
    "import numpy as np \n",
    "import pandas as pd\n",
    "\n",
    "\n",
    "\n",
    "start_date = date.today() - timedelta(weeks=52*10)\n",
    "end_date = date.today()\n",
    "df = yf.download('AAPL',\n",
    "    start=start_date,\n",
    "    end = end_date\n",
    ")['Adj Close']\n",
    "\n",
    "df"
   ]
  },
  {
   "cell_type": "code",
   "execution_count": 16,
   "metadata": {},
   "outputs": [
    {
     "ename": "ValueError",
     "evalue": "You must pass a freq argument as current index has none.",
     "output_type": "error",
     "traceback": [
      "\u001b[1;31m---------------------------------------------------------------------------\u001b[0m",
      "\u001b[1;31mValueError\u001b[0m                                Traceback (most recent call last)",
      "Cell \u001b[1;32mIn[16], line 2\u001b[0m\n\u001b[0;32m      1\u001b[0m \u001b[39mfrom\u001b[39;00m \u001b[39mpycaret\u001b[39;00m\u001b[39m.\u001b[39;00m\u001b[39mtime_series\u001b[39;00m \u001b[39mimport\u001b[39;00m \u001b[39m*\u001b[39m\n\u001b[1;32m----> 2\u001b[0m s \u001b[39m=\u001b[39m setup(df, fh \u001b[39m=\u001b[39;49m \u001b[39m7\u001b[39;49m, fold \u001b[39m=\u001b[39;49m \u001b[39m5\u001b[39;49m, session_id \u001b[39m=\u001b[39;49m \u001b[39m123\u001b[39;49m, numeric_imputation_target\u001b[39m=\u001b[39;49m\u001b[39m'\u001b[39;49m\u001b[39mmean\u001b[39;49m\u001b[39m'\u001b[39;49m)\n",
      "File \u001b[1;32mc:\\Users\\feldm\\Documents\\GitHub\\portfolio_forecasting\\myenv\\lib\\site-packages\\pycaret\\time_series\\forecasting\\functional.py:554\u001b[0m, in \u001b[0;36msetup\u001b[1;34m(data, data_func, target, index, ignore_features, numeric_imputation_target, numeric_imputation_exogenous, transform_target, transform_exogenous, fe_target_rr, fe_exogenous, scale_target, scale_exogenous, fold_strategy, fold, fh, hyperparameter_split, seasonal_period, sp_detection, max_sp_to_consider, remove_harmonics, harmonic_order_method, num_sps_to_use, point_alpha, coverage, enforce_exogenous, n_jobs, use_gpu, custom_pipeline, html, session_id, system_log, log_experiment, experiment_name, log_plots, log_profile, log_data, verbose, profile, profile_kwargs, fig_kwargs)\u001b[0m\n\u001b[0;32m    552\u001b[0m exp \u001b[39m=\u001b[39m _EXPERIMENT_CLASS()\n\u001b[0;32m    553\u001b[0m set_current_experiment(exp)\n\u001b[1;32m--> 554\u001b[0m \u001b[39mreturn\u001b[39;00m exp\u001b[39m.\u001b[39;49msetup(\n\u001b[0;32m    555\u001b[0m     data\u001b[39m=\u001b[39;49mdata,\n\u001b[0;32m    556\u001b[0m     data_func\u001b[39m=\u001b[39;49mdata_func,\n\u001b[0;32m    557\u001b[0m     target\u001b[39m=\u001b[39;49mtarget,\n\u001b[0;32m    558\u001b[0m     index\u001b[39m=\u001b[39;49mindex,\n\u001b[0;32m    559\u001b[0m     ignore_features\u001b[39m=\u001b[39;49mignore_features,\n\u001b[0;32m    560\u001b[0m     numeric_imputation_target\u001b[39m=\u001b[39;49mnumeric_imputation_target,\n\u001b[0;32m    561\u001b[0m     numeric_imputation_exogenous\u001b[39m=\u001b[39;49mnumeric_imputation_exogenous,\n\u001b[0;32m    562\u001b[0m     transform_target\u001b[39m=\u001b[39;49mtransform_target,\n\u001b[0;32m    563\u001b[0m     transform_exogenous\u001b[39m=\u001b[39;49mtransform_exogenous,\n\u001b[0;32m    564\u001b[0m     scale_target\u001b[39m=\u001b[39;49mscale_target,\n\u001b[0;32m    565\u001b[0m     scale_exogenous\u001b[39m=\u001b[39;49mscale_exogenous,\n\u001b[0;32m    566\u001b[0m     fe_target_rr\u001b[39m=\u001b[39;49mfe_target_rr,\n\u001b[0;32m    567\u001b[0m     fe_exogenous\u001b[39m=\u001b[39;49mfe_exogenous,\n\u001b[0;32m    568\u001b[0m     fold_strategy\u001b[39m=\u001b[39;49mfold_strategy,\n\u001b[0;32m    569\u001b[0m     fold\u001b[39m=\u001b[39;49mfold,\n\u001b[0;32m    570\u001b[0m     fh\u001b[39m=\u001b[39;49mfh,\n\u001b[0;32m    571\u001b[0m     hyperparameter_split\u001b[39m=\u001b[39;49mhyperparameter_split,\n\u001b[0;32m    572\u001b[0m     seasonal_period\u001b[39m=\u001b[39;49mseasonal_period,\n\u001b[0;32m    573\u001b[0m     sp_detection\u001b[39m=\u001b[39;49msp_detection,\n\u001b[0;32m    574\u001b[0m     max_sp_to_consider\u001b[39m=\u001b[39;49mmax_sp_to_consider,\n\u001b[0;32m    575\u001b[0m     remove_harmonics\u001b[39m=\u001b[39;49mremove_harmonics,\n\u001b[0;32m    576\u001b[0m     harmonic_order_method\u001b[39m=\u001b[39;49mharmonic_order_method,\n\u001b[0;32m    577\u001b[0m     num_sps_to_use\u001b[39m=\u001b[39;49mnum_sps_to_use,\n\u001b[0;32m    578\u001b[0m     point_alpha\u001b[39m=\u001b[39;49mpoint_alpha,\n\u001b[0;32m    579\u001b[0m     coverage\u001b[39m=\u001b[39;49mcoverage,\n\u001b[0;32m    580\u001b[0m     enforce_exogenous\u001b[39m=\u001b[39;49menforce_exogenous,\n\u001b[0;32m    581\u001b[0m     n_jobs\u001b[39m=\u001b[39;49mn_jobs,\n\u001b[0;32m    582\u001b[0m     use_gpu\u001b[39m=\u001b[39;49muse_gpu,\n\u001b[0;32m    583\u001b[0m     custom_pipeline\u001b[39m=\u001b[39;49mcustom_pipeline,\n\u001b[0;32m    584\u001b[0m     html\u001b[39m=\u001b[39;49mhtml,\n\u001b[0;32m    585\u001b[0m     session_id\u001b[39m=\u001b[39;49msession_id,\n\u001b[0;32m    586\u001b[0m     system_log\u001b[39m=\u001b[39;49msystem_log,\n\u001b[0;32m    587\u001b[0m     log_experiment\u001b[39m=\u001b[39;49mlog_experiment,\n\u001b[0;32m    588\u001b[0m     experiment_name\u001b[39m=\u001b[39;49mexperiment_name,\n\u001b[0;32m    589\u001b[0m     log_plots\u001b[39m=\u001b[39;49mlog_plots,\n\u001b[0;32m    590\u001b[0m     log_profile\u001b[39m=\u001b[39;49mlog_profile,\n\u001b[0;32m    591\u001b[0m     log_data\u001b[39m=\u001b[39;49mlog_data,\n\u001b[0;32m    592\u001b[0m     verbose\u001b[39m=\u001b[39;49mverbose,\n\u001b[0;32m    593\u001b[0m     profile\u001b[39m=\u001b[39;49mprofile,\n\u001b[0;32m    594\u001b[0m     profile_kwargs\u001b[39m=\u001b[39;49mprofile_kwargs,\n\u001b[0;32m    595\u001b[0m     fig_kwargs\u001b[39m=\u001b[39;49mfig_kwargs,\n\u001b[0;32m    596\u001b[0m )\n",
      "File \u001b[1;32mc:\\Users\\feldm\\Documents\\GitHub\\portfolio_forecasting\\myenv\\lib\\site-packages\\pycaret\\time_series\\forecasting\\oop.py:1963\u001b[0m, in \u001b[0;36mTSForecastingExperiment.setup\u001b[1;34m(self, data, data_func, target, index, ignore_features, numeric_imputation_target, numeric_imputation_exogenous, transform_target, transform_exogenous, scale_target, scale_exogenous, fe_target_rr, fe_exogenous, fold_strategy, fold, fh, hyperparameter_split, seasonal_period, sp_detection, max_sp_to_consider, remove_harmonics, harmonic_order_method, num_sps_to_use, point_alpha, coverage, enforce_exogenous, n_jobs, use_gpu, custom_pipeline, html, session_id, system_log, log_experiment, experiment_name, experiment_custom_tags, log_plots, log_profile, log_data, engine, verbose, profile, profile_kwargs, fig_kwargs)\u001b[0m\n\u001b[0;32m   1959\u001b[0m \u001b[39m# Features to be ignored (are not read by self.dataset, self.X, etc...)\u001b[39;00m\n\u001b[0;32m   1960\u001b[0m \u001b[39mself\u001b[39m\u001b[39m.\u001b[39m_fxs \u001b[39m=\u001b[39m {\u001b[39m\"\u001b[39m\u001b[39mIgnore\u001b[39m\u001b[39m\"\u001b[39m: ignore_features \u001b[39mor\u001b[39;00m []}\n\u001b[0;32m   1962\u001b[0m (\n\u001b[1;32m-> 1963\u001b[0m     \u001b[39mself\u001b[39;49m\u001b[39m.\u001b[39;49m_initialize_setup(\n\u001b[0;32m   1964\u001b[0m         n_jobs\u001b[39m=\u001b[39;49mn_jobs,\n\u001b[0;32m   1965\u001b[0m         use_gpu\u001b[39m=\u001b[39;49muse_gpu,\n\u001b[0;32m   1966\u001b[0m         html\u001b[39m=\u001b[39;49mhtml,\n\u001b[0;32m   1967\u001b[0m         session_id\u001b[39m=\u001b[39;49msession_id,\n\u001b[0;32m   1968\u001b[0m         system_log\u001b[39m=\u001b[39;49msystem_log,\n\u001b[0;32m   1969\u001b[0m         log_experiment\u001b[39m=\u001b[39;49mlog_experiment,\n\u001b[0;32m   1970\u001b[0m         experiment_name\u001b[39m=\u001b[39;49mexperiment_name,\n\u001b[0;32m   1971\u001b[0m         memory\u001b[39m=\u001b[39;49m\u001b[39mTrue\u001b[39;49;00m,\n\u001b[0;32m   1972\u001b[0m         verbose\u001b[39m=\u001b[39;49mverbose,\n\u001b[0;32m   1973\u001b[0m     )\n\u001b[0;32m   1974\u001b[0m     \u001b[39m.\u001b[39;49m_check_clean_and_set_data(data)\n\u001b[0;32m   1975\u001b[0m     \u001b[39m.\u001b[39;49m_check_and_clean_index(index\u001b[39m=\u001b[39;49mindex, seasonal_period\u001b[39m=\u001b[39;49mseasonal_period)\n\u001b[0;32m   1976\u001b[0m     \u001b[39m.\u001b[39m_check_and_set_targets(target\u001b[39m=\u001b[39mtarget)\n\u001b[0;32m   1977\u001b[0m     \u001b[39m.\u001b[39m_set_exogenous_names()\n\u001b[0;32m   1978\u001b[0m     \u001b[39m.\u001b[39m_check_and_set_forecasting_types()\n\u001b[0;32m   1979\u001b[0m     \u001b[39m.\u001b[39m_check_and_set_fh(fh\u001b[39m=\u001b[39mfh)\n\u001b[0;32m   1980\u001b[0m     \u001b[39m.\u001b[39m_set_point_alpha_intervals_enforce_pi(\n\u001b[0;32m   1981\u001b[0m         point_alpha\u001b[39m=\u001b[39mpoint_alpha, coverage\u001b[39m=\u001b[39mcoverage\n\u001b[0;32m   1982\u001b[0m     )\n\u001b[0;32m   1983\u001b[0m     \u001b[39m.\u001b[39m_setup_train_test_split()\n\u001b[0;32m   1984\u001b[0m     \u001b[39m.\u001b[39m_set_fold_generator()\n\u001b[0;32m   1985\u001b[0m     \u001b[39m.\u001b[39m_set_should_preprocess_data()\n\u001b[0;32m   1986\u001b[0m     \u001b[39m.\u001b[39m_set_missingness()\n\u001b[0;32m   1987\u001b[0m     \u001b[39m.\u001b[39m_initialize_pipeline()\n\u001b[0;32m   1988\u001b[0m     \u001b[39m##################################################################\u001b[39;00m\n\u001b[0;32m   1989\u001b[0m     \u001b[39m# Do these after the preprocessing pipeline has been setup.\u001b[39;00m\n\u001b[0;32m   1990\u001b[0m     \u001b[39m# Since the model will see transformed data, these parameters\u001b[39;00m\n\u001b[0;32m   1991\u001b[0m     \u001b[39m# should also be derived from the transformed data.\u001b[39;00m\n\u001b[0;32m   1992\u001b[0m     \u001b[39m##################################################################\u001b[39;00m\n\u001b[0;32m   1993\u001b[0m     \u001b[39m.\u001b[39m_check_and_set_seasonal_period()\n\u001b[0;32m   1994\u001b[0m     \u001b[39m.\u001b[39m_set_multiplicative_components()\n\u001b[0;32m   1995\u001b[0m     \u001b[39m.\u001b[39m_perform_setup_eda()\n\u001b[0;32m   1996\u001b[0m     \u001b[39m.\u001b[39m_setup_display_container()\n\u001b[0;32m   1997\u001b[0m     \u001b[39m.\u001b[39m_profile(profile, profile_kwargs)\n\u001b[0;32m   1998\u001b[0m     \u001b[39m.\u001b[39m_set_exp_model_engines(\n\u001b[0;32m   1999\u001b[0m         container_default_engines\u001b[39m=\u001b[39mget_container_default_engines(),\n\u001b[0;32m   2000\u001b[0m         engine\u001b[39m=\u001b[39mengine,\n\u001b[0;32m   2001\u001b[0m     )\n\u001b[0;32m   2002\u001b[0m     \u001b[39m.\u001b[39m_set_all_models()\n\u001b[0;32m   2003\u001b[0m     \u001b[39m.\u001b[39m_set_all_metrics()\n\u001b[0;32m   2004\u001b[0m )\n\u001b[0;32m   2006\u001b[0m runtime \u001b[39m=\u001b[39m np\u001b[39m.\u001b[39marray(time\u001b[39m.\u001b[39mtime() \u001b[39m-\u001b[39m runtime_start)\u001b[39m.\u001b[39mround(\u001b[39m2\u001b[39m)\n\u001b[0;32m   2008\u001b[0m \u001b[39mself\u001b[39m\u001b[39m.\u001b[39m_set_up_logging(\n\u001b[0;32m   2009\u001b[0m     runtime,\n\u001b[0;32m   2010\u001b[0m     log_data,\n\u001b[0;32m   2011\u001b[0m     log_profile,\n\u001b[0;32m   2012\u001b[0m     experiment_custom_tags\u001b[39m=\u001b[39mexperiment_custom_tags,\n\u001b[0;32m   2013\u001b[0m )\n",
      "File \u001b[1;32mc:\\Users\\feldm\\Documents\\GitHub\\portfolio_forecasting\\myenv\\lib\\site-packages\\pycaret\\time_series\\forecasting\\oop.py:558\u001b[0m, in \u001b[0;36mTSForecastingExperiment._check_and_clean_index\u001b[1;34m(self, index, seasonal_period)\u001b[0m\n\u001b[0;32m    554\u001b[0m \u001b[39m# Convert DatetimeIndex index to PeriodIndex ----\u001b[39;00m\n\u001b[0;32m    555\u001b[0m \u001b[39m# We use PeriodIndex in PyCaret since it seems to be more robust per `sktime``\u001b[39;00m\n\u001b[0;32m    556\u001b[0m \u001b[39m# Ref: https://github.com/sktime/sktime/blob/v0.10.0/sktime/forecasting/base/_fh.py#L524\u001b[39;00m\n\u001b[0;32m    557\u001b[0m \u001b[39mif\u001b[39;00m \u001b[39misinstance\u001b[39m(\u001b[39mself\u001b[39m\u001b[39m.\u001b[39mdata\u001b[39m.\u001b[39mindex, pd\u001b[39m.\u001b[39mDatetimeIndex):\n\u001b[1;32m--> 558\u001b[0m     \u001b[39mself\u001b[39m\u001b[39m.\u001b[39mdata\u001b[39m.\u001b[39mindex \u001b[39m=\u001b[39m \u001b[39mself\u001b[39;49m\u001b[39m.\u001b[39;49mdata\u001b[39m.\u001b[39;49mindex\u001b[39m.\u001b[39;49mto_period()\n\u001b[0;32m    560\u001b[0m \u001b[39m# Data must not have missing indices ----\u001b[39;00m\n\u001b[0;32m    561\u001b[0m \u001b[39mif\u001b[39;00m \u001b[39misinstance\u001b[39m(\u001b[39mself\u001b[39m\u001b[39m.\u001b[39mdata\u001b[39m.\u001b[39mindex, pd\u001b[39m.\u001b[39mPeriodIndex):\n",
      "File \u001b[1;32mc:\\Users\\feldm\\Documents\\GitHub\\portfolio_forecasting\\myenv\\lib\\site-packages\\pandas\\core\\indexes\\extension.py:98\u001b[0m, in \u001b[0;36m_inherit_from_data.<locals>.method\u001b[1;34m(self, *args, **kwargs)\u001b[0m\n\u001b[0;32m     96\u001b[0m \u001b[39mif\u001b[39;00m \u001b[39m\"\u001b[39m\u001b[39minplace\u001b[39m\u001b[39m\"\u001b[39m \u001b[39min\u001b[39;00m kwargs:\n\u001b[0;32m     97\u001b[0m     \u001b[39mraise\u001b[39;00m \u001b[39mValueError\u001b[39;00m(\u001b[39mf\u001b[39m\u001b[39m\"\u001b[39m\u001b[39mcannot use inplace with \u001b[39m\u001b[39m{\u001b[39;00m\u001b[39mtype\u001b[39m(\u001b[39mself\u001b[39m)\u001b[39m.\u001b[39m\u001b[39m__name__\u001b[39m\u001b[39m}\u001b[39;00m\u001b[39m\"\u001b[39m)\n\u001b[1;32m---> 98\u001b[0m result \u001b[39m=\u001b[39m attr(\u001b[39mself\u001b[39m\u001b[39m.\u001b[39m_data, \u001b[39m*\u001b[39margs, \u001b[39m*\u001b[39m\u001b[39m*\u001b[39mkwargs)\n\u001b[0;32m     99\u001b[0m \u001b[39mif\u001b[39;00m wrap:\n\u001b[0;32m    100\u001b[0m     \u001b[39mif\u001b[39;00m \u001b[39misinstance\u001b[39m(result, \u001b[39mtype\u001b[39m(\u001b[39mself\u001b[39m\u001b[39m.\u001b[39m_data)):\n",
      "File \u001b[1;32mc:\\Users\\feldm\\Documents\\GitHub\\portfolio_forecasting\\myenv\\lib\\site-packages\\pandas\\core\\arrays\\datetimes.py:1125\u001b[0m, in \u001b[0;36mDatetimeArray.to_period\u001b[1;34m(self, freq)\u001b[0m\n\u001b[0;32m   1122\u001b[0m freq \u001b[39m=\u001b[39m \u001b[39mself\u001b[39m\u001b[39m.\u001b[39mfreqstr \u001b[39mor\u001b[39;00m \u001b[39mself\u001b[39m\u001b[39m.\u001b[39minferred_freq\n\u001b[0;32m   1124\u001b[0m \u001b[39mif\u001b[39;00m freq \u001b[39mis\u001b[39;00m \u001b[39mNone\u001b[39;00m:\n\u001b[1;32m-> 1125\u001b[0m     \u001b[39mraise\u001b[39;00m \u001b[39mValueError\u001b[39;00m(\n\u001b[0;32m   1126\u001b[0m         \u001b[39m\"\u001b[39m\u001b[39mYou must pass a freq argument as current index has none.\u001b[39m\u001b[39m\"\u001b[39m\n\u001b[0;32m   1127\u001b[0m     )\n\u001b[0;32m   1129\u001b[0m res \u001b[39m=\u001b[39m get_period_alias(freq)\n\u001b[0;32m   1131\u001b[0m \u001b[39m#  https://github.com/pandas-dev/pandas/issues/33358\u001b[39;00m\n",
      "\u001b[1;31mValueError\u001b[0m: You must pass a freq argument as current index has none."
     ]
    }
   ],
   "source": [
    "from pycaret.time_series import *\n",
    "s = setup(df, fh = 7, fold = 5, session_id = 123, numeric_imputation_target='mean')"
   ]
  },
  {
   "cell_type": "code",
   "execution_count": null,
   "metadata": {},
   "outputs": [
    {
     "data": {
      "text/html": [
       "<div>\n",
       "<style scoped>\n",
       "    .dataframe tbody tr th:only-of-type {\n",
       "        vertical-align: middle;\n",
       "    }\n",
       "\n",
       "    .dataframe tbody tr th {\n",
       "        vertical-align: top;\n",
       "    }\n",
       "\n",
       "    .dataframe thead th {\n",
       "        text-align: right;\n",
       "    }\n",
       "</style>\n",
       "<table border=\"1\" class=\"dataframe\">\n",
       "  <thead>\n",
       "    <tr style=\"text-align: right;\">\n",
       "      <th></th>\n",
       "      <th></th>\n",
       "      <th></th>\n",
       "    </tr>\n",
       "    <tr>\n",
       "      <th></th>\n",
       "      <th></th>\n",
       "      <th></th>\n",
       "    </tr>\n",
       "  </thead>\n",
       "  <tbody>\n",
       "    <tr>\n",
       "      <th>Initiated</th>\n",
       "      <td>. . . . . . . . . . . . . . . . . .</td>\n",
       "      <td>10:49:17</td>\n",
       "    </tr>\n",
       "    <tr>\n",
       "      <th>Status</th>\n",
       "      <td>. . . . . . . . . . . . . . . . . .</td>\n",
       "      <td>Loading Estimator</td>\n",
       "    </tr>\n",
       "    <tr>\n",
       "      <th>Estimator</th>\n",
       "      <td>. . . . . . . . . . . . . . . . . .</td>\n",
       "      <td>Naive Forecaster</td>\n",
       "    </tr>\n",
       "  </tbody>\n",
       "</table>\n",
       "</div>"
      ],
      "text/plain": [
       "                                                                 \n",
       "                                                                 \n",
       "Initiated  . . . . . . . . . . . . . . . . . .           10:49:17\n",
       "Status     . . . . . . . . . . . . . . . . . .  Loading Estimator\n",
       "Estimator  . . . . . . . . . . . . . . . . . .   Naive Forecaster"
      ]
     },
     "metadata": {},
     "output_type": "display_data"
    },
    {
     "data": {
      "text/html": [],
      "text/plain": [
       "<IPython.core.display.HTML object>"
      ]
     },
     "metadata": {},
     "output_type": "display_data"
    }
   ],
   "source": [
    "best = compare_models()"
   ]
  },
  {
   "cell_type": "code",
   "execution_count": null,
   "metadata": {},
   "outputs": [
    {
     "data": {
      "application/vnd.plotly.v1+json": {
       "config": {
        "plotlyServerURL": "https://plot.ly"
       },
       "data": [
        {
         "line": {
          "color": "rgb(31, 119, 180)",
          "width": 2
         },
         "marker": {
          "color": "rgb(31, 119, 180)",
          "size": 5
         },
         "mode": "lines+markers",
         "name": "Number of airline passengers",
         "type": "scattergl",
         "x": [
          "1949-01-01T00:00:00",
          "1949-02-01T00:00:00",
          "1949-03-01T00:00:00",
          "1949-04-01T00:00:00",
          "1949-05-01T00:00:00",
          "1949-06-01T00:00:00",
          "1949-07-01T00:00:00",
          "1949-08-01T00:00:00",
          "1949-09-01T00:00:00",
          "1949-10-01T00:00:00",
          "1949-11-01T00:00:00",
          "1949-12-01T00:00:00",
          "1950-01-01T00:00:00",
          "1950-02-01T00:00:00",
          "1950-03-01T00:00:00",
          "1950-04-01T00:00:00",
          "1950-05-01T00:00:00",
          "1950-06-01T00:00:00",
          "1950-07-01T00:00:00",
          "1950-08-01T00:00:00",
          "1950-09-01T00:00:00",
          "1950-10-01T00:00:00",
          "1950-11-01T00:00:00",
          "1950-12-01T00:00:00",
          "1951-01-01T00:00:00",
          "1951-02-01T00:00:00",
          "1951-03-01T00:00:00",
          "1951-04-01T00:00:00",
          "1951-05-01T00:00:00",
          "1951-06-01T00:00:00",
          "1951-07-01T00:00:00",
          "1951-08-01T00:00:00",
          "1951-09-01T00:00:00",
          "1951-10-01T00:00:00",
          "1951-11-01T00:00:00",
          "1951-12-01T00:00:00",
          "1952-01-01T00:00:00",
          "1952-02-01T00:00:00",
          "1952-03-01T00:00:00",
          "1952-04-01T00:00:00",
          "1952-05-01T00:00:00",
          "1952-06-01T00:00:00",
          "1952-07-01T00:00:00",
          "1952-08-01T00:00:00",
          "1952-09-01T00:00:00",
          "1952-10-01T00:00:00",
          "1952-11-01T00:00:00",
          "1952-12-01T00:00:00",
          "1953-01-01T00:00:00",
          "1953-02-01T00:00:00",
          "1953-03-01T00:00:00",
          "1953-04-01T00:00:00",
          "1953-05-01T00:00:00",
          "1953-06-01T00:00:00",
          "1953-07-01T00:00:00",
          "1953-08-01T00:00:00",
          "1953-09-01T00:00:00",
          "1953-10-01T00:00:00",
          "1953-11-01T00:00:00",
          "1953-12-01T00:00:00",
          "1954-01-01T00:00:00",
          "1954-02-01T00:00:00",
          "1954-03-01T00:00:00",
          "1954-04-01T00:00:00",
          "1954-05-01T00:00:00",
          "1954-06-01T00:00:00",
          "1954-07-01T00:00:00",
          "1954-08-01T00:00:00",
          "1954-09-01T00:00:00",
          "1954-10-01T00:00:00",
          "1954-11-01T00:00:00",
          "1954-12-01T00:00:00",
          "1955-01-01T00:00:00",
          "1955-02-01T00:00:00",
          "1955-03-01T00:00:00",
          "1955-04-01T00:00:00",
          "1955-05-01T00:00:00",
          "1955-06-01T00:00:00",
          "1955-07-01T00:00:00",
          "1955-08-01T00:00:00",
          "1955-09-01T00:00:00",
          "1955-10-01T00:00:00",
          "1955-11-01T00:00:00",
          "1955-12-01T00:00:00",
          "1956-01-01T00:00:00",
          "1956-02-01T00:00:00",
          "1956-03-01T00:00:00",
          "1956-04-01T00:00:00",
          "1956-05-01T00:00:00",
          "1956-06-01T00:00:00",
          "1956-07-01T00:00:00",
          "1956-08-01T00:00:00",
          "1956-09-01T00:00:00",
          "1956-10-01T00:00:00",
          "1956-11-01T00:00:00",
          "1956-12-01T00:00:00",
          "1957-01-01T00:00:00",
          "1957-02-01T00:00:00",
          "1957-03-01T00:00:00",
          "1957-04-01T00:00:00",
          "1957-05-01T00:00:00",
          "1957-06-01T00:00:00",
          "1957-07-01T00:00:00",
          "1957-08-01T00:00:00",
          "1957-09-01T00:00:00",
          "1957-10-01T00:00:00",
          "1957-11-01T00:00:00",
          "1957-12-01T00:00:00",
          "1958-01-01T00:00:00",
          "1958-02-01T00:00:00",
          "1958-03-01T00:00:00",
          "1958-04-01T00:00:00",
          "1958-05-01T00:00:00",
          "1958-06-01T00:00:00",
          "1958-07-01T00:00:00",
          "1958-08-01T00:00:00",
          "1958-09-01T00:00:00",
          "1958-10-01T00:00:00",
          "1958-11-01T00:00:00",
          "1958-12-01T00:00:00",
          "1959-01-01T00:00:00",
          "1959-02-01T00:00:00",
          "1959-03-01T00:00:00",
          "1959-04-01T00:00:00",
          "1959-05-01T00:00:00",
          "1959-06-01T00:00:00",
          "1959-07-01T00:00:00",
          "1959-08-01T00:00:00",
          "1959-09-01T00:00:00",
          "1959-10-01T00:00:00",
          "1959-11-01T00:00:00",
          "1959-12-01T00:00:00",
          "1960-01-01T00:00:00",
          "1960-02-01T00:00:00",
          "1960-03-01T00:00:00",
          "1960-04-01T00:00:00",
          "1960-05-01T00:00:00",
          "1960-06-01T00:00:00",
          "1960-07-01T00:00:00",
          "1960-08-01T00:00:00",
          "1960-09-01T00:00:00",
          "1960-10-01T00:00:00",
          "1960-11-01T00:00:00",
          "1960-12-01T00:00:00",
          "1961-01-01T00:00:00",
          "1961-02-01T00:00:00",
          "1961-03-01T00:00:00",
          "1961-04-01T00:00:00",
          "1961-05-01T00:00:00",
          "1961-06-01T00:00:00",
          "1961-07-01T00:00:00",
          "1961-08-01T00:00:00",
          "1961-09-01T00:00:00",
          "1961-10-01T00:00:00",
          "1961-11-01T00:00:00",
          "1961-12-01T00:00:00",
          "1962-01-01T00:00:00",
          "1962-02-01T00:00:00",
          "1962-03-01T00:00:00",
          "1962-04-01T00:00:00",
          "1962-05-01T00:00:00",
          "1962-06-01T00:00:00",
          "1962-07-01T00:00:00",
          "1962-08-01T00:00:00",
          "1962-09-01T00:00:00"
         ],
         "xaxis": "x",
         "y": [
          112,
          118,
          132,
          129,
          121,
          135,
          148,
          148,
          136,
          119,
          104,
          118,
          115,
          126,
          141,
          135,
          125,
          149,
          170,
          170,
          158,
          133,
          114,
          140,
          145,
          150,
          178,
          163,
          172,
          178,
          199,
          199,
          184,
          162,
          146,
          166,
          171,
          180,
          193,
          181,
          183,
          218,
          230,
          242,
          209,
          191,
          172,
          194,
          196,
          196,
          236,
          235,
          229,
          243,
          264,
          272,
          237,
          211,
          180,
          201,
          204,
          188,
          235,
          227,
          234,
          264,
          302,
          293,
          259,
          229,
          203,
          229,
          242,
          233,
          267,
          269,
          270,
          315,
          364,
          347,
          312,
          274,
          237,
          278,
          284,
          277,
          317,
          313,
          318,
          374,
          413,
          405,
          355,
          306,
          271,
          306,
          315,
          301,
          356,
          348,
          355,
          422,
          465,
          467,
          404,
          347,
          305,
          336,
          340,
          318,
          362,
          348,
          363,
          435,
          491,
          505,
          404,
          359,
          310,
          337,
          360,
          342,
          406,
          396,
          420,
          472,
          548,
          559,
          463,
          407,
          362,
          405,
          417,
          391,
          419,
          461,
          472,
          535,
          622,
          606,
          508,
          461,
          390,
          432,
          null,
          null,
          null,
          null,
          null,
          null,
          null,
          null,
          null,
          null,
          null,
          null,
          null,
          null,
          null,
          null,
          null,
          null,
          null,
          null,
          null
         ],
         "yaxis": "y"
        },
        {
         "line": {
          "color": "rgb(255, 127, 14)",
          "width": 2
         },
         "marker": {
          "color": "rgb(255, 127, 14)",
          "size": 5
         },
         "mode": "lines+markers",
         "name": "Exponential Smoothing",
         "type": "scattergl",
         "x": [
          "1949-01-01T00:00:00",
          "1949-02-01T00:00:00",
          "1949-03-01T00:00:00",
          "1949-04-01T00:00:00",
          "1949-05-01T00:00:00",
          "1949-06-01T00:00:00",
          "1949-07-01T00:00:00",
          "1949-08-01T00:00:00",
          "1949-09-01T00:00:00",
          "1949-10-01T00:00:00",
          "1949-11-01T00:00:00",
          "1949-12-01T00:00:00",
          "1950-01-01T00:00:00",
          "1950-02-01T00:00:00",
          "1950-03-01T00:00:00",
          "1950-04-01T00:00:00",
          "1950-05-01T00:00:00",
          "1950-06-01T00:00:00",
          "1950-07-01T00:00:00",
          "1950-08-01T00:00:00",
          "1950-09-01T00:00:00",
          "1950-10-01T00:00:00",
          "1950-11-01T00:00:00",
          "1950-12-01T00:00:00",
          "1951-01-01T00:00:00",
          "1951-02-01T00:00:00",
          "1951-03-01T00:00:00",
          "1951-04-01T00:00:00",
          "1951-05-01T00:00:00",
          "1951-06-01T00:00:00",
          "1951-07-01T00:00:00",
          "1951-08-01T00:00:00",
          "1951-09-01T00:00:00",
          "1951-10-01T00:00:00",
          "1951-11-01T00:00:00",
          "1951-12-01T00:00:00",
          "1952-01-01T00:00:00",
          "1952-02-01T00:00:00",
          "1952-03-01T00:00:00",
          "1952-04-01T00:00:00",
          "1952-05-01T00:00:00",
          "1952-06-01T00:00:00",
          "1952-07-01T00:00:00",
          "1952-08-01T00:00:00",
          "1952-09-01T00:00:00",
          "1952-10-01T00:00:00",
          "1952-11-01T00:00:00",
          "1952-12-01T00:00:00",
          "1953-01-01T00:00:00",
          "1953-02-01T00:00:00",
          "1953-03-01T00:00:00",
          "1953-04-01T00:00:00",
          "1953-05-01T00:00:00",
          "1953-06-01T00:00:00",
          "1953-07-01T00:00:00",
          "1953-08-01T00:00:00",
          "1953-09-01T00:00:00",
          "1953-10-01T00:00:00",
          "1953-11-01T00:00:00",
          "1953-12-01T00:00:00",
          "1954-01-01T00:00:00",
          "1954-02-01T00:00:00",
          "1954-03-01T00:00:00",
          "1954-04-01T00:00:00",
          "1954-05-01T00:00:00",
          "1954-06-01T00:00:00",
          "1954-07-01T00:00:00",
          "1954-08-01T00:00:00",
          "1954-09-01T00:00:00",
          "1954-10-01T00:00:00",
          "1954-11-01T00:00:00",
          "1954-12-01T00:00:00",
          "1955-01-01T00:00:00",
          "1955-02-01T00:00:00",
          "1955-03-01T00:00:00",
          "1955-04-01T00:00:00",
          "1955-05-01T00:00:00",
          "1955-06-01T00:00:00",
          "1955-07-01T00:00:00",
          "1955-08-01T00:00:00",
          "1955-09-01T00:00:00",
          "1955-10-01T00:00:00",
          "1955-11-01T00:00:00",
          "1955-12-01T00:00:00",
          "1956-01-01T00:00:00",
          "1956-02-01T00:00:00",
          "1956-03-01T00:00:00",
          "1956-04-01T00:00:00",
          "1956-05-01T00:00:00",
          "1956-06-01T00:00:00",
          "1956-07-01T00:00:00",
          "1956-08-01T00:00:00",
          "1956-09-01T00:00:00",
          "1956-10-01T00:00:00",
          "1956-11-01T00:00:00",
          "1956-12-01T00:00:00",
          "1957-01-01T00:00:00",
          "1957-02-01T00:00:00",
          "1957-03-01T00:00:00",
          "1957-04-01T00:00:00",
          "1957-05-01T00:00:00",
          "1957-06-01T00:00:00",
          "1957-07-01T00:00:00",
          "1957-08-01T00:00:00",
          "1957-09-01T00:00:00",
          "1957-10-01T00:00:00",
          "1957-11-01T00:00:00",
          "1957-12-01T00:00:00",
          "1958-01-01T00:00:00",
          "1958-02-01T00:00:00",
          "1958-03-01T00:00:00",
          "1958-04-01T00:00:00",
          "1958-05-01T00:00:00",
          "1958-06-01T00:00:00",
          "1958-07-01T00:00:00",
          "1958-08-01T00:00:00",
          "1958-09-01T00:00:00",
          "1958-10-01T00:00:00",
          "1958-11-01T00:00:00",
          "1958-12-01T00:00:00",
          "1959-01-01T00:00:00",
          "1959-02-01T00:00:00",
          "1959-03-01T00:00:00",
          "1959-04-01T00:00:00",
          "1959-05-01T00:00:00",
          "1959-06-01T00:00:00",
          "1959-07-01T00:00:00",
          "1959-08-01T00:00:00",
          "1959-09-01T00:00:00",
          "1959-10-01T00:00:00",
          "1959-11-01T00:00:00",
          "1959-12-01T00:00:00",
          "1960-01-01T00:00:00",
          "1960-02-01T00:00:00",
          "1960-03-01T00:00:00",
          "1960-04-01T00:00:00",
          "1960-05-01T00:00:00",
          "1960-06-01T00:00:00",
          "1960-07-01T00:00:00",
          "1960-08-01T00:00:00",
          "1960-09-01T00:00:00",
          "1960-10-01T00:00:00",
          "1960-11-01T00:00:00",
          "1960-12-01T00:00:00",
          "1961-01-01T00:00:00",
          "1961-02-01T00:00:00",
          "1961-03-01T00:00:00",
          "1961-04-01T00:00:00",
          "1961-05-01T00:00:00",
          "1961-06-01T00:00:00",
          "1961-07-01T00:00:00",
          "1961-08-01T00:00:00",
          "1961-09-01T00:00:00",
          "1961-10-01T00:00:00",
          "1961-11-01T00:00:00",
          "1961-12-01T00:00:00",
          "1962-01-01T00:00:00",
          "1962-02-01T00:00:00",
          "1962-03-01T00:00:00",
          "1962-04-01T00:00:00",
          "1962-05-01T00:00:00",
          "1962-06-01T00:00:00",
          "1962-07-01T00:00:00",
          "1962-08-01T00:00:00",
          "1962-09-01T00:00:00"
         ],
         "xaxis": "x",
         "y": [
          null,
          null,
          null,
          null,
          null,
          null,
          null,
          null,
          null,
          null,
          null,
          null,
          null,
          null,
          null,
          null,
          null,
          null,
          null,
          null,
          null,
          null,
          null,
          null,
          null,
          null,
          null,
          null,
          null,
          null,
          null,
          null,
          null,
          null,
          null,
          null,
          null,
          null,
          null,
          null,
          null,
          null,
          null,
          null,
          null,
          null,
          null,
          null,
          null,
          null,
          null,
          null,
          null,
          null,
          null,
          null,
          null,
          null,
          null,
          null,
          null,
          null,
          null,
          null,
          null,
          null,
          null,
          null,
          null,
          null,
          null,
          null,
          null,
          null,
          null,
          null,
          null,
          null,
          null,
          null,
          null,
          null,
          null,
          null,
          null,
          null,
          null,
          null,
          null,
          null,
          null,
          null,
          null,
          null,
          null,
          null,
          null,
          null,
          null,
          null,
          null,
          null,
          null,
          null,
          null,
          null,
          null,
          null,
          null,
          null,
          null,
          null,
          null,
          null,
          null,
          null,
          null,
          null,
          null,
          null,
          null,
          null,
          null,
          null,
          null,
          null,
          null,
          null,
          null,
          null,
          null,
          null,
          null,
          null,
          null,
          null,
          null,
          null,
          null,
          null,
          null,
          442.8886,
          388.1647,
          427.6613,
          440.5849,
          413.9441,
          460.8743,
          490.1254,
          500.5098,
          567.8292,
          657.2934,
          648.7543,
          540.5014,
          472.0858,
          413.6145,
          455.5483,
          469.1593,
          440.6465,
          490.445,
          521.4056,
          532.2838,
          603.6872,
          698.5836,
          689.296,
          574.1031
         ],
         "yaxis": "y"
        }
       ],
       "layout": {
        "showlegend": true,
        "template": {
         "data": {
          "bar": [
           {
            "error_x": {
             "color": "rgb(51,51,51)"
            },
            "error_y": {
             "color": "rgb(51,51,51)"
            },
            "marker": {
             "line": {
              "color": "rgb(237,237,237)",
              "width": 0.5
             },
             "pattern": {
              "fillmode": "overlay",
              "size": 10,
              "solidity": 0.2
             }
            },
            "type": "bar"
           }
          ],
          "barpolar": [
           {
            "marker": {
             "line": {
              "color": "rgb(237,237,237)",
              "width": 0.5
             },
             "pattern": {
              "fillmode": "overlay",
              "size": 10,
              "solidity": 0.2
             }
            },
            "type": "barpolar"
           }
          ],
          "carpet": [
           {
            "aaxis": {
             "endlinecolor": "rgb(51,51,51)",
             "gridcolor": "white",
             "linecolor": "white",
             "minorgridcolor": "white",
             "startlinecolor": "rgb(51,51,51)"
            },
            "baxis": {
             "endlinecolor": "rgb(51,51,51)",
             "gridcolor": "white",
             "linecolor": "white",
             "minorgridcolor": "white",
             "startlinecolor": "rgb(51,51,51)"
            },
            "type": "carpet"
           }
          ],
          "choropleth": [
           {
            "colorbar": {
             "outlinewidth": 0,
             "tickcolor": "rgb(237,237,237)",
             "ticklen": 6,
             "ticks": "inside"
            },
            "type": "choropleth"
           }
          ],
          "contour": [
           {
            "colorbar": {
             "outlinewidth": 0,
             "tickcolor": "rgb(237,237,237)",
             "ticklen": 6,
             "ticks": "inside"
            },
            "colorscale": [
             [
              0,
              "rgb(20,44,66)"
             ],
             [
              1,
              "rgb(90,179,244)"
             ]
            ],
            "type": "contour"
           }
          ],
          "contourcarpet": [
           {
            "colorbar": {
             "outlinewidth": 0,
             "tickcolor": "rgb(237,237,237)",
             "ticklen": 6,
             "ticks": "inside"
            },
            "type": "contourcarpet"
           }
          ],
          "heatmap": [
           {
            "colorbar": {
             "outlinewidth": 0,
             "tickcolor": "rgb(237,237,237)",
             "ticklen": 6,
             "ticks": "inside"
            },
            "colorscale": [
             [
              0,
              "rgb(20,44,66)"
             ],
             [
              1,
              "rgb(90,179,244)"
             ]
            ],
            "type": "heatmap"
           }
          ],
          "heatmapgl": [
           {
            "colorbar": {
             "outlinewidth": 0,
             "tickcolor": "rgb(237,237,237)",
             "ticklen": 6,
             "ticks": "inside"
            },
            "colorscale": [
             [
              0,
              "rgb(20,44,66)"
             ],
             [
              1,
              "rgb(90,179,244)"
             ]
            ],
            "type": "heatmapgl"
           }
          ],
          "histogram": [
           {
            "marker": {
             "pattern": {
              "fillmode": "overlay",
              "size": 10,
              "solidity": 0.2
             }
            },
            "type": "histogram"
           }
          ],
          "histogram2d": [
           {
            "colorbar": {
             "outlinewidth": 0,
             "tickcolor": "rgb(237,237,237)",
             "ticklen": 6,
             "ticks": "inside"
            },
            "colorscale": [
             [
              0,
              "rgb(20,44,66)"
             ],
             [
              1,
              "rgb(90,179,244)"
             ]
            ],
            "type": "histogram2d"
           }
          ],
          "histogram2dcontour": [
           {
            "colorbar": {
             "outlinewidth": 0,
             "tickcolor": "rgb(237,237,237)",
             "ticklen": 6,
             "ticks": "inside"
            },
            "colorscale": [
             [
              0,
              "rgb(20,44,66)"
             ],
             [
              1,
              "rgb(90,179,244)"
             ]
            ],
            "type": "histogram2dcontour"
           }
          ],
          "mesh3d": [
           {
            "colorbar": {
             "outlinewidth": 0,
             "tickcolor": "rgb(237,237,237)",
             "ticklen": 6,
             "ticks": "inside"
            },
            "type": "mesh3d"
           }
          ],
          "parcoords": [
           {
            "line": {
             "colorbar": {
              "outlinewidth": 0,
              "tickcolor": "rgb(237,237,237)",
              "ticklen": 6,
              "ticks": "inside"
             }
            },
            "type": "parcoords"
           }
          ],
          "pie": [
           {
            "automargin": true,
            "type": "pie"
           }
          ],
          "scatter": [
           {
            "fillpattern": {
             "fillmode": "overlay",
             "size": 10,
             "solidity": 0.2
            },
            "type": "scatter"
           }
          ],
          "scatter3d": [
           {
            "line": {
             "colorbar": {
              "outlinewidth": 0,
              "tickcolor": "rgb(237,237,237)",
              "ticklen": 6,
              "ticks": "inside"
             }
            },
            "marker": {
             "colorbar": {
              "outlinewidth": 0,
              "tickcolor": "rgb(237,237,237)",
              "ticklen": 6,
              "ticks": "inside"
             }
            },
            "type": "scatter3d"
           }
          ],
          "scattercarpet": [
           {
            "marker": {
             "colorbar": {
              "outlinewidth": 0,
              "tickcolor": "rgb(237,237,237)",
              "ticklen": 6,
              "ticks": "inside"
             }
            },
            "type": "scattercarpet"
           }
          ],
          "scattergeo": [
           {
            "marker": {
             "colorbar": {
              "outlinewidth": 0,
              "tickcolor": "rgb(237,237,237)",
              "ticklen": 6,
              "ticks": "inside"
             }
            },
            "type": "scattergeo"
           }
          ],
          "scattergl": [
           {
            "marker": {
             "colorbar": {
              "outlinewidth": 0,
              "tickcolor": "rgb(237,237,237)",
              "ticklen": 6,
              "ticks": "inside"
             }
            },
            "type": "scattergl"
           }
          ],
          "scattermapbox": [
           {
            "marker": {
             "colorbar": {
              "outlinewidth": 0,
              "tickcolor": "rgb(237,237,237)",
              "ticklen": 6,
              "ticks": "inside"
             }
            },
            "type": "scattermapbox"
           }
          ],
          "scatterpolar": [
           {
            "marker": {
             "colorbar": {
              "outlinewidth": 0,
              "tickcolor": "rgb(237,237,237)",
              "ticklen": 6,
              "ticks": "inside"
             }
            },
            "type": "scatterpolar"
           }
          ],
          "scatterpolargl": [
           {
            "marker": {
             "colorbar": {
              "outlinewidth": 0,
              "tickcolor": "rgb(237,237,237)",
              "ticklen": 6,
              "ticks": "inside"
             }
            },
            "type": "scatterpolargl"
           }
          ],
          "scatterternary": [
           {
            "marker": {
             "colorbar": {
              "outlinewidth": 0,
              "tickcolor": "rgb(237,237,237)",
              "ticklen": 6,
              "ticks": "inside"
             }
            },
            "type": "scatterternary"
           }
          ],
          "surface": [
           {
            "colorbar": {
             "outlinewidth": 0,
             "tickcolor": "rgb(237,237,237)",
             "ticklen": 6,
             "ticks": "inside"
            },
            "colorscale": [
             [
              0,
              "rgb(20,44,66)"
             ],
             [
              1,
              "rgb(90,179,244)"
             ]
            ],
            "type": "surface"
           }
          ],
          "table": [
           {
            "cells": {
             "fill": {
              "color": "rgb(237,237,237)"
             },
             "line": {
              "color": "white"
             }
            },
            "header": {
             "fill": {
              "color": "rgb(217,217,217)"
             },
             "line": {
              "color": "white"
             }
            },
            "type": "table"
           }
          ]
         },
         "layout": {
          "annotationdefaults": {
           "arrowhead": 0,
           "arrowwidth": 1
          },
          "autotypenumbers": "strict",
          "coloraxis": {
           "colorbar": {
            "outlinewidth": 0,
            "tickcolor": "rgb(237,237,237)",
            "ticklen": 6,
            "ticks": "inside"
           }
          },
          "colorscale": {
           "sequential": [
            [
             0,
             "rgb(20,44,66)"
            ],
            [
             1,
             "rgb(90,179,244)"
            ]
           ],
           "sequentialminus": [
            [
             0,
             "rgb(20,44,66)"
            ],
            [
             1,
             "rgb(90,179,244)"
            ]
           ]
          },
          "colorway": [
           "#F8766D",
           "#A3A500",
           "#00BF7D",
           "#00B0F6",
           "#E76BF3"
          ],
          "font": {
           "color": "rgb(51,51,51)"
          },
          "geo": {
           "bgcolor": "white",
           "lakecolor": "white",
           "landcolor": "rgb(237,237,237)",
           "showlakes": true,
           "showland": true,
           "subunitcolor": "white"
          },
          "hoverlabel": {
           "align": "left"
          },
          "hovermode": "closest",
          "paper_bgcolor": "white",
          "plot_bgcolor": "rgb(237,237,237)",
          "polar": {
           "angularaxis": {
            "gridcolor": "white",
            "linecolor": "white",
            "showgrid": true,
            "tickcolor": "rgb(51,51,51)",
            "ticks": "outside"
           },
           "bgcolor": "rgb(237,237,237)",
           "radialaxis": {
            "gridcolor": "white",
            "linecolor": "white",
            "showgrid": true,
            "tickcolor": "rgb(51,51,51)",
            "ticks": "outside"
           }
          },
          "scene": {
           "xaxis": {
            "backgroundcolor": "rgb(237,237,237)",
            "gridcolor": "white",
            "gridwidth": 2,
            "linecolor": "white",
            "showbackground": true,
            "showgrid": true,
            "tickcolor": "rgb(51,51,51)",
            "ticks": "outside",
            "zerolinecolor": "white"
           },
           "yaxis": {
            "backgroundcolor": "rgb(237,237,237)",
            "gridcolor": "white",
            "gridwidth": 2,
            "linecolor": "white",
            "showbackground": true,
            "showgrid": true,
            "tickcolor": "rgb(51,51,51)",
            "ticks": "outside",
            "zerolinecolor": "white"
           },
           "zaxis": {
            "backgroundcolor": "rgb(237,237,237)",
            "gridcolor": "white",
            "gridwidth": 2,
            "linecolor": "white",
            "showbackground": true,
            "showgrid": true,
            "tickcolor": "rgb(51,51,51)",
            "ticks": "outside",
            "zerolinecolor": "white"
           }
          },
          "shapedefaults": {
           "fillcolor": "black",
           "line": {
            "width": 0
           },
           "opacity": 0.3
          },
          "ternary": {
           "aaxis": {
            "gridcolor": "white",
            "linecolor": "white",
            "showgrid": true,
            "tickcolor": "rgb(51,51,51)",
            "ticks": "outside"
           },
           "baxis": {
            "gridcolor": "white",
            "linecolor": "white",
            "showgrid": true,
            "tickcolor": "rgb(51,51,51)",
            "ticks": "outside"
           },
           "bgcolor": "rgb(237,237,237)",
           "caxis": {
            "gridcolor": "white",
            "linecolor": "white",
            "showgrid": true,
            "tickcolor": "rgb(51,51,51)",
            "ticks": "outside"
           }
          },
          "xaxis": {
           "automargin": true,
           "gridcolor": "white",
           "linecolor": "white",
           "showgrid": true,
           "tickcolor": "rgb(51,51,51)",
           "ticks": "outside",
           "title": {
            "standoff": 15
           },
           "zerolinecolor": "white"
          },
          "yaxis": {
           "automargin": true,
           "gridcolor": "white",
           "linecolor": "white",
           "showgrid": true,
           "tickcolor": "rgb(51,51,51)",
           "ticks": "outside",
           "title": {
            "standoff": 15
           },
           "zerolinecolor": "white"
          }
         }
        },
        "title": {
         "text": "Actual vs. Forecast (Out-of-Sample)"
        },
        "xaxis": {
         "anchor": "y",
         "domain": [
          0,
          1
         ]
        },
        "yaxis": {
         "anchor": "x",
         "domain": [
          0,
          1
         ]
        }
       }
      }
     },
     "metadata": {},
     "output_type": "display_data"
    }
   ],
   "source": [
    "plot_model(best, plot = 'forecast', data_kwargs = {'fh' : 24})"
   ]
  },
  {
   "cell_type": "code",
   "execution_count": null,
   "metadata": {},
   "outputs": [
    {
     "data": {
      "application/vnd.plotly.v1+json": {
       "config": {
        "plotlyServerURL": "https://plot.ly"
       },
       "data": [
        {
         "line": {
          "color": "rgb(31, 119, 180)",
          "width": 2
         },
         "marker": {
          "color": "rgb(31, 119, 180)",
          "size": 5
         },
         "mode": "lines+markers",
         "name": "Exponential Smoothing",
         "showlegend": false,
         "type": "scattergl",
         "x": [
          "1949-01-01T00:00:00",
          "1949-02-01T00:00:00",
          "1949-03-01T00:00:00",
          "1949-04-01T00:00:00",
          "1949-05-01T00:00:00",
          "1949-06-01T00:00:00",
          "1949-07-01T00:00:00",
          "1949-08-01T00:00:00",
          "1949-09-01T00:00:00",
          "1949-10-01T00:00:00",
          "1949-11-01T00:00:00",
          "1949-12-01T00:00:00",
          "1950-01-01T00:00:00",
          "1950-02-01T00:00:00",
          "1950-03-01T00:00:00",
          "1950-04-01T00:00:00",
          "1950-05-01T00:00:00",
          "1950-06-01T00:00:00",
          "1950-07-01T00:00:00",
          "1950-08-01T00:00:00",
          "1950-09-01T00:00:00",
          "1950-10-01T00:00:00",
          "1950-11-01T00:00:00",
          "1950-12-01T00:00:00",
          "1951-01-01T00:00:00",
          "1951-02-01T00:00:00",
          "1951-03-01T00:00:00",
          "1951-04-01T00:00:00",
          "1951-05-01T00:00:00",
          "1951-06-01T00:00:00",
          "1951-07-01T00:00:00",
          "1951-08-01T00:00:00",
          "1951-09-01T00:00:00",
          "1951-10-01T00:00:00",
          "1951-11-01T00:00:00",
          "1951-12-01T00:00:00",
          "1952-01-01T00:00:00",
          "1952-02-01T00:00:00",
          "1952-03-01T00:00:00",
          "1952-04-01T00:00:00",
          "1952-05-01T00:00:00",
          "1952-06-01T00:00:00",
          "1952-07-01T00:00:00",
          "1952-08-01T00:00:00",
          "1952-09-01T00:00:00",
          "1952-10-01T00:00:00",
          "1952-11-01T00:00:00",
          "1952-12-01T00:00:00",
          "1953-01-01T00:00:00",
          "1953-02-01T00:00:00",
          "1953-03-01T00:00:00",
          "1953-04-01T00:00:00",
          "1953-05-01T00:00:00",
          "1953-06-01T00:00:00",
          "1953-07-01T00:00:00",
          "1953-08-01T00:00:00",
          "1953-09-01T00:00:00",
          "1953-10-01T00:00:00",
          "1953-11-01T00:00:00",
          "1953-12-01T00:00:00",
          "1954-01-01T00:00:00",
          "1954-02-01T00:00:00",
          "1954-03-01T00:00:00",
          "1954-04-01T00:00:00",
          "1954-05-01T00:00:00",
          "1954-06-01T00:00:00",
          "1954-07-01T00:00:00",
          "1954-08-01T00:00:00",
          "1954-09-01T00:00:00",
          "1954-10-01T00:00:00",
          "1954-11-01T00:00:00",
          "1954-12-01T00:00:00",
          "1955-01-01T00:00:00",
          "1955-02-01T00:00:00",
          "1955-03-01T00:00:00",
          "1955-04-01T00:00:00",
          "1955-05-01T00:00:00",
          "1955-06-01T00:00:00",
          "1955-07-01T00:00:00",
          "1955-08-01T00:00:00",
          "1955-09-01T00:00:00",
          "1955-10-01T00:00:00",
          "1955-11-01T00:00:00",
          "1955-12-01T00:00:00",
          "1956-01-01T00:00:00",
          "1956-02-01T00:00:00",
          "1956-03-01T00:00:00",
          "1956-04-01T00:00:00",
          "1956-05-01T00:00:00",
          "1956-06-01T00:00:00",
          "1956-07-01T00:00:00",
          "1956-08-01T00:00:00",
          "1956-09-01T00:00:00",
          "1956-10-01T00:00:00",
          "1956-11-01T00:00:00",
          "1956-12-01T00:00:00",
          "1957-01-01T00:00:00",
          "1957-02-01T00:00:00",
          "1957-03-01T00:00:00",
          "1957-04-01T00:00:00",
          "1957-05-01T00:00:00",
          "1957-06-01T00:00:00",
          "1957-07-01T00:00:00",
          "1957-08-01T00:00:00",
          "1957-09-01T00:00:00",
          "1957-10-01T00:00:00",
          "1957-11-01T00:00:00",
          "1957-12-01T00:00:00",
          "1958-01-01T00:00:00",
          "1958-02-01T00:00:00",
          "1958-03-01T00:00:00",
          "1958-04-01T00:00:00",
          "1958-05-01T00:00:00",
          "1958-06-01T00:00:00",
          "1958-07-01T00:00:00",
          "1958-08-01T00:00:00",
          "1958-09-01T00:00:00",
          "1958-10-01T00:00:00",
          "1958-11-01T00:00:00",
          "1958-12-01T00:00:00",
          "1959-01-01T00:00:00",
          "1959-02-01T00:00:00",
          "1959-03-01T00:00:00",
          "1959-04-01T00:00:00",
          "1959-05-01T00:00:00",
          "1959-06-01T00:00:00",
          "1959-07-01T00:00:00",
          "1959-08-01T00:00:00",
          "1959-09-01T00:00:00",
          "1959-10-01T00:00:00",
          "1959-11-01T00:00:00",
          "1959-12-01T00:00:00",
          "1960-01-01T00:00:00",
          "1960-02-01T00:00:00",
          "1960-03-01T00:00:00",
          "1960-04-01T00:00:00",
          "1960-05-01T00:00:00",
          "1960-06-01T00:00:00",
          "1960-07-01T00:00:00",
          "1960-08-01T00:00:00",
          "1960-09-01T00:00:00"
         ],
         "xaxis": "x",
         "y": [
          0.564700000000002,
          -2.1663000000000068,
          -2.917100000000005,
          -1.546199999999999,
          -2.8950999999999993,
          -1.9699999999999989,
          -3.2960999999999956,
          -3.3603999999999985,
          -3.6898999999999944,
          -4.176900000000003,
          -6.029399999999995,
          -8.441100000000006,
          -14.516400000000004,
          -6.171300000000002,
          -5.381699999999995,
          -6.502199999999988,
          -6.664199999999994,
          4.15979999999999,
          8.713799999999992,
          4.975999999999999,
          3.804699999999997,
          -4.300000000000011,
          -6.9024,
          2.5135999999999967,
          4.622099999999989,
          -6.02940000000001,
          4.2975999999999885,
          -6.731400000000008,
          14.781800000000004,
          -11.276199999999989,
          -7.979199999999992,
          -3.0012999999999863,
          -0.8789999999999907,
          4.709800000000001,
          7.282900000000012,
          -4.557199999999995,
          -1.567700000000002,
          -0.8137000000000114,
          -17.863499999999988,
          -9.798100000000005,
          -7.013299999999987,
          18.019299999999987,
          -2.133999999999986,
          10.424800000000005,
          -7.935000000000002,
          4.970799999999997,
          6.2797999999999945,
          0.8403000000000134,
          -3.1588000000000136,
          -12.388299999999987,
          9.159999999999997,
          17.08510000000001,
          1.186000000000007,
          -18.20440000000002,
          -7.093000000000018,
          -5.137900000000002,
          -4.871600000000001,
          -5.226699999999994,
          -10.413299999999992,
          -9.875400000000013,
          -7.050600000000003,
          -25.648200000000003,
          -6.787800000000004,
          -5.110500000000002,
          8.869200000000006,
          14.584000000000003,
          24.838900000000024,
          -2.2916999999999916,
          0.8374999999999773,
          -2.7926999999999964,
          2.030399999999986,
          0.7896000000000072,
          8.177999999999997,
          4.03479999999999,
          -19.712499999999977,
          -3.029200000000003,
          -4.1007999999999925,
          13.84620000000001,
          25.231400000000008,
          8.063800000000015,
          11.084600000000023,
          3.752900000000011,
          -2.0671000000000106,
          9.65519999999998,
          1.3702000000000112,
          6.1053,
          -5.005400000000009,
          -8.581799999999987,
          -3.1508999999999787,
          8.160799999999995,
          -1.561300000000017,
          12.744100000000003,
          3.4839999999999804,
          -2.4365999999999985,
          3.948500000000024,
          -3.8231999999999857,
          -0.11239999999997963,
          -3.43040000000002,
          6.371899999999982,
          -2.404100000000028,
          -0.5240999999999758,
          8.433699999999988,
          4.206700000000012,
          20.0591,
          7.51400000000001,
          2.0541999999999803,
          1.1739999999999782,
          -9.318300000000022,
          -11.754799999999989,
          -15.728200000000015,
          -23.215899999999976,
          -22.485299999999995,
          -7.334799999999973,
          1.321799999999996,
          13.809900000000027,
          29.415900000000022,
          -13.708000000000027,
          4.5061999999999784,
          -2.4821999999999775,
          -10.248800000000017,
          8.000200000000007,
          4.754000000000019,
          12.149999999999977,
          6.01400000000001,
          10.469600000000014,
          -21.03800000000001,
          5.782900000000041,
          11.834600000000023,
          14.685099999999977,
          7.806100000000015,
          13.884799999999984,
          17.460699999999974,
          2.1123000000000047,
          -1.8659000000000106,
          -41.113099999999974,
          27.363800000000026,
          7.1007999999999925,
          -0.15430000000003474,
          6.171199999999999,
          -18.908199999999965,
          1.636199999999974
         ],
         "yaxis": "y"
        },
        {
         "hoverinfo": "text",
         "hovertext": [
          "Freq: 0.0071<br>Ampl: 23.5089<br>Time period: 141.0",
          "Freq: 0.0142<br>Ampl: 26.7232<br>Time period: 70.5",
          "Freq: 0.0213<br>Ampl: 26.6455<br>Time period: 47.0",
          "Freq: 0.0284<br>Ampl: 24.6941<br>Time period: 35.25",
          "Freq: 0.0355<br>Ampl: 25.5118<br>Time period: 28.2",
          "Freq: 0.0426<br>Ampl: 21.5976<br>Time period: 23.5",
          "Freq: 0.0496<br>Ampl: 22.7402<br>Time period: 20.1429",
          "Freq: 0.0567<br>Ampl: 28.1737<br>Time period: 17.625",
          "Freq: 0.0638<br>Ampl: 27.0736<br>Time period: 15.6667",
          "Freq: 0.0709<br>Ampl: 27.2348<br>Time period: 14.1",
          "Freq: 0.078<br>Ampl: 30.1152<br>Time period: 12.8182",
          "Freq: 0.0851<br>Ampl: 29.8028<br>Time period: 11.75",
          "Freq: 0.0922<br>Ampl: 22.5351<br>Time period: 10.8462",
          "Freq: 0.0993<br>Ampl: 11.6532<br>Time period: 10.0714",
          "Freq: 0.1064<br>Ampl: 9.2223<br>Time period: 9.4",
          "Freq: 0.1135<br>Ampl: 9.0996<br>Time period: 8.8125",
          "Freq: 0.1206<br>Ampl: 19.265<br>Time period: 8.2941",
          "Freq: 0.1277<br>Ampl: 24.1431<br>Time period: 7.8333",
          "Freq: 0.1348<br>Ampl: 26.6779<br>Time period: 7.4211",
          "Freq: 0.1418<br>Ampl: 29.1073<br>Time period: 7.05",
          "Freq: 0.1489<br>Ampl: 29.2779<br>Time period: 6.7143",
          "Freq: 0.156<br>Ampl: 29.7188<br>Time period: 6.4091",
          "Freq: 0.1631<br>Ampl: 28.2904<br>Time period: 6.1304",
          "Freq: 0.1702<br>Ampl: 22.5892<br>Time period: 5.875",
          "Freq: 0.1773<br>Ampl: 19.337<br>Time period: 5.64",
          "Freq: 0.1844<br>Ampl: 22.6412<br>Time period: 5.4231",
          "Freq: 0.1915<br>Ampl: 23.5315<br>Time period: 5.2222",
          "Freq: 0.1986<br>Ampl: 19.3775<br>Time period: 5.0357",
          "Freq: 0.2057<br>Ampl: 20.6081<br>Time period: 4.8621",
          "Freq: 0.2128<br>Ampl: 22.1063<br>Time period: 4.7",
          "Freq: 0.2199<br>Ampl: 21.8219<br>Time period: 4.5484",
          "Freq: 0.227<br>Ampl: 22.2409<br>Time period: 4.4062",
          "Freq: 0.234<br>Ampl: 20.9398<br>Time period: 4.2727",
          "Freq: 0.2411<br>Ampl: 14.6849<br>Time period: 4.1471",
          "Freq: 0.2482<br>Ampl: 3.4633<br>Time period: 4.0286",
          "Freq: 0.2553<br>Ampl: 11.1516<br>Time period: 3.9167",
          "Freq: 0.2624<br>Ampl: 17.9896<br>Time period: 3.8108",
          "Freq: 0.2695<br>Ampl: 21.1182<br>Time period: 3.7105",
          "Freq: 0.2766<br>Ampl: 20.4444<br>Time period: 3.6154",
          "Freq: 0.2837<br>Ampl: 17.2597<br>Time period: 3.525",
          "Freq: 0.2908<br>Ampl: 12.9508<br>Time period: 3.439",
          "Freq: 0.2979<br>Ampl: 10.8655<br>Time period: 3.3571",
          "Freq: 0.305<br>Ampl: 15.5844<br>Time period: 3.2791",
          "Freq: 0.3121<br>Ampl: 20.9261<br>Time period: 3.2045",
          "Freq: 0.3191<br>Ampl: 20.7596<br>Time period: 3.1333",
          "Freq: 0.3262<br>Ampl: 19.56<br>Time period: 3.0652",
          "Freq: 0.3333<br>Ampl: 17.2504<br>Time period: 3.0",
          "Freq: 0.3404<br>Ampl: 21.8236<br>Time period: 2.9375",
          "Freq: 0.3475<br>Ampl: 24.2346<br>Time period: 2.8776",
          "Freq: 0.3546<br>Ampl: 17.3387<br>Time period: 2.82",
          "Freq: 0.3617<br>Ampl: 13.3626<br>Time period: 2.7647",
          "Freq: 0.3688<br>Ampl: 17.9693<br>Time period: 2.7115",
          "Freq: 0.3759<br>Ampl: 22.1501<br>Time period: 2.6604",
          "Freq: 0.383<br>Ampl: 23.7176<br>Time period: 2.6111",
          "Freq: 0.3901<br>Ampl: 20.857<br>Time period: 2.5636",
          "Freq: 0.3972<br>Ampl: 20.429<br>Time period: 2.5179",
          "Freq: 0.4043<br>Ampl: 20.0482<br>Time period: 2.4737",
          "Freq: 0.4113<br>Ampl: 12.4437<br>Time period: 2.431",
          "Freq: 0.4184<br>Ampl: 8.2688<br>Time period: 2.3898",
          "Freq: 0.4255<br>Ampl: 19.3679<br>Time period: 2.35",
          "Freq: 0.4326<br>Ampl: 24.985<br>Time period: 2.3115",
          "Freq: 0.4397<br>Ampl: 23.6185<br>Time period: 2.2742",
          "Freq: 0.4468<br>Ampl: 17.1787<br>Time period: 2.2381",
          "Freq: 0.4539<br>Ampl: 3.6295<br>Time period: 2.2031",
          "Freq: 0.461<br>Ampl: 3.2637<br>Time period: 2.1692",
          "Freq: 0.4681<br>Ampl: 21.8138<br>Time period: 2.1364",
          "Freq: 0.4752<br>Ampl: 24.5654<br>Time period: 2.1045",
          "Freq: 0.4823<br>Ampl: 22.9408<br>Time period: 2.0735",
          "Freq: 0.4894<br>Ampl: 18.7672<br>Time period: 2.0435",
          "Freq: 0.4965<br>Ampl: 11.3685<br>Time period: 2.0143"
         ],
         "line": {
          "color": "#1f77b4",
          "width": 2
         },
         "marker": {
          "size": 5
         },
         "mode": "lines+markers",
         "name": "Exponential Smoothing",
         "showlegend": false,
         "type": "scattergl",
         "x": [
          0.0070921985815602835,
          0.014184397163120567,
          0.02127659574468085,
          0.028368794326241134,
          0.035460992907801414,
          0.0425531914893617,
          0.04964539007092199,
          0.05673758865248227,
          0.06382978723404255,
          0.07092198581560283,
          0.07801418439716312,
          0.0851063829787234,
          0.09219858156028368,
          0.09929078014184398,
          0.10638297872340426,
          0.11347517730496454,
          0.12056737588652482,
          0.1276595744680851,
          0.1347517730496454,
          0.14184397163120566,
          0.14893617021276595,
          0.15602836879432624,
          0.1631205673758865,
          0.1702127659574468,
          0.1773049645390071,
          0.18439716312056736,
          0.19148936170212766,
          0.19858156028368795,
          0.20567375886524822,
          0.2127659574468085,
          0.21985815602836878,
          0.22695035460992907,
          0.23404255319148937,
          0.24113475177304963,
          0.24822695035460993,
          0.2553191489361702,
          0.2624113475177305,
          0.2695035460992908,
          0.2765957446808511,
          0.2836879432624113,
          0.2907801418439716,
          0.2978723404255319,
          0.3049645390070922,
          0.3120567375886525,
          0.3191489361702128,
          0.326241134751773,
          0.3333333333333333,
          0.3404255319148936,
          0.3475177304964539,
          0.3546099290780142,
          0.36170212765957444,
          0.36879432624113473,
          0.375886524822695,
          0.3829787234042553,
          0.3900709219858156,
          0.3971631205673759,
          0.40425531914893614,
          0.41134751773049644,
          0.41843971631205673,
          0.425531914893617,
          0.4326241134751773,
          0.43971631205673756,
          0.44680851063829785,
          0.45390070921985815,
          0.46099290780141844,
          0.46808510638297873,
          0.47517730496453897,
          0.48226950354609927,
          0.48936170212765956,
          0.49645390070921985
         ],
         "xaxis": "x2",
         "y": [
          23.508929986504477,
          26.723155939580906,
          26.64554351079611,
          24.694103754746436,
          25.51175140084577,
          21.597573476274853,
          22.740218394988965,
          28.173726169401863,
          27.073634373744447,
          27.234762461169947,
          30.115220872617403,
          29.802755495848107,
          22.5351208332291,
          11.653228193775615,
          9.222327114594044,
          9.099638961858513,
          19.265012793146965,
          24.14311202765564,
          26.67791957589778,
          29.107327312627543,
          29.277908688610275,
          29.718793509399887,
          28.290414210226615,
          22.58916235062962,
          19.33699929407822,
          22.641223708987894,
          23.53145365207225,
          19.37749516400151,
          20.60806405868137,
          22.106329816037515,
          21.821877114110016,
          22.24086906572818,
          20.939813297590778,
          14.684935369585881,
          3.463254531999813,
          11.151573693236534,
          17.98960174859879,
          21.11821022083811,
          20.44442558741412,
          17.25965638591829,
          12.95075571324051,
          10.865468077604643,
          15.584431555152827,
          20.926123975244202,
          20.759647853397837,
          19.560033036911022,
          17.2504228258519,
          21.823585970784162,
          24.234564946396596,
          17.338686528444985,
          13.362557827142878,
          17.969314634078557,
          22.15009390008802,
          23.71761270555425,
          20.856979762436282,
          20.428969804502863,
          20.04822190653246,
          12.443669644402643,
          8.268770375589241,
          19.367901292599242,
          24.985012776224984,
          23.618485387790855,
          17.17872458673272,
          3.62947277246872,
          3.2636556706569984,
          21.813760481517882,
          24.56538337036723,
          22.940846222866256,
          18.76718499592028,
          11.368498988079876
         ],
         "yaxis": "y2"
        },
        {
         "alignmentgroup": "True",
         "bingroup": "x",
         "hovertemplate": "variable=Exponential Smoothing<br>value=%{x}<br>count=%{y}<extra></extra>",
         "legendgroup": "Exponential Smoothing",
         "marker": {
          "color": "#1f77b4",
          "pattern": {
           "shape": ""
          }
         },
         "name": "Exponential Smoothing",
         "offsetgroup": "Exponential Smoothing",
         "orientation": "v",
         "showlegend": false,
         "type": "histogram",
         "x": [
          0.564700000000002,
          -2.1663000000000068,
          -2.917100000000005,
          -1.546199999999999,
          -2.8950999999999993,
          -1.9699999999999989,
          -3.2960999999999956,
          -3.3603999999999985,
          -3.6898999999999944,
          -4.176900000000003,
          -6.029399999999995,
          -8.441100000000006,
          -14.516400000000004,
          -6.171300000000002,
          -5.381699999999995,
          -6.502199999999988,
          -6.664199999999994,
          4.15979999999999,
          8.713799999999992,
          4.975999999999999,
          3.804699999999997,
          -4.300000000000011,
          -6.9024,
          2.5135999999999967,
          4.622099999999989,
          -6.02940000000001,
          4.2975999999999885,
          -6.731400000000008,
          14.781800000000004,
          -11.276199999999989,
          -7.979199999999992,
          -3.0012999999999863,
          -0.8789999999999907,
          4.709800000000001,
          7.282900000000012,
          -4.557199999999995,
          -1.567700000000002,
          -0.8137000000000114,
          -17.863499999999988,
          -9.798100000000005,
          -7.013299999999987,
          18.019299999999987,
          -2.133999999999986,
          10.424800000000005,
          -7.935000000000002,
          4.970799999999997,
          6.2797999999999945,
          0.8403000000000134,
          -3.1588000000000136,
          -12.388299999999987,
          9.159999999999997,
          17.08510000000001,
          1.186000000000007,
          -18.20440000000002,
          -7.093000000000018,
          -5.137900000000002,
          -4.871600000000001,
          -5.226699999999994,
          -10.413299999999992,
          -9.875400000000013,
          -7.050600000000003,
          -25.648200000000003,
          -6.787800000000004,
          -5.110500000000002,
          8.869200000000006,
          14.584000000000003,
          24.838900000000024,
          -2.2916999999999916,
          0.8374999999999773,
          -2.7926999999999964,
          2.030399999999986,
          0.7896000000000072,
          8.177999999999997,
          4.03479999999999,
          -19.712499999999977,
          -3.029200000000003,
          -4.1007999999999925,
          13.84620000000001,
          25.231400000000008,
          8.063800000000015,
          11.084600000000023,
          3.752900000000011,
          -2.0671000000000106,
          9.65519999999998,
          1.3702000000000112,
          6.1053,
          -5.005400000000009,
          -8.581799999999987,
          -3.1508999999999787,
          8.160799999999995,
          -1.561300000000017,
          12.744100000000003,
          3.4839999999999804,
          -2.4365999999999985,
          3.948500000000024,
          -3.8231999999999857,
          -0.11239999999997963,
          -3.43040000000002,
          6.371899999999982,
          -2.404100000000028,
          -0.5240999999999758,
          8.433699999999988,
          4.206700000000012,
          20.0591,
          7.51400000000001,
          2.0541999999999803,
          1.1739999999999782,
          -9.318300000000022,
          -11.754799999999989,
          -15.728200000000015,
          -23.215899999999976,
          -22.485299999999995,
          -7.334799999999973,
          1.321799999999996,
          13.809900000000027,
          29.415900000000022,
          -13.708000000000027,
          4.5061999999999784,
          -2.4821999999999775,
          -10.248800000000017,
          8.000200000000007,
          4.754000000000019,
          12.149999999999977,
          6.01400000000001,
          10.469600000000014,
          -21.03800000000001,
          5.782900000000041,
          11.834600000000023,
          14.685099999999977,
          7.806100000000015,
          13.884799999999984,
          17.460699999999974,
          2.1123000000000047,
          -1.8659000000000106,
          -41.113099999999974,
          27.363800000000026,
          7.1007999999999925,
          -0.15430000000003474,
          6.171199999999999,
          -18.908199999999965,
          1.636199999999974
         ],
         "xaxis": "x3",
         "yaxis": "y3"
        },
        {
         "marker": {
          "color": "#1f77b4"
         },
         "mode": "markers",
         "name": "Exponential Smoothing",
         "showlegend": false,
         "type": "scattergl",
         "x": [
          -2.4551008462990382,
          -2.1949244993050554,
          -2.031014525566918,
          -1.9084116818884704,
          -1.8091832741840426,
          -1.7251133770389842,
          -1.6517204624868653,
          -1.5862789009146592,
          -1.5270018016004931,
          -1.472651352164115,
          -1.4223330888521888,
          -1.3753786498834617,
          -1.3312748466809177,
          -1.2896186457164065,
          -1.2500874448553163,
          -1.2124187877842667,
          -1.1763961244428374,
          -1.1418385701455152,
          -1.1085933833417223,
          -1.0765303368163022,
          -1.0455374359127296,
          -1.015517613293485,
          -0.9863861436902606,
          -0.9580685976089729,
          -0.9304992040482307,
          -0.9036195275140624,
          -0.8773773893133454,
          -0.8517259806982667,
          -0.8266231281397206,
          -0.8020306803054005,
          -0.7779139932047425,
          -0.7542414951202904,
          -0.730984316847628,
          -0.708115975747597,
          -0.6856121044129418,
          -0.6634502165382117,
          -0.6416095039816206,
          -0.6200706601124467,
          -0.5988157254156958,
          -0.5778279520282654,
          -0.5570916844463072,
          -0.5365922541013274,
          -0.5163158858752857,
          -0.49624961492999053,
          -0.47638121247696114,
          -0.45669911932122276,
          -0.43719238618455963,
          -0.41785061995716233,
          -0.39866393514661363,
          -0.37962290989397623,
          -0.3607185460117304,
          -0.34194223257020145,
          -0.32328571262011585,
          -0.30474105269084506,
          -0.2863006147481918,
          -0.2679570303334746,
          -0.2497031766381543,
          -0.231532154296155,
          -0.2134372667000334,
          -0.19541200066782957,
          -0.1774500083052407,
          -0.15954508992311356,
          -0.1416911778834665,
          -0.12388232125861309,
          -0.10611267119769242,
          -0.08837646690321861,
          -0.07066802212728994,
          -0.05298171210299662,
          -0.0353119608314343,
          -0.017653228648661298,
          0,
          0.017653228648661298,
          0.0353119608314343,
          0.05298171210299648,
          0.07066802212728979,
          0.08837646690321847,
          0.10611267119769256,
          0.12388232125861323,
          0.14169117788346663,
          0.15954508992311356,
          0.1774500083052407,
          0.19541200066782957,
          0.2134372667000334,
          0.231532154296155,
          0.2497031766381543,
          0.26795703033347446,
          0.2863006147481917,
          0.3047410526908449,
          0.323285712620116,
          0.3419422325702016,
          0.36071854601173053,
          0.37962290989397623,
          0.39866393514661363,
          0.41785061995716233,
          0.43719238618455963,
          0.45669911932122276,
          0.47638121247696114,
          0.4962496149299904,
          0.5163158858752855,
          0.5365922541013273,
          0.5570916844463074,
          0.5778279520282655,
          0.598815725415696,
          0.6200706601124467,
          0.6416095039816206,
          0.6634502165382117,
          0.6856121044129418,
          0.708115975747597,
          0.730984316847628,
          0.7542414951202904,
          0.7779139932047423,
          0.8020306803054003,
          0.8266231281397208,
          0.8517259806982667,
          0.8773773893133454,
          0.9036195275140624,
          0.9304992040482307,
          0.9580685976089729,
          0.9863861436902606,
          1.015517613293485,
          1.0455374359127296,
          1.0765303368163022,
          1.1085933833417223,
          1.1418385701455152,
          1.176396124442838,
          1.2124187877842671,
          1.2500874448553163,
          1.2896186457164065,
          1.3312748466809177,
          1.3753786498834617,
          1.4223330888521888,
          1.472651352164115,
          1.5270018016004925,
          1.5862789009146592,
          1.6517204624868647,
          1.7251133770389837,
          1.809183274184043,
          1.908411681888471,
          2.0310145255669183,
          2.194924499305056,
          2.4551008462990387
         ],
         "xaxis": "x4",
         "y": [
          -41.113099999999974,
          -25.648200000000003,
          -23.215899999999976,
          -22.485299999999995,
          -21.03800000000001,
          -19.712499999999977,
          -18.908199999999965,
          -18.20440000000002,
          -17.863499999999988,
          -15.728200000000015,
          -14.516400000000004,
          -13.708000000000027,
          -12.388299999999987,
          -11.754799999999989,
          -11.276199999999989,
          -10.413299999999992,
          -10.248800000000017,
          -9.875400000000013,
          -9.798100000000005,
          -9.318300000000022,
          -8.581799999999987,
          -8.441100000000006,
          -7.979199999999992,
          -7.935000000000002,
          -7.334799999999973,
          -7.093000000000018,
          -7.050600000000003,
          -7.013299999999987,
          -6.9024,
          -6.787800000000004,
          -6.731400000000008,
          -6.664199999999994,
          -6.502199999999988,
          -6.171300000000002,
          -6.02940000000001,
          -6.029399999999995,
          -5.381699999999995,
          -5.226699999999994,
          -5.137900000000002,
          -5.110500000000002,
          -5.005400000000009,
          -4.871600000000001,
          -4.557199999999995,
          -4.300000000000011,
          -4.176900000000003,
          -4.1007999999999925,
          -3.8231999999999857,
          -3.6898999999999944,
          -3.43040000000002,
          -3.3603999999999985,
          -3.2960999999999956,
          -3.1588000000000136,
          -3.1508999999999787,
          -3.029200000000003,
          -3.0012999999999863,
          -2.917100000000005,
          -2.8950999999999993,
          -2.7926999999999964,
          -2.4821999999999775,
          -2.4365999999999985,
          -2.404100000000028,
          -2.2916999999999916,
          -2.1663000000000068,
          -2.133999999999986,
          -2.0671000000000106,
          -1.9699999999999989,
          -1.8659000000000106,
          -1.567700000000002,
          -1.561300000000017,
          -1.546199999999999,
          -0.8789999999999907,
          -0.8137000000000114,
          -0.5240999999999758,
          -0.15430000000003474,
          -0.11239999999997963,
          0.564700000000002,
          0.7896000000000072,
          0.8374999999999773,
          0.8403000000000134,
          1.1739999999999782,
          1.186000000000007,
          1.321799999999996,
          1.3702000000000112,
          1.636199999999974,
          2.030399999999986,
          2.0541999999999803,
          2.1123000000000047,
          2.5135999999999967,
          3.4839999999999804,
          3.752900000000011,
          3.804699999999997,
          3.948500000000024,
          4.03479999999999,
          4.15979999999999,
          4.206700000000012,
          4.2975999999999885,
          4.5061999999999784,
          4.622099999999989,
          4.709800000000001,
          4.754000000000019,
          4.970799999999997,
          4.975999999999999,
          5.782900000000041,
          6.01400000000001,
          6.1053,
          6.171199999999999,
          6.2797999999999945,
          6.371899999999982,
          7.1007999999999925,
          7.282900000000012,
          7.51400000000001,
          7.806100000000015,
          8.000200000000007,
          8.063800000000015,
          8.160799999999995,
          8.177999999999997,
          8.433699999999988,
          8.713799999999992,
          8.869200000000006,
          9.159999999999997,
          9.65519999999998,
          10.424800000000005,
          10.469600000000014,
          11.084600000000023,
          11.834600000000023,
          12.149999999999977,
          12.744100000000003,
          13.809900000000027,
          13.84620000000001,
          13.884799999999984,
          14.584000000000003,
          14.685099999999977,
          14.781800000000004,
          17.08510000000001,
          17.460699999999974,
          18.019299999999987,
          20.0591,
          24.838900000000024,
          25.231400000000008,
          27.363800000000026,
          29.415900000000022
         ],
         "yaxis": "y4"
        },
        {
         "line": {
          "color": "#3f3f3f"
         },
         "mode": "lines",
         "name": "Exponential Smoothing",
         "showlegend": false,
         "type": "scattergl",
         "x": [
          -2.4551008462990382,
          -2.1949244993050554,
          -2.031014525566918,
          -1.9084116818884704,
          -1.8091832741840426,
          -1.7251133770389842,
          -1.6517204624868653,
          -1.5862789009146592,
          -1.5270018016004931,
          -1.472651352164115,
          -1.4223330888521888,
          -1.3753786498834617,
          -1.3312748466809177,
          -1.2896186457164065,
          -1.2500874448553163,
          -1.2124187877842667,
          -1.1763961244428374,
          -1.1418385701455152,
          -1.1085933833417223,
          -1.0765303368163022,
          -1.0455374359127296,
          -1.015517613293485,
          -0.9863861436902606,
          -0.9580685976089729,
          -0.9304992040482307,
          -0.9036195275140624,
          -0.8773773893133454,
          -0.8517259806982667,
          -0.8266231281397206,
          -0.8020306803054005,
          -0.7779139932047425,
          -0.7542414951202904,
          -0.730984316847628,
          -0.708115975747597,
          -0.6856121044129418,
          -0.6634502165382117,
          -0.6416095039816206,
          -0.6200706601124467,
          -0.5988157254156958,
          -0.5778279520282654,
          -0.5570916844463072,
          -0.5365922541013274,
          -0.5163158858752857,
          -0.49624961492999053,
          -0.47638121247696114,
          -0.45669911932122276,
          -0.43719238618455963,
          -0.41785061995716233,
          -0.39866393514661363,
          -0.37962290989397623,
          -0.3607185460117304,
          -0.34194223257020145,
          -0.32328571262011585,
          -0.30474105269084506,
          -0.2863006147481918,
          -0.2679570303334746,
          -0.2497031766381543,
          -0.231532154296155,
          -0.2134372667000334,
          -0.19541200066782957,
          -0.1774500083052407,
          -0.15954508992311356,
          -0.1416911778834665,
          -0.12388232125861309,
          -0.10611267119769242,
          -0.08837646690321861,
          -0.07066802212728994,
          -0.05298171210299662,
          -0.0353119608314343,
          -0.017653228648661298,
          0,
          0.017653228648661298,
          0.0353119608314343,
          0.05298171210299648,
          0.07066802212728979,
          0.08837646690321847,
          0.10611267119769256,
          0.12388232125861323,
          0.14169117788346663,
          0.15954508992311356,
          0.1774500083052407,
          0.19541200066782957,
          0.2134372667000334,
          0.231532154296155,
          0.2497031766381543,
          0.26795703033347446,
          0.2863006147481917,
          0.3047410526908449,
          0.323285712620116,
          0.3419422325702016,
          0.36071854601173053,
          0.37962290989397623,
          0.39866393514661363,
          0.41785061995716233,
          0.43719238618455963,
          0.45669911932122276,
          0.47638121247696114,
          0.4962496149299904,
          0.5163158858752855,
          0.5365922541013273,
          0.5570916844463074,
          0.5778279520282655,
          0.598815725415696,
          0.6200706601124467,
          0.6416095039816206,
          0.6634502165382117,
          0.6856121044129418,
          0.708115975747597,
          0.730984316847628,
          0.7542414951202904,
          0.7779139932047423,
          0.8020306803054003,
          0.8266231281397208,
          0.8517259806982667,
          0.8773773893133454,
          0.9036195275140624,
          0.9304992040482307,
          0.9580685976089729,
          0.9863861436902606,
          1.015517613293485,
          1.0455374359127296,
          1.0765303368163022,
          1.1085933833417223,
          1.1418385701455152,
          1.176396124442838,
          1.2124187877842671,
          1.2500874448553163,
          1.2896186457164065,
          1.3312748466809177,
          1.3753786498834617,
          1.4223330888521888,
          1.472651352164115,
          1.5270018016004925,
          1.5862789009146592,
          1.6517204624868647,
          1.7251133770389837,
          1.809183274184043,
          1.908411681888471,
          2.0310145255669183,
          2.194924499305056,
          2.4551008462990387
         ],
         "xaxis": "x4",
         "y": [
          -25.89447607438803,
          -23.156169707405066,
          -21.431048535227443,
          -20.14067701862423,
          -19.09631697689876,
          -18.21149736403349,
          -17.43905095400625,
          -16.75029101564558,
          -16.126410865341157,
          -15.554382764172292,
          -15.024792651948296,
          -14.530606148556611,
          -14.066422042226288,
          -13.6279984820397,
          -13.211940142136461,
          -12.81548471993877,
          -12.436353067414641,
          -12.07264140779208,
          -11.72274216541987,
          -11.385284723727603,
          -11.059090360342651,
          -10.743137460074289,
          -10.436534305653318,
          -10.138497540868098,
          -9.848334938489083,
          -9.565431476101482,
          -9.289237982924595,
          -9.01926180582662,
          -8.755059076467479,
          -8.496228259360294,
          -8.242404733120244,
          -7.9932562114502606,
          -7.748478851486936,
          -7.507793928510439,
          -7.2709449802127795,
          -7.037695342523234,
          -6.807826013723175,
          -6.581133795211186,
          -6.357429666521632,
          -6.13653735959365,
          -5.918292103238921,
          -5.702539513575264,
          -5.489134610115899,
          -5.2779409404147195,
          -5.068829798808259,
          -4.861679526976836,
          -4.656374885858181,
          -4.452806489956293,
          -4.250870296351285,
          -4.050467141777106,
          -3.851502322028469,
          -3.653885208714953,
          -3.45752889902226,
          -3.262349894687057,
          -3.0682678068580294,
          -2.87520508391469,
          -2.683086759657385,
          -2.4918402195757183,
          -2.301394983155181,
          -2.1116825003994486,
          -1.9226359609332224,
          -1.7341901142121026,
          -1.5462810995050509,
          -1.3588462844345994,
          -1.1718241109623753,
          -0.9851539477949623,
          -0.7987759482590817,
          -0.6126309127571532,
          -0.4266601549655412,
          -0.24080537097915308,
          -0.05500851063829651,
          0.13078834970256006,
          0.31664313368894825,
          0.5026138914805588,
          0.6887589269824871,
          0.8751369265183679,
          1.0618070896857836,
          1.2488292631580078,
          1.4362640782284593,
          1.6241730929355096,
          1.8126189396566295,
          2.0016654791228556,
          2.191377961878588,
          2.3818231982991254,
          2.573069738380792,
          2.7651880626380954,
          2.9582507855814355,
          3.152332873410462,
          3.347511877745669,
          3.543868187438362,
          3.7414853007518776,
          3.9404501205005125,
          4.140853275074691,
          4.342789468679699,
          4.546357864581587,
          4.751662505700242,
          4.958812777531665,
          5.167923919138124,
          5.379117588839304,
          5.592522492298669,
          5.8082750819623294,
          6.026520338317057,
          6.247412645245041,
          6.471116773934592,
          6.697808992446581,
          6.92767832124664,
          7.160927958936186,
          7.397776907233845,
          7.638461830210342,
          7.883239190173667,
          8.132387711843647,
          8.386211238083698,
          8.645042055190887,
          8.909244784550026,
          9.179220961648001,
          9.455414454824888,
          9.73831791721249,
          10.028480519591504,
          10.326517284376724,
          10.633120438797695,
          10.949073339066057,
          11.275267702451009,
          11.612725144143276,
          11.962624386515486,
          12.326336046138055,
          12.70546769866218,
          13.101923120859867,
          13.517981460763107,
          13.956405020949694,
          14.420589127280017,
          14.914775630671702,
          15.444365742895698,
          16.01639384406456,
          16.64027399436899,
          17.329033932729654,
          18.101480342756894,
          18.986299955622176,
          20.030659997347648,
          21.321031513950857,
          23.046152686128483,
          25.784459053111444
         ],
         "yaxis": "y4"
        },
        {
         "line": {
          "color": "#3f3f3f"
         },
         "mode": "lines",
         "name": "ACF",
         "showlegend": false,
         "type": "scattergl",
         "x": [
          0,
          0
         ],
         "xaxis": "x5",
         "y": [
          0,
          1
         ],
         "yaxis": "y5"
        },
        {
         "line": {
          "color": "#3f3f3f"
         },
         "mode": "lines",
         "name": "ACF",
         "showlegend": false,
         "type": "scattergl",
         "x": [
          1,
          1
         ],
         "xaxis": "x5",
         "y": [
          0,
          0.21331630477610972
         ],
         "yaxis": "y5"
        },
        {
         "line": {
          "color": "#3f3f3f"
         },
         "mode": "lines",
         "name": "ACF",
         "showlegend": false,
         "type": "scattergl",
         "x": [
          2,
          2
         ],
         "xaxis": "x5",
         "y": [
          0,
          0.13269684349044533
         ],
         "yaxis": "y5"
        },
        {
         "line": {
          "color": "#3f3f3f"
         },
         "mode": "lines",
         "name": "ACF",
         "showlegend": false,
         "type": "scattergl",
         "x": [
          3,
          3
         ],
         "xaxis": "x5",
         "y": [
          0,
          -0.08553774936205318
         ],
         "yaxis": "y5"
        },
        {
         "line": {
          "color": "#3f3f3f"
         },
         "mode": "lines",
         "name": "ACF",
         "showlegend": false,
         "type": "scattergl",
         "x": [
          4,
          4
         ],
         "xaxis": "x5",
         "y": [
          0,
          -0.1520108126062694
         ],
         "yaxis": "y5"
        },
        {
         "line": {
          "color": "#3f3f3f"
         },
         "mode": "lines",
         "name": "ACF",
         "showlegend": false,
         "type": "scattergl",
         "x": [
          5,
          5
         ],
         "xaxis": "x5",
         "y": [
          0,
          0.01140157693942463
         ],
         "yaxis": "y5"
        },
        {
         "line": {
          "color": "#3f3f3f"
         },
         "mode": "lines",
         "name": "ACF",
         "showlegend": false,
         "type": "scattergl",
         "x": [
          6,
          6
         ],
         "xaxis": "x5",
         "y": [
          0,
          -0.043125989147636504
         ],
         "yaxis": "y5"
        },
        {
         "line": {
          "color": "#3f3f3f"
         },
         "mode": "lines",
         "name": "ACF",
         "showlegend": false,
         "type": "scattergl",
         "x": [
          7,
          7
         ],
         "xaxis": "x5",
         "y": [
          0,
          -0.014082223531194992
         ],
         "yaxis": "y5"
        },
        {
         "line": {
          "color": "#3f3f3f"
         },
         "mode": "lines",
         "name": "ACF",
         "showlegend": false,
         "type": "scattergl",
         "x": [
          8,
          8
         ],
         "xaxis": "x5",
         "y": [
          0,
          -0.03189694064160539
         ],
         "yaxis": "y5"
        },
        {
         "line": {
          "color": "#3f3f3f"
         },
         "mode": "lines",
         "name": "ACF",
         "showlegend": false,
         "type": "scattergl",
         "x": [
          9,
          9
         ],
         "xaxis": "x5",
         "y": [
          0,
          0.09638944421506702
         ],
         "yaxis": "y5"
        },
        {
         "line": {
          "color": "#3f3f3f"
         },
         "mode": "lines",
         "name": "ACF",
         "showlegend": false,
         "type": "scattergl",
         "x": [
          10,
          10
         ],
         "xaxis": "x5",
         "y": [
          0,
          -0.1535146613132387
         ],
         "yaxis": "y5"
        },
        {
         "line": {
          "color": "#3f3f3f"
         },
         "mode": "lines",
         "name": "ACF",
         "showlegend": false,
         "type": "scattergl",
         "x": [
          11,
          11
         ],
         "xaxis": "x5",
         "y": [
          0,
          -0.055406931962840286
         ],
         "yaxis": "y5"
        },
        {
         "line": {
          "color": "#3f3f3f"
         },
         "mode": "lines",
         "name": "ACF",
         "showlegend": false,
         "type": "scattergl",
         "x": [
          12,
          12
         ],
         "xaxis": "x5",
         "y": [
          0,
          -0.035172230431612744
         ],
         "yaxis": "y5"
        },
        {
         "line": {
          "color": "#3f3f3f"
         },
         "mode": "lines",
         "name": "ACF",
         "showlegend": false,
         "type": "scattergl",
         "x": [
          13,
          13
         ],
         "xaxis": "x5",
         "y": [
          0,
          0.08958441220698286
         ],
         "yaxis": "y5"
        },
        {
         "line": {
          "color": "#3f3f3f"
         },
         "mode": "lines",
         "name": "ACF",
         "showlegend": false,
         "type": "scattergl",
         "x": [
          14,
          14
         ],
         "xaxis": "x5",
         "y": [
          0,
          0.14238634995505636
         ],
         "yaxis": "y5"
        },
        {
         "line": {
          "color": "#3f3f3f"
         },
         "mode": "lines",
         "name": "ACF",
         "showlegend": false,
         "type": "scattergl",
         "x": [
          15,
          15
         ],
         "xaxis": "x5",
         "y": [
          0,
          0.08722140692443402
         ],
         "yaxis": "y5"
        },
        {
         "line": {
          "color": "#3f3f3f"
         },
         "mode": "lines",
         "name": "ACF",
         "showlegend": false,
         "type": "scattergl",
         "x": [
          16,
          16
         ],
         "xaxis": "x5",
         "y": [
          0,
          -0.06428777554634119
         ],
         "yaxis": "y5"
        },
        {
         "line": {
          "color": "#3f3f3f"
         },
         "mode": "lines",
         "name": "ACF",
         "showlegend": false,
         "type": "scattergl",
         "x": [
          17,
          17
         ],
         "xaxis": "x5",
         "y": [
          0,
          -0.07882499283267168
         ],
         "yaxis": "y5"
        },
        {
         "line": {
          "color": "#3f3f3f"
         },
         "mode": "lines",
         "name": "ACF",
         "showlegend": false,
         "type": "scattergl",
         "x": [
          18,
          18
         ],
         "xaxis": "x5",
         "y": [
          0,
          -0.03804482035626295
         ],
         "yaxis": "y5"
        },
        {
         "line": {
          "color": "#3f3f3f"
         },
         "mode": "lines",
         "name": "ACF",
         "showlegend": false,
         "type": "scattergl",
         "x": [
          19,
          19
         ],
         "xaxis": "x5",
         "y": [
          0,
          -0.182110951371369
         ],
         "yaxis": "y5"
        },
        {
         "line": {
          "color": "#3f3f3f"
         },
         "mode": "lines",
         "name": "ACF",
         "showlegend": false,
         "type": "scattergl",
         "x": [
          20,
          20
         ],
         "xaxis": "x5",
         "y": [
          0,
          -0.09518475837833379
         ],
         "yaxis": "y5"
        },
        {
         "line": {
          "color": "#3f3f3f"
         },
         "mode": "lines",
         "name": "ACF",
         "showlegend": false,
         "type": "scattergl",
         "x": [
          21,
          21
         ],
         "xaxis": "x5",
         "y": [
          0,
          -0.009026762180050886
         ],
         "yaxis": "y5"
        },
        {
         "line": {
          "color": "#3f3f3f"
         },
         "mode": "lines",
         "name": "ACF",
         "showlegend": false,
         "type": "scattergl",
         "x": [
          22,
          22
         ],
         "xaxis": "x5",
         "y": [
          0,
          -0.04583452570829346
         ],
         "yaxis": "y5"
        },
        {
         "line": {
          "color": "#3f3f3f"
         },
         "mode": "lines",
         "name": "ACF",
         "showlegend": false,
         "type": "scattergl",
         "x": [
          23,
          23
         ],
         "xaxis": "x5",
         "y": [
          0,
          0.1997250814077949
         ],
         "yaxis": "y5"
        },
        {
         "line": {
          "color": "#3f3f3f"
         },
         "mode": "lines",
         "name": "ACF",
         "showlegend": false,
         "type": "scattergl",
         "x": [
          24,
          24
         ],
         "xaxis": "x5",
         "y": [
          0,
          0.0339975651203037
         ],
         "yaxis": "y5"
        },
        {
         "line": {
          "color": "#3f3f3f"
         },
         "mode": "lines",
         "name": "ACF",
         "showlegend": false,
         "type": "scattergl",
         "x": [
          25,
          25
         ],
         "xaxis": "x5",
         "y": [
          0,
          0.05462970027069911
         ],
         "yaxis": "y5"
        },
        {
         "line": {
          "color": "#3f3f3f"
         },
         "mode": "lines",
         "name": "ACF",
         "showlegend": false,
         "type": "scattergl",
         "x": [
          26,
          26
         ],
         "xaxis": "x5",
         "y": [
          0,
          0.08265004721346253
         ],
         "yaxis": "y5"
        },
        {
         "line": {
          "color": "#3f3f3f"
         },
         "mode": "lines",
         "name": "ACF",
         "showlegend": false,
         "type": "scattergl",
         "x": [
          27,
          27
         ],
         "xaxis": "x5",
         "y": [
          0,
          -0.0164923426697784
         ],
         "yaxis": "y5"
        },
        {
         "line": {
          "color": "#3f3f3f"
         },
         "mode": "lines",
         "name": "ACF",
         "showlegend": false,
         "type": "scattergl",
         "x": [
          28,
          28
         ],
         "xaxis": "x5",
         "y": [
          0,
          -0.03633698252582063
         ],
         "yaxis": "y5"
        },
        {
         "line": {
          "color": "#3f3f3f"
         },
         "mode": "lines",
         "name": "ACF",
         "showlegend": false,
         "type": "scattergl",
         "x": [
          29,
          29
         ],
         "xaxis": "x5",
         "y": [
          0,
          -0.056550963706631235
         ],
         "yaxis": "y5"
        },
        {
         "line": {
          "color": "#3f3f3f"
         },
         "mode": "lines",
         "name": "ACF",
         "showlegend": false,
         "type": "scattergl",
         "x": [
          30,
          30
         ],
         "xaxis": "x5",
         "y": [
          0,
          -0.06729185291973139
         ],
         "yaxis": "y5"
        },
        {
         "line": {
          "color": "#3f3f3f"
         },
         "mode": "lines",
         "name": "ACF",
         "showlegend": false,
         "type": "scattergl",
         "x": [
          31,
          31
         ],
         "xaxis": "x5",
         "y": [
          0,
          -0.08630876373521418
         ],
         "yaxis": "y5"
        },
        {
         "line": {
          "color": "#3f3f3f"
         },
         "mode": "lines",
         "name": "ACF",
         "showlegend": false,
         "type": "scattergl",
         "x": [
          32,
          32
         ],
         "xaxis": "x5",
         "y": [
          0,
          0.07906503213050593
         ],
         "yaxis": "y5"
        },
        {
         "line": {
          "color": "#3f3f3f"
         },
         "mode": "lines",
         "name": "ACF",
         "showlegend": false,
         "type": "scattergl",
         "x": [
          33,
          33
         ],
         "xaxis": "x5",
         "y": [
          0,
          -0.06635767262153477
         ],
         "yaxis": "y5"
        },
        {
         "line": {
          "color": "#3f3f3f"
         },
         "mode": "lines",
         "name": "ACF",
         "showlegend": false,
         "type": "scattergl",
         "x": [
          34,
          34
         ],
         "xaxis": "x5",
         "y": [
          0,
          0.003932055850972839
         ],
         "yaxis": "y5"
        },
        {
         "line": {
          "color": "#3f3f3f"
         },
         "mode": "lines",
         "name": "ACF",
         "showlegend": false,
         "type": "scattergl",
         "x": [
          35,
          35
         ],
         "xaxis": "x5",
         "y": [
          0,
          0.02112732990812699
         ],
         "yaxis": "y5"
        },
        {
         "line": {
          "color": "#3f3f3f"
         },
         "mode": "lines",
         "name": "ACF",
         "showlegend": false,
         "type": "scattergl",
         "x": [
          36,
          36
         ],
         "xaxis": "x5",
         "y": [
          0,
          0.004179009695846086
         ],
         "yaxis": "y5"
        },
        {
         "line": {
          "color": "#3f3f3f"
         },
         "mode": "lines",
         "name": "ACF",
         "showlegend": false,
         "type": "scattergl",
         "x": [
          37,
          37
         ],
         "xaxis": "x5",
         "y": [
          0,
          0.16759018249837937
         ],
         "yaxis": "y5"
        },
        {
         "line": {
          "color": "#3f3f3f"
         },
         "mode": "lines",
         "name": "ACF",
         "showlegend": false,
         "type": "scattergl",
         "x": [
          38,
          38
         ],
         "xaxis": "x5",
         "y": [
          0,
          0.054438717188397295
         ],
         "yaxis": "y5"
        },
        {
         "line": {
          "color": "#3f3f3f"
         },
         "mode": "lines",
         "name": "ACF",
         "showlegend": false,
         "type": "scattergl",
         "x": [
          39,
          39
         ],
         "xaxis": "x5",
         "y": [
          0,
          -0.01153149259773422
         ],
         "yaxis": "y5"
        },
        {
         "line": {
          "color": "#3f3f3f"
         },
         "mode": "lines",
         "name": "ACF",
         "showlegend": false,
         "type": "scattergl",
         "x": [
          40,
          40
         ],
         "xaxis": "x5",
         "y": [
          0,
          -0.07159432650781226
         ],
         "yaxis": "y5"
        },
        {
         "marker": {
          "color": "#1f77b4",
          "size": 6
         },
         "mode": "markers",
         "name": "ACF",
         "showlegend": false,
         "type": "scattergl",
         "x": [
          0,
          1,
          2,
          3,
          4,
          5,
          6,
          7,
          8,
          9,
          10,
          11,
          12,
          13,
          14,
          15,
          16,
          17,
          18,
          19,
          20,
          21,
          22,
          23,
          24,
          25,
          26,
          27,
          28,
          29,
          30,
          31,
          32,
          33,
          34,
          35,
          36,
          37,
          38,
          39,
          40
         ],
         "xaxis": "x5",
         "y": [
          1,
          0.21331630477610972,
          0.13269684349044533,
          -0.08553774936205318,
          -0.1520108126062694,
          0.01140157693942463,
          -0.043125989147636504,
          -0.014082223531194992,
          -0.03189694064160539,
          0.09638944421506702,
          -0.1535146613132387,
          -0.055406931962840286,
          -0.035172230431612744,
          0.08958441220698286,
          0.14238634995505636,
          0.08722140692443402,
          -0.06428777554634119,
          -0.07882499283267168,
          -0.03804482035626295,
          -0.182110951371369,
          -0.09518475837833379,
          -0.009026762180050886,
          -0.04583452570829346,
          0.1997250814077949,
          0.0339975651203037,
          0.05462970027069911,
          0.08265004721346253,
          -0.0164923426697784,
          -0.03633698252582063,
          -0.056550963706631235,
          -0.06729185291973139,
          -0.08630876373521418,
          0.07906503213050593,
          -0.06635767262153477,
          0.003932055850972839,
          0.02112732990812699,
          0.004179009695846086,
          0.16759018249837937,
          0.054438717188397295,
          -0.01153149259773422,
          -0.07159432650781226
         ],
         "yaxis": "y5"
        },
        {
         "line": {
          "color": "rgba(255,255,255,0)"
         },
         "mode": "lines",
         "name": "UC",
         "showlegend": false,
         "type": "scatter",
         "x": [
          0,
          1,
          2,
          3,
          4,
          5,
          6,
          7,
          8,
          9,
          10,
          11,
          12,
          13,
          14,
          15,
          16,
          17,
          18,
          19,
          20,
          21,
          22,
          23,
          24,
          25,
          26,
          27,
          28,
          29,
          30,
          31,
          32,
          33,
          34,
          35,
          36,
          37,
          38,
          39,
          40
         ],
         "xaxis": "x5",
         "y": [
          0,
          0.16505874348015956,
          0.172406025815406,
          0.17516649444794827,
          0.17630082011722822,
          0.1798362227260839,
          0.17985591545778884,
          0.1801374234560749,
          0.18016741366145284,
          0.1803211985192935,
          0.18171952503528932,
          0.18521908445401658,
          0.18567009957445474,
          0.18585153528734188,
          0.18702429147411062,
          0.18995468970117907,
          0.19104269558853493,
          0.19163118011451968,
          0.19251251555554888,
          0.19271724405855978,
          0.19735000303405426,
          0.19859682664744016,
          0.1986080044528344,
          0.1988959769851574,
          0.20428698659455358,
          0.20444107438894024,
          0.20483839833241319,
          0.20574494871663981,
          0.20578096298354778,
          0.20595570013219658,
          0.20637830834202114,
          0.20697522045160352,
          0.2079534559223774,
          0.2087708418286899,
          0.2093446847923553,
          0.20934669690550542,
          0.2094047786888633,
          0.20940705082779204,
          0.21302983432835146,
          0.2134085092836865,
          0.21342548464840444
         ],
         "yaxis": "y5"
        },
        {
         "fill": "tonexty",
         "fillcolor": "rgba(32, 146, 230,0.3)",
         "line": {
          "color": "rgba(255,255,255,0)"
         },
         "mode": "lines",
         "name": "LC",
         "showlegend": false,
         "type": "scatter",
         "x": [
          0,
          1,
          2,
          3,
          4,
          5,
          6,
          7,
          8,
          9,
          10,
          11,
          12,
          13,
          14,
          15,
          16,
          17,
          18,
          19,
          20,
          21,
          22,
          23,
          24,
          25,
          26,
          27,
          28,
          29,
          30,
          31,
          32,
          33,
          34,
          35,
          36,
          37,
          38,
          39,
          40
         ],
         "xaxis": "x5",
         "y": [
          0,
          -0.16505874348015956,
          -0.172406025815406,
          -0.1751664944479483,
          -0.17630082011722822,
          -0.1798362227260839,
          -0.1798559154577889,
          -0.1801374234560749,
          -0.18016741366145284,
          -0.18032119851929349,
          -0.18171952503528932,
          -0.18521908445401658,
          -0.18567009957445474,
          -0.1858515352873419,
          -0.18702429147411062,
          -0.18995468970117907,
          -0.19104269558853493,
          -0.19163118011451968,
          -0.19251251555554888,
          -0.19271724405855978,
          -0.19735000303405426,
          -0.19859682664744016,
          -0.1986080044528344,
          -0.1988959769851574,
          -0.20428698659455358,
          -0.2044410743889402,
          -0.20483839833241316,
          -0.20574494871663981,
          -0.20578096298354778,
          -0.20595570013219658,
          -0.20637830834202114,
          -0.2069752204516035,
          -0.20795345592237735,
          -0.2087708418286899,
          -0.2093446847923553,
          -0.20934669690550542,
          -0.2094047786888633,
          -0.20940705082779207,
          -0.21302983432835143,
          -0.2134085092836865,
          -0.21342548464840444
         ],
         "yaxis": "y5"
        },
        {
         "line": {
          "color": "#3f3f3f"
         },
         "mode": "lines",
         "name": "PACF",
         "showlegend": false,
         "type": "scattergl",
         "x": [
          0,
          0
         ],
         "xaxis": "x6",
         "y": [
          0,
          1
         ],
         "yaxis": "y6"
        },
        {
         "line": {
          "color": "#3f3f3f"
         },
         "mode": "lines",
         "name": "PACF",
         "showlegend": false,
         "type": "scattergl",
         "x": [
          1,
          1
         ],
         "xaxis": "x6",
         "y": [
          0,
          0.21483999266736767
         ],
         "yaxis": "y6"
        },
        {
         "line": {
          "color": "#3f3f3f"
         },
         "mode": "lines",
         "name": "PACF",
         "showlegend": false,
         "type": "scattergl",
         "x": [
          2,
          2
         ],
         "xaxis": "x6",
         "y": [
          0,
          0.09272999439052547
         ],
         "yaxis": "y6"
        },
        {
         "line": {
          "color": "#3f3f3f"
         },
         "mode": "lines",
         "name": "PACF",
         "showlegend": false,
         "type": "scattergl",
         "x": [
          3,
          3
         ],
         "xaxis": "x6",
         "y": [
          0,
          -0.1412337318086149
         ],
         "yaxis": "y6"
        },
        {
         "line": {
          "color": "#3f3f3f"
         },
         "mode": "lines",
         "name": "PACF",
         "showlegend": false,
         "type": "scattergl",
         "x": [
          4,
          4
         ],
         "xaxis": "x6",
         "y": [
          0,
          -0.13391985964474962
         ],
         "yaxis": "y6"
        },
        {
         "line": {
          "color": "#3f3f3f"
         },
         "mode": "lines",
         "name": "PACF",
         "showlegend": false,
         "type": "scattergl",
         "x": [
          5,
          5
         ],
         "xaxis": "x6",
         "y": [
          0,
          0.10696574444687709
         ],
         "yaxis": "y6"
        },
        {
         "line": {
          "color": "#3f3f3f"
         },
         "mode": "lines",
         "name": "PACF",
         "showlegend": false,
         "type": "scattergl",
         "x": [
          6,
          6
         ],
         "xaxis": "x6",
         "y": [
          0,
          -0.04182406291746075
         ],
         "yaxis": "y6"
        },
        {
         "line": {
          "color": "#3f3f3f"
         },
         "mode": "lines",
         "name": "PACF",
         "showlegend": false,
         "type": "scattergl",
         "x": [
          7,
          7
         ],
         "xaxis": "x6",
         "y": [
          0,
          -0.052859488560295785
         ],
         "yaxis": "y6"
        },
        {
         "line": {
          "color": "#3f3f3f"
         },
         "mode": "lines",
         "name": "PACF",
         "showlegend": false,
         "type": "scattergl",
         "x": [
          8,
          8
         ],
         "xaxis": "x6",
         "y": [
          0,
          -0.02279685534264624
         ],
         "yaxis": "y6"
        },
        {
         "line": {
          "color": "#3f3f3f"
         },
         "mode": "lines",
         "name": "PACF",
         "showlegend": false,
         "type": "scattergl",
         "x": [
          9,
          9
         ],
         "xaxis": "x6",
         "y": [
          0,
          0.15127773811609863
         ],
         "yaxis": "y6"
        },
        {
         "line": {
          "color": "#3f3f3f"
         },
         "mode": "lines",
         "name": "PACF",
         "showlegend": false,
         "type": "scattergl",
         "x": [
          10,
          10
         ],
         "xaxis": "x6",
         "y": [
          0,
          -0.2578031104056486
         ],
         "yaxis": "y6"
        },
        {
         "line": {
          "color": "#3f3f3f"
         },
         "mode": "lines",
         "name": "PACF",
         "showlegend": false,
         "type": "scattergl",
         "x": [
          11,
          11
         ],
         "xaxis": "x6",
         "y": [
          0,
          -0.02776614320964359
         ],
         "yaxis": "y6"
        },
        {
         "line": {
          "color": "#3f3f3f"
         },
         "mode": "lines",
         "name": "PACF",
         "showlegend": false,
         "type": "scattergl",
         "x": [
          12,
          12
         ],
         "xaxis": "x6",
         "y": [
          0,
          0.08184928239031675
         ],
         "yaxis": "y6"
        },
        {
         "line": {
          "color": "#3f3f3f"
         },
         "mode": "lines",
         "name": "PACF",
         "showlegend": false,
         "type": "scattergl",
         "x": [
          13,
          13
         ],
         "xaxis": "x6",
         "y": [
          0,
          0.13456909295913813
         ],
         "yaxis": "y6"
        },
        {
         "line": {
          "color": "#3f3f3f"
         },
         "mode": "lines",
         "name": "PACF",
         "showlegend": false,
         "type": "scattergl",
         "x": [
          14,
          14
         ],
         "xaxis": "x6",
         "y": [
          0,
          -0.007846595506887828
         ],
         "yaxis": "y6"
        },
        {
         "line": {
          "color": "#3f3f3f"
         },
         "mode": "lines",
         "name": "PACF",
         "showlegend": false,
         "type": "scattergl",
         "x": [
          15,
          15
         ],
         "xaxis": "x6",
         "y": [
          0,
          0.05815759988464918
         ],
         "yaxis": "y6"
        },
        {
         "line": {
          "color": "#3f3f3f"
         },
         "mode": "lines",
         "name": "PACF",
         "showlegend": false,
         "type": "scattergl",
         "x": [
          16,
          16
         ],
         "xaxis": "x6",
         "y": [
          0,
          -0.12016061260245173
         ],
         "yaxis": "y6"
        },
        {
         "line": {
          "color": "#3f3f3f"
         },
         "mode": "lines",
         "name": "PACF",
         "showlegend": false,
         "type": "scattergl",
         "x": [
          17,
          17
         ],
         "xaxis": "x6",
         "y": [
          0,
          -0.031164393738996383
         ],
         "yaxis": "y6"
        },
        {
         "line": {
          "color": "#3f3f3f"
         },
         "mode": "lines",
         "name": "PACF",
         "showlegend": false,
         "type": "scattergl",
         "x": [
          18,
          18
         ],
         "xaxis": "x6",
         "y": [
          0,
          -0.0027716925271696158
         ],
         "yaxis": "y6"
        },
        {
         "line": {
          "color": "#3f3f3f"
         },
         "mode": "lines",
         "name": "PACF",
         "showlegend": false,
         "type": "scattergl",
         "x": [
          19,
          19
         ],
         "xaxis": "x6",
         "y": [
          0,
          -0.16057483477414547
         ],
         "yaxis": "y6"
        },
        {
         "line": {
          "color": "#3f3f3f"
         },
         "mode": "lines",
         "name": "PACF",
         "showlegend": false,
         "type": "scattergl",
         "x": [
          20,
          20
         ],
         "xaxis": "x6",
         "y": [
          0,
          -0.12164428463900463
         ],
         "yaxis": "y6"
        },
        {
         "line": {
          "color": "#3f3f3f"
         },
         "mode": "lines",
         "name": "PACF",
         "showlegend": false,
         "type": "scattergl",
         "x": [
          21,
          21
         ],
         "xaxis": "x6",
         "y": [
          0,
          0.13347815702170557
         ],
         "yaxis": "y6"
        },
        {
         "marker": {
          "color": "#1f77b4",
          "size": 6
         },
         "mode": "markers",
         "name": "PACF",
         "showlegend": false,
         "type": "scattergl",
         "x": [
          0,
          1,
          2,
          3,
          4,
          5,
          6,
          7,
          8,
          9,
          10,
          11,
          12,
          13,
          14,
          15,
          16,
          17,
          18,
          19,
          20,
          21
         ],
         "xaxis": "x6",
         "y": [
          1,
          0.21483999266736767,
          0.09272999439052547,
          -0.1412337318086149,
          -0.13391985964474962,
          0.10696574444687709,
          -0.04182406291746075,
          -0.052859488560295785,
          -0.02279685534264624,
          0.15127773811609863,
          -0.2578031104056486,
          -0.02776614320964359,
          0.08184928239031675,
          0.13456909295913813,
          -0.007846595506887828,
          0.05815759988464918,
          -0.12016061260245173,
          -0.031164393738996383,
          -0.0027716925271696158,
          -0.16057483477414547,
          -0.12164428463900463,
          0.13347815702170557
         ],
         "yaxis": "y6"
        },
        {
         "line": {
          "color": "rgba(255,255,255,0)"
         },
         "mode": "lines",
         "name": "UC",
         "showlegend": false,
         "type": "scatter",
         "x": [
          0,
          1,
          2,
          3,
          4,
          5,
          6,
          7,
          8,
          9,
          10,
          11,
          12,
          13,
          14,
          15,
          16,
          17,
          18,
          19,
          20,
          21
         ],
         "xaxis": "x6",
         "y": [
          0,
          0.16505874348015956,
          0.16505874348015953,
          0.16505874348015956,
          0.16505874348015956,
          0.16505874348015956,
          0.16505874348015956,
          0.16505874348015956,
          0.16505874348015956,
          0.16505874348015953,
          0.16505874348015956,
          0.16505874348015956,
          0.16505874348015956,
          0.16505874348015956,
          0.16505874348015956,
          0.16505874348015953,
          0.16505874348015956,
          0.16505874348015956,
          0.16505874348015956,
          0.16505874348015956,
          0.16505874348015956,
          0.16505874348015953
         ],
         "yaxis": "y6"
        },
        {
         "fill": "tonexty",
         "fillcolor": "rgba(32, 146, 230,0.3)",
         "line": {
          "color": "rgba(255,255,255,0)"
         },
         "mode": "lines",
         "name": "LC",
         "showlegend": false,
         "type": "scatter",
         "x": [
          0,
          1,
          2,
          3,
          4,
          5,
          6,
          7,
          8,
          9,
          10,
          11,
          12,
          13,
          14,
          15,
          16,
          17,
          18,
          19,
          20,
          21
         ],
         "xaxis": "x6",
         "y": [
          0,
          -0.16505874348015956,
          -0.16505874348015956,
          -0.16505874348015956,
          -0.1650587434801596,
          -0.16505874348015956,
          -0.16505874348015956,
          -0.16505874348015956,
          -0.16505874348015956,
          -0.16505874348015956,
          -0.16505874348015953,
          -0.16505874348015956,
          -0.16505874348015956,
          -0.16505874348015956,
          -0.16505874348015956,
          -0.16505874348015956,
          -0.16505874348015956,
          -0.16505874348015956,
          -0.16505874348015956,
          -0.1650587434801596,
          -0.1650587434801596,
          -0.16505874348015956
         ],
         "yaxis": "y6"
        }
       ],
       "layout": {
        "annotations": [
         {
          "font": {
           "size": 16
          },
          "showarrow": false,
          "text": "Exponential Smoothing Residuals",
          "x": 0.225,
          "xanchor": "center",
          "xref": "paper",
          "y": 1.0000000000000002,
          "yanchor": "bottom",
          "yref": "paper"
         },
         {
          "font": {
           "size": 16
          },
          "showarrow": false,
          "text": "Periodogram",
          "x": 0.775,
          "xanchor": "center",
          "xref": "paper",
          "y": 1.0000000000000002,
          "yanchor": "bottom",
          "yref": "paper"
         },
         {
          "font": {
           "size": 16
          },
          "showarrow": false,
          "text": "Histogram",
          "x": 0.225,
          "xanchor": "center",
          "xref": "paper",
          "y": 0.6111111111111112,
          "yanchor": "bottom",
          "yref": "paper"
         },
         {
          "font": {
           "size": 16
          },
          "showarrow": false,
          "text": "Q-Q Plot",
          "x": 0.775,
          "xanchor": "center",
          "xref": "paper",
          "y": 0.6111111111111112,
          "yanchor": "bottom",
          "yref": "paper"
         },
         {
          "font": {
           "size": 16
          },
          "showarrow": false,
          "text": "ACF",
          "x": 0.225,
          "xanchor": "center",
          "xref": "paper",
          "y": 0.22222222222222227,
          "yanchor": "bottom",
          "yref": "paper"
         },
         {
          "font": {
           "size": 16
          },
          "showarrow": false,
          "text": "PACF",
          "x": 0.775,
          "xanchor": "center",
          "xref": "paper",
          "y": 0.22222222222222227,
          "yanchor": "bottom",
          "yref": "paper"
         }
        ],
        "showlegend": false,
        "template": {
         "data": {
          "bar": [
           {
            "error_x": {
             "color": "rgb(51,51,51)"
            },
            "error_y": {
             "color": "rgb(51,51,51)"
            },
            "marker": {
             "line": {
              "color": "rgb(237,237,237)",
              "width": 0.5
             },
             "pattern": {
              "fillmode": "overlay",
              "size": 10,
              "solidity": 0.2
             }
            },
            "type": "bar"
           }
          ],
          "barpolar": [
           {
            "marker": {
             "line": {
              "color": "rgb(237,237,237)",
              "width": 0.5
             },
             "pattern": {
              "fillmode": "overlay",
              "size": 10,
              "solidity": 0.2
             }
            },
            "type": "barpolar"
           }
          ],
          "carpet": [
           {
            "aaxis": {
             "endlinecolor": "rgb(51,51,51)",
             "gridcolor": "white",
             "linecolor": "white",
             "minorgridcolor": "white",
             "startlinecolor": "rgb(51,51,51)"
            },
            "baxis": {
             "endlinecolor": "rgb(51,51,51)",
             "gridcolor": "white",
             "linecolor": "white",
             "minorgridcolor": "white",
             "startlinecolor": "rgb(51,51,51)"
            },
            "type": "carpet"
           }
          ],
          "choropleth": [
           {
            "colorbar": {
             "outlinewidth": 0,
             "tickcolor": "rgb(237,237,237)",
             "ticklen": 6,
             "ticks": "inside"
            },
            "type": "choropleth"
           }
          ],
          "contour": [
           {
            "colorbar": {
             "outlinewidth": 0,
             "tickcolor": "rgb(237,237,237)",
             "ticklen": 6,
             "ticks": "inside"
            },
            "colorscale": [
             [
              0,
              "rgb(20,44,66)"
             ],
             [
              1,
              "rgb(90,179,244)"
             ]
            ],
            "type": "contour"
           }
          ],
          "contourcarpet": [
           {
            "colorbar": {
             "outlinewidth": 0,
             "tickcolor": "rgb(237,237,237)",
             "ticklen": 6,
             "ticks": "inside"
            },
            "type": "contourcarpet"
           }
          ],
          "heatmap": [
           {
            "colorbar": {
             "outlinewidth": 0,
             "tickcolor": "rgb(237,237,237)",
             "ticklen": 6,
             "ticks": "inside"
            },
            "colorscale": [
             [
              0,
              "rgb(20,44,66)"
             ],
             [
              1,
              "rgb(90,179,244)"
             ]
            ],
            "type": "heatmap"
           }
          ],
          "heatmapgl": [
           {
            "colorbar": {
             "outlinewidth": 0,
             "tickcolor": "rgb(237,237,237)",
             "ticklen": 6,
             "ticks": "inside"
            },
            "colorscale": [
             [
              0,
              "rgb(20,44,66)"
             ],
             [
              1,
              "rgb(90,179,244)"
             ]
            ],
            "type": "heatmapgl"
           }
          ],
          "histogram": [
           {
            "marker": {
             "pattern": {
              "fillmode": "overlay",
              "size": 10,
              "solidity": 0.2
             }
            },
            "type": "histogram"
           }
          ],
          "histogram2d": [
           {
            "colorbar": {
             "outlinewidth": 0,
             "tickcolor": "rgb(237,237,237)",
             "ticklen": 6,
             "ticks": "inside"
            },
            "colorscale": [
             [
              0,
              "rgb(20,44,66)"
             ],
             [
              1,
              "rgb(90,179,244)"
             ]
            ],
            "type": "histogram2d"
           }
          ],
          "histogram2dcontour": [
           {
            "colorbar": {
             "outlinewidth": 0,
             "tickcolor": "rgb(237,237,237)",
             "ticklen": 6,
             "ticks": "inside"
            },
            "colorscale": [
             [
              0,
              "rgb(20,44,66)"
             ],
             [
              1,
              "rgb(90,179,244)"
             ]
            ],
            "type": "histogram2dcontour"
           }
          ],
          "mesh3d": [
           {
            "colorbar": {
             "outlinewidth": 0,
             "tickcolor": "rgb(237,237,237)",
             "ticklen": 6,
             "ticks": "inside"
            },
            "type": "mesh3d"
           }
          ],
          "parcoords": [
           {
            "line": {
             "colorbar": {
              "outlinewidth": 0,
              "tickcolor": "rgb(237,237,237)",
              "ticklen": 6,
              "ticks": "inside"
             }
            },
            "type": "parcoords"
           }
          ],
          "pie": [
           {
            "automargin": true,
            "type": "pie"
           }
          ],
          "scatter": [
           {
            "fillpattern": {
             "fillmode": "overlay",
             "size": 10,
             "solidity": 0.2
            },
            "type": "scatter"
           }
          ],
          "scatter3d": [
           {
            "line": {
             "colorbar": {
              "outlinewidth": 0,
              "tickcolor": "rgb(237,237,237)",
              "ticklen": 6,
              "ticks": "inside"
             }
            },
            "marker": {
             "colorbar": {
              "outlinewidth": 0,
              "tickcolor": "rgb(237,237,237)",
              "ticklen": 6,
              "ticks": "inside"
             }
            },
            "type": "scatter3d"
           }
          ],
          "scattercarpet": [
           {
            "marker": {
             "colorbar": {
              "outlinewidth": 0,
              "tickcolor": "rgb(237,237,237)",
              "ticklen": 6,
              "ticks": "inside"
             }
            },
            "type": "scattercarpet"
           }
          ],
          "scattergeo": [
           {
            "marker": {
             "colorbar": {
              "outlinewidth": 0,
              "tickcolor": "rgb(237,237,237)",
              "ticklen": 6,
              "ticks": "inside"
             }
            },
            "type": "scattergeo"
           }
          ],
          "scattergl": [
           {
            "marker": {
             "colorbar": {
              "outlinewidth": 0,
              "tickcolor": "rgb(237,237,237)",
              "ticklen": 6,
              "ticks": "inside"
             }
            },
            "type": "scattergl"
           }
          ],
          "scattermapbox": [
           {
            "marker": {
             "colorbar": {
              "outlinewidth": 0,
              "tickcolor": "rgb(237,237,237)",
              "ticklen": 6,
              "ticks": "inside"
             }
            },
            "type": "scattermapbox"
           }
          ],
          "scatterpolar": [
           {
            "marker": {
             "colorbar": {
              "outlinewidth": 0,
              "tickcolor": "rgb(237,237,237)",
              "ticklen": 6,
              "ticks": "inside"
             }
            },
            "type": "scatterpolar"
           }
          ],
          "scatterpolargl": [
           {
            "marker": {
             "colorbar": {
              "outlinewidth": 0,
              "tickcolor": "rgb(237,237,237)",
              "ticklen": 6,
              "ticks": "inside"
             }
            },
            "type": "scatterpolargl"
           }
          ],
          "scatterternary": [
           {
            "marker": {
             "colorbar": {
              "outlinewidth": 0,
              "tickcolor": "rgb(237,237,237)",
              "ticklen": 6,
              "ticks": "inside"
             }
            },
            "type": "scatterternary"
           }
          ],
          "surface": [
           {
            "colorbar": {
             "outlinewidth": 0,
             "tickcolor": "rgb(237,237,237)",
             "ticklen": 6,
             "ticks": "inside"
            },
            "colorscale": [
             [
              0,
              "rgb(20,44,66)"
             ],
             [
              1,
              "rgb(90,179,244)"
             ]
            ],
            "type": "surface"
           }
          ],
          "table": [
           {
            "cells": {
             "fill": {
              "color": "rgb(237,237,237)"
             },
             "line": {
              "color": "white"
             }
            },
            "header": {
             "fill": {
              "color": "rgb(217,217,217)"
             },
             "line": {
              "color": "white"
             }
            },
            "type": "table"
           }
          ]
         },
         "layout": {
          "annotationdefaults": {
           "arrowhead": 0,
           "arrowwidth": 1
          },
          "autotypenumbers": "strict",
          "coloraxis": {
           "colorbar": {
            "outlinewidth": 0,
            "tickcolor": "rgb(237,237,237)",
            "ticklen": 6,
            "ticks": "inside"
           }
          },
          "colorscale": {
           "sequential": [
            [
             0,
             "rgb(20,44,66)"
            ],
            [
             1,
             "rgb(90,179,244)"
            ]
           ],
           "sequentialminus": [
            [
             0,
             "rgb(20,44,66)"
            ],
            [
             1,
             "rgb(90,179,244)"
            ]
           ]
          },
          "colorway": [
           "#F8766D",
           "#A3A500",
           "#00BF7D",
           "#00B0F6",
           "#E76BF3"
          ],
          "font": {
           "color": "rgb(51,51,51)"
          },
          "geo": {
           "bgcolor": "white",
           "lakecolor": "white",
           "landcolor": "rgb(237,237,237)",
           "showlakes": true,
           "showland": true,
           "subunitcolor": "white"
          },
          "hoverlabel": {
           "align": "left"
          },
          "hovermode": "closest",
          "paper_bgcolor": "white",
          "plot_bgcolor": "rgb(237,237,237)",
          "polar": {
           "angularaxis": {
            "gridcolor": "white",
            "linecolor": "white",
            "showgrid": true,
            "tickcolor": "rgb(51,51,51)",
            "ticks": "outside"
           },
           "bgcolor": "rgb(237,237,237)",
           "radialaxis": {
            "gridcolor": "white",
            "linecolor": "white",
            "showgrid": true,
            "tickcolor": "rgb(51,51,51)",
            "ticks": "outside"
           }
          },
          "scene": {
           "xaxis": {
            "backgroundcolor": "rgb(237,237,237)",
            "gridcolor": "white",
            "gridwidth": 2,
            "linecolor": "white",
            "showbackground": true,
            "showgrid": true,
            "tickcolor": "rgb(51,51,51)",
            "ticks": "outside",
            "zerolinecolor": "white"
           },
           "yaxis": {
            "backgroundcolor": "rgb(237,237,237)",
            "gridcolor": "white",
            "gridwidth": 2,
            "linecolor": "white",
            "showbackground": true,
            "showgrid": true,
            "tickcolor": "rgb(51,51,51)",
            "ticks": "outside",
            "zerolinecolor": "white"
           },
           "zaxis": {
            "backgroundcolor": "rgb(237,237,237)",
            "gridcolor": "white",
            "gridwidth": 2,
            "linecolor": "white",
            "showbackground": true,
            "showgrid": true,
            "tickcolor": "rgb(51,51,51)",
            "ticks": "outside",
            "zerolinecolor": "white"
           }
          },
          "shapedefaults": {
           "fillcolor": "black",
           "line": {
            "width": 0
           },
           "opacity": 0.3
          },
          "ternary": {
           "aaxis": {
            "gridcolor": "white",
            "linecolor": "white",
            "showgrid": true,
            "tickcolor": "rgb(51,51,51)",
            "ticks": "outside"
           },
           "baxis": {
            "gridcolor": "white",
            "linecolor": "white",
            "showgrid": true,
            "tickcolor": "rgb(51,51,51)",
            "ticks": "outside"
           },
           "bgcolor": "rgb(237,237,237)",
           "caxis": {
            "gridcolor": "white",
            "linecolor": "white",
            "showgrid": true,
            "tickcolor": "rgb(51,51,51)",
            "ticks": "outside"
           }
          },
          "xaxis": {
           "automargin": true,
           "gridcolor": "white",
           "linecolor": "white",
           "showgrid": true,
           "tickcolor": "rgb(51,51,51)",
           "ticks": "outside",
           "title": {
            "standoff": 15
           },
           "zerolinecolor": "white"
          },
          "yaxis": {
           "automargin": true,
           "gridcolor": "white",
           "linecolor": "white",
           "showgrid": true,
           "tickcolor": "rgb(51,51,51)",
           "ticks": "outside",
           "title": {
            "standoff": 15
           },
           "zerolinecolor": "white"
          }
         }
        },
        "title": {
         "text": "Diagnostics | Model Residuals"
        },
        "xaxis": {
         "anchor": "y",
         "domain": [
          0,
          0.45
         ]
        },
        "xaxis2": {
         "anchor": "y2",
         "domain": [
          0.55,
          1
         ],
         "range": [
          0,
          0.5
         ]
        },
        "xaxis3": {
         "anchor": "y3",
         "domain": [
          0,
          0.45
         ],
         "title": {
          "text": "Range of Values"
         }
        },
        "xaxis4": {
         "anchor": "y4",
         "domain": [
          0.55,
          1
         ],
         "title": {
          "text": "Theoretical Quantities"
         }
        },
        "xaxis5": {
         "anchor": "y5",
         "domain": [
          0,
          0.45
         ],
         "range": [
          -1,
          42
         ]
        },
        "xaxis6": {
         "anchor": "y6",
         "domain": [
          0.55,
          1
         ],
         "range": [
          -1,
          23
         ]
        },
        "yaxis": {
         "anchor": "x",
         "domain": [
          0.7777777777777779,
          1
         ]
        },
        "yaxis2": {
         "anchor": "x2",
         "domain": [
          0.7777777777777779,
          1
         ]
        },
        "yaxis3": {
         "anchor": "x3",
         "domain": [
          0.38888888888888895,
          0.6111111111111112
         ],
         "title": {
          "text": "PDF"
         }
        },
        "yaxis4": {
         "anchor": "x4",
         "domain": [
          0.38888888888888895,
          0.6111111111111112
         ],
         "title": {
          "text": "Sample Quantities"
         }
        },
        "yaxis5": {
         "anchor": "x5",
         "domain": [
          0,
          0.22222222222222227
         ],
         "range": [
          -1.1,
          1.1
         ],
         "zerolinecolor": "#000000"
        },
        "yaxis6": {
         "anchor": "x6",
         "domain": [
          0,
          0.22222222222222227
         ],
         "range": [
          -1.1,
          1.1
         ],
         "zerolinecolor": "#000000"
        }
       }
      }
     },
     "metadata": {},
     "output_type": "display_data"
    }
   ],
   "source": [
    "plot_model(best, plot = 'diagnostics')"
   ]
  },
  {
   "cell_type": "code",
   "execution_count": 17,
   "metadata": {},
   "outputs": [
    {
     "data": {
      "text/html": [
       "<style type=\"text/css\">\n",
       "#T_546e7_row11_col1 {\n",
       "  background-color: lightgreen;\n",
       "}\n",
       "</style>\n",
       "<table id=\"T_546e7\">\n",
       "  <thead>\n",
       "    <tr>\n",
       "      <th class=\"blank level0\" >&nbsp;</th>\n",
       "      <th id=\"T_546e7_level0_col0\" class=\"col_heading level0 col0\" >Description</th>\n",
       "      <th id=\"T_546e7_level0_col1\" class=\"col_heading level0 col1\" >Value</th>\n",
       "    </tr>\n",
       "  </thead>\n",
       "  <tbody>\n",
       "    <tr>\n",
       "      <th id=\"T_546e7_level0_row0\" class=\"row_heading level0 row0\" >0</th>\n",
       "      <td id=\"T_546e7_row0_col0\" class=\"data row0 col0\" >Session id</td>\n",
       "      <td id=\"T_546e7_row0_col1\" class=\"data row0 col1\" >7896</td>\n",
       "    </tr>\n",
       "    <tr>\n",
       "      <th id=\"T_546e7_level0_row1\" class=\"row_heading level0 row1\" >1</th>\n",
       "      <td id=\"T_546e7_row1_col0\" class=\"data row1 col0\" >Target</td>\n",
       "      <td id=\"T_546e7_row1_col1\" class=\"data row1 col1\" >Purchase</td>\n",
       "    </tr>\n",
       "    <tr>\n",
       "      <th id=\"T_546e7_level0_row2\" class=\"row_heading level0 row2\" >2</th>\n",
       "      <td id=\"T_546e7_row2_col0\" class=\"data row2 col0\" >Target type</td>\n",
       "      <td id=\"T_546e7_row2_col1\" class=\"data row2 col1\" >Binary</td>\n",
       "    </tr>\n",
       "    <tr>\n",
       "      <th id=\"T_546e7_level0_row3\" class=\"row_heading level0 row3\" >3</th>\n",
       "      <td id=\"T_546e7_row3_col0\" class=\"data row3 col0\" >Target mapping</td>\n",
       "      <td id=\"T_546e7_row3_col1\" class=\"data row3 col1\" >CH: 0, MM: 1</td>\n",
       "    </tr>\n",
       "    <tr>\n",
       "      <th id=\"T_546e7_level0_row4\" class=\"row_heading level0 row4\" >4</th>\n",
       "      <td id=\"T_546e7_row4_col0\" class=\"data row4 col0\" >Original data shape</td>\n",
       "      <td id=\"T_546e7_row4_col1\" class=\"data row4 col1\" >(1070, 19)</td>\n",
       "    </tr>\n",
       "    <tr>\n",
       "      <th id=\"T_546e7_level0_row5\" class=\"row_heading level0 row5\" >5</th>\n",
       "      <td id=\"T_546e7_row5_col0\" class=\"data row5 col0\" >Transformed data shape</td>\n",
       "      <td id=\"T_546e7_row5_col1\" class=\"data row5 col1\" >(1070, 19)</td>\n",
       "    </tr>\n",
       "    <tr>\n",
       "      <th id=\"T_546e7_level0_row6\" class=\"row_heading level0 row6\" >6</th>\n",
       "      <td id=\"T_546e7_row6_col0\" class=\"data row6 col0\" >Transformed train set shape</td>\n",
       "      <td id=\"T_546e7_row6_col1\" class=\"data row6 col1\" >(749, 19)</td>\n",
       "    </tr>\n",
       "    <tr>\n",
       "      <th id=\"T_546e7_level0_row7\" class=\"row_heading level0 row7\" >7</th>\n",
       "      <td id=\"T_546e7_row7_col0\" class=\"data row7 col0\" >Transformed test set shape</td>\n",
       "      <td id=\"T_546e7_row7_col1\" class=\"data row7 col1\" >(321, 19)</td>\n",
       "    </tr>\n",
       "    <tr>\n",
       "      <th id=\"T_546e7_level0_row8\" class=\"row_heading level0 row8\" >8</th>\n",
       "      <td id=\"T_546e7_row8_col0\" class=\"data row8 col0\" >Ordinal features</td>\n",
       "      <td id=\"T_546e7_row8_col1\" class=\"data row8 col1\" >1</td>\n",
       "    </tr>\n",
       "    <tr>\n",
       "      <th id=\"T_546e7_level0_row9\" class=\"row_heading level0 row9\" >9</th>\n",
       "      <td id=\"T_546e7_row9_col0\" class=\"data row9 col0\" >Numeric features</td>\n",
       "      <td id=\"T_546e7_row9_col1\" class=\"data row9 col1\" >17</td>\n",
       "    </tr>\n",
       "    <tr>\n",
       "      <th id=\"T_546e7_level0_row10\" class=\"row_heading level0 row10\" >10</th>\n",
       "      <td id=\"T_546e7_row10_col0\" class=\"data row10 col0\" >Categorical features</td>\n",
       "      <td id=\"T_546e7_row10_col1\" class=\"data row10 col1\" >1</td>\n",
       "    </tr>\n",
       "    <tr>\n",
       "      <th id=\"T_546e7_level0_row11\" class=\"row_heading level0 row11\" >11</th>\n",
       "      <td id=\"T_546e7_row11_col0\" class=\"data row11 col0\" >Preprocess</td>\n",
       "      <td id=\"T_546e7_row11_col1\" class=\"data row11 col1\" >True</td>\n",
       "    </tr>\n",
       "    <tr>\n",
       "      <th id=\"T_546e7_level0_row12\" class=\"row_heading level0 row12\" >12</th>\n",
       "      <td id=\"T_546e7_row12_col0\" class=\"data row12 col0\" >Imputation type</td>\n",
       "      <td id=\"T_546e7_row12_col1\" class=\"data row12 col1\" >simple</td>\n",
       "    </tr>\n",
       "    <tr>\n",
       "      <th id=\"T_546e7_level0_row13\" class=\"row_heading level0 row13\" >13</th>\n",
       "      <td id=\"T_546e7_row13_col0\" class=\"data row13 col0\" >Numeric imputation</td>\n",
       "      <td id=\"T_546e7_row13_col1\" class=\"data row13 col1\" >mean</td>\n",
       "    </tr>\n",
       "    <tr>\n",
       "      <th id=\"T_546e7_level0_row14\" class=\"row_heading level0 row14\" >14</th>\n",
       "      <td id=\"T_546e7_row14_col0\" class=\"data row14 col0\" >Categorical imputation</td>\n",
       "      <td id=\"T_546e7_row14_col1\" class=\"data row14 col1\" >mode</td>\n",
       "    </tr>\n",
       "    <tr>\n",
       "      <th id=\"T_546e7_level0_row15\" class=\"row_heading level0 row15\" >15</th>\n",
       "      <td id=\"T_546e7_row15_col0\" class=\"data row15 col0\" >Maximum one-hot encoding</td>\n",
       "      <td id=\"T_546e7_row15_col1\" class=\"data row15 col1\" >25</td>\n",
       "    </tr>\n",
       "    <tr>\n",
       "      <th id=\"T_546e7_level0_row16\" class=\"row_heading level0 row16\" >16</th>\n",
       "      <td id=\"T_546e7_row16_col0\" class=\"data row16 col0\" >Encoding method</td>\n",
       "      <td id=\"T_546e7_row16_col1\" class=\"data row16 col1\" >None</td>\n",
       "    </tr>\n",
       "    <tr>\n",
       "      <th id=\"T_546e7_level0_row17\" class=\"row_heading level0 row17\" >17</th>\n",
       "      <td id=\"T_546e7_row17_col0\" class=\"data row17 col0\" >Fold Generator</td>\n",
       "      <td id=\"T_546e7_row17_col1\" class=\"data row17 col1\" >StratifiedKFold</td>\n",
       "    </tr>\n",
       "    <tr>\n",
       "      <th id=\"T_546e7_level0_row18\" class=\"row_heading level0 row18\" >18</th>\n",
       "      <td id=\"T_546e7_row18_col0\" class=\"data row18 col0\" >Fold Number</td>\n",
       "      <td id=\"T_546e7_row18_col1\" class=\"data row18 col1\" >10</td>\n",
       "    </tr>\n",
       "    <tr>\n",
       "      <th id=\"T_546e7_level0_row19\" class=\"row_heading level0 row19\" >19</th>\n",
       "      <td id=\"T_546e7_row19_col0\" class=\"data row19 col0\" >CPU Jobs</td>\n",
       "      <td id=\"T_546e7_row19_col1\" class=\"data row19 col1\" >-1</td>\n",
       "    </tr>\n",
       "    <tr>\n",
       "      <th id=\"T_546e7_level0_row20\" class=\"row_heading level0 row20\" >20</th>\n",
       "      <td id=\"T_546e7_row20_col0\" class=\"data row20 col0\" >Use GPU</td>\n",
       "      <td id=\"T_546e7_row20_col1\" class=\"data row20 col1\" >False</td>\n",
       "    </tr>\n",
       "    <tr>\n",
       "      <th id=\"T_546e7_level0_row21\" class=\"row_heading level0 row21\" >21</th>\n",
       "      <td id=\"T_546e7_row21_col0\" class=\"data row21 col0\" >Log Experiment</td>\n",
       "      <td id=\"T_546e7_row21_col1\" class=\"data row21 col1\" >False</td>\n",
       "    </tr>\n",
       "    <tr>\n",
       "      <th id=\"T_546e7_level0_row22\" class=\"row_heading level0 row22\" >22</th>\n",
       "      <td id=\"T_546e7_row22_col0\" class=\"data row22 col0\" >Experiment Name</td>\n",
       "      <td id=\"T_546e7_row22_col1\" class=\"data row22 col1\" >clf-default-name</td>\n",
       "    </tr>\n",
       "    <tr>\n",
       "      <th id=\"T_546e7_level0_row23\" class=\"row_heading level0 row23\" >23</th>\n",
       "      <td id=\"T_546e7_row23_col0\" class=\"data row23 col0\" >USI</td>\n",
       "      <td id=\"T_546e7_row23_col1\" class=\"data row23 col1\" >5950</td>\n",
       "    </tr>\n",
       "  </tbody>\n",
       "</table>\n"
      ],
      "text/plain": [
       "<pandas.io.formats.style.Styler at 0x1ef2c69e550>"
      ]
     },
     "metadata": {},
     "output_type": "display_data"
    },
    {
     "data": {
      "text/html": [
       "<div>\n",
       "<style scoped>\n",
       "    .dataframe tbody tr th:only-of-type {\n",
       "        vertical-align: middle;\n",
       "    }\n",
       "\n",
       "    .dataframe tbody tr th {\n",
       "        vertical-align: top;\n",
       "    }\n",
       "\n",
       "    .dataframe thead th {\n",
       "        text-align: right;\n",
       "    }\n",
       "</style>\n",
       "<table border=\"1\" class=\"dataframe\">\n",
       "  <thead>\n",
       "    <tr style=\"text-align: right;\">\n",
       "      <th></th>\n",
       "      <th></th>\n",
       "      <th></th>\n",
       "    </tr>\n",
       "    <tr>\n",
       "      <th></th>\n",
       "      <th></th>\n",
       "      <th></th>\n",
       "    </tr>\n",
       "  </thead>\n",
       "  <tbody>\n",
       "    <tr>\n",
       "      <th>Initiated</th>\n",
       "      <td>. . . . . . . . . . . . . . . . . .</td>\n",
       "      <td>11:50:57</td>\n",
       "    </tr>\n",
       "    <tr>\n",
       "      <th>Status</th>\n",
       "      <td>. . . . . . . . . . . . . . . . . .</td>\n",
       "      <td>Fitting 10 Folds</td>\n",
       "    </tr>\n",
       "    <tr>\n",
       "      <th>Estimator</th>\n",
       "      <td>. . . . . . . . . . . . . . . . . .</td>\n",
       "      <td>Logistic Regression</td>\n",
       "    </tr>\n",
       "  </tbody>\n",
       "</table>\n",
       "</div>"
      ],
      "text/plain": [
       "                                                                   \n",
       "                                                                   \n",
       "Initiated  . . . . . . . . . . . . . . . . . .             11:50:57\n",
       "Status     . . . . . . . . . . . . . . . . . .     Fitting 10 Folds\n",
       "Estimator  . . . . . . . . . . . . . . . . . .  Logistic Regression"
      ]
     },
     "metadata": {},
     "output_type": "display_data"
    },
    {
     "data": {
      "text/html": [
       "<style type=\"text/css\">\n",
       "#T_99723_row10_col0, #T_99723_row10_col1, #T_99723_row10_col2, #T_99723_row10_col3, #T_99723_row10_col4, #T_99723_row10_col5, #T_99723_row10_col6 {\n",
       "  background: yellow;\n",
       "}\n",
       "</style>\n",
       "<table id=\"T_99723\">\n",
       "  <thead>\n",
       "    <tr>\n",
       "      <th class=\"blank level0\" >&nbsp;</th>\n",
       "      <th id=\"T_99723_level0_col0\" class=\"col_heading level0 col0\" >Accuracy</th>\n",
       "      <th id=\"T_99723_level0_col1\" class=\"col_heading level0 col1\" >AUC</th>\n",
       "      <th id=\"T_99723_level0_col2\" class=\"col_heading level0 col2\" >Recall</th>\n",
       "      <th id=\"T_99723_level0_col3\" class=\"col_heading level0 col3\" >Prec.</th>\n",
       "      <th id=\"T_99723_level0_col4\" class=\"col_heading level0 col4\" >F1</th>\n",
       "      <th id=\"T_99723_level0_col5\" class=\"col_heading level0 col5\" >Kappa</th>\n",
       "      <th id=\"T_99723_level0_col6\" class=\"col_heading level0 col6\" >MCC</th>\n",
       "    </tr>\n",
       "    <tr>\n",
       "      <th class=\"index_name level0\" >Fold</th>\n",
       "      <th class=\"blank col0\" >&nbsp;</th>\n",
       "      <th class=\"blank col1\" >&nbsp;</th>\n",
       "      <th class=\"blank col2\" >&nbsp;</th>\n",
       "      <th class=\"blank col3\" >&nbsp;</th>\n",
       "      <th class=\"blank col4\" >&nbsp;</th>\n",
       "      <th class=\"blank col5\" >&nbsp;</th>\n",
       "      <th class=\"blank col6\" >&nbsp;</th>\n",
       "    </tr>\n",
       "  </thead>\n",
       "  <tbody>\n",
       "    <tr>\n",
       "      <th id=\"T_99723_level0_row0\" class=\"row_heading level0 row0\" >0</th>\n",
       "      <td id=\"T_99723_row0_col0\" class=\"data row0 col0\" >0.8133</td>\n",
       "      <td id=\"T_99723_row0_col1\" class=\"data row0 col1\" >0.8978</td>\n",
       "      <td id=\"T_99723_row0_col2\" class=\"data row0 col2\" >0.7333</td>\n",
       "      <td id=\"T_99723_row0_col3\" class=\"data row0 col3\" >0.7857</td>\n",
       "      <td id=\"T_99723_row0_col4\" class=\"data row0 col4\" >0.7586</td>\n",
       "      <td id=\"T_99723_row0_col5\" class=\"data row0 col5\" >0.6067</td>\n",
       "      <td id=\"T_99723_row0_col6\" class=\"data row0 col6\" >0.6077</td>\n",
       "    </tr>\n",
       "    <tr>\n",
       "      <th id=\"T_99723_level0_row1\" class=\"row_heading level0 row1\" >1</th>\n",
       "      <td id=\"T_99723_row1_col0\" class=\"data row1 col0\" >0.8800</td>\n",
       "      <td id=\"T_99723_row1_col1\" class=\"data row1 col1\" >0.9333</td>\n",
       "      <td id=\"T_99723_row1_col2\" class=\"data row1 col2\" >0.7333</td>\n",
       "      <td id=\"T_99723_row1_col3\" class=\"data row1 col3\" >0.9565</td>\n",
       "      <td id=\"T_99723_row1_col4\" class=\"data row1 col4\" >0.8302</td>\n",
       "      <td id=\"T_99723_row1_col5\" class=\"data row1 col5\" >0.7399</td>\n",
       "      <td id=\"T_99723_row1_col6\" class=\"data row1 col6\" >0.7555</td>\n",
       "    </tr>\n",
       "    <tr>\n",
       "      <th id=\"T_99723_level0_row2\" class=\"row_heading level0 row2\" >2</th>\n",
       "      <td id=\"T_99723_row2_col0\" class=\"data row2 col0\" >0.8533</td>\n",
       "      <td id=\"T_99723_row2_col1\" class=\"data row2 col1\" >0.9183</td>\n",
       "      <td id=\"T_99723_row2_col2\" class=\"data row2 col2\" >0.7931</td>\n",
       "      <td id=\"T_99723_row2_col3\" class=\"data row2 col3\" >0.8214</td>\n",
       "      <td id=\"T_99723_row2_col4\" class=\"data row2 col4\" >0.8070</td>\n",
       "      <td id=\"T_99723_row2_col5\" class=\"data row2 col5\" >0.6888</td>\n",
       "      <td id=\"T_99723_row2_col6\" class=\"data row2 col6\" >0.6891</td>\n",
       "    </tr>\n",
       "    <tr>\n",
       "      <th id=\"T_99723_level0_row3\" class=\"row_heading level0 row3\" >3</th>\n",
       "      <td id=\"T_99723_row3_col0\" class=\"data row3 col0\" >0.9067</td>\n",
       "      <td id=\"T_99723_row3_col1\" class=\"data row3 col1\" >0.9138</td>\n",
       "      <td id=\"T_99723_row3_col2\" class=\"data row3 col2\" >0.8621</td>\n",
       "      <td id=\"T_99723_row3_col3\" class=\"data row3 col3\" >0.8929</td>\n",
       "      <td id=\"T_99723_row3_col4\" class=\"data row3 col4\" >0.8772</td>\n",
       "      <td id=\"T_99723_row3_col5\" class=\"data row3 col5\" >0.8020</td>\n",
       "      <td id=\"T_99723_row3_col6\" class=\"data row3 col6\" >0.8023</td>\n",
       "    </tr>\n",
       "    <tr>\n",
       "      <th id=\"T_99723_level0_row4\" class=\"row_heading level0 row4\" >4</th>\n",
       "      <td id=\"T_99723_row4_col0\" class=\"data row4 col0\" >0.8133</td>\n",
       "      <td id=\"T_99723_row4_col1\" class=\"data row4 col1\" >0.9070</td>\n",
       "      <td id=\"T_99723_row4_col2\" class=\"data row4 col2\" >0.7586</td>\n",
       "      <td id=\"T_99723_row4_col3\" class=\"data row4 col3\" >0.7586</td>\n",
       "      <td id=\"T_99723_row4_col4\" class=\"data row4 col4\" >0.7586</td>\n",
       "      <td id=\"T_99723_row4_col5\" class=\"data row4 col5\" >0.6064</td>\n",
       "      <td id=\"T_99723_row4_col6\" class=\"data row4 col6\" >0.6064</td>\n",
       "    </tr>\n",
       "    <tr>\n",
       "      <th id=\"T_99723_level0_row5\" class=\"row_heading level0 row5\" >5</th>\n",
       "      <td id=\"T_99723_row5_col0\" class=\"data row5 col0\" >0.8533</td>\n",
       "      <td id=\"T_99723_row5_col1\" class=\"data row5 col1\" >0.9130</td>\n",
       "      <td id=\"T_99723_row5_col2\" class=\"data row5 col2\" >0.7931</td>\n",
       "      <td id=\"T_99723_row5_col3\" class=\"data row5 col3\" >0.8214</td>\n",
       "      <td id=\"T_99723_row5_col4\" class=\"data row5 col4\" >0.8070</td>\n",
       "      <td id=\"T_99723_row5_col5\" class=\"data row5 col5\" >0.6888</td>\n",
       "      <td id=\"T_99723_row5_col6\" class=\"data row5 col6\" >0.6891</td>\n",
       "    </tr>\n",
       "    <tr>\n",
       "      <th id=\"T_99723_level0_row6\" class=\"row_heading level0 row6\" >6</th>\n",
       "      <td id=\"T_99723_row6_col0\" class=\"data row6 col0\" >0.8933</td>\n",
       "      <td id=\"T_99723_row6_col1\" class=\"data row6 col1\" >0.9258</td>\n",
       "      <td id=\"T_99723_row6_col2\" class=\"data row6 col2\" >0.8276</td>\n",
       "      <td id=\"T_99723_row6_col3\" class=\"data row6 col3\" >0.8889</td>\n",
       "      <td id=\"T_99723_row6_col4\" class=\"data row6 col4\" >0.8571</td>\n",
       "      <td id=\"T_99723_row6_col5\" class=\"data row6 col5\" >0.7722</td>\n",
       "      <td id=\"T_99723_row6_col6\" class=\"data row6 col6\" >0.7735</td>\n",
       "    </tr>\n",
       "    <tr>\n",
       "      <th id=\"T_99723_level0_row7\" class=\"row_heading level0 row7\" >7</th>\n",
       "      <td id=\"T_99723_row7_col0\" class=\"data row7 col0\" >0.9067</td>\n",
       "      <td id=\"T_99723_row7_col1\" class=\"data row7 col1\" >0.9430</td>\n",
       "      <td id=\"T_99723_row7_col2\" class=\"data row7 col2\" >0.8621</td>\n",
       "      <td id=\"T_99723_row7_col3\" class=\"data row7 col3\" >0.8929</td>\n",
       "      <td id=\"T_99723_row7_col4\" class=\"data row7 col4\" >0.8772</td>\n",
       "      <td id=\"T_99723_row7_col5\" class=\"data row7 col5\" >0.8020</td>\n",
       "      <td id=\"T_99723_row7_col6\" class=\"data row7 col6\" >0.8023</td>\n",
       "    </tr>\n",
       "    <tr>\n",
       "      <th id=\"T_99723_level0_row8\" class=\"row_heading level0 row8\" >8</th>\n",
       "      <td id=\"T_99723_row8_col0\" class=\"data row8 col0\" >0.7333</td>\n",
       "      <td id=\"T_99723_row8_col1\" class=\"data row8 col1\" >0.8643</td>\n",
       "      <td id=\"T_99723_row8_col2\" class=\"data row8 col2\" >0.6552</td>\n",
       "      <td id=\"T_99723_row8_col3\" class=\"data row8 col3\" >0.6552</td>\n",
       "      <td id=\"T_99723_row8_col4\" class=\"data row8 col4\" >0.6552</td>\n",
       "      <td id=\"T_99723_row8_col5\" class=\"data row8 col5\" >0.4378</td>\n",
       "      <td id=\"T_99723_row8_col6\" class=\"data row8 col6\" >0.4378</td>\n",
       "    </tr>\n",
       "    <tr>\n",
       "      <th id=\"T_99723_level0_row9\" class=\"row_heading level0 row9\" >9</th>\n",
       "      <td id=\"T_99723_row9_col0\" class=\"data row9 col0\" >0.8108</td>\n",
       "      <td id=\"T_99723_row9_col1\" class=\"data row9 col1\" >0.8360</td>\n",
       "      <td id=\"T_99723_row9_col2\" class=\"data row9 col2\" >0.6897</td>\n",
       "      <td id=\"T_99723_row9_col3\" class=\"data row9 col3\" >0.8000</td>\n",
       "      <td id=\"T_99723_row9_col4\" class=\"data row9 col4\" >0.7407</td>\n",
       "      <td id=\"T_99723_row9_col5\" class=\"data row9 col5\" >0.5931</td>\n",
       "      <td id=\"T_99723_row9_col6\" class=\"data row9 col6\" >0.5971</td>\n",
       "    </tr>\n",
       "    <tr>\n",
       "      <th id=\"T_99723_level0_row10\" class=\"row_heading level0 row10\" >Mean</th>\n",
       "      <td id=\"T_99723_row10_col0\" class=\"data row10 col0\" >0.8464</td>\n",
       "      <td id=\"T_99723_row10_col1\" class=\"data row10 col1\" >0.9052</td>\n",
       "      <td id=\"T_99723_row10_col2\" class=\"data row10 col2\" >0.7708</td>\n",
       "      <td id=\"T_99723_row10_col3\" class=\"data row10 col3\" >0.8273</td>\n",
       "      <td id=\"T_99723_row10_col4\" class=\"data row10 col4\" >0.7969</td>\n",
       "      <td id=\"T_99723_row10_col5\" class=\"data row10 col5\" >0.6738</td>\n",
       "      <td id=\"T_99723_row10_col6\" class=\"data row10 col6\" >0.6761</td>\n",
       "    </tr>\n",
       "    <tr>\n",
       "      <th id=\"T_99723_level0_row11\" class=\"row_heading level0 row11\" >Std</th>\n",
       "      <td id=\"T_99723_row11_col0\" class=\"data row11 col0\" >0.0519</td>\n",
       "      <td id=\"T_99723_row11_col1\" class=\"data row11 col1\" >0.0308</td>\n",
       "      <td id=\"T_99723_row11_col2\" class=\"data row11 col2\" >0.0662</td>\n",
       "      <td id=\"T_99723_row11_col3\" class=\"data row11 col3\" >0.0812</td>\n",
       "      <td id=\"T_99723_row11_col4\" class=\"data row11 col4\" >0.0663</td>\n",
       "      <td id=\"T_99723_row11_col5\" class=\"data row11 col5\" >0.1089</td>\n",
       "      <td id=\"T_99723_row11_col6\" class=\"data row11 col6\" >0.1098</td>\n",
       "    </tr>\n",
       "  </tbody>\n",
       "</table>\n"
      ],
      "text/plain": [
       "<pandas.io.formats.style.Styler at 0x1ef23b0d730>"
      ]
     },
     "metadata": {},
     "output_type": "display_data"
    },
    {
     "data": {
      "application/vnd.jupyter.widget-view+json": {
       "model_id": "4d733179d91548bdb92874d460a4a595",
       "version_major": 2,
       "version_minor": 0
      },
      "text/plain": [
       "Processing:   0%|          | 0/4 [00:00<?, ?it/s]"
      ]
     },
     "metadata": {},
     "output_type": "display_data"
    },
    {
     "name": "stdout",
     "output_type": "stream",
     "text": [
      "Running on local URL:  http://127.0.0.1:7860\n",
      "\n",
      "To create a public link, set `share=True` in `launch()`.\n"
     ]
    },
    {
     "data": {
      "text/html": [
       "<div><iframe src=\"http://127.0.0.1:7860/\" width=\"100%\" height=\"500\" allow=\"autoplay; camera; microphone; clipboard-read; clipboard-write;\" frameborder=\"0\" allowfullscreen></iframe></div>"
      ],
      "text/plain": [
       "<IPython.core.display.HTML object>"
      ]
     },
     "metadata": {},
     "output_type": "display_data"
    },
    {
     "data": {
      "text/plain": []
     },
     "execution_count": 17,
     "metadata": {},
     "output_type": "execute_result"
    },
    {
     "data": {
      "text/html": [],
      "text/plain": [
       "<IPython.core.display.HTML object>"
      ]
     },
     "metadata": {},
     "output_type": "display_data"
    },
    {
     "name": "stderr",
     "output_type": "stream",
     "text": [
      "Traceback (most recent call last):\n",
      "  File \"c:\\Users\\feldm\\Documents\\GitHub\\portfolio_forecasting\\myenv\\lib\\site-packages\\gradio\\routes.py\", line 393, in run_predict\n",
      "    output = await app.get_blocks().process_api(\n",
      "  File \"c:\\Users\\feldm\\Documents\\GitHub\\portfolio_forecasting\\myenv\\lib\\site-packages\\gradio\\blocks.py\", line 1059, in process_api\n",
      "    result = await self.call_function(\n",
      "  File \"c:\\Users\\feldm\\Documents\\GitHub\\portfolio_forecasting\\myenv\\lib\\site-packages\\gradio\\blocks.py\", line 868, in call_function\n",
      "    prediction = await anyio.to_thread.run_sync(\n",
      "  File \"c:\\Users\\feldm\\Documents\\GitHub\\portfolio_forecasting\\myenv\\lib\\site-packages\\anyio\\to_thread.py\", line 31, in run_sync\n",
      "    return await get_asynclib().run_sync_in_worker_thread(\n",
      "  File \"c:\\Users\\feldm\\Documents\\GitHub\\portfolio_forecasting\\myenv\\lib\\site-packages\\anyio\\_backends\\_asyncio.py\", line 937, in run_sync_in_worker_thread\n",
      "    return await future\n",
      "  File \"c:\\Users\\feldm\\Documents\\GitHub\\portfolio_forecasting\\myenv\\lib\\site-packages\\anyio\\_backends\\_asyncio.py\", line 867, in run\n",
      "    result = context.run(func, *args)\n",
      "  File \"c:\\Users\\feldm\\Documents\\GitHub\\portfolio_forecasting\\myenv\\lib\\site-packages\\pycaret\\internal\\pycaret_experiment\\supervised_experiment.py\", line 5414, in predict\n",
      "    self.predict_model(\n",
      "  File \"c:\\Users\\feldm\\Documents\\GitHub\\portfolio_forecasting\\myenv\\lib\\site-packages\\pycaret\\classification\\oop.py\", line 2836, in predict_model\n",
      "    return super().predict_model(\n",
      "  File \"c:\\Users\\feldm\\Documents\\GitHub\\portfolio_forecasting\\myenv\\lib\\site-packages\\pycaret\\internal\\pycaret_experiment\\supervised_experiment.py\", line 4932, in predict_model\n",
      "    X_test_ = pipeline.transform(\n",
      "  File \"c:\\Users\\feldm\\Documents\\GitHub\\portfolio_forecasting\\myenv\\lib\\site-packages\\pycaret\\internal\\pipeline.py\", line 263, in transform\n",
      "    X, y = self._memory_full_transform(\n",
      "  File \"c:\\Users\\feldm\\Documents\\GitHub\\portfolio_forecasting\\myenv\\lib\\site-packages\\joblib\\memory.py\", line 594, in __call__\n",
      "    return self._cached_call(args, kwargs)[0]\n",
      "  File \"c:\\Users\\feldm\\Documents\\GitHub\\portfolio_forecasting\\myenv\\lib\\site-packages\\pycaret\\internal\\memory.py\", line 369, in _cached_call\n",
      "    out, metadata = self.call(*args, **kwargs)\n",
      "  File \"c:\\Users\\feldm\\Documents\\GitHub\\portfolio_forecasting\\myenv\\lib\\site-packages\\pycaret\\internal\\memory.py\", line 280, in call\n",
      "    output = self.func(*args, **kwargs)\n",
      "  File \"c:\\Users\\feldm\\Documents\\GitHub\\portfolio_forecasting\\myenv\\lib\\site-packages\\pycaret\\internal\\pipeline.py\", line 108, in _full_transform\n",
      "    X, y = pipeline._memory_transform(transformer, X, y)\n",
      "  File \"c:\\Users\\feldm\\Documents\\GitHub\\portfolio_forecasting\\myenv\\lib\\site-packages\\joblib\\memory.py\", line 594, in __call__\n",
      "    return self._cached_call(args, kwargs)[0]\n",
      "  File \"c:\\Users\\feldm\\Documents\\GitHub\\portfolio_forecasting\\myenv\\lib\\site-packages\\pycaret\\internal\\memory.py\", line 369, in _cached_call\n",
      "    out, metadata = self.call(*args, **kwargs)\n",
      "  File \"c:\\Users\\feldm\\Documents\\GitHub\\portfolio_forecasting\\myenv\\lib\\site-packages\\pycaret\\internal\\memory.py\", line 280, in call\n",
      "    output = self.func(*args, **kwargs)\n",
      "  File \"c:\\Users\\feldm\\Documents\\GitHub\\portfolio_forecasting\\myenv\\lib\\site-packages\\pycaret\\internal\\pipeline.py\", line 77, in _transform_one\n",
      "    output = transformer.transform(*args)\n",
      "  File \"c:\\Users\\feldm\\Documents\\GitHub\\portfolio_forecasting\\myenv\\lib\\site-packages\\sklearn\\utils\\_set_output.py\", line 140, in wrapped\n",
      "    data_to_wrap = f(self, X, *args, **kwargs)\n",
      "  File \"c:\\Users\\feldm\\Documents\\GitHub\\portfolio_forecasting\\myenv\\lib\\site-packages\\pycaret\\internal\\preprocess\\transformers.py\", line 242, in transform\n",
      "    output = self.transformer.transform(*args)\n",
      "  File \"c:\\Users\\feldm\\Documents\\GitHub\\portfolio_forecasting\\myenv\\lib\\site-packages\\sklearn\\utils\\_set_output.py\", line 140, in wrapped\n",
      "    data_to_wrap = f(self, X, *args, **kwargs)\n",
      "  File \"c:\\Users\\feldm\\Documents\\GitHub\\portfolio_forecasting\\myenv\\lib\\site-packages\\sklearn\\impute\\_base.py\", line 551, in transform\n",
      "    X = self._validate_input(X, in_fit=False)\n",
      "  File \"c:\\Users\\feldm\\Documents\\GitHub\\portfolio_forecasting\\myenv\\lib\\site-packages\\sklearn\\impute\\_base.py\", line 342, in _validate_input\n",
      "    raise new_ve from None\n",
      "ValueError: Cannot use mean strategy with non-numeric data:\n",
      "could not convert string to float: ''\n"
     ]
    }
   ],
   "source": [
    "# load dataset\n",
    "from pycaret.datasets import get_data\n",
    "import gradio\n",
    "juice = get_data('juice')\n",
    "\n",
    "# init setup\n",
    "from pycaret.classification import *\n",
    "exp_name = setup(data = juice,  target = 'Purchase')\n",
    "\n",
    "# train a model\n",
    "lr = create_model('lr')\n",
    "\n",
    "# create app\n",
    "create_app(lr)"
   ]
  }
 ],
 "metadata": {
  "kernelspec": {
   "display_name": "myenv",
   "language": "python",
   "name": "python3"
  },
  "language_info": {
   "codemirror_mode": {
    "name": "ipython",
    "version": 3
   },
   "file_extension": ".py",
   "mimetype": "text/x-python",
   "name": "python",
   "nbconvert_exporter": "python",
   "pygments_lexer": "ipython3",
   "version": "3.9.0"
  },
  "orig_nbformat": 4
 },
 "nbformat": 4,
 "nbformat_minor": 2
}
