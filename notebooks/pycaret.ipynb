{
 "cells": [
  {
   "cell_type": "code",
   "execution_count": 3,
   "metadata": {},
   "outputs": [],
   "source": [
    "from pycaret.datasets import get_data\n",
    "data = get_data('diabetes')\n"
   ]
  },
  {
   "cell_type": "code",
   "execution_count": 9,
   "metadata": {},
   "outputs": [],
   "source": [
    "from pycaret.classification import *\n",
    "s = setup(data, target = 'Class variable')"
   ]
  },
  {
   "cell_type": "code",
   "execution_count": 10,
   "metadata": {},
   "outputs": [
    {
     "data": {
      "text/html": [
       "<div>\n",
       "<style scoped>\n",
       "    .dataframe tbody tr th:only-of-type {\n",
       "        vertical-align: middle;\n",
       "    }\n",
       "\n",
       "    .dataframe tbody tr th {\n",
       "        vertical-align: top;\n",
       "    }\n",
       "\n",
       "    .dataframe thead th {\n",
       "        text-align: right;\n",
       "    }\n",
       "</style>\n",
       "<table border=\"1\" class=\"dataframe\">\n",
       "  <thead>\n",
       "    <tr style=\"text-align: right;\">\n",
       "      <th></th>\n",
       "      <th></th>\n",
       "      <th></th>\n",
       "    </tr>\n",
       "    <tr>\n",
       "      <th></th>\n",
       "      <th></th>\n",
       "      <th></th>\n",
       "    </tr>\n",
       "  </thead>\n",
       "  <tbody>\n",
       "    <tr>\n",
       "      <th>Initiated</th>\n",
       "      <td>. . . . . . . . . . . . . . . . . .</td>\n",
       "      <td>10:07:59</td>\n",
       "    </tr>\n",
       "    <tr>\n",
       "      <th>Status</th>\n",
       "      <td>. . . . . . . . . . . . . . . . . .</td>\n",
       "      <td>Loading Estimator</td>\n",
       "    </tr>\n",
       "    <tr>\n",
       "      <th>Estimator</th>\n",
       "      <td>. . . . . . . . . . . . . . . . . .</td>\n",
       "      <td>Logistic Regression</td>\n",
       "    </tr>\n",
       "  </tbody>\n",
       "</table>\n",
       "</div>"
      ],
      "text/plain": [
       "                                                                   \n",
       "                                                                   \n",
       "Initiated  . . . . . . . . . . . . . . . . . .             10:07:59\n",
       "Status     . . . . . . . . . . . . . . . . . .    Loading Estimator\n",
       "Estimator  . . . . . . . . . . . . . . . . . .  Logistic Regression"
      ]
     },
     "metadata": {},
     "output_type": "display_data"
    },
    {
     "data": {
      "text/html": [
       "<style type=\"text/css\">\n",
       "#T_a3636 th {\n",
       "  text-align: left;\n",
       "}\n",
       "#T_a3636_row0_col0, #T_a3636_row0_col2, #T_a3636_row0_col3, #T_a3636_row0_col5, #T_a3636_row1_col0, #T_a3636_row1_col1, #T_a3636_row1_col2, #T_a3636_row1_col3, #T_a3636_row1_col4, #T_a3636_row1_col5, #T_a3636_row1_col6, #T_a3636_row1_col7, #T_a3636_row2_col0, #T_a3636_row2_col1, #T_a3636_row2_col2, #T_a3636_row2_col3, #T_a3636_row2_col4, #T_a3636_row2_col5, #T_a3636_row2_col6, #T_a3636_row2_col7, #T_a3636_row3_col0, #T_a3636_row3_col1, #T_a3636_row3_col4, #T_a3636_row3_col6, #T_a3636_row3_col7, #T_a3636_row4_col0, #T_a3636_row4_col1, #T_a3636_row4_col2, #T_a3636_row4_col3, #T_a3636_row4_col4, #T_a3636_row4_col5, #T_a3636_row4_col6, #T_a3636_row4_col7, #T_a3636_row5_col0, #T_a3636_row5_col1, #T_a3636_row5_col2, #T_a3636_row5_col3, #T_a3636_row5_col4, #T_a3636_row5_col5, #T_a3636_row5_col6, #T_a3636_row5_col7, #T_a3636_row6_col0, #T_a3636_row6_col1, #T_a3636_row6_col2, #T_a3636_row6_col3, #T_a3636_row6_col4, #T_a3636_row6_col5, #T_a3636_row6_col6, #T_a3636_row6_col7, #T_a3636_row7_col0, #T_a3636_row7_col1, #T_a3636_row7_col2, #T_a3636_row7_col3, #T_a3636_row7_col4, #T_a3636_row7_col5, #T_a3636_row7_col6, #T_a3636_row7_col7, #T_a3636_row8_col0, #T_a3636_row8_col1, #T_a3636_row8_col2, #T_a3636_row8_col3, #T_a3636_row8_col4, #T_a3636_row8_col5, #T_a3636_row8_col6, #T_a3636_row8_col7, #T_a3636_row9_col0, #T_a3636_row9_col1, #T_a3636_row9_col2, #T_a3636_row9_col3, #T_a3636_row9_col4, #T_a3636_row9_col5, #T_a3636_row9_col6, #T_a3636_row9_col7, #T_a3636_row10_col0, #T_a3636_row10_col1, #T_a3636_row10_col2, #T_a3636_row10_col3, #T_a3636_row10_col4, #T_a3636_row10_col5, #T_a3636_row10_col6, #T_a3636_row10_col7, #T_a3636_row11_col0, #T_a3636_row11_col1, #T_a3636_row11_col2, #T_a3636_row11_col3, #T_a3636_row11_col4, #T_a3636_row11_col5, #T_a3636_row11_col6, #T_a3636_row11_col7, #T_a3636_row12_col0, #T_a3636_row12_col1, #T_a3636_row12_col2, #T_a3636_row12_col3, #T_a3636_row12_col4, #T_a3636_row12_col5, #T_a3636_row12_col6, #T_a3636_row12_col7, #T_a3636_row13_col0, #T_a3636_row13_col1, #T_a3636_row13_col2, #T_a3636_row13_col3, #T_a3636_row13_col4, #T_a3636_row13_col5, #T_a3636_row13_col6, #T_a3636_row13_col7 {\n",
       "  text-align: left;\n",
       "}\n",
       "#T_a3636_row0_col1, #T_a3636_row0_col4, #T_a3636_row0_col6, #T_a3636_row0_col7, #T_a3636_row3_col2, #T_a3636_row3_col3, #T_a3636_row3_col5 {\n",
       "  text-align: left;\n",
       "  background-color: yellow;\n",
       "}\n",
       "#T_a3636_row0_col8, #T_a3636_row1_col8, #T_a3636_row2_col8, #T_a3636_row3_col8, #T_a3636_row4_col8, #T_a3636_row5_col8, #T_a3636_row6_col8, #T_a3636_row7_col8, #T_a3636_row8_col8, #T_a3636_row9_col8, #T_a3636_row10_col8, #T_a3636_row11_col8, #T_a3636_row12_col8 {\n",
       "  text-align: left;\n",
       "  background-color: lightgrey;\n",
       "}\n",
       "#T_a3636_row13_col8 {\n",
       "  text-align: left;\n",
       "  background-color: yellow;\n",
       "  background-color: lightgrey;\n",
       "}\n",
       "</style>\n",
       "<table id=\"T_a3636\">\n",
       "  <thead>\n",
       "    <tr>\n",
       "      <th class=\"blank level0\" >&nbsp;</th>\n",
       "      <th id=\"T_a3636_level0_col0\" class=\"col_heading level0 col0\" >Model</th>\n",
       "      <th id=\"T_a3636_level0_col1\" class=\"col_heading level0 col1\" >Accuracy</th>\n",
       "      <th id=\"T_a3636_level0_col2\" class=\"col_heading level0 col2\" >AUC</th>\n",
       "      <th id=\"T_a3636_level0_col3\" class=\"col_heading level0 col3\" >Recall</th>\n",
       "      <th id=\"T_a3636_level0_col4\" class=\"col_heading level0 col4\" >Prec.</th>\n",
       "      <th id=\"T_a3636_level0_col5\" class=\"col_heading level0 col5\" >F1</th>\n",
       "      <th id=\"T_a3636_level0_col6\" class=\"col_heading level0 col6\" >Kappa</th>\n",
       "      <th id=\"T_a3636_level0_col7\" class=\"col_heading level0 col7\" >MCC</th>\n",
       "      <th id=\"T_a3636_level0_col8\" class=\"col_heading level0 col8\" >TT (Sec)</th>\n",
       "    </tr>\n",
       "  </thead>\n",
       "  <tbody>\n",
       "    <tr>\n",
       "      <th id=\"T_a3636_level0_row0\" class=\"row_heading level0 row0\" >ridge</th>\n",
       "      <td id=\"T_a3636_row0_col0\" class=\"data row0 col0\" >Ridge Classifier</td>\n",
       "      <td id=\"T_a3636_row0_col1\" class=\"data row0 col1\" >0.7970</td>\n",
       "      <td id=\"T_a3636_row0_col2\" class=\"data row0 col2\" >0.0000</td>\n",
       "      <td id=\"T_a3636_row0_col3\" class=\"data row0 col3\" >0.5716</td>\n",
       "      <td id=\"T_a3636_row0_col4\" class=\"data row0 col4\" >0.7924</td>\n",
       "      <td id=\"T_a3636_row0_col5\" class=\"data row0 col5\" >0.6621</td>\n",
       "      <td id=\"T_a3636_row0_col6\" class=\"data row0 col6\" >0.5223</td>\n",
       "      <td id=\"T_a3636_row0_col7\" class=\"data row0 col7\" >0.5380</td>\n",
       "      <td id=\"T_a3636_row0_col8\" class=\"data row0 col8\" >0.0150</td>\n",
       "    </tr>\n",
       "    <tr>\n",
       "      <th id=\"T_a3636_level0_row1\" class=\"row_heading level0 row1\" >lda</th>\n",
       "      <td id=\"T_a3636_row1_col0\" class=\"data row1 col0\" >Linear Discriminant Analysis</td>\n",
       "      <td id=\"T_a3636_row1_col1\" class=\"data row1 col1\" >0.7951</td>\n",
       "      <td id=\"T_a3636_row1_col2\" class=\"data row1 col2\" >0.8210</td>\n",
       "      <td id=\"T_a3636_row1_col3\" class=\"data row1 col3\" >0.5716</td>\n",
       "      <td id=\"T_a3636_row1_col4\" class=\"data row1 col4\" >0.7867</td>\n",
       "      <td id=\"T_a3636_row1_col5\" class=\"data row1 col5\" >0.6599</td>\n",
       "      <td id=\"T_a3636_row1_col6\" class=\"data row1 col6\" >0.5186</td>\n",
       "      <td id=\"T_a3636_row1_col7\" class=\"data row1 col7\" >0.5336</td>\n",
       "      <td id=\"T_a3636_row1_col8\" class=\"data row1 col8\" >0.0180</td>\n",
       "    </tr>\n",
       "    <tr>\n",
       "      <th id=\"T_a3636_level0_row2\" class=\"row_heading level0 row2\" >lr</th>\n",
       "      <td id=\"T_a3636_row2_col0\" class=\"data row2 col0\" >Logistic Regression</td>\n",
       "      <td id=\"T_a3636_row2_col1\" class=\"data row2 col1\" >0.7914</td>\n",
       "      <td id=\"T_a3636_row2_col2\" class=\"data row2 col2\" >0.8212</td>\n",
       "      <td id=\"T_a3636_row2_col3\" class=\"data row2 col3\" >0.5716</td>\n",
       "      <td id=\"T_a3636_row2_col4\" class=\"data row2 col4\" >0.7740</td>\n",
       "      <td id=\"T_a3636_row2_col5\" class=\"data row2 col5\" >0.6556</td>\n",
       "      <td id=\"T_a3636_row2_col6\" class=\"data row2 col6\" >0.5109</td>\n",
       "      <td id=\"T_a3636_row2_col7\" class=\"data row2 col7\" >0.5243</td>\n",
       "      <td id=\"T_a3636_row2_col8\" class=\"data row2 col8\" >0.0260</td>\n",
       "    </tr>\n",
       "    <tr>\n",
       "      <th id=\"T_a3636_level0_row3\" class=\"row_heading level0 row3\" >lightgbm</th>\n",
       "      <td id=\"T_a3636_row3_col0\" class=\"data row3 col0\" >Light Gradient Boosting Machine</td>\n",
       "      <td id=\"T_a3636_row3_col1\" class=\"data row3 col1\" >0.7823</td>\n",
       "      <td id=\"T_a3636_row3_col2\" class=\"data row3 col2\" >0.8416</td>\n",
       "      <td id=\"T_a3636_row3_col3\" class=\"data row3 col3\" >0.6579</td>\n",
       "      <td id=\"T_a3636_row3_col4\" class=\"data row3 col4\" >0.7059</td>\n",
       "      <td id=\"T_a3636_row3_col5\" class=\"data row3 col5\" >0.6773</td>\n",
       "      <td id=\"T_a3636_row3_col6\" class=\"data row3 col6\" >0.5138</td>\n",
       "      <td id=\"T_a3636_row3_col7\" class=\"data row3 col7\" >0.5176</td>\n",
       "      <td id=\"T_a3636_row3_col8\" class=\"data row3 col8\" >0.0250</td>\n",
       "    </tr>\n",
       "    <tr>\n",
       "      <th id=\"T_a3636_level0_row4\" class=\"row_heading level0 row4\" >gbc</th>\n",
       "      <td id=\"T_a3636_row4_col0\" class=\"data row4 col0\" >Gradient Boosting Classifier</td>\n",
       "      <td id=\"T_a3636_row4_col1\" class=\"data row4 col1\" >0.7765</td>\n",
       "      <td id=\"T_a3636_row4_col2\" class=\"data row4 col2\" >0.8319</td>\n",
       "      <td id=\"T_a3636_row4_col3\" class=\"data row4 col3\" >0.5927</td>\n",
       "      <td id=\"T_a3636_row4_col4\" class=\"data row4 col4\" >0.7304</td>\n",
       "      <td id=\"T_a3636_row4_col5\" class=\"data row4 col5\" >0.6492</td>\n",
       "      <td id=\"T_a3636_row4_col6\" class=\"data row4 col6\" >0.4880</td>\n",
       "      <td id=\"T_a3636_row4_col7\" class=\"data row4 col7\" >0.4975</td>\n",
       "      <td id=\"T_a3636_row4_col8\" class=\"data row4 col8\" >0.0700</td>\n",
       "    </tr>\n",
       "    <tr>\n",
       "      <th id=\"T_a3636_level0_row5\" class=\"row_heading level0 row5\" >et</th>\n",
       "      <td id=\"T_a3636_row5_col0\" class=\"data row5 col0\" >Extra Trees Classifier</td>\n",
       "      <td id=\"T_a3636_row5_col1\" class=\"data row5 col1\" >0.7710</td>\n",
       "      <td id=\"T_a3636_row5_col2\" class=\"data row5 col2\" >0.8289</td>\n",
       "      <td id=\"T_a3636_row5_col3\" class=\"data row5 col3\" >0.5503</td>\n",
       "      <td id=\"T_a3636_row5_col4\" class=\"data row5 col4\" >0.7391</td>\n",
       "      <td id=\"T_a3636_row5_col5\" class=\"data row5 col5\" >0.6222</td>\n",
       "      <td id=\"T_a3636_row5_col6\" class=\"data row5 col6\" >0.4642</td>\n",
       "      <td id=\"T_a3636_row5_col7\" class=\"data row5 col7\" >0.4798</td>\n",
       "      <td id=\"T_a3636_row5_col8\" class=\"data row5 col8\" >0.1060</td>\n",
       "    </tr>\n",
       "    <tr>\n",
       "      <th id=\"T_a3636_level0_row6\" class=\"row_heading level0 row6\" >rf</th>\n",
       "      <td id=\"T_a3636_row6_col0\" class=\"data row6 col0\" >Random Forest Classifier</td>\n",
       "      <td id=\"T_a3636_row6_col1\" class=\"data row6 col1\" >0.7654</td>\n",
       "      <td id=\"T_a3636_row6_col2\" class=\"data row6 col2\" >0.8349</td>\n",
       "      <td id=\"T_a3636_row6_col3\" class=\"data row6 col3\" >0.5608</td>\n",
       "      <td id=\"T_a3636_row6_col4\" class=\"data row6 col4\" >0.7181</td>\n",
       "      <td id=\"T_a3636_row6_col5\" class=\"data row6 col5\" >0.6212</td>\n",
       "      <td id=\"T_a3636_row6_col6\" class=\"data row6 col6\" >0.4564</td>\n",
       "      <td id=\"T_a3636_row6_col7\" class=\"data row6 col7\" >0.4691</td>\n",
       "      <td id=\"T_a3636_row6_col8\" class=\"data row6 col8\" >0.1230</td>\n",
       "    </tr>\n",
       "    <tr>\n",
       "      <th id=\"T_a3636_level0_row7\" class=\"row_heading level0 row7\" >nb</th>\n",
       "      <td id=\"T_a3636_row7_col0\" class=\"data row7 col0\" >Naive Bayes</td>\n",
       "      <td id=\"T_a3636_row7_col1\" class=\"data row7 col1\" >0.7598</td>\n",
       "      <td id=\"T_a3636_row7_col2\" class=\"data row7 col2\" >0.8186</td>\n",
       "      <td id=\"T_a3636_row7_col3\" class=\"data row7 col3\" >0.5716</td>\n",
       "      <td id=\"T_a3636_row7_col4\" class=\"data row7 col4\" >0.6999</td>\n",
       "      <td id=\"T_a3636_row7_col5\" class=\"data row7 col5\" >0.6231</td>\n",
       "      <td id=\"T_a3636_row7_col6\" class=\"data row7 col6\" >0.4503</td>\n",
       "      <td id=\"T_a3636_row7_col7\" class=\"data row7 col7\" >0.4595</td>\n",
       "      <td id=\"T_a3636_row7_col8\" class=\"data row7 col8\" >0.0160</td>\n",
       "    </tr>\n",
       "    <tr>\n",
       "      <th id=\"T_a3636_level0_row8\" class=\"row_heading level0 row8\" >qda</th>\n",
       "      <td id=\"T_a3636_row8_col0\" class=\"data row8 col0\" >Quadratic Discriminant Analysis</td>\n",
       "      <td id=\"T_a3636_row8_col1\" class=\"data row8 col1\" >0.7580</td>\n",
       "      <td id=\"T_a3636_row8_col2\" class=\"data row8 col2\" >0.8177</td>\n",
       "      <td id=\"T_a3636_row8_col3\" class=\"data row8 col3\" >0.5561</td>\n",
       "      <td id=\"T_a3636_row8_col4\" class=\"data row8 col4\" >0.7039</td>\n",
       "      <td id=\"T_a3636_row8_col5\" class=\"data row8 col5\" >0.6165</td>\n",
       "      <td id=\"T_a3636_row8_col6\" class=\"data row8 col6\" >0.4435</td>\n",
       "      <td id=\"T_a3636_row8_col7\" class=\"data row8 col7\" >0.4534</td>\n",
       "      <td id=\"T_a3636_row8_col8\" class=\"data row8 col8\" >0.0160</td>\n",
       "    </tr>\n",
       "    <tr>\n",
       "      <th id=\"T_a3636_level0_row9\" class=\"row_heading level0 row9\" >ada</th>\n",
       "      <td id=\"T_a3636_row9_col0\" class=\"data row9 col0\" >Ada Boost Classifier</td>\n",
       "      <td id=\"T_a3636_row9_col1\" class=\"data row9 col1\" >0.7522</td>\n",
       "      <td id=\"T_a3636_row9_col2\" class=\"data row9 col2\" >0.8244</td>\n",
       "      <td id=\"T_a3636_row9_col3\" class=\"data row9 col3\" >0.5936</td>\n",
       "      <td id=\"T_a3636_row9_col4\" class=\"data row9 col4\" >0.6693</td>\n",
       "      <td id=\"T_a3636_row9_col5\" class=\"data row9 col5\" >0.6253</td>\n",
       "      <td id=\"T_a3636_row9_col6\" class=\"data row9 col6\" >0.4419</td>\n",
       "      <td id=\"T_a3636_row9_col7\" class=\"data row9 col7\" >0.4466</td>\n",
       "      <td id=\"T_a3636_row9_col8\" class=\"data row9 col8\" >0.0600</td>\n",
       "    </tr>\n",
       "    <tr>\n",
       "      <th id=\"T_a3636_level0_row10\" class=\"row_heading level0 row10\" >knn</th>\n",
       "      <td id=\"T_a3636_row10_col0\" class=\"data row10 col0\" >K Neighbors Classifier</td>\n",
       "      <td id=\"T_a3636_row10_col1\" class=\"data row10 col1\" >0.7450</td>\n",
       "      <td id=\"T_a3636_row10_col2\" class=\"data row10 col2\" >0.7664</td>\n",
       "      <td id=\"T_a3636_row10_col3\" class=\"data row10 col3\" >0.5675</td>\n",
       "      <td id=\"T_a3636_row10_col4\" class=\"data row10 col4\" >0.6656</td>\n",
       "      <td id=\"T_a3636_row10_col5\" class=\"data row10 col5\" >0.6081</td>\n",
       "      <td id=\"T_a3636_row10_col6\" class=\"data row10 col6\" >0.4214</td>\n",
       "      <td id=\"T_a3636_row10_col7\" class=\"data row10 col7\" >0.4279</td>\n",
       "      <td id=\"T_a3636_row10_col8\" class=\"data row10 col8\" >0.0220</td>\n",
       "    </tr>\n",
       "    <tr>\n",
       "      <th id=\"T_a3636_level0_row11\" class=\"row_heading level0 row11\" >dt</th>\n",
       "      <td id=\"T_a3636_row11_col0\" class=\"data row11 col0\" >Decision Tree Classifier</td>\n",
       "      <td id=\"T_a3636_row11_col1\" class=\"data row11 col1\" >0.7395</td>\n",
       "      <td id=\"T_a3636_row11_col2\" class=\"data row11 col2\" >0.7153</td>\n",
       "      <td id=\"T_a3636_row11_col3\" class=\"data row11 col3\" >0.6363</td>\n",
       "      <td id=\"T_a3636_row11_col4\" class=\"data row11 col4\" >0.6518</td>\n",
       "      <td id=\"T_a3636_row11_col5\" class=\"data row11 col5\" >0.6264</td>\n",
       "      <td id=\"T_a3636_row11_col6\" class=\"data row11 col6\" >0.4297</td>\n",
       "      <td id=\"T_a3636_row11_col7\" class=\"data row11 col7\" >0.4420</td>\n",
       "      <td id=\"T_a3636_row11_col8\" class=\"data row11 col8\" >0.0210</td>\n",
       "    </tr>\n",
       "    <tr>\n",
       "      <th id=\"T_a3636_level0_row12\" class=\"row_heading level0 row12\" >dummy</th>\n",
       "      <td id=\"T_a3636_row12_col0\" class=\"data row12 col0\" >Dummy Classifier</td>\n",
       "      <td id=\"T_a3636_row12_col1\" class=\"data row12 col1\" >0.6518</td>\n",
       "      <td id=\"T_a3636_row12_col2\" class=\"data row12 col2\" >0.5000</td>\n",
       "      <td id=\"T_a3636_row12_col3\" class=\"data row12 col3\" >0.0000</td>\n",
       "      <td id=\"T_a3636_row12_col4\" class=\"data row12 col4\" >0.0000</td>\n",
       "      <td id=\"T_a3636_row12_col5\" class=\"data row12 col5\" >0.0000</td>\n",
       "      <td id=\"T_a3636_row12_col6\" class=\"data row12 col6\" >0.0000</td>\n",
       "      <td id=\"T_a3636_row12_col7\" class=\"data row12 col7\" >0.0000</td>\n",
       "      <td id=\"T_a3636_row12_col8\" class=\"data row12 col8\" >0.0150</td>\n",
       "    </tr>\n",
       "    <tr>\n",
       "      <th id=\"T_a3636_level0_row13\" class=\"row_heading level0 row13\" >svm</th>\n",
       "      <td id=\"T_a3636_row13_col0\" class=\"data row13 col0\" >SVM - Linear Kernel</td>\n",
       "      <td id=\"T_a3636_row13_col1\" class=\"data row13 col1\" >0.6224</td>\n",
       "      <td id=\"T_a3636_row13_col2\" class=\"data row13 col2\" >0.0000</td>\n",
       "      <td id=\"T_a3636_row13_col3\" class=\"data row13 col3\" >0.4275</td>\n",
       "      <td id=\"T_a3636_row13_col4\" class=\"data row13 col4\" >0.5705</td>\n",
       "      <td id=\"T_a3636_row13_col5\" class=\"data row13 col5\" >0.4023</td>\n",
       "      <td id=\"T_a3636_row13_col6\" class=\"data row13 col6\" >0.1619</td>\n",
       "      <td id=\"T_a3636_row13_col7\" class=\"data row13 col7\" >0.1906</td>\n",
       "      <td id=\"T_a3636_row13_col8\" class=\"data row13 col8\" >0.0140</td>\n",
       "    </tr>\n",
       "  </tbody>\n",
       "</table>\n"
      ],
      "text/plain": [
       "<pandas.io.formats.style.Styler at 0x1a67f81b130>"
      ]
     },
     "metadata": {},
     "output_type": "display_data"
    }
   ],
   "source": [
    "best = compare_models()"
   ]
  },
  {
   "cell_type": "code",
   "execution_count": 8,
   "metadata": {},
   "outputs": [
    {
     "data": {
      "application/vnd.jupyter.widget-view+json": {
       "model_id": "ff034a871544494c9fe1bb1c5a5afc6e",
       "version_major": 2,
       "version_minor": 0
      },
      "text/plain": [
       "interactive(children=(ToggleButtons(description='Plot Type:', icons=('',), options=(('Pipeline Plot', 'pipelin…"
      ]
     },
     "metadata": {},
     "output_type": "display_data"
    }
   ],
   "source": [
    "evaluate_model(best)"
   ]
  },
  {
   "cell_type": "code",
   "execution_count": 12,
   "metadata": {},
   "outputs": [],
   "source": [
    "from pycaret.datasets import get_data\n",
    "data = get_data('insurance')"
   ]
  },
  {
   "cell_type": "code",
   "execution_count": 13,
   "metadata": {},
   "outputs": [
    {
     "data": {
      "text/html": [
       "<style type=\"text/css\">\n",
       "#T_bbd8b_row10_col1 {\n",
       "  background-color: lightgreen;\n",
       "}\n",
       "</style>\n",
       "<table id=\"T_bbd8b\">\n",
       "  <thead>\n",
       "    <tr>\n",
       "      <th class=\"blank level0\" >&nbsp;</th>\n",
       "      <th id=\"T_bbd8b_level0_col0\" class=\"col_heading level0 col0\" >Description</th>\n",
       "      <th id=\"T_bbd8b_level0_col1\" class=\"col_heading level0 col1\" >Value</th>\n",
       "    </tr>\n",
       "  </thead>\n",
       "  <tbody>\n",
       "    <tr>\n",
       "      <th id=\"T_bbd8b_level0_row0\" class=\"row_heading level0 row0\" >0</th>\n",
       "      <td id=\"T_bbd8b_row0_col0\" class=\"data row0 col0\" >Session id</td>\n",
       "      <td id=\"T_bbd8b_row0_col1\" class=\"data row0 col1\" >8401</td>\n",
       "    </tr>\n",
       "    <tr>\n",
       "      <th id=\"T_bbd8b_level0_row1\" class=\"row_heading level0 row1\" >1</th>\n",
       "      <td id=\"T_bbd8b_row1_col0\" class=\"data row1 col0\" >Target</td>\n",
       "      <td id=\"T_bbd8b_row1_col1\" class=\"data row1 col1\" >charges</td>\n",
       "    </tr>\n",
       "    <tr>\n",
       "      <th id=\"T_bbd8b_level0_row2\" class=\"row_heading level0 row2\" >2</th>\n",
       "      <td id=\"T_bbd8b_row2_col0\" class=\"data row2 col0\" >Target type</td>\n",
       "      <td id=\"T_bbd8b_row2_col1\" class=\"data row2 col1\" >Regression</td>\n",
       "    </tr>\n",
       "    <tr>\n",
       "      <th id=\"T_bbd8b_level0_row3\" class=\"row_heading level0 row3\" >3</th>\n",
       "      <td id=\"T_bbd8b_row3_col0\" class=\"data row3 col0\" >Original data shape</td>\n",
       "      <td id=\"T_bbd8b_row3_col1\" class=\"data row3 col1\" >(1338, 7)</td>\n",
       "    </tr>\n",
       "    <tr>\n",
       "      <th id=\"T_bbd8b_level0_row4\" class=\"row_heading level0 row4\" >4</th>\n",
       "      <td id=\"T_bbd8b_row4_col0\" class=\"data row4 col0\" >Transformed data shape</td>\n",
       "      <td id=\"T_bbd8b_row4_col1\" class=\"data row4 col1\" >(1338, 10)</td>\n",
       "    </tr>\n",
       "    <tr>\n",
       "      <th id=\"T_bbd8b_level0_row5\" class=\"row_heading level0 row5\" >5</th>\n",
       "      <td id=\"T_bbd8b_row5_col0\" class=\"data row5 col0\" >Transformed train set shape</td>\n",
       "      <td id=\"T_bbd8b_row5_col1\" class=\"data row5 col1\" >(936, 10)</td>\n",
       "    </tr>\n",
       "    <tr>\n",
       "      <th id=\"T_bbd8b_level0_row6\" class=\"row_heading level0 row6\" >6</th>\n",
       "      <td id=\"T_bbd8b_row6_col0\" class=\"data row6 col0\" >Transformed test set shape</td>\n",
       "      <td id=\"T_bbd8b_row6_col1\" class=\"data row6 col1\" >(402, 10)</td>\n",
       "    </tr>\n",
       "    <tr>\n",
       "      <th id=\"T_bbd8b_level0_row7\" class=\"row_heading level0 row7\" >7</th>\n",
       "      <td id=\"T_bbd8b_row7_col0\" class=\"data row7 col0\" >Ordinal features</td>\n",
       "      <td id=\"T_bbd8b_row7_col1\" class=\"data row7 col1\" >2</td>\n",
       "    </tr>\n",
       "    <tr>\n",
       "      <th id=\"T_bbd8b_level0_row8\" class=\"row_heading level0 row8\" >8</th>\n",
       "      <td id=\"T_bbd8b_row8_col0\" class=\"data row8 col0\" >Numeric features</td>\n",
       "      <td id=\"T_bbd8b_row8_col1\" class=\"data row8 col1\" >3</td>\n",
       "    </tr>\n",
       "    <tr>\n",
       "      <th id=\"T_bbd8b_level0_row9\" class=\"row_heading level0 row9\" >9</th>\n",
       "      <td id=\"T_bbd8b_row9_col0\" class=\"data row9 col0\" >Categorical features</td>\n",
       "      <td id=\"T_bbd8b_row9_col1\" class=\"data row9 col1\" >3</td>\n",
       "    </tr>\n",
       "    <tr>\n",
       "      <th id=\"T_bbd8b_level0_row10\" class=\"row_heading level0 row10\" >10</th>\n",
       "      <td id=\"T_bbd8b_row10_col0\" class=\"data row10 col0\" >Preprocess</td>\n",
       "      <td id=\"T_bbd8b_row10_col1\" class=\"data row10 col1\" >True</td>\n",
       "    </tr>\n",
       "    <tr>\n",
       "      <th id=\"T_bbd8b_level0_row11\" class=\"row_heading level0 row11\" >11</th>\n",
       "      <td id=\"T_bbd8b_row11_col0\" class=\"data row11 col0\" >Imputation type</td>\n",
       "      <td id=\"T_bbd8b_row11_col1\" class=\"data row11 col1\" >simple</td>\n",
       "    </tr>\n",
       "    <tr>\n",
       "      <th id=\"T_bbd8b_level0_row12\" class=\"row_heading level0 row12\" >12</th>\n",
       "      <td id=\"T_bbd8b_row12_col0\" class=\"data row12 col0\" >Numeric imputation</td>\n",
       "      <td id=\"T_bbd8b_row12_col1\" class=\"data row12 col1\" >mean</td>\n",
       "    </tr>\n",
       "    <tr>\n",
       "      <th id=\"T_bbd8b_level0_row13\" class=\"row_heading level0 row13\" >13</th>\n",
       "      <td id=\"T_bbd8b_row13_col0\" class=\"data row13 col0\" >Categorical imputation</td>\n",
       "      <td id=\"T_bbd8b_row13_col1\" class=\"data row13 col1\" >mode</td>\n",
       "    </tr>\n",
       "    <tr>\n",
       "      <th id=\"T_bbd8b_level0_row14\" class=\"row_heading level0 row14\" >14</th>\n",
       "      <td id=\"T_bbd8b_row14_col0\" class=\"data row14 col0\" >Maximum one-hot encoding</td>\n",
       "      <td id=\"T_bbd8b_row14_col1\" class=\"data row14 col1\" >25</td>\n",
       "    </tr>\n",
       "    <tr>\n",
       "      <th id=\"T_bbd8b_level0_row15\" class=\"row_heading level0 row15\" >15</th>\n",
       "      <td id=\"T_bbd8b_row15_col0\" class=\"data row15 col0\" >Encoding method</td>\n",
       "      <td id=\"T_bbd8b_row15_col1\" class=\"data row15 col1\" >None</td>\n",
       "    </tr>\n",
       "    <tr>\n",
       "      <th id=\"T_bbd8b_level0_row16\" class=\"row_heading level0 row16\" >16</th>\n",
       "      <td id=\"T_bbd8b_row16_col0\" class=\"data row16 col0\" >Fold Generator</td>\n",
       "      <td id=\"T_bbd8b_row16_col1\" class=\"data row16 col1\" >KFold</td>\n",
       "    </tr>\n",
       "    <tr>\n",
       "      <th id=\"T_bbd8b_level0_row17\" class=\"row_heading level0 row17\" >17</th>\n",
       "      <td id=\"T_bbd8b_row17_col0\" class=\"data row17 col0\" >Fold Number</td>\n",
       "      <td id=\"T_bbd8b_row17_col1\" class=\"data row17 col1\" >10</td>\n",
       "    </tr>\n",
       "    <tr>\n",
       "      <th id=\"T_bbd8b_level0_row18\" class=\"row_heading level0 row18\" >18</th>\n",
       "      <td id=\"T_bbd8b_row18_col0\" class=\"data row18 col0\" >CPU Jobs</td>\n",
       "      <td id=\"T_bbd8b_row18_col1\" class=\"data row18 col1\" >-1</td>\n",
       "    </tr>\n",
       "    <tr>\n",
       "      <th id=\"T_bbd8b_level0_row19\" class=\"row_heading level0 row19\" >19</th>\n",
       "      <td id=\"T_bbd8b_row19_col0\" class=\"data row19 col0\" >Use GPU</td>\n",
       "      <td id=\"T_bbd8b_row19_col1\" class=\"data row19 col1\" >False</td>\n",
       "    </tr>\n",
       "    <tr>\n",
       "      <th id=\"T_bbd8b_level0_row20\" class=\"row_heading level0 row20\" >20</th>\n",
       "      <td id=\"T_bbd8b_row20_col0\" class=\"data row20 col0\" >Log Experiment</td>\n",
       "      <td id=\"T_bbd8b_row20_col1\" class=\"data row20 col1\" >False</td>\n",
       "    </tr>\n",
       "    <tr>\n",
       "      <th id=\"T_bbd8b_level0_row21\" class=\"row_heading level0 row21\" >21</th>\n",
       "      <td id=\"T_bbd8b_row21_col0\" class=\"data row21 col0\" >Experiment Name</td>\n",
       "      <td id=\"T_bbd8b_row21_col1\" class=\"data row21 col1\" >reg-default-name</td>\n",
       "    </tr>\n",
       "    <tr>\n",
       "      <th id=\"T_bbd8b_level0_row22\" class=\"row_heading level0 row22\" >22</th>\n",
       "      <td id=\"T_bbd8b_row22_col0\" class=\"data row22 col0\" >USI</td>\n",
       "      <td id=\"T_bbd8b_row22_col1\" class=\"data row22 col1\" >808b</td>\n",
       "    </tr>\n",
       "  </tbody>\n",
       "</table>\n"
      ],
      "text/plain": [
       "<pandas.io.formats.style.Styler at 0x1a60deea490>"
      ]
     },
     "metadata": {},
     "output_type": "display_data"
    }
   ],
   "source": [
    "from pycaret.regression import *\n",
    "s = setup(data, target = 'charges')"
   ]
  },
  {
   "cell_type": "code",
   "execution_count": 14,
   "metadata": {},
   "outputs": [
    {
     "data": {
      "text/html": [
       "<div>\n",
       "<style scoped>\n",
       "    .dataframe tbody tr th:only-of-type {\n",
       "        vertical-align: middle;\n",
       "    }\n",
       "\n",
       "    .dataframe tbody tr th {\n",
       "        vertical-align: top;\n",
       "    }\n",
       "\n",
       "    .dataframe thead th {\n",
       "        text-align: right;\n",
       "    }\n",
       "</style>\n",
       "<table border=\"1\" class=\"dataframe\">\n",
       "  <thead>\n",
       "    <tr style=\"text-align: right;\">\n",
       "      <th></th>\n",
       "      <th></th>\n",
       "      <th></th>\n",
       "    </tr>\n",
       "    <tr>\n",
       "      <th></th>\n",
       "      <th></th>\n",
       "      <th></th>\n",
       "    </tr>\n",
       "  </thead>\n",
       "  <tbody>\n",
       "    <tr>\n",
       "      <th>Initiated</th>\n",
       "      <td>. . . . . . . . . . . . . . . . . .</td>\n",
       "      <td>10:12:38</td>\n",
       "    </tr>\n",
       "    <tr>\n",
       "      <th>Status</th>\n",
       "      <td>. . . . . . . . . . . . . . . . . .</td>\n",
       "      <td>Loading Estimator</td>\n",
       "    </tr>\n",
       "    <tr>\n",
       "      <th>Estimator</th>\n",
       "      <td>. . . . . . . . . . . . . . . . . .</td>\n",
       "      <td>Compiling Library</td>\n",
       "    </tr>\n",
       "  </tbody>\n",
       "</table>\n",
       "</div>"
      ],
      "text/plain": [
       "                                                                 \n",
       "                                                                 \n",
       "Initiated  . . . . . . . . . . . . . . . . . .           10:12:38\n",
       "Status     . . . . . . . . . . . . . . . . . .  Loading Estimator\n",
       "Estimator  . . . . . . . . . . . . . . . . . .  Compiling Library"
      ]
     },
     "metadata": {},
     "output_type": "display_data"
    },
    {
     "data": {
      "text/html": [
       "<style type=\"text/css\">\n",
       "#T_1d0ea th {\n",
       "  text-align: left;\n",
       "}\n",
       "#T_1d0ea_row0_col0, #T_1d0ea_row0_col6, #T_1d0ea_row1_col0, #T_1d0ea_row1_col1, #T_1d0ea_row1_col2, #T_1d0ea_row1_col3, #T_1d0ea_row1_col4, #T_1d0ea_row1_col5, #T_1d0ea_row1_col6, #T_1d0ea_row2_col0, #T_1d0ea_row2_col1, #T_1d0ea_row2_col2, #T_1d0ea_row2_col3, #T_1d0ea_row2_col4, #T_1d0ea_row2_col5, #T_1d0ea_row2_col6, #T_1d0ea_row3_col0, #T_1d0ea_row3_col1, #T_1d0ea_row3_col2, #T_1d0ea_row3_col3, #T_1d0ea_row3_col4, #T_1d0ea_row3_col5, #T_1d0ea_row3_col6, #T_1d0ea_row4_col0, #T_1d0ea_row4_col1, #T_1d0ea_row4_col2, #T_1d0ea_row4_col3, #T_1d0ea_row4_col4, #T_1d0ea_row4_col5, #T_1d0ea_row4_col6, #T_1d0ea_row5_col0, #T_1d0ea_row5_col1, #T_1d0ea_row5_col2, #T_1d0ea_row5_col3, #T_1d0ea_row5_col4, #T_1d0ea_row5_col5, #T_1d0ea_row5_col6, #T_1d0ea_row6_col0, #T_1d0ea_row6_col1, #T_1d0ea_row6_col2, #T_1d0ea_row6_col3, #T_1d0ea_row6_col4, #T_1d0ea_row6_col5, #T_1d0ea_row6_col6, #T_1d0ea_row7_col0, #T_1d0ea_row7_col1, #T_1d0ea_row7_col2, #T_1d0ea_row7_col3, #T_1d0ea_row7_col4, #T_1d0ea_row7_col5, #T_1d0ea_row7_col6, #T_1d0ea_row8_col0, #T_1d0ea_row8_col1, #T_1d0ea_row8_col2, #T_1d0ea_row8_col3, #T_1d0ea_row8_col4, #T_1d0ea_row8_col5, #T_1d0ea_row8_col6, #T_1d0ea_row9_col0, #T_1d0ea_row9_col1, #T_1d0ea_row9_col2, #T_1d0ea_row9_col3, #T_1d0ea_row9_col4, #T_1d0ea_row9_col5, #T_1d0ea_row9_col6, #T_1d0ea_row10_col0, #T_1d0ea_row10_col1, #T_1d0ea_row10_col2, #T_1d0ea_row10_col3, #T_1d0ea_row10_col4, #T_1d0ea_row10_col5, #T_1d0ea_row10_col6, #T_1d0ea_row11_col0, #T_1d0ea_row11_col1, #T_1d0ea_row11_col2, #T_1d0ea_row11_col3, #T_1d0ea_row11_col4, #T_1d0ea_row11_col5, #T_1d0ea_row11_col6, #T_1d0ea_row12_col0, #T_1d0ea_row12_col1, #T_1d0ea_row12_col2, #T_1d0ea_row12_col3, #T_1d0ea_row12_col4, #T_1d0ea_row12_col5, #T_1d0ea_row13_col0, #T_1d0ea_row13_col1, #T_1d0ea_row13_col2, #T_1d0ea_row13_col3, #T_1d0ea_row13_col4, #T_1d0ea_row13_col5, #T_1d0ea_row13_col6, #T_1d0ea_row14_col0, #T_1d0ea_row14_col1, #T_1d0ea_row14_col2, #T_1d0ea_row14_col3, #T_1d0ea_row14_col4, #T_1d0ea_row14_col5, #T_1d0ea_row14_col6, #T_1d0ea_row15_col0, #T_1d0ea_row15_col1, #T_1d0ea_row15_col2, #T_1d0ea_row15_col3, #T_1d0ea_row15_col4, #T_1d0ea_row15_col5, #T_1d0ea_row15_col6, #T_1d0ea_row16_col0, #T_1d0ea_row16_col1, #T_1d0ea_row16_col2, #T_1d0ea_row16_col3, #T_1d0ea_row16_col4, #T_1d0ea_row16_col5, #T_1d0ea_row16_col6, #T_1d0ea_row17_col0, #T_1d0ea_row17_col1, #T_1d0ea_row17_col2, #T_1d0ea_row17_col3, #T_1d0ea_row17_col4, #T_1d0ea_row17_col5, #T_1d0ea_row17_col6 {\n",
       "  text-align: left;\n",
       "}\n",
       "#T_1d0ea_row0_col1, #T_1d0ea_row0_col2, #T_1d0ea_row0_col3, #T_1d0ea_row0_col4, #T_1d0ea_row0_col5, #T_1d0ea_row12_col6 {\n",
       "  text-align: left;\n",
       "  background-color: yellow;\n",
       "}\n",
       "#T_1d0ea_row0_col7, #T_1d0ea_row1_col7, #T_1d0ea_row2_col7, #T_1d0ea_row3_col7, #T_1d0ea_row4_col7, #T_1d0ea_row5_col7, #T_1d0ea_row6_col7, #T_1d0ea_row8_col7, #T_1d0ea_row9_col7, #T_1d0ea_row10_col7, #T_1d0ea_row12_col7, #T_1d0ea_row13_col7, #T_1d0ea_row14_col7, #T_1d0ea_row15_col7, #T_1d0ea_row16_col7 {\n",
       "  text-align: left;\n",
       "  background-color: lightgrey;\n",
       "}\n",
       "#T_1d0ea_row7_col7, #T_1d0ea_row11_col7, #T_1d0ea_row17_col7 {\n",
       "  text-align: left;\n",
       "  background-color: yellow;\n",
       "  background-color: lightgrey;\n",
       "}\n",
       "</style>\n",
       "<table id=\"T_1d0ea\">\n",
       "  <thead>\n",
       "    <tr>\n",
       "      <th class=\"blank level0\" >&nbsp;</th>\n",
       "      <th id=\"T_1d0ea_level0_col0\" class=\"col_heading level0 col0\" >Model</th>\n",
       "      <th id=\"T_1d0ea_level0_col1\" class=\"col_heading level0 col1\" >MAE</th>\n",
       "      <th id=\"T_1d0ea_level0_col2\" class=\"col_heading level0 col2\" >MSE</th>\n",
       "      <th id=\"T_1d0ea_level0_col3\" class=\"col_heading level0 col3\" >RMSE</th>\n",
       "      <th id=\"T_1d0ea_level0_col4\" class=\"col_heading level0 col4\" >R2</th>\n",
       "      <th id=\"T_1d0ea_level0_col5\" class=\"col_heading level0 col5\" >RMSLE</th>\n",
       "      <th id=\"T_1d0ea_level0_col6\" class=\"col_heading level0 col6\" >MAPE</th>\n",
       "      <th id=\"T_1d0ea_level0_col7\" class=\"col_heading level0 col7\" >TT (Sec)</th>\n",
       "    </tr>\n",
       "  </thead>\n",
       "  <tbody>\n",
       "    <tr>\n",
       "      <th id=\"T_1d0ea_level0_row0\" class=\"row_heading level0 row0\" >gbr</th>\n",
       "      <td id=\"T_1d0ea_row0_col0\" class=\"data row0 col0\" >Gradient Boosting Regressor</td>\n",
       "      <td id=\"T_1d0ea_row0_col1\" class=\"data row0 col1\" >2459.2795</td>\n",
       "      <td id=\"T_1d0ea_row0_col2\" class=\"data row0 col2\" >21314796.4978</td>\n",
       "      <td id=\"T_1d0ea_row0_col3\" class=\"data row0 col3\" >4462.9088</td>\n",
       "      <td id=\"T_1d0ea_row0_col4\" class=\"data row0 col4\" >0.8423</td>\n",
       "      <td id=\"T_1d0ea_row0_col5\" class=\"data row0 col5\" >0.4272</td>\n",
       "      <td id=\"T_1d0ea_row0_col6\" class=\"data row0 col6\" >0.2889</td>\n",
       "      <td id=\"T_1d0ea_row0_col7\" class=\"data row0 col7\" >0.0710</td>\n",
       "    </tr>\n",
       "    <tr>\n",
       "      <th id=\"T_1d0ea_level0_row1\" class=\"row_heading level0 row1\" >rf</th>\n",
       "      <td id=\"T_1d0ea_row1_col0\" class=\"data row1 col0\" >Random Forest Regressor</td>\n",
       "      <td id=\"T_1d0ea_row1_col1\" class=\"data row1 col1\" >2607.0468</td>\n",
       "      <td id=\"T_1d0ea_row1_col2\" class=\"data row1 col2\" >23225131.4349</td>\n",
       "      <td id=\"T_1d0ea_row1_col3\" class=\"data row1 col3\" >4666.5089</td>\n",
       "      <td id=\"T_1d0ea_row1_col4\" class=\"data row1 col4\" >0.8282</td>\n",
       "      <td id=\"T_1d0ea_row1_col5\" class=\"data row1 col5\" >0.4568</td>\n",
       "      <td id=\"T_1d0ea_row1_col6\" class=\"data row1 col6\" >0.3106</td>\n",
       "      <td id=\"T_1d0ea_row1_col7\" class=\"data row1 col7\" >0.1290</td>\n",
       "    </tr>\n",
       "    <tr>\n",
       "      <th id=\"T_1d0ea_level0_row2\" class=\"row_heading level0 row2\" >lightgbm</th>\n",
       "      <td id=\"T_1d0ea_row2_col0\" class=\"data row2 col0\" >Light Gradient Boosting Machine</td>\n",
       "      <td id=\"T_1d0ea_row2_col1\" class=\"data row2 col1\" >2783.6365</td>\n",
       "      <td id=\"T_1d0ea_row2_col2\" class=\"data row2 col2\" >23895000.2062</td>\n",
       "      <td id=\"T_1d0ea_row2_col3\" class=\"data row2 col3\" >4753.4003</td>\n",
       "      <td id=\"T_1d0ea_row2_col4\" class=\"data row2 col4\" >0.8234</td>\n",
       "      <td id=\"T_1d0ea_row2_col5\" class=\"data row2 col5\" >0.5430</td>\n",
       "      <td id=\"T_1d0ea_row2_col6\" class=\"data row2 col6\" >0.3545</td>\n",
       "      <td id=\"T_1d0ea_row2_col7\" class=\"data row2 col7\" >0.0460</td>\n",
       "    </tr>\n",
       "    <tr>\n",
       "      <th id=\"T_1d0ea_level0_row3\" class=\"row_heading level0 row3\" >ada</th>\n",
       "      <td id=\"T_1d0ea_row3_col0\" class=\"data row3 col0\" >AdaBoost Regressor</td>\n",
       "      <td id=\"T_1d0ea_row3_col1\" class=\"data row3 col1\" >3921.8676</td>\n",
       "      <td id=\"T_1d0ea_row3_col2\" class=\"data row3 col2\" >26901462.2607</td>\n",
       "      <td id=\"T_1d0ea_row3_col3\" class=\"data row3 col3\" >5123.8852</td>\n",
       "      <td id=\"T_1d0ea_row3_col4\" class=\"data row3 col4\" >0.8014</td>\n",
       "      <td id=\"T_1d0ea_row3_col5\" class=\"data row3 col5\" >0.5841</td>\n",
       "      <td id=\"T_1d0ea_row3_col6\" class=\"data row3 col6\" >0.6280</td>\n",
       "      <td id=\"T_1d0ea_row3_col7\" class=\"data row3 col7\" >0.0390</td>\n",
       "    </tr>\n",
       "    <tr>\n",
       "      <th id=\"T_1d0ea_level0_row4\" class=\"row_heading level0 row4\" >et</th>\n",
       "      <td id=\"T_1d0ea_row4_col0\" class=\"data row4 col0\" >Extra Trees Regressor</td>\n",
       "      <td id=\"T_1d0ea_row4_col1\" class=\"data row4 col1\" >2665.9051</td>\n",
       "      <td id=\"T_1d0ea_row4_col2\" class=\"data row4 col2\" >27146725.3637</td>\n",
       "      <td id=\"T_1d0ea_row4_col3\" class=\"data row4 col3\" >5123.9503</td>\n",
       "      <td id=\"T_1d0ea_row4_col4\" class=\"data row4 col4\" >0.7972</td>\n",
       "      <td id=\"T_1d0ea_row4_col5\" class=\"data row4 col5\" >0.4801</td>\n",
       "      <td id=\"T_1d0ea_row4_col6\" class=\"data row4 col6\" >0.3205</td>\n",
       "      <td id=\"T_1d0ea_row4_col7\" class=\"data row4 col7\" >0.1230</td>\n",
       "    </tr>\n",
       "    <tr>\n",
       "      <th id=\"T_1d0ea_level0_row5\" class=\"row_heading level0 row5\" >ridge</th>\n",
       "      <td id=\"T_1d0ea_row5_col0\" class=\"data row5 col0\" >Ridge Regression</td>\n",
       "      <td id=\"T_1d0ea_row5_col1\" class=\"data row5 col1\" >4176.9474</td>\n",
       "      <td id=\"T_1d0ea_row5_col2\" class=\"data row5 col2\" >36927917.8055</td>\n",
       "      <td id=\"T_1d0ea_row5_col3\" class=\"data row5 col3\" >6021.7409</td>\n",
       "      <td id=\"T_1d0ea_row5_col4\" class=\"data row5 col4\" >0.7322</td>\n",
       "      <td id=\"T_1d0ea_row5_col5\" class=\"data row5 col5\" >0.6337</td>\n",
       "      <td id=\"T_1d0ea_row5_col6\" class=\"data row5 col6\" >0.4260</td>\n",
       "      <td id=\"T_1d0ea_row5_col7\" class=\"data row5 col7\" >0.0370</td>\n",
       "    </tr>\n",
       "    <tr>\n",
       "      <th id=\"T_1d0ea_level0_row6\" class=\"row_heading level0 row6\" >br</th>\n",
       "      <td id=\"T_1d0ea_row6_col0\" class=\"data row6 col0\" >Bayesian Ridge</td>\n",
       "      <td id=\"T_1d0ea_row6_col1\" class=\"data row6 col1\" >4171.9313</td>\n",
       "      <td id=\"T_1d0ea_row6_col2\" class=\"data row6 col2\" >36927727.3789</td>\n",
       "      <td id=\"T_1d0ea_row6_col3\" class=\"data row6 col3\" >6021.8635</td>\n",
       "      <td id=\"T_1d0ea_row6_col4\" class=\"data row6 col4\" >0.7322</td>\n",
       "      <td id=\"T_1d0ea_row6_col5\" class=\"data row6 col5\" >0.6455</td>\n",
       "      <td id=\"T_1d0ea_row6_col6\" class=\"data row6 col6\" >0.4251</td>\n",
       "      <td id=\"T_1d0ea_row6_col7\" class=\"data row6 col7\" >0.0350</td>\n",
       "    </tr>\n",
       "    <tr>\n",
       "      <th id=\"T_1d0ea_level0_row7\" class=\"row_heading level0 row7\" >lar</th>\n",
       "      <td id=\"T_1d0ea_row7_col0\" class=\"data row7 col0\" >Least Angle Regression</td>\n",
       "      <td id=\"T_1d0ea_row7_col1\" class=\"data row7 col1\" >4166.5184</td>\n",
       "      <td id=\"T_1d0ea_row7_col2\" class=\"data row7 col2\" >36927476.2034</td>\n",
       "      <td id=\"T_1d0ea_row7_col3\" class=\"data row7 col3\" >6021.9732</td>\n",
       "      <td id=\"T_1d0ea_row7_col4\" class=\"data row7 col4\" >0.7321</td>\n",
       "      <td id=\"T_1d0ea_row7_col5\" class=\"data row7 col5\" >0.6761</td>\n",
       "      <td id=\"T_1d0ea_row7_col6\" class=\"data row7 col6\" >0.4241</td>\n",
       "      <td id=\"T_1d0ea_row7_col7\" class=\"data row7 col7\" >0.0330</td>\n",
       "    </tr>\n",
       "    <tr>\n",
       "      <th id=\"T_1d0ea_level0_row8\" class=\"row_heading level0 row8\" >llar</th>\n",
       "      <td id=\"T_1d0ea_row8_col0\" class=\"data row8 col0\" >Lasso Least Angle Regression</td>\n",
       "      <td id=\"T_1d0ea_row8_col1\" class=\"data row8 col1\" >4166.7123</td>\n",
       "      <td id=\"T_1d0ea_row8_col2\" class=\"data row8 col2\" >36927662.7035</td>\n",
       "      <td id=\"T_1d0ea_row8_col3\" class=\"data row8 col3\" >6021.9668</td>\n",
       "      <td id=\"T_1d0ea_row8_col4\" class=\"data row8 col4\" >0.7321</td>\n",
       "      <td id=\"T_1d0ea_row8_col5\" class=\"data row8 col5\" >0.6682</td>\n",
       "      <td id=\"T_1d0ea_row8_col6\" class=\"data row8 col6\" >0.4241</td>\n",
       "      <td id=\"T_1d0ea_row8_col7\" class=\"data row8 col7\" >0.0340</td>\n",
       "    </tr>\n",
       "    <tr>\n",
       "      <th id=\"T_1d0ea_level0_row9\" class=\"row_heading level0 row9\" >lasso</th>\n",
       "      <td id=\"T_1d0ea_row9_col0\" class=\"data row9 col0\" >Lasso Regression</td>\n",
       "      <td id=\"T_1d0ea_row9_col1\" class=\"data row9 col1\" >4166.7134</td>\n",
       "      <td id=\"T_1d0ea_row9_col2\" class=\"data row9 col2\" >36927657.8116</td>\n",
       "      <td id=\"T_1d0ea_row9_col3\" class=\"data row9 col3\" >6021.9665</td>\n",
       "      <td id=\"T_1d0ea_row9_col4\" class=\"data row9 col4\" >0.7321</td>\n",
       "      <td id=\"T_1d0ea_row9_col5\" class=\"data row9 col5\" >0.6682</td>\n",
       "      <td id=\"T_1d0ea_row9_col6\" class=\"data row9 col6\" >0.4241</td>\n",
       "      <td id=\"T_1d0ea_row9_col7\" class=\"data row9 col7\" >0.0420</td>\n",
       "    </tr>\n",
       "    <tr>\n",
       "      <th id=\"T_1d0ea_level0_row10\" class=\"row_heading level0 row10\" >lr</th>\n",
       "      <td id=\"T_1d0ea_row10_col0\" class=\"data row10 col0\" >Linear Regression</td>\n",
       "      <td id=\"T_1d0ea_row10_col1\" class=\"data row10 col1\" >4166.5184</td>\n",
       "      <td id=\"T_1d0ea_row10_col2\" class=\"data row10 col2\" >36927476.2034</td>\n",
       "      <td id=\"T_1d0ea_row10_col3\" class=\"data row10 col3\" >6021.9732</td>\n",
       "      <td id=\"T_1d0ea_row10_col4\" class=\"data row10 col4\" >0.7321</td>\n",
       "      <td id=\"T_1d0ea_row10_col5\" class=\"data row10 col5\" >0.6761</td>\n",
       "      <td id=\"T_1d0ea_row10_col6\" class=\"data row10 col6\" >0.4241</td>\n",
       "      <td id=\"T_1d0ea_row10_col7\" class=\"data row10 col7\" >0.0580</td>\n",
       "    </tr>\n",
       "    <tr>\n",
       "      <th id=\"T_1d0ea_level0_row11\" class=\"row_heading level0 row11\" >dt</th>\n",
       "      <td id=\"T_1d0ea_row11_col0\" class=\"data row11 col0\" >Decision Tree Regressor</td>\n",
       "      <td id=\"T_1d0ea_row11_col1\" class=\"data row11 col1\" >3064.7076</td>\n",
       "      <td id=\"T_1d0ea_row11_col2\" class=\"data row11 col2\" >44073919.2603</td>\n",
       "      <td id=\"T_1d0ea_row11_col3\" class=\"data row11 col3\" >6539.0650</td>\n",
       "      <td id=\"T_1d0ea_row11_col4\" class=\"data row11 col4\" >0.6764</td>\n",
       "      <td id=\"T_1d0ea_row11_col5\" class=\"data row11 col5\" >0.5335</td>\n",
       "      <td id=\"T_1d0ea_row11_col6\" class=\"data row11 col6\" >0.3513</td>\n",
       "      <td id=\"T_1d0ea_row11_col7\" class=\"data row11 col7\" >0.0330</td>\n",
       "    </tr>\n",
       "    <tr>\n",
       "      <th id=\"T_1d0ea_level0_row12\" class=\"row_heading level0 row12\" >huber</th>\n",
       "      <td id=\"T_1d0ea_row12_col0\" class=\"data row12 col0\" >Huber Regressor</td>\n",
       "      <td id=\"T_1d0ea_row12_col1\" class=\"data row12 col1\" >3463.4446</td>\n",
       "      <td id=\"T_1d0ea_row12_col2\" class=\"data row12 col2\" >47208795.1447</td>\n",
       "      <td id=\"T_1d0ea_row12_col3\" class=\"data row12 col3\" >6814.1591</td>\n",
       "      <td id=\"T_1d0ea_row12_col4\" class=\"data row12 col4\" >0.6526</td>\n",
       "      <td id=\"T_1d0ea_row12_col5\" class=\"data row12 col5\" >0.4570</td>\n",
       "      <td id=\"T_1d0ea_row12_col6\" class=\"data row12 col6\" >0.2218</td>\n",
       "      <td id=\"T_1d0ea_row12_col7\" class=\"data row12 col7\" >0.0400</td>\n",
       "    </tr>\n",
       "    <tr>\n",
       "      <th id=\"T_1d0ea_level0_row13\" class=\"row_heading level0 row13\" >par</th>\n",
       "      <td id=\"T_1d0ea_row13_col0\" class=\"data row13 col0\" >Passive Aggressive Regressor</td>\n",
       "      <td id=\"T_1d0ea_row13_col1\" class=\"data row13 col1\" >3937.8368</td>\n",
       "      <td id=\"T_1d0ea_row13_col2\" class=\"data row13 col2\" >62814998.1545</td>\n",
       "      <td id=\"T_1d0ea_row13_col3\" class=\"data row13 col3\" >7851.0936</td>\n",
       "      <td id=\"T_1d0ea_row13_col4\" class=\"data row13 col4\" >0.5560</td>\n",
       "      <td id=\"T_1d0ea_row13_col5\" class=\"data row13 col5\" >0.4613</td>\n",
       "      <td id=\"T_1d0ea_row13_col6\" class=\"data row13 col6\" >0.2257</td>\n",
       "      <td id=\"T_1d0ea_row13_col7\" class=\"data row13 col7\" >0.0370</td>\n",
       "    </tr>\n",
       "    <tr>\n",
       "      <th id=\"T_1d0ea_level0_row14\" class=\"row_heading level0 row14\" >en</th>\n",
       "      <td id=\"T_1d0ea_row14_col0\" class=\"data row14 col0\" >Elastic Net</td>\n",
       "      <td id=\"T_1d0ea_row14_col1\" class=\"data row14 col1\" >7162.9098</td>\n",
       "      <td id=\"T_1d0ea_row14_col2\" class=\"data row14 col2\" >89041140.6519</td>\n",
       "      <td id=\"T_1d0ea_row14_col3\" class=\"data row14 col3\" >9375.4470</td>\n",
       "      <td id=\"T_1d0ea_row14_col4\" class=\"data row14 col4\" >0.3714</td>\n",
       "      <td id=\"T_1d0ea_row14_col5\" class=\"data row14 col5\" >0.7394</td>\n",
       "      <td id=\"T_1d0ea_row14_col6\" class=\"data row14 col6\" >0.9298</td>\n",
       "      <td id=\"T_1d0ea_row14_col7\" class=\"data row14 col7\" >0.0340</td>\n",
       "    </tr>\n",
       "    <tr>\n",
       "      <th id=\"T_1d0ea_level0_row15\" class=\"row_heading level0 row15\" >knn</th>\n",
       "      <td id=\"T_1d0ea_row15_col0\" class=\"data row15 col0\" >K Neighbors Regressor</td>\n",
       "      <td id=\"T_1d0ea_row15_col1\" class=\"data row15 col1\" >7769.9680</td>\n",
       "      <td id=\"T_1d0ea_row15_col2\" class=\"data row15 col2\" >127046741.6000</td>\n",
       "      <td id=\"T_1d0ea_row15_col3\" class=\"data row15 col3\" >11209.9198</td>\n",
       "      <td id=\"T_1d0ea_row15_col4\" class=\"data row15 col4\" >0.0986</td>\n",
       "      <td id=\"T_1d0ea_row15_col5\" class=\"data row15 col5\" >0.8286</td>\n",
       "      <td id=\"T_1d0ea_row15_col6\" class=\"data row15 col6\" >0.8964</td>\n",
       "      <td id=\"T_1d0ea_row15_col7\" class=\"data row15 col7\" >0.0350</td>\n",
       "    </tr>\n",
       "    <tr>\n",
       "      <th id=\"T_1d0ea_level0_row16\" class=\"row_heading level0 row16\" >omp</th>\n",
       "      <td id=\"T_1d0ea_row16_col0\" class=\"data row16 col0\" >Orthogonal Matching Pursuit</td>\n",
       "      <td id=\"T_1d0ea_row16_col1\" class=\"data row16 col1\" >8894.8353</td>\n",
       "      <td id=\"T_1d0ea_row16_col2\" class=\"data row16 col2\" >131919240.1475</td>\n",
       "      <td id=\"T_1d0ea_row16_col3\" class=\"data row16 col3\" >11415.8443</td>\n",
       "      <td id=\"T_1d0ea_row16_col4\" class=\"data row16 col4\" >0.0704</td>\n",
       "      <td id=\"T_1d0ea_row16_col5\" class=\"data row16 col5\" >0.8835</td>\n",
       "      <td id=\"T_1d0ea_row16_col6\" class=\"data row16 col6\" >1.1666</td>\n",
       "      <td id=\"T_1d0ea_row16_col7\" class=\"data row16 col7\" >0.0340</td>\n",
       "    </tr>\n",
       "    <tr>\n",
       "      <th id=\"T_1d0ea_level0_row17\" class=\"row_heading level0 row17\" >dummy</th>\n",
       "      <td id=\"T_1d0ea_row17_col0\" class=\"data row17 col0\" >Dummy Regressor</td>\n",
       "      <td id=\"T_1d0ea_row17_col1\" class=\"data row17 col1\" >8834.0628</td>\n",
       "      <td id=\"T_1d0ea_row17_col2\" class=\"data row17 col2\" >143941824.8000</td>\n",
       "      <td id=\"T_1d0ea_row17_col3\" class=\"data row17 col3\" >11937.6843</td>\n",
       "      <td id=\"T_1d0ea_row17_col4\" class=\"data row17 col4\" >-0.0157</td>\n",
       "      <td id=\"T_1d0ea_row17_col5\" class=\"data row17 col5\" >1.0013</td>\n",
       "      <td id=\"T_1d0ea_row17_col6\" class=\"data row17 col6\" >1.5245</td>\n",
       "      <td id=\"T_1d0ea_row17_col7\" class=\"data row17 col7\" >0.0330</td>\n",
       "    </tr>\n",
       "  </tbody>\n",
       "</table>\n"
      ],
      "text/plain": [
       "<pandas.io.formats.style.Styler at 0x1a60e07e0a0>"
      ]
     },
     "metadata": {},
     "output_type": "display_data"
    }
   ],
   "source": [
    "best = compare_models()"
   ]
  },
  {
   "cell_type": "code",
   "execution_count": 15,
   "metadata": {},
   "outputs": [
    {
     "data": {
      "application/vnd.jupyter.widget-view+json": {
       "model_id": "5d6e9433a6cb455b8d0715f529205980",
       "version_major": 2,
       "version_minor": 0
      },
      "text/plain": [
       "interactive(children=(ToggleButtons(description='Plot Type:', icons=('',), options=(('Pipeline Plot', 'pipelin…"
      ]
     },
     "metadata": {},
     "output_type": "display_data"
    }
   ],
   "source": [
    "evaluate_model(best)"
   ]
  },
  {
   "cell_type": "code",
   "execution_count": 16,
   "metadata": {},
   "outputs": [],
   "source": [
    "from pycaret.datasets import get_data\n",
    "data = get_data('jewellery')"
   ]
  },
  {
   "cell_type": "code",
   "execution_count": 17,
   "metadata": {},
   "outputs": [],
   "source": [
    "from pycaret.clustering import *\n",
    "s = setup(data, normalize = True)"
   ]
  },
  {
   "cell_type": "code",
   "execution_count": 18,
   "metadata": {},
   "outputs": [
    {
     "data": {
      "text/html": [
       "<div>\n",
       "<style scoped>\n",
       "    .dataframe tbody tr th:only-of-type {\n",
       "        vertical-align: middle;\n",
       "    }\n",
       "\n",
       "    .dataframe tbody tr th {\n",
       "        vertical-align: top;\n",
       "    }\n",
       "\n",
       "    .dataframe thead th {\n",
       "        text-align: right;\n",
       "    }\n",
       "</style>\n",
       "<table border=\"1\" class=\"dataframe\">\n",
       "  <thead>\n",
       "    <tr style=\"text-align: right;\">\n",
       "      <th></th>\n",
       "      <th></th>\n",
       "      <th></th>\n",
       "    </tr>\n",
       "    <tr>\n",
       "      <th></th>\n",
       "      <th></th>\n",
       "      <th></th>\n",
       "    </tr>\n",
       "  </thead>\n",
       "  <tbody>\n",
       "    <tr>\n",
       "      <th>Initiated</th>\n",
       "      <td>. . . . . . . . . . . . . . . . . .</td>\n",
       "      <td>10:16:06</td>\n",
       "    </tr>\n",
       "    <tr>\n",
       "      <th>Status</th>\n",
       "      <td>. . . . . . . . . . . . . . . . . .</td>\n",
       "      <td>Fitting 4 Clusters</td>\n",
       "    </tr>\n",
       "    <tr>\n",
       "      <th>Estimator</th>\n",
       "      <td>. . . . . . . . . . . . . . . . . .</td>\n",
       "      <td>K-Means Clustering</td>\n",
       "    </tr>\n",
       "  </tbody>\n",
       "</table>\n",
       "</div>"
      ],
      "text/plain": [
       "                                                                  \n",
       "                                                                  \n",
       "Initiated  . . . . . . . . . . . . . . . . . .            10:16:06\n",
       "Status     . . . . . . . . . . . . . . . . . .  Fitting 4 Clusters\n",
       "Estimator  . . . . . . . . . . . . . . . . . .  K-Means Clustering"
      ]
     },
     "metadata": {},
     "output_type": "display_data"
    },
    {
     "data": {
      "text/html": [
       "<style type=\"text/css\">\n",
       "</style>\n",
       "<table id=\"T_648a7\">\n",
       "  <thead>\n",
       "    <tr>\n",
       "      <th class=\"blank level0\" >&nbsp;</th>\n",
       "      <th id=\"T_648a7_level0_col0\" class=\"col_heading level0 col0\" >Silhouette</th>\n",
       "      <th id=\"T_648a7_level0_col1\" class=\"col_heading level0 col1\" >Calinski-Harabasz</th>\n",
       "      <th id=\"T_648a7_level0_col2\" class=\"col_heading level0 col2\" >Davies-Bouldin</th>\n",
       "      <th id=\"T_648a7_level0_col3\" class=\"col_heading level0 col3\" >Homogeneity</th>\n",
       "      <th id=\"T_648a7_level0_col4\" class=\"col_heading level0 col4\" >Rand Index</th>\n",
       "      <th id=\"T_648a7_level0_col5\" class=\"col_heading level0 col5\" >Completeness</th>\n",
       "    </tr>\n",
       "  </thead>\n",
       "  <tbody>\n",
       "    <tr>\n",
       "      <th id=\"T_648a7_level0_row0\" class=\"row_heading level0 row0\" >0</th>\n",
       "      <td id=\"T_648a7_row0_col0\" class=\"data row0 col0\" >0.7581</td>\n",
       "      <td id=\"T_648a7_row0_col1\" class=\"data row0 col1\" >1611.2647</td>\n",
       "      <td id=\"T_648a7_row0_col2\" class=\"data row0 col2\" >0.3743</td>\n",
       "      <td id=\"T_648a7_row0_col3\" class=\"data row0 col3\" >0</td>\n",
       "      <td id=\"T_648a7_row0_col4\" class=\"data row0 col4\" >0</td>\n",
       "      <td id=\"T_648a7_row0_col5\" class=\"data row0 col5\" >0</td>\n",
       "    </tr>\n",
       "  </tbody>\n",
       "</table>\n"
      ],
      "text/plain": [
       "<pandas.io.formats.style.Styler at 0x1a6075d2790>"
      ]
     },
     "metadata": {},
     "output_type": "display_data"
    },
    {
     "data": {
      "text/html": [
       "<style type=\"text/css\">\n",
       "</style>\n",
       "<table id=\"T_648a7\">\n",
       "  <thead>\n",
       "    <tr>\n",
       "      <th class=\"blank level0\" >&nbsp;</th>\n",
       "      <th id=\"T_648a7_level0_col0\" class=\"col_heading level0 col0\" >Silhouette</th>\n",
       "      <th id=\"T_648a7_level0_col1\" class=\"col_heading level0 col1\" >Calinski-Harabasz</th>\n",
       "      <th id=\"T_648a7_level0_col2\" class=\"col_heading level0 col2\" >Davies-Bouldin</th>\n",
       "      <th id=\"T_648a7_level0_col3\" class=\"col_heading level0 col3\" >Homogeneity</th>\n",
       "      <th id=\"T_648a7_level0_col4\" class=\"col_heading level0 col4\" >Rand Index</th>\n",
       "      <th id=\"T_648a7_level0_col5\" class=\"col_heading level0 col5\" >Completeness</th>\n",
       "    </tr>\n",
       "  </thead>\n",
       "  <tbody>\n",
       "    <tr>\n",
       "      <th id=\"T_648a7_level0_row0\" class=\"row_heading level0 row0\" >0</th>\n",
       "      <td id=\"T_648a7_row0_col0\" class=\"data row0 col0\" >0.7581</td>\n",
       "      <td id=\"T_648a7_row0_col1\" class=\"data row0 col1\" >1611.2647</td>\n",
       "      <td id=\"T_648a7_row0_col2\" class=\"data row0 col2\" >0.3743</td>\n",
       "      <td id=\"T_648a7_row0_col3\" class=\"data row0 col3\" >0</td>\n",
       "      <td id=\"T_648a7_row0_col4\" class=\"data row0 col4\" >0</td>\n",
       "      <td id=\"T_648a7_row0_col5\" class=\"data row0 col5\" >0</td>\n",
       "    </tr>\n",
       "  </tbody>\n",
       "</table>\n"
      ],
      "text/plain": [
       "<pandas.io.formats.style.Styler at 0x1a6075d2790>"
      ]
     },
     "metadata": {},
     "output_type": "display_data"
    }
   ],
   "source": [
    "kmeans = create_model('kmeans')"
   ]
  },
  {
   "cell_type": "code",
   "execution_count": 19,
   "metadata": {},
   "outputs": [
    {
     "data": {
      "application/vnd.jupyter.widget-view+json": {
       "model_id": "f23b70d6df6742ea96d0383d3fb08243",
       "version_major": 2,
       "version_minor": 0
      },
      "text/plain": [
       "interactive(children=(ToggleButtons(description='Plot Type:', icons=('',), options=(('Pipeline Plot', 'pipelin…"
      ]
     },
     "metadata": {},
     "output_type": "display_data"
    },
    {
     "data": {
      "application/vnd.plotly.v1+json": {
       "config": {
        "plotlyServerURL": "https://plot.ly"
       },
       "data": [
        {
         "customdata": [
          [
           32
          ],
          [
           29
          ],
          [
           32
          ],
          [
           29
          ],
          [
           87
          ],
          [
           37
          ],
          [
           32
          ],
          [
           29
          ],
          [
           29
          ],
          [
           25
          ],
          [
           30
          ],
          [
           35
          ],
          [
           34
          ],
          [
           29
          ],
          [
           86
          ],
          [
           37
          ],
          [
           29
          ],
          [
           34
          ],
          [
           36
          ],
          [
           39
          ],
          [
           38
          ],
          [
           31
          ],
          [
           36
          ],
          [
           38
          ],
          [
           29
          ],
          [
           31
          ],
          [
           29
          ],
          [
           22
          ],
          [
           33
          ],
          [
           35
          ],
          [
           28
          ],
          [
           30
          ],
          [
           28
          ],
          [
           35
          ],
          [
           82
          ],
          [
           33
          ],
          [
           28
          ],
          [
           34
          ],
          [
           32
          ],
          [
           82
          ],
          [
           35
          ],
          [
           31
          ],
          [
           93
          ],
          [
           31
          ],
          [
           31
          ],
          [
           86
          ],
          [
           28
          ],
          [
           86
          ],
          [
           30
          ],
          [
           30
          ],
          [
           34
          ],
          [
           31
          ],
          [
           28
          ],
          [
           36
          ],
          [
           90
          ],
          [
           31
          ],
          [
           88
          ],
          [
           37
          ],
          [
           33
          ],
          [
           26
          ],
          [
           24
          ],
          [
           36
          ],
          [
           33
          ],
          [
           31
          ],
          [
           29
          ],
          [
           40
          ],
          [
           42
          ],
          [
           34
          ],
          [
           84
          ],
          [
           37
          ],
          [
           37
          ],
          [
           36
          ],
          [
           91
          ],
          [
           34
          ],
          [
           77
          ],
          [
           35
          ],
          [
           29
          ],
          [
           84
          ],
          [
           34
          ],
          [
           33
          ],
          [
           39
          ],
          [
           38
          ],
          [
           28
          ],
          [
           33
          ],
          [
           88
          ],
          [
           85
          ],
          [
           36
          ],
          [
           31
          ],
          [
           36
          ],
          [
           83
          ],
          [
           31
          ],
          [
           37
          ],
          [
           37
          ],
          [
           44
          ],
          [
           43
          ],
          [
           34
          ],
          [
           37
          ],
          [
           33
          ],
          [
           90
          ],
          [
           31
          ],
          [
           29
          ],
          [
           83
          ],
          [
           31
          ],
          [
           33
          ],
          [
           30
          ],
          [
           34
          ],
          [
           30
          ],
          [
           33
          ],
          [
           30
          ],
          [
           37
          ],
          [
           35
          ],
          [
           35
          ],
          [
           35
          ],
          [
           35
          ],
          [
           33
          ],
          [
           33
          ],
          [
           36
          ],
          [
           32
          ],
          [
           31
          ],
          [
           89
          ],
          [
           30
          ],
          [
           84
          ],
          [
           33
          ],
          [
           30
          ],
          [
           33
          ],
          [
           31
          ],
          [
           85
          ],
          [
           36
          ],
          [
           30
          ],
          [
           88
          ],
          [
           34
          ],
          [
           35
          ],
          [
           33
          ],
          [
           31
          ],
          [
           30
          ],
          [
           84
          ],
          [
           32
          ],
          [
           37
          ],
          [
           92
          ],
          [
           27
          ],
          [
           31
          ],
          [
           39
          ],
          [
           31
          ],
          [
           34
          ],
          [
           83
          ],
          [
           38
          ],
          [
           36
          ],
          [
           25
          ],
          [
           28
          ],
          [
           31
          ],
          [
           32
          ]
         ],
         "hovertemplate": "Cluster=Cluster 0<br>PCA1=%{x}<br>PCA2=%{y}<br>Feature=%{customdata[0]}<extra></extra>",
         "legendgroup": "Cluster 0",
         "marker": {
          "color": "#636efa",
          "opacity": 0.5,
          "symbol": "circle"
         },
         "mode": "markers",
         "name": "Cluster 0",
         "orientation": "v",
         "showlegend": true,
         "textposition": "top center",
         "type": "scatter",
         "x": [
          -0.08843565640624386,
          0.6209177796273914,
          -0.01708539440011196,
          0.37690900092272817,
          -0.9670629893092274,
          0.3200645772375869,
          0.32921287094118223,
          0.18989269112541823,
          0.1471132276826011,
          0.40538313655773234,
          0.23417750997887743,
          0.012671801975977037,
          0.014221911379844843,
          0.32782637402305875,
          -1.2481136231302234,
          -0.11069432274793711,
          0.5747337667244655,
          0.18865344556644867,
          0.3029435101187431,
          -0.04760087566338906,
          -0.09633293567621437,
          0.48999091007768,
          -0.033678189877597436,
          0.21730441200175946,
          0.5268484618876359,
          0.35806257455486995,
          0.25870617603376767,
          0.4086853376162122,
          0.07021001806088785,
          0.29574810277516156,
          0.1327613308936217,
          0.3886296789790019,
          0.23395695392934657,
          -0.05730433676772361,
          -0.9675569341635273,
          0.3752451861591101,
          0.10836349308851115,
          0.24302668050736037,
          0.19313300482210524,
          -1.0432102475267335,
          0.2045562389768467,
          0.2407996967308975,
          -1.1784391771348162,
          0.7206924895154385,
          0.40994647080598784,
          -0.7634175002438888,
          0.4492071224815621,
          -1.190867353462852,
          0.4200019700884518,
          0.10798190849729221,
          -0.048158401129716595,
          0.3333764909069375,
          0.15203680877924391,
          0.14166263743097313,
          -0.9541647230065955,
          0.2686542324255687,
          -1.0392532826408907,
          0.3880954533197916,
          0.39048243211305844,
          0.1424807605402497,
          0.4670474196065631,
          0.10015090672814944,
          0.41939999810333195,
          0.32955810175474615,
          0.4717467165334149,
          -0.17843253697327596,
          0.10755104259987543,
          0.2862548064665958,
          -1.0903663086914088,
          0.3109793267163909,
          -0.13748781267257387,
          0.23536293605830824,
          -1.242785349199926,
          0.31007185695746164,
          -0.8348661374051698,
          0.3956742558540011,
          0.2528098247551934,
          -1.1915520070338943,
          0.3833588984725661,
          0.21584760970015046,
          -0.1854799314061623,
          0.3379530615508677,
          0.570284712228448,
          0.22843064435005742,
          -1.6249127846829232,
          -1.0212922752555396,
          0.22836613364074415,
          0.49505500000744956,
          0.06669640833247195,
          -1.1277989607099257,
          0.024457731480086724,
          0.18370795238168022,
          0.14987783471490648,
          0.2140679440699631,
          0.1615014880110377,
          0.1368969320142828,
          0.16539833779945531,
          0.34601027990822475,
          -1.209876703314411,
          0.3474753477856399,
          0.18708409504009718,
          -0.9552849167539067,
          0.4031937749459454,
          0.2534949984394278,
          0.2529755930299894,
          -0.22938327018966154,
          0.5330680457332427,
          0.23575529207735058,
          0.10470996541711504,
          -0.15415708313395574,
          0.2220005508479035,
          0.18269464454382192,
          0.08619074425664011,
          0.07082608217652592,
          -0.0243061778510706,
          0.1817635048732861,
          0.16245405345980246,
          0.47085796848885914,
          0.4704027428134174,
          -1.292152465973871,
          0.28531758205488017,
          -0.9031905734664332,
          0.03699655649374179,
          0.3071298201159737,
          0.3138346180986758,
          -0.015301315617337306,
          -1.3983098514143737,
          -0.153045464195043,
          0.4262593783536394,
          -1.0975612735885782,
          0.4088934982537294,
          0.15596872004916557,
          0.2030777009015528,
          0.43275660146338457,
          0.22944948238709376,
          -1.2666202761220255,
          0.05098714428991396,
          0.13527403086539103,
          -1.0952301329315228,
          0.2857223152622022,
          0.42774883345496834,
          -0.019187063263515637,
          0.11017438441604852,
          0.2304676058177123,
          -1.197595573995705,
          0.27421496881147106,
          -0.0686332143154906,
          0.29052625921572145,
          0.4196126094108741,
          0.24405108167489162,
          0.4241267904737014
         ],
         "xaxis": "x",
         "y": [
          1.827933592312107,
          1.567268585635607,
          1.642421621906373,
          1.6541405199866852,
          1.0706344836522836,
          1.439632272176083,
          1.623856695100838,
          1.7329710142513859,
          1.6852232384430963,
          1.7628075982504288,
          1.4609129956575242,
          1.8431367338776334,
          1.5946020915388945,
          1.604914673023719,
          1.5822628167983044,
          1.7989046071428343,
          1.8315728608200954,
          1.626568552336557,
          1.5526622020249556,
          1.4687294476473312,
          1.3905682317427923,
          1.7492547422359523,
          1.518102854085557,
          1.3840144713116405,
          1.7074318423573016,
          1.5628044477446121,
          1.6856596988448171,
          1.9740726772901882,
          1.969740116627839,
          1.3939504094346484,
          1.6239620763416722,
          1.7142458945666077,
          1.620393559328491,
          1.875357487461219,
          1.4027015868432704,
          1.7995711473299298,
          1.8203269548922092,
          1.6242223756932637,
          1.6485887320386272,
          1.5599327591141465,
          1.7192415822105924,
          1.7288554601504262,
          1.3195283019356372,
          1.3508523956475273,
          1.6457160200113277,
          1.2243905626141156,
          1.850005394960067,
          1.27929092809098,
          1.5791511258499644,
          1.9551017959482675,
          1.7782218963672973,
          1.4389177834699078,
          1.748243621710791,
          1.6379037455257945,
          0.9893579282310021,
          1.6683769187201245,
          1.313529980643634,
          1.4121023340577579,
          1.3470471768457266,
          1.769753247505828,
          1.9073392847817212,
          1.6948995367702555,
          1.7434932540225687,
          1.5755302033651408,
          1.849558101066976,
          1.5557085096903736,
          1.4363191296982463,
          1.1386862990336823,
          1.2543911832820012,
          1.5576452851593496,
          1.9393261032562321,
          1.5278631091379469,
          1.2472155265607736,
          1.9068400554312839,
          1.6633252754404946,
          1.633262043469114,
          1.8908250036218388,
          1.207173714468001,
          1.6070736167135966,
          1.7098543670336435,
          1.6505739051015138,
          1.567665985044427,
          1.608650145093386,
          1.3602033073351607,
          1.534334855488961,
          1.2016266712343688,
          1.3946960951346228,
          1.6722885899019195,
          1.7356201338828485,
          1.3804689887923014,
          1.8809435326607964,
          1.6274930606611868,
          1.6099944616725783,
          1.4915248779052874,
          1.1885110799135463,
          1.6224836530958542,
          1.3074850459649343,
          1.595979971676153,
          1.3846394655480816,
          1.64459511864475,
          1.5100587117890967,
          1.1784851030346268,
          1.6709257858407838,
          1.6210649589932002,
          1.8050070559334652,
          1.8646990635027574,
          1.5752059739870663,
          1.290231445194518,
          1.7883369100459325,
          1.629954512785756,
          1.8694706537538346,
          1.608229363000955,
          1.6215237789267252,
          1.6776867403070848,
          1.7425572756054546,
          1.559809759020797,
          1.469156904591842,
          1.7797650101528022,
          1.6505084641177985,
          1.3272072145860685,
          1.7974611512875198,
          1.2898573129879842,
          1.598023964357372,
          1.5713309202800716,
          1.5917902760458622,
          1.7923009736397542,
          1.379567128264265,
          1.7117805229656005,
          1.4308145577816294,
          1.2589971606078183,
          1.4115549877170972,
          1.590601792009087,
          1.7269874254785929,
          1.6303414351470518,
          1.4856662614493938,
          1.3289766394539364,
          1.899663790337913,
          1.7136273571719454,
          1.1727357256427755,
          1.8709051196978224,
          1.7193221511506929,
          1.4381686133010116,
          1.727552835103925,
          1.3890042364188555,
          1.4958441049619173,
          1.6670982850467233,
          1.5834940212505582,
          1.7901953904841919,
          1.508125756460907,
          1.9799561709420017,
          1.652155893887287
         ],
         "yaxis": "y"
        },
        {
         "customdata": [
          [
           22
          ],
          [
           27
          ],
          [
           21
          ],
          [
           18
          ],
          [
           26
          ],
          [
           29
          ],
          [
           31
          ],
          [
           27
          ],
          [
           17
          ],
          [
           25
          ],
          [
           26
          ],
          [
           28
          ],
          [
           29
          ],
          [
           23
          ],
          [
           25
          ],
          [
           25
          ],
          [
           28
          ],
          [
           24
          ],
          [
           26
          ],
          [
           28
          ],
          [
           23
          ],
          [
           30
          ],
          [
           20
          ],
          [
           24
          ],
          [
           20
          ],
          [
           22
          ],
          [
           24
          ],
          [
           17
          ],
          [
           23
          ],
          [
           25
          ],
          [
           20
          ],
          [
           22
          ],
          [
           23
          ],
          [
           24
          ],
          [
           28
          ],
          [
           24
          ],
          [
           29
          ],
          [
           26
          ],
          [
           18
          ],
          [
           17
          ],
          [
           25
          ],
          [
           26
          ],
          [
           25
          ],
          [
           27
          ],
          [
           28
          ],
          [
           24
          ],
          [
           28
          ],
          [
           21
          ],
          [
           24
          ],
          [
           17
          ]
         ],
         "hovertemplate": "Cluster=Cluster 1<br>PCA1=%{x}<br>PCA2=%{y}<br>Feature=%{customdata[0]}<extra></extra>",
         "legendgroup": "Cluster 1",
         "marker": {
          "color": "#EF553B",
          "opacity": 0.5,
          "symbol": "circle"
         },
         "mode": "markers",
         "name": "Cluster 1",
         "orientation": "v",
         "showlegend": true,
         "textposition": "top center",
         "type": "scatter",
         "x": [
          2.9555456794194708,
          2.7928142681585473,
          3.133688710671575,
          3.0185007250619513,
          2.9467083858755925,
          2.9969656622217276,
          2.8857013607379103,
          3.136928597926131,
          3.6060109830904388,
          2.6834430250258134,
          3.023341890979651,
          3.189901759657707,
          3.0194786789947643,
          3.28966598806824,
          2.994613838642683,
          2.877206334490921,
          3.0574046541750186,
          2.968490865539398,
          2.7615134859068293,
          3.109047720144276,
          2.9965294398023987,
          2.582432396706413,
          3.022211374006027,
          3.078513248641607,
          2.910054495720981,
          3.227134982539563,
          3.1060514292418504,
          3.248021411673842,
          3.028470892240418,
          3.314783184741441,
          2.964529963611344,
          2.9790409929313384,
          2.8210846896529786,
          3.027670185270691,
          2.727690789607609,
          3.1284383602323276,
          2.9081920541225266,
          3.0296826673969783,
          2.8596496306311026,
          3.2033839684024508,
          2.7441229287241726,
          2.65803106417447,
          3.0625443827330554,
          2.8772200960558347,
          2.6248468632979014,
          3.3345886308526147,
          2.6126329530035712,
          3.0184648758940784,
          2.836009011933873,
          3.318657383723655
         ],
         "xaxis": "x",
         "y": [
          0.2758660373565886,
          -0.13296706160376348,
          0.005365721165936023,
          0.2698159763427635,
          0.07393602818372165,
          -0.3238423806182258,
          -0.2874926435025406,
          -0.33384212807692926,
          -0.020802585188701535,
          0.03876450528017578,
          -0.27978962354909886,
          -0.3934181166799313,
          0.1262019811867345,
          0.055498882701406675,
          0.004345556023207903,
          0.15353835692851503,
          -0.3726669612744837,
          0.09709136868596502,
          0.02747241492397662,
          -0.2267284050142026,
          0.10028251723062692,
          -0.01183156804212635,
          0.12765057804110824,
          0.11283445585873232,
          0.24234807841349099,
          0.023558547283750286,
          0.046652922261199194,
          0.22315486658724845,
          -0.0051018740226373895,
          -0.06019129028331314,
          0.030777093442380887,
          -0.17767734510080516,
          -0.016743577311613588,
          0.03958604219247592,
          0.06575239258431748,
          -0.12386297752445953,
          0.014594534918112474,
          -0.11781866110151151,
          0.27202293895310986,
          -0.047595338429595846,
          0.22846587950490588,
          0.2200058421600644,
          -0.024788437198481852,
          -0.15961214015413416,
          -0.10508687804990434,
          -0.02342727176877068,
          0.007656245740533783,
          0.025679173060421643,
          -0.07559244793310589,
          0.1814947621953868
         ],
         "yaxis": "y"
        },
        {
         "customdata": [
          [
           87
          ],
          [
           87
          ],
          [
           92
          ],
          [
           92
          ],
          [
           93
          ],
          [
           90
          ],
          [
           91
          ],
          [
           91
          ],
          [
           85
          ],
          [
           84
          ],
          [
           87
          ],
          [
           87
          ],
          [
           89
          ],
          [
           94
          ],
          [
           87
          ],
          [
           91
          ],
          [
           89
          ],
          [
           88
          ],
          [
           90
          ],
          [
           91
          ],
          [
           84
          ],
          [
           92
          ],
          [
           93
          ],
          [
           87
          ],
          [
           84
          ],
          [
           91
          ],
          [
           90
          ],
          [
           88
          ],
          [
           91
          ],
          [
           89
          ],
          [
           88
          ],
          [
           97
          ],
          [
           88
          ],
          [
           84
          ],
          [
           85
          ],
          [
           86
          ],
          [
           86
          ],
          [
           91
          ],
          [
           86
          ],
          [
           87
          ],
          [
           88
          ],
          [
           91
          ],
          [
           87
          ],
          [
           83
          ],
          [
           83
          ],
          [
           91
          ],
          [
           79
          ],
          [
           83
          ],
          [
           84
          ],
          [
           90
          ],
          [
           83
          ],
          [
           90
          ],
          [
           86
          ],
          [
           87
          ],
          [
           82
          ],
          [
           88
          ],
          [
           88
          ],
          [
           90
          ],
          [
           84
          ],
          [
           87
          ],
          [
           88
          ],
          [
           94
          ],
          [
           92
          ],
          [
           87
          ],
          [
           91
          ],
          [
           85
          ],
          [
           82
          ],
          [
           89
          ],
          [
           84
          ],
          [
           94
          ],
          [
           88
          ],
          [
           87
          ],
          [
           92
          ],
          [
           92
          ],
          [
           85
          ],
          [
           88
          ],
          [
           94
          ],
          [
           88
          ],
          [
           87
          ],
          [
           90
          ],
          [
           93
          ],
          [
           90
          ],
          [
           82
          ],
          [
           89
          ],
          [
           84
          ],
          [
           91
          ],
          [
           83
          ],
          [
           88
          ],
          [
           89
          ],
          [
           89
          ],
          [
           95
          ],
          [
           85
          ],
          [
           83
          ],
          [
           90
          ],
          [
           92
          ],
          [
           84
          ],
          [
           88
          ],
          [
           84
          ],
          [
           88
          ],
          [
           89
          ],
          [
           88
          ],
          [
           91
          ],
          [
           94
          ],
          [
           88
          ],
          [
           85
          ],
          [
           91
          ],
          [
           94
          ],
          [
           85
          ],
          [
           94
          ],
          [
           85
          ],
          [
           85
          ],
          [
           87
          ],
          [
           88
          ],
          [
           89
          ],
          [
           87
          ],
          [
           85
          ],
          [
           92
          ],
          [
           84
          ],
          [
           82
          ],
          [
           86
          ],
          [
           83
          ],
          [
           79
          ],
          [
           83
          ],
          [
           83
          ],
          [
           90
          ],
          [
           87
          ],
          [
           87
          ],
          [
           83
          ],
          [
           86
          ],
          [
           81
          ],
          [
           91
          ],
          [
           84
          ],
          [
           91
          ],
          [
           82
          ],
          [
           91
          ],
          [
           84
          ],
          [
           86
          ],
          [
           90
          ],
          [
           91
          ],
          [
           85
          ],
          [
           89
          ],
          [
           89
          ],
          [
           91
          ],
          [
           87
          ],
          [
           86
          ],
          [
           89
          ],
          [
           86
          ]
         ],
         "hovertemplate": "Cluster=Cluster 2<br>PCA1=%{x}<br>PCA2=%{y}<br>Feature=%{customdata[0]}<extra></extra>",
         "legendgroup": "Cluster 2",
         "marker": {
          "color": "#00cc96",
          "opacity": 0.5,
          "symbol": "circle"
         },
         "mode": "markers",
         "name": "Cluster 2",
         "orientation": "v",
         "showlegend": true,
         "textposition": "top center",
         "type": "scatter",
         "x": [
          -2.1763682898835333,
          -2.2149141307911275,
          -2.0620186995784318,
          -2.138370657346907,
          -2.567401616987833,
          -2.124614768331663,
          -2.19874928119205,
          -2.0219203587556156,
          -1.7799235382684186,
          -1.881953367912158,
          -1.641510042695399,
          -1.979736551078365,
          -2.1055768655960208,
          -2.089773101911317,
          -2.061750629315316,
          -2.0596221679142706,
          -2.13387329555879,
          -2.3256650636920932,
          -1.911385097560802,
          -2.160132373258197,
          -2.0794015782267965,
          -2.441357659333779,
          -2.6650846141014095,
          -1.9494241646564787,
          -2.0392936585620487,
          -2.2638312895478494,
          -2.236745028601451,
          -2.025714969838247,
          -2.2719688056072083,
          -1.961473368340984,
          -1.9475645518884874,
          -2.1665825094251763,
          -2.1045480550454108,
          -2.0126101180565628,
          -2.213564388378537,
          -2.0773059378719783,
          -2.3022948107819055,
          -2.2875822229613885,
          -2.1279588894662034,
          -1.9726821491870006,
          -1.9803938458771329,
          -2.1795387137149747,
          -2.1869226852858175,
          -2.075245210099716,
          -1.6920136110418922,
          -1.9888631880066798,
          -1.651896587162527,
          -2.084895640116759,
          -2.061047208898027,
          -2.495736735893433,
          -1.8501139452750146,
          -2.005727845175853,
          -1.9440773058871808,
          -1.8905345605431274,
          -2.05175276790885,
          -2.1966542995106217,
          -2.372239580998223,
          -1.9237706946125328,
          -1.826844801651375,
          -1.877710653652461,
          -1.8568486460830838,
          -2.404282702568817,
          -2.1151354477730853,
          -2.1694527671158923,
          -2.4708555943873143,
          -2.0693762576312373,
          -1.9316929871361508,
          -1.6899782169382016,
          -2.3536231808272685,
          -2.064027137588369,
          -1.7185088195699372,
          -1.9122344808169949,
          -1.9876134372615235,
          -2.0072052114473364,
          -2.1555298773976754,
          -1.947941795081314,
          -2.3241773386525253,
          -1.8744645494467431,
          -2.189494705386438,
          -2.034846425697368,
          -2.4199341739816447,
          -2.0875236402024995,
          -1.9126164348236832,
          -2.1601504902786357,
          -1.8555917416330423,
          -2.3963856007419473,
          -1.8945487121532514,
          -2.2967077311387,
          -2.054961244704751,
          -2.2696247431645316,
          -2.3908001435492796,
          -1.9593513155850932,
          -1.719667147444744,
          -1.810877137126544,
          -2.309183231810423,
          -2.108265172091554,
          -2.181045521331897,
          -1.8125975255263724,
          -1.8583744423673199,
          -1.5876423955693562,
          -1.8776590854293702,
          -2.446140175242717,
          -2.3009029173797333,
          -2.1884137562413697,
          -1.8598620401888173,
          -2.060675629197233,
          -2.1219968431651943,
          -1.8605670449487415,
          -2.2408627709960416,
          -1.8449566183283646,
          -2.106310819378065,
          -2.0156696945282224,
          -1.963514259794928,
          -2.2267334918073933,
          -2.136866476304989,
          -1.7579711332465604,
          -2.054528381860749,
          -2.137448004271142,
          -2.1423466546319894,
          -1.760510114942579,
          -2.0488757032995775,
          -1.7340496123279114,
          -2.074064242540012,
          -2.0660308350734238,
          -2.1132550638960677,
          -2.100964510194924,
          -1.9208510429010548,
          -2.1726077535690322,
          -2.0904896589170594,
          -1.9100567546298204,
          -2.3779000563006965,
          -1.8540489541166658,
          -2.351103385993931,
          -1.687260197005142,
          -2.1905824778069074,
          -2.316872994161008,
          -2.3114408292046247,
          -2.0546986874034014,
          -2.209528595089089,
          -2.034198832156783,
          -1.892509556390573,
          -1.9874389966732815,
          -2.284116925066547,
          -2.011017746214522,
          -2.032547250920052,
          -2.109974125683563,
          -2.408625989054941
         ],
         "xaxis": "x",
         "y": [
          -0.6740200744548941,
          -0.5241277681177697,
          -0.554971364200561,
          -0.8410375014215649,
          -0.5584256319110373,
          -0.4603720489837995,
          -0.6138385532456793,
          -0.5746310157584503,
          -0.6441540104159154,
          -0.2942210506782687,
          -0.32005218437182886,
          -0.4565938408903673,
          -0.5517801062784089,
          -0.4424074339759886,
          -0.39991666446128404,
          -0.6563181470502274,
          -0.5696768817440946,
          -0.5350079372274519,
          -0.5456030013787856,
          -0.5893188314701034,
          -0.560857316899235,
          -0.5181762316186265,
          -0.3562744332782789,
          -0.6280532039655614,
          -0.40534452684214956,
          -0.4544444329117233,
          -0.5264186996992543,
          -0.5390371933703422,
          -0.44915292759201764,
          -0.6400389921177896,
          -0.5215544689094561,
          -0.7505233015126642,
          -0.6480071046379436,
          -0.6402758608991832,
          -0.2550458445323655,
          -0.6825634242360209,
          -0.11431721526800992,
          -0.875563363666513,
          -0.13911050506757666,
          -0.20918445238774824,
          -0.4501763107308208,
          -0.6347762918396858,
          -0.8067995569356419,
          -0.37940308890307894,
          -0.46643971836704057,
          -0.46772412504721833,
          -0.2911760646700434,
          -0.5585027453296466,
          -0.41872262764416973,
          -0.3681076091768782,
          -0.4274958159412946,
          -0.42003098716449067,
          -0.5298424005360372,
          -0.5393495897616243,
          -0.15961906470712972,
          -0.6273116697679456,
          -0.5161724087173123,
          -0.627374559523969,
          -0.36716053774523355,
          -0.6206342835178321,
          -0.7054103979478968,
          -0.7173393400405397,
          -0.4297369402779886,
          -0.3689559611316347,
          -0.24687040779735023,
          -0.5698597167158757,
          -0.300340311798055,
          -0.6934908301507857,
          -0.10320599172187563,
          -0.7464151677357719,
          -0.703494683526787,
          -0.6857124943849289,
          -0.6418532294699377,
          -0.5682786079006387,
          -0.3982907723056855,
          -0.6458564147851067,
          -0.5246607801291666,
          -0.6191144593009184,
          -0.586917287681972,
          -0.5728525797446411,
          -0.5971884642663124,
          -0.6338688044084945,
          -0.3122007502583821,
          -0.6676343563650065,
          -0.5744379782396484,
          -0.10743763606388074,
          -0.3030524590508676,
          -0.19658001770472303,
          -0.7539529182760795,
          -0.28863262661912503,
          -0.548099442566266,
          -0.30459471590206494,
          -0.6422730817663537,
          -0.6893553855124898,
          -0.6093340007317017,
          -0.31381835673691516,
          -0.4708774934516635,
          -0.19896479018514376,
          -0.5353794322734132,
          -1.0908349749742379,
          -0.7015103602484013,
          -0.2782958034046498,
          -0.6493932058674967,
          -0.40186519939544935,
          -0.4342811535446774,
          -0.541789183446163,
          -0.7167505909540551,
          -0.5908679438455626,
          -0.7895587957764538,
          -0.7365498286947543,
          -0.2844963006679818,
          -0.6102172142266891,
          -0.9640476068371759,
          -0.4646409811674972,
          -0.5519563585136081,
          -0.6274956634284359,
          -0.5009905475094891,
          -0.3834394144313491,
          -0.3047115759960273,
          -0.1739628716294399,
          -0.2910284906094387,
          -0.3269654762898559,
          -0.45389620421603233,
          -0.15270219965134102,
          -0.36960813449633784,
          -0.5619385982740374,
          -0.9227842667757732,
          -0.2306859213668449,
          -0.4401750730054039,
          -0.19150554711229698,
          -0.5926924652357001,
          -0.5275821832441508,
          -0.6846139841079556,
          -0.7954904013263541,
          -0.6014849347139459,
          -0.4088186904367913,
          -0.05758800133114299,
          -0.7520088590283935,
          -0.5797516991361972,
          -0.4072233997921368,
          -0.6046141006526975,
          -0.5169981583589749,
          -0.49585717713858346,
          -0.5766039187068895,
          -0.5563919003697065,
          -0.7826594232507056,
          -0.4487441855504688
         ],
         "yaxis": "y"
        },
        {
         "customdata": [
          [
           60
          ],
          [
           59
          ],
          [
           61
          ],
          [
           68
          ],
          [
           65
          ],
          [
           56
          ],
          [
           60
          ],
          [
           65
          ],
          [
           59
          ],
          [
           55
          ],
          [
           58
          ],
          [
           66
          ],
          [
           57
          ],
          [
           64
          ],
          [
           56
          ],
          [
           65
          ],
          [
           61
          ],
          [
           63
          ],
          [
           62
          ],
          [
           67
          ],
          [
           58
          ],
          [
           61
          ],
          [
           60
          ],
          [
           51
          ],
          [
           62
          ],
          [
           58
          ],
          [
           58
          ],
          [
           60
          ],
          [
           59
          ],
          [
           61
          ],
          [
           67
          ],
          [
           63
          ],
          [
           57
          ],
          [
           58
          ],
          [
           58
          ],
          [
           59
          ],
          [
           63
          ],
          [
           58
          ],
          [
           60
          ],
          [
           58
          ],
          [
           62
          ],
          [
           66
          ],
          [
           57
          ],
          [
           66
          ],
          [
           63
          ],
          [
           64
          ],
          [
           62
          ],
          [
           62
          ],
          [
           56
          ],
          [
           60
          ],
          [
           60
          ],
          [
           63
          ],
          [
           56
          ],
          [
           58
          ],
          [
           62
          ],
          [
           56
          ],
          [
           59
          ],
          [
           65
          ],
          [
           62
          ],
          [
           59
          ],
          [
           66
          ],
          [
           64
          ],
          [
           65
          ],
          [
           58
          ],
          [
           64
          ],
          [
           59
          ],
          [
           59
          ],
          [
           62
          ],
          [
           59
          ],
          [
           54
          ],
          [
           61
          ],
          [
           55
          ],
          [
           53
          ],
          [
           55
          ],
          [
           61
          ],
          [
           59
          ],
          [
           59
          ],
          [
           56
          ],
          [
           61
          ],
          [
           61
          ],
          [
           60
          ],
          [
           57
          ],
          [
           61
          ],
          [
           55
          ],
          [
           53
          ],
          [
           61
          ],
          [
           64
          ],
          [
           62
          ],
          [
           55
          ],
          [
           58
          ],
          [
           57
          ],
          [
           59
          ],
          [
           58
          ],
          [
           62
          ],
          [
           61
          ],
          [
           56
          ],
          [
           62
          ],
          [
           55
          ],
          [
           57
          ],
          [
           57
          ],
          [
           61
          ],
          [
           59
          ],
          [
           59
          ],
          [
           59
          ],
          [
           58
          ],
          [
           56
          ],
          [
           61
          ],
          [
           56
          ],
          [
           61
          ],
          [
           59
          ],
          [
           62
          ],
          [
           59
          ],
          [
           59
          ],
          [
           59
          ],
          [
           57
          ],
          [
           59
          ],
          [
           61
          ],
          [
           67
          ],
          [
           63
          ],
          [
           56
          ],
          [
           59
          ],
          [
           58
          ],
          [
           61
          ],
          [
           55
          ],
          [
           63
          ],
          [
           59
          ],
          [
           64
          ],
          [
           68
          ],
          [
           60
          ],
          [
           62
          ],
          [
           64
          ],
          [
           63
          ],
          [
           58
          ],
          [
           62
          ],
          [
           59
          ],
          [
           61
          ],
          [
           53
          ],
          [
           58
          ],
          [
           55
          ],
          [
           60
          ],
          [
           56
          ],
          [
           60
          ],
          [
           58
          ],
          [
           56
          ],
          [
           64
          ],
          [
           63
          ],
          [
           62
          ],
          [
           59
          ],
          [
           67
          ],
          [
           58
          ],
          [
           58
          ],
          [
           57
          ],
          [
           66
          ],
          [
           64
          ],
          [
           59
          ],
          [
           61
          ],
          [
           57
          ]
         ],
         "hovertemplate": "Cluster=Cluster 3<br>PCA1=%{x}<br>PCA2=%{y}<br>Feature=%{customdata[0]}<extra></extra>",
         "legendgroup": "Cluster 3",
         "marker": {
          "color": "#ab63fa",
          "opacity": 0.5,
          "symbol": "circle"
         },
         "mode": "markers",
         "name": "Cluster 3",
         "orientation": "v",
         "showlegend": true,
         "textposition": "top center",
         "type": "scatter",
         "x": [
          0.8764462897040277,
          0.9119072832149158,
          0.9366545997757684,
          0.7310246756468846,
          0.7059600929994887,
          1.0574476828468304,
          0.9041625435151754,
          0.6609924228042453,
          1.211314900877751,
          0.9594904501652091,
          1.2806116873975635,
          0.86529698655351,
          1.3467047438880957,
          0.5770891879197,
          1.0860490205360367,
          0.8416808831528555,
          0.8566260358632632,
          0.846393666928295,
          1.0725421735877518,
          1.1100288124039315,
          1.184109225760451,
          1.0077913668289502,
          0.7580640120524242,
          1.2191798503320768,
          1.2474049340254771,
          1.166639299119401,
          0.9030632526952318,
          1.1328881813626877,
          0.6350507730329614,
          0.7954780881086875,
          1.0464738109386855,
          0.8473239394675035,
          1.0477726434490415,
          0.6935247292600991,
          1.1682837002981594,
          1.0262015665917121,
          1.1194004122191081,
          0.9700286595917207,
          1.3791574074188682,
          0.9214394452884341,
          0.9629568366605433,
          0.9783089217155612,
          1.169578730706076,
          0.9549237109237516,
          1.1697157157105855,
          1.0121035638001266,
          0.8598961482066807,
          0.7344587740505077,
          0.9694486721072404,
          0.9008413126703928,
          0.7821932358049108,
          1.204150283466361,
          1.2062689639165904,
          1.0852611343777803,
          0.8459436007799084,
          0.8943127938254045,
          0.872642308997854,
          0.9041298708228799,
          0.9066282295775974,
          0.9808089192409679,
          1.0636835747962288,
          0.9404516521503736,
          0.8612097024788936,
          1.1412703962743072,
          1.076859411613998,
          0.6491557089831034,
          1.325341697327725,
          0.5838880837444466,
          0.9688223176937355,
          1.1878058391546598,
          0.9680414759191472,
          0.9446702949507859,
          1.3514663993849738,
          1.1107919530706984,
          0.9694492150848563,
          0.9863668241734649,
          0.8854326073556671,
          0.8404752933067157,
          1.1788965459042746,
          0.9128901619260932,
          0.9540261213115775,
          0.9951066400134891,
          0.9904005931312492,
          1.209730845637671,
          0.8545270992189653,
          1.2113994896127698,
          0.6485204145371007,
          1.168659453890033,
          0.9780919383590064,
          0.941502694046849,
          1.1543311950894963,
          1.1276584532463585,
          0.9390626266597395,
          0.775905257582032,
          0.6643083633818327,
          0.8659576195564095,
          1.0488447178474822,
          1.2062170192506039,
          1.3021698682866718,
          0.9384815712202285,
          0.7160188879115629,
          1.1080733107301215,
          0.942592106920436,
          0.8657576280514774,
          1.001940317217566,
          1.1219558239547465,
          0.9605009118547891,
          1.1851490686318398,
          0.7065493157257273,
          0.8220018192601694,
          0.9389335977642529,
          1.0372284509042111,
          0.8637286535793989,
          1.0205116797168645,
          0.9352338258234575,
          0.8645507831528342,
          0.9431474612825119,
          0.7324373925173789,
          1.195106371521347,
          1.0101209320872189,
          1.3029770007955626,
          0.9578529035814851,
          1.19292018632382,
          0.9890445934967507,
          0.5968294692176306,
          1.3206465654806907,
          1.0437351483073103,
          1.0103742873858075,
          0.931235406599814,
          0.9819717090583898,
          1.0590705207647062,
          0.7440274522719091,
          1.1042748149489463,
          0.8417702446799294,
          0.8919397686485706,
          0.7874789340364973,
          0.998359306955282,
          1.3211848806836244,
          1.4165248474989314,
          1.027642719962468,
          0.7918438826702823,
          0.655573840370195,
          1.2856257644562683,
          1.0405649159923474,
          0.8861290613065839,
          0.9146569055529165,
          0.9278732433593305,
          1.2454279396930057,
          0.7728732342358813,
          1.1074480844605283,
          1.26871915410051,
          0.9449531635491207,
          0.7622312268075453,
          0.9777645559930506,
          1.0169684017691283,
          0.8997248139805243,
          1.2175980282031047
         ],
         "xaxis": "x",
         "y": [
          -0.9881938435607146,
          -1.0921090956253678,
          -1.053781189947834,
          -1.2106187138454416,
          -1.0135586747930194,
          -0.9625591715859111,
          -0.9268788820901753,
          -1.0233877280029156,
          -1.341342854572684,
          -1.0207959533810091,
          -1.1487850666835382,
          -1.0111196723730445,
          -1.07182405169109,
          -1.1057267491959974,
          -1.1540811039662715,
          -1.0551123254284858,
          -1.0899101222137202,
          -0.7750478656652978,
          -1.3410544447617927,
          -1.2312022661473174,
          -1.2783964263267658,
          -0.9251206383974462,
          -1.089960173955304,
          -0.9339131059589079,
          -1.3089097569990793,
          -0.985820517398662,
          -0.9571164515340788,
          -1.3481125132949183,
          -0.8444886175990897,
          -0.8398827549874195,
          -1.1669307977663457,
          -1.0958576719468027,
          -0.9909497372641369,
          -0.8048185035647603,
          -1.00018209750062,
          -1.078436485066315,
          -0.9454616685796317,
          -1.0226848796124322,
          -1.1911314537851465,
          -0.9607789514792955,
          -1.0563539504353539,
          -1.2837073824379706,
          -0.9948424146853,
          -1.4279651456655145,
          -1.323267755665546,
          -1.2827358441799006,
          -1.2307738114173257,
          -1.1739384664823302,
          -0.516651709053388,
          -1.0551957087085166,
          -0.9017111014195504,
          -1.1104902648719717,
          -0.7873291593576786,
          -1.0005435760888541,
          -1.025556195698662,
          -0.8956354652269496,
          -1.0128644423537834,
          -1.338706321698977,
          -0.8129183745026265,
          -1.1529579747591632,
          -1.0687677144088816,
          -1.009341618707432,
          -1.3076654831188994,
          -1.1282610424770676,
          -0.8646271599998726,
          -0.7130075332511671,
          -1.053788445299754,
          -0.7095234382012503,
          -0.9508264386599711,
          -0.9010032597945402,
          -1.1378583973726573,
          -0.8512723128101777,
          -0.9684157167828285,
          -0.8504676820728508,
          -0.9652549334147865,
          -1.2147598407332454,
          -0.987202987821613,
          -1.0083836537404782,
          -1.1914816463333706,
          -1.287789011104218,
          -1.1050118654678667,
          -0.8446993285766241,
          -1.0986216164230387,
          -1.0174123069790044,
          -0.9365448631646772,
          -1.381331534276786,
          -1.2345567241332496,
          -1.3828850677965947,
          -0.8932650861034411,
          -0.8738518191467404,
          -0.8986911550414324,
          -1.1423072290982201,
          -0.8248210998493881,
          -1.0307952435211074,
          -0.8901299659112819,
          -0.9501853298632679,
          -1.0341295279527485,
          -0.9890970342964707,
          -1.1317551847841052,
          -0.9114183932695229,
          -0.8559835943006031,
          -1.0491406888162584,
          -1.4138817772205283,
          -1.0093228176418239,
          -0.867271037153521,
          -0.9361935812116104,
          -1.1213907739917413,
          -0.9262420039422746,
          -1.0071640739085728,
          -0.7151245439682434,
          -1.1841016447602932,
          -1.1311766157283236,
          -0.630522752998788,
          -1.0690001233128805,
          -1.0689487670100206,
          -0.8363636703849524,
          -1.2236753861220668,
          -1.2033210848393179,
          -1.536071976661321,
          -0.719244813843593,
          -1.0354555267432715,
          -0.730466779519844,
          -1.323719819742327,
          -0.746096146218709,
          -1.2466720196651206,
          -0.8439511805184662,
          -1.140784819368747,
          -1.240654716574945,
          -1.151719430914696,
          -1.2111098594920373,
          -0.8907998072857141,
          -1.0170300674445736,
          -0.9261339192219498,
          -1.1315541492326842,
          -0.9244828083379826,
          -1.0185756181499812,
          -0.7261456077497614,
          -1.0112114872870097,
          -1.1874054921130859,
          -1.2614198248900803,
          -1.0428462357194517,
          -0.9506074996684035,
          -1.0491610821438078,
          -1.0879013920012621,
          -1.3114515408661898,
          -1.0457974762566624,
          -1.321817794725425,
          -1.1350938967856554,
          -1.4498324189835488,
          -0.9032411332655946,
          -1.287727941821228,
          -1.0827043896146114,
          -1.100829715156025,
          -1.0054322463139476,
          -1.1019901712259725,
          -1.0180186815310628,
          -1.0940498318756793
         ],
         "yaxis": "y"
        }
       ],
       "layout": {
        "height": 600,
        "legend": {
         "title": {
          "text": "Cluster"
         },
         "tracegroupgap": 0
        },
        "margin": {
         "t": 60
        },
        "plot_bgcolor": "rgb(240,240,240)",
        "template": {
         "data": {
          "bar": [
           {
            "error_x": {
             "color": "#2a3f5f"
            },
            "error_y": {
             "color": "#2a3f5f"
            },
            "marker": {
             "line": {
              "color": "#E5ECF6",
              "width": 0.5
             },
             "pattern": {
              "fillmode": "overlay",
              "size": 10,
              "solidity": 0.2
             }
            },
            "type": "bar"
           }
          ],
          "barpolar": [
           {
            "marker": {
             "line": {
              "color": "#E5ECF6",
              "width": 0.5
             },
             "pattern": {
              "fillmode": "overlay",
              "size": 10,
              "solidity": 0.2
             }
            },
            "type": "barpolar"
           }
          ],
          "carpet": [
           {
            "aaxis": {
             "endlinecolor": "#2a3f5f",
             "gridcolor": "white",
             "linecolor": "white",
             "minorgridcolor": "white",
             "startlinecolor": "#2a3f5f"
            },
            "baxis": {
             "endlinecolor": "#2a3f5f",
             "gridcolor": "white",
             "linecolor": "white",
             "minorgridcolor": "white",
             "startlinecolor": "#2a3f5f"
            },
            "type": "carpet"
           }
          ],
          "choropleth": [
           {
            "colorbar": {
             "outlinewidth": 0,
             "ticks": ""
            },
            "type": "choropleth"
           }
          ],
          "contour": [
           {
            "colorbar": {
             "outlinewidth": 0,
             "ticks": ""
            },
            "colorscale": [
             [
              0,
              "#0d0887"
             ],
             [
              0.1111111111111111,
              "#46039f"
             ],
             [
              0.2222222222222222,
              "#7201a8"
             ],
             [
              0.3333333333333333,
              "#9c179e"
             ],
             [
              0.4444444444444444,
              "#bd3786"
             ],
             [
              0.5555555555555556,
              "#d8576b"
             ],
             [
              0.6666666666666666,
              "#ed7953"
             ],
             [
              0.7777777777777778,
              "#fb9f3a"
             ],
             [
              0.8888888888888888,
              "#fdca26"
             ],
             [
              1,
              "#f0f921"
             ]
            ],
            "type": "contour"
           }
          ],
          "contourcarpet": [
           {
            "colorbar": {
             "outlinewidth": 0,
             "ticks": ""
            },
            "type": "contourcarpet"
           }
          ],
          "heatmap": [
           {
            "colorbar": {
             "outlinewidth": 0,
             "ticks": ""
            },
            "colorscale": [
             [
              0,
              "#0d0887"
             ],
             [
              0.1111111111111111,
              "#46039f"
             ],
             [
              0.2222222222222222,
              "#7201a8"
             ],
             [
              0.3333333333333333,
              "#9c179e"
             ],
             [
              0.4444444444444444,
              "#bd3786"
             ],
             [
              0.5555555555555556,
              "#d8576b"
             ],
             [
              0.6666666666666666,
              "#ed7953"
             ],
             [
              0.7777777777777778,
              "#fb9f3a"
             ],
             [
              0.8888888888888888,
              "#fdca26"
             ],
             [
              1,
              "#f0f921"
             ]
            ],
            "type": "heatmap"
           }
          ],
          "heatmapgl": [
           {
            "colorbar": {
             "outlinewidth": 0,
             "ticks": ""
            },
            "colorscale": [
             [
              0,
              "#0d0887"
             ],
             [
              0.1111111111111111,
              "#46039f"
             ],
             [
              0.2222222222222222,
              "#7201a8"
             ],
             [
              0.3333333333333333,
              "#9c179e"
             ],
             [
              0.4444444444444444,
              "#bd3786"
             ],
             [
              0.5555555555555556,
              "#d8576b"
             ],
             [
              0.6666666666666666,
              "#ed7953"
             ],
             [
              0.7777777777777778,
              "#fb9f3a"
             ],
             [
              0.8888888888888888,
              "#fdca26"
             ],
             [
              1,
              "#f0f921"
             ]
            ],
            "type": "heatmapgl"
           }
          ],
          "histogram": [
           {
            "marker": {
             "pattern": {
              "fillmode": "overlay",
              "size": 10,
              "solidity": 0.2
             }
            },
            "type": "histogram"
           }
          ],
          "histogram2d": [
           {
            "colorbar": {
             "outlinewidth": 0,
             "ticks": ""
            },
            "colorscale": [
             [
              0,
              "#0d0887"
             ],
             [
              0.1111111111111111,
              "#46039f"
             ],
             [
              0.2222222222222222,
              "#7201a8"
             ],
             [
              0.3333333333333333,
              "#9c179e"
             ],
             [
              0.4444444444444444,
              "#bd3786"
             ],
             [
              0.5555555555555556,
              "#d8576b"
             ],
             [
              0.6666666666666666,
              "#ed7953"
             ],
             [
              0.7777777777777778,
              "#fb9f3a"
             ],
             [
              0.8888888888888888,
              "#fdca26"
             ],
             [
              1,
              "#f0f921"
             ]
            ],
            "type": "histogram2d"
           }
          ],
          "histogram2dcontour": [
           {
            "colorbar": {
             "outlinewidth": 0,
             "ticks": ""
            },
            "colorscale": [
             [
              0,
              "#0d0887"
             ],
             [
              0.1111111111111111,
              "#46039f"
             ],
             [
              0.2222222222222222,
              "#7201a8"
             ],
             [
              0.3333333333333333,
              "#9c179e"
             ],
             [
              0.4444444444444444,
              "#bd3786"
             ],
             [
              0.5555555555555556,
              "#d8576b"
             ],
             [
              0.6666666666666666,
              "#ed7953"
             ],
             [
              0.7777777777777778,
              "#fb9f3a"
             ],
             [
              0.8888888888888888,
              "#fdca26"
             ],
             [
              1,
              "#f0f921"
             ]
            ],
            "type": "histogram2dcontour"
           }
          ],
          "mesh3d": [
           {
            "colorbar": {
             "outlinewidth": 0,
             "ticks": ""
            },
            "type": "mesh3d"
           }
          ],
          "parcoords": [
           {
            "line": {
             "colorbar": {
              "outlinewidth": 0,
              "ticks": ""
             }
            },
            "type": "parcoords"
           }
          ],
          "pie": [
           {
            "automargin": true,
            "type": "pie"
           }
          ],
          "scatter": [
           {
            "fillpattern": {
             "fillmode": "overlay",
             "size": 10,
             "solidity": 0.2
            },
            "type": "scatter"
           }
          ],
          "scatter3d": [
           {
            "line": {
             "colorbar": {
              "outlinewidth": 0,
              "ticks": ""
             }
            },
            "marker": {
             "colorbar": {
              "outlinewidth": 0,
              "ticks": ""
             }
            },
            "type": "scatter3d"
           }
          ],
          "scattercarpet": [
           {
            "marker": {
             "colorbar": {
              "outlinewidth": 0,
              "ticks": ""
             }
            },
            "type": "scattercarpet"
           }
          ],
          "scattergeo": [
           {
            "marker": {
             "colorbar": {
              "outlinewidth": 0,
              "ticks": ""
             }
            },
            "type": "scattergeo"
           }
          ],
          "scattergl": [
           {
            "marker": {
             "colorbar": {
              "outlinewidth": 0,
              "ticks": ""
             }
            },
            "type": "scattergl"
           }
          ],
          "scattermapbox": [
           {
            "marker": {
             "colorbar": {
              "outlinewidth": 0,
              "ticks": ""
             }
            },
            "type": "scattermapbox"
           }
          ],
          "scatterpolar": [
           {
            "marker": {
             "colorbar": {
              "outlinewidth": 0,
              "ticks": ""
             }
            },
            "type": "scatterpolar"
           }
          ],
          "scatterpolargl": [
           {
            "marker": {
             "colorbar": {
              "outlinewidth": 0,
              "ticks": ""
             }
            },
            "type": "scatterpolargl"
           }
          ],
          "scatterternary": [
           {
            "marker": {
             "colorbar": {
              "outlinewidth": 0,
              "ticks": ""
             }
            },
            "type": "scatterternary"
           }
          ],
          "surface": [
           {
            "colorbar": {
             "outlinewidth": 0,
             "ticks": ""
            },
            "colorscale": [
             [
              0,
              "#0d0887"
             ],
             [
              0.1111111111111111,
              "#46039f"
             ],
             [
              0.2222222222222222,
              "#7201a8"
             ],
             [
              0.3333333333333333,
              "#9c179e"
             ],
             [
              0.4444444444444444,
              "#bd3786"
             ],
             [
              0.5555555555555556,
              "#d8576b"
             ],
             [
              0.6666666666666666,
              "#ed7953"
             ],
             [
              0.7777777777777778,
              "#fb9f3a"
             ],
             [
              0.8888888888888888,
              "#fdca26"
             ],
             [
              1,
              "#f0f921"
             ]
            ],
            "type": "surface"
           }
          ],
          "table": [
           {
            "cells": {
             "fill": {
              "color": "#EBF0F8"
             },
             "line": {
              "color": "white"
             }
            },
            "header": {
             "fill": {
              "color": "#C8D4E3"
             },
             "line": {
              "color": "white"
             }
            },
            "type": "table"
           }
          ]
         },
         "layout": {
          "annotationdefaults": {
           "arrowcolor": "#2a3f5f",
           "arrowhead": 0,
           "arrowwidth": 1
          },
          "autotypenumbers": "strict",
          "coloraxis": {
           "colorbar": {
            "outlinewidth": 0,
            "ticks": ""
           }
          },
          "colorscale": {
           "diverging": [
            [
             0,
             "#8e0152"
            ],
            [
             0.1,
             "#c51b7d"
            ],
            [
             0.2,
             "#de77ae"
            ],
            [
             0.3,
             "#f1b6da"
            ],
            [
             0.4,
             "#fde0ef"
            ],
            [
             0.5,
             "#f7f7f7"
            ],
            [
             0.6,
             "#e6f5d0"
            ],
            [
             0.7,
             "#b8e186"
            ],
            [
             0.8,
             "#7fbc41"
            ],
            [
             0.9,
             "#4d9221"
            ],
            [
             1,
             "#276419"
            ]
           ],
           "sequential": [
            [
             0,
             "#0d0887"
            ],
            [
             0.1111111111111111,
             "#46039f"
            ],
            [
             0.2222222222222222,
             "#7201a8"
            ],
            [
             0.3333333333333333,
             "#9c179e"
            ],
            [
             0.4444444444444444,
             "#bd3786"
            ],
            [
             0.5555555555555556,
             "#d8576b"
            ],
            [
             0.6666666666666666,
             "#ed7953"
            ],
            [
             0.7777777777777778,
             "#fb9f3a"
            ],
            [
             0.8888888888888888,
             "#fdca26"
            ],
            [
             1,
             "#f0f921"
            ]
           ],
           "sequentialminus": [
            [
             0,
             "#0d0887"
            ],
            [
             0.1111111111111111,
             "#46039f"
            ],
            [
             0.2222222222222222,
             "#7201a8"
            ],
            [
             0.3333333333333333,
             "#9c179e"
            ],
            [
             0.4444444444444444,
             "#bd3786"
            ],
            [
             0.5555555555555556,
             "#d8576b"
            ],
            [
             0.6666666666666666,
             "#ed7953"
            ],
            [
             0.7777777777777778,
             "#fb9f3a"
            ],
            [
             0.8888888888888888,
             "#fdca26"
            ],
            [
             1,
             "#f0f921"
            ]
           ]
          },
          "colorway": [
           "#636efa",
           "#EF553B",
           "#00cc96",
           "#ab63fa",
           "#FFA15A",
           "#19d3f3",
           "#FF6692",
           "#B6E880",
           "#FF97FF",
           "#FECB52"
          ],
          "font": {
           "color": "#2a3f5f"
          },
          "geo": {
           "bgcolor": "white",
           "lakecolor": "white",
           "landcolor": "#E5ECF6",
           "showlakes": true,
           "showland": true,
           "subunitcolor": "white"
          },
          "hoverlabel": {
           "align": "left"
          },
          "hovermode": "closest",
          "mapbox": {
           "style": "light"
          },
          "paper_bgcolor": "white",
          "plot_bgcolor": "#E5ECF6",
          "polar": {
           "angularaxis": {
            "gridcolor": "white",
            "linecolor": "white",
            "ticks": ""
           },
           "bgcolor": "#E5ECF6",
           "radialaxis": {
            "gridcolor": "white",
            "linecolor": "white",
            "ticks": ""
           }
          },
          "scene": {
           "xaxis": {
            "backgroundcolor": "#E5ECF6",
            "gridcolor": "white",
            "gridwidth": 2,
            "linecolor": "white",
            "showbackground": true,
            "ticks": "",
            "zerolinecolor": "white"
           },
           "yaxis": {
            "backgroundcolor": "#E5ECF6",
            "gridcolor": "white",
            "gridwidth": 2,
            "linecolor": "white",
            "showbackground": true,
            "ticks": "",
            "zerolinecolor": "white"
           },
           "zaxis": {
            "backgroundcolor": "#E5ECF6",
            "gridcolor": "white",
            "gridwidth": 2,
            "linecolor": "white",
            "showbackground": true,
            "ticks": "",
            "zerolinecolor": "white"
           }
          },
          "shapedefaults": {
           "line": {
            "color": "#2a3f5f"
           }
          },
          "ternary": {
           "aaxis": {
            "gridcolor": "white",
            "linecolor": "white",
            "ticks": ""
           },
           "baxis": {
            "gridcolor": "white",
            "linecolor": "white",
            "ticks": ""
           },
           "bgcolor": "#E5ECF6",
           "caxis": {
            "gridcolor": "white",
            "linecolor": "white",
            "ticks": ""
           }
          },
          "title": {
           "x": 0.05
          },
          "xaxis": {
           "automargin": true,
           "gridcolor": "white",
           "linecolor": "white",
           "ticks": "",
           "title": {
            "standoff": 15
           },
           "zerolinecolor": "white",
           "zerolinewidth": 2
          },
          "yaxis": {
           "automargin": true,
           "gridcolor": "white",
           "linecolor": "white",
           "ticks": "",
           "title": {
            "standoff": 15
           },
           "zerolinecolor": "white",
           "zerolinewidth": 2
          }
         }
        },
        "title": {
         "text": "2D Cluster PCA Plot"
        },
        "xaxis": {
         "anchor": "y",
         "domain": [
          0,
          1
         ],
         "title": {
          "text": "PCA1"
         }
        },
        "yaxis": {
         "anchor": "x",
         "domain": [
          0,
          1
         ],
         "title": {
          "text": "PCA2"
         }
        }
       }
      }
     },
     "metadata": {},
     "output_type": "display_data"
    },
    {
     "data": {
      "application/vnd.plotly.v1+json": {
       "config": {
        "plotlyServerURL": "https://plot.ly"
       },
       "data": [
        {
         "customdata": [
          [
           32
          ],
          [
           29
          ],
          [
           32
          ],
          [
           29
          ],
          [
           87
          ],
          [
           37
          ],
          [
           32
          ],
          [
           29
          ],
          [
           29
          ],
          [
           25
          ],
          [
           30
          ],
          [
           35
          ],
          [
           34
          ],
          [
           29
          ],
          [
           86
          ],
          [
           37
          ],
          [
           29
          ],
          [
           34
          ],
          [
           36
          ],
          [
           39
          ],
          [
           38
          ],
          [
           31
          ],
          [
           36
          ],
          [
           38
          ],
          [
           29
          ],
          [
           31
          ],
          [
           29
          ],
          [
           22
          ],
          [
           33
          ],
          [
           35
          ],
          [
           28
          ],
          [
           30
          ],
          [
           28
          ],
          [
           35
          ],
          [
           82
          ],
          [
           33
          ],
          [
           28
          ],
          [
           34
          ],
          [
           32
          ],
          [
           82
          ],
          [
           35
          ],
          [
           31
          ],
          [
           93
          ],
          [
           31
          ],
          [
           31
          ],
          [
           86
          ],
          [
           28
          ],
          [
           86
          ],
          [
           30
          ],
          [
           30
          ],
          [
           34
          ],
          [
           31
          ],
          [
           28
          ],
          [
           36
          ],
          [
           90
          ],
          [
           31
          ],
          [
           88
          ],
          [
           37
          ],
          [
           33
          ],
          [
           26
          ],
          [
           24
          ],
          [
           36
          ],
          [
           33
          ],
          [
           31
          ],
          [
           29
          ],
          [
           40
          ],
          [
           42
          ],
          [
           34
          ],
          [
           84
          ],
          [
           37
          ],
          [
           37
          ],
          [
           36
          ],
          [
           91
          ],
          [
           34
          ],
          [
           77
          ],
          [
           35
          ],
          [
           29
          ],
          [
           84
          ],
          [
           34
          ],
          [
           33
          ],
          [
           39
          ],
          [
           38
          ],
          [
           28
          ],
          [
           33
          ],
          [
           88
          ],
          [
           85
          ],
          [
           36
          ],
          [
           31
          ],
          [
           36
          ],
          [
           83
          ],
          [
           31
          ],
          [
           37
          ],
          [
           37
          ],
          [
           44
          ],
          [
           43
          ],
          [
           34
          ],
          [
           37
          ],
          [
           33
          ],
          [
           90
          ],
          [
           31
          ],
          [
           29
          ],
          [
           83
          ],
          [
           31
          ],
          [
           33
          ],
          [
           30
          ],
          [
           34
          ],
          [
           30
          ],
          [
           33
          ],
          [
           30
          ],
          [
           37
          ],
          [
           35
          ],
          [
           35
          ],
          [
           35
          ],
          [
           35
          ],
          [
           33
          ],
          [
           33
          ],
          [
           36
          ],
          [
           32
          ],
          [
           31
          ],
          [
           89
          ],
          [
           30
          ],
          [
           84
          ],
          [
           33
          ],
          [
           30
          ],
          [
           33
          ],
          [
           31
          ],
          [
           85
          ],
          [
           36
          ],
          [
           30
          ],
          [
           88
          ],
          [
           34
          ],
          [
           35
          ],
          [
           33
          ],
          [
           31
          ],
          [
           30
          ],
          [
           84
          ],
          [
           32
          ],
          [
           37
          ],
          [
           92
          ],
          [
           27
          ],
          [
           31
          ],
          [
           39
          ],
          [
           31
          ],
          [
           34
          ],
          [
           83
          ],
          [
           38
          ],
          [
           36
          ],
          [
           25
          ],
          [
           28
          ],
          [
           31
          ],
          [
           32
          ]
         ],
         "hovertemplate": "Cluster=Cluster 0<br>0=%{x}<br>1=%{y}<br>2=%{z}<br>Feature=%{customdata[0]}<extra></extra>",
         "legendgroup": "Cluster 0",
         "marker": {
          "color": "#636efa",
          "opacity": 0.7,
          "symbol": "circle"
         },
         "mode": "markers",
         "name": "Cluster 0",
         "scene": "scene",
         "showlegend": true,
         "type": "scatter3d",
         "x": [
          -0.2657252,
          3.6091797,
          -1.8905282,
          2.5506396,
          -2.834477,
          1.4001837,
          1.2158821,
          1.1225106,
          -1.159077,
          1.503259,
          2.0907466,
          -1.0516757,
          -0.5672082,
          0.122933835,
          -3.5889,
          0.4784266,
          3.8279645,
          -0.25958624,
          1.8717548,
          0.9128103,
          0.83878845,
          2.722567,
          -1.6468146,
          1.7896224,
          3.26676,
          0.6241849,
          -0.6317531,
          0.39990374,
          -1.3068315,
          1.683966,
          -1.3021246,
          1.7206414,
          -0.83347243,
          -1.4023483,
          -3.0160263,
          3.0999734,
          -1.8784838,
          1.3987286,
          -0.30160695,
          -2.7226388,
          0.5202673,
          1.8018428,
          -3.885866,
          2.5641615,
          1.4587379,
          -2.7991924,
          1.1922354,
          -3.4665604,
          2.7114575,
          -1.7263447,
          -1.7863759,
          1.8781635,
          -1.5844994,
          -0.41361246,
          -3.3296292,
          0.13563547,
          -3.473513,
          1.5309974,
          1.8348286,
          -1.6133626,
          0.096794605,
          0.75157404,
          2.2697425,
          2.336824,
          3.7019434,
          -2.0354736,
          0.9646351,
          1.1033509,
          -2.5495892,
          1.5837717,
          -2.1088042,
          0.81894594,
          -3.924702,
          2.9213028,
          -2.9086978,
          2.140049,
          2.1665382,
          -2.991693,
          2.2607658,
          1.5121176,
          -2.7690063,
          1.8711306,
          3.3769886,
          1.1766587,
          -3.3543944,
          -2.6220481,
          1.3548628,
          3.0488105,
          0.80933493,
          -2.6520355,
          -0.63292885,
          0.4784474,
          0.21063082,
          1.6970102,
          0.6049414,
          0.068620056,
          1.2290958,
          0.3964534,
          -3.805235,
          0.86840147,
          -0.16672365,
          -2.328439,
          1.0198874,
          1.5927331,
          2.0228822,
          -2.8438506,
          1.5012087,
          1.1548164,
          -1.7675159,
          -2.0799093,
          2.692245,
          1.1415111,
          -0.5290471,
          0.771745,
          -2.2901487,
          0.22067338,
          0.9157467,
          3.0719273,
          2.531172,
          -3.1966836,
          0.2098585,
          -2.7909057,
          -0.8415666,
          0.19339132,
          1.8382825,
          -0.3909846,
          -3.5514383,
          -1.6929057,
          1.7283467,
          -3.4343972,
          1.9884754,
          0.8815189,
          -0.16784751,
          1.4131829,
          2.127459,
          -2.6629772,
          -0.17168947,
          0.5602583,
          -3.6551998,
          -1.5952214,
          2.0462317,
          0.97560185,
          -1.5456759,
          1.5039283,
          -3.1779761,
          1.852037,
          -1.3155538,
          -1.4988396,
          2.5295062,
          2.61,
          2.0547445
         ],
         "y": [
          6.6821313,
          9.846499,
          8.49281,
          8.664646,
          5.341664,
          11.604708,
          11.039455,
          7.155077,
          8.516426,
          6.652875,
          7.647929,
          8.708088,
          7.2917295,
          9.724766,
          6.3100214,
          6.3349476,
          9.950625,
          12.41346,
          9.842383,
          5.714553,
          5.5857105,
          11.981682,
          7.7365694,
          6.064934,
          10.643015,
          12.5113325,
          10.150747,
          6.6052895,
          9.1173725,
          9.963866,
          8.61465,
          11.371663,
          9.072487,
          8.683615,
          6.44,
          9.824042,
          9.30017,
          9.126905,
          11.634524,
          6.210393,
          10.2816105,
          7.9651055,
          6.207604,
          11.916136,
          12.181691,
          6.0313344,
          13.184125,
          5.269663,
          8.796955,
          9.681738,
          8.607834,
          8.848783,
          9.147124,
          12.980406,
          5.648761,
          11.046487,
          6.384635,
          11.911712,
          10.05043,
          8.668479,
          6.824318,
          8.491381,
          12.587782,
          8.160986,
          9.768226,
          7.329846,
          11.480545,
          10.211021,
          5.9677415,
          11.21314,
          8.990749,
          10.9833975,
          5.575653,
          9.284176,
          6.6864066,
          12.23492,
          7.6848917,
          5.0463443,
          10.303159,
          8.32843,
          8.3678,
          11.107127,
          10.195885,
          9.958232,
          5.6252217,
          5.3567023,
          10.543907,
          10.874005,
          7.465861,
          5.8690686,
          7.758051,
          10.797656,
          10.8869,
          11.443937,
          11.971769,
          9.264906,
          8.448611,
          13.0125065,
          6.0328226,
          11.931073,
          12.1197815,
          5.525206,
          12.798777,
          8.700776,
          7.901033,
          8.955786,
          12.797767,
          10.025098,
          9.436208,
          7.7835236,
          9.105628,
          8.392356,
          9.959953,
          7.052612,
          9.137047,
          9.28137,
          8.765952,
          11.581156,
          11.40266,
          5.215798,
          12.585527,
          6.185697,
          7.6500545,
          10.098701,
          9.288711,
          6.9127083,
          5.463428,
          7.626578,
          10.144794,
          5.3745055,
          10.693032,
          8.673855,
          11.679648,
          12.49947,
          7.021241,
          5.3612356,
          7.680848,
          10.044946,
          5.813181,
          10.286583,
          12.1426525,
          5.699031,
          9.406227,
          8.468101,
          6.1237183,
          10.686751,
          7.4213552,
          9.50314,
          8.190452,
          8.551865,
          11.916526
         ],
         "z": [
          0.6444083,
          -1.7604669,
          -1.4904448,
          -1.7110612,
          10.178664,
          0.22674225,
          -1.7831861,
          -1.2225711,
          -2.5397134,
          -2.342885,
          -2.83583,
          0.96609664,
          -0.87814134,
          -2.8997648,
          9.155966,
          0.82981515,
          -0.15208398,
          -2.3068788,
          -0.10528702,
          -0.22532816,
          -0.34905666,
          -1.2603426,
          -1.0443141,
          -0.73330325,
          -1.3743213,
          -2.9933593,
          -2.5957072,
          -3.0965877,
          1.0660808,
          -3.300093,
          -2.9328716,
          -1.8089968,
          -3.0165186,
          0.8894448,
          9.735048,
          0.6515573,
          -2.1577792,
          -0.5472868,
          -2.167821,
          9.03973,
          0.44939053,
          -0.43788934,
          9.85191,
          -3.582493,
          -2.1116624,
          10.379877,
          -1.7300237,
          9.56265,
          -1.8696239,
          0.21532479,
          -0.03881679,
          -3.1791685,
          -2.477088,
          -2.485468,
          10.530741,
          -2.1340911,
          10.083748,
          0.23865096,
          -3.7868297,
          -2.9260547,
          -3.4025853,
          0.41300052,
          -1.1813084,
          -1.751188,
          -0.0120764,
          -0.34434158,
          1.5308253,
          -4.863737,
          9.730921,
          0.4076702,
          0.9905801,
          -0.29165998,
          9.745144,
          1.2114344,
          9.485831,
          -0.6650747,
          0.369414,
          9.549345,
          -0.32974645,
          -0.15040116,
          -0.07558425,
          0.8005066,
          -1.8780596,
          -4.318699,
          8.535873,
          9.755252,
          -3.5946164,
          -1.1724315,
          0.6424842,
          9.15182,
          0.85993475,
          0.27301586,
          0.0069484934,
          1.5841553,
          1.8058125,
          -1.0346613,
          -2.8572,
          -2.7529323,
          9.404759,
          -2.213609,
          -3.8197348,
          9.564785,
          -2.3607059,
          -0.78838193,
          -0.13066182,
          -0.05264334,
          -2.9562454,
          -4.5690446,
          -1.6433513,
          -0.3910225,
          1.292943,
          -0.3411564,
          -0.84349054,
          0.35274616,
          -0.72319055,
          -1.6565914,
          -1.6686183,
          -0.70668435,
          -1.5820199,
          9.079239,
          -1.8281392,
          10.078739,
          -1.2292844,
          -2.9119873,
          -0.93414086,
          0.4338265,
          8.972875,
          -0.06668282,
          -3.9767392,
          9.958266,
          -3.420065,
          -0.67557627,
          -1.5256263,
          -2.3439767,
          -2.477554,
          8.865618,
          0.99933696,
          0.75299674,
          10.237049,
          -2.4236395,
          -1.6536746,
          -0.28504905,
          -1.5732745,
          -2.8854637,
          8.981186,
          1.04025,
          -0.7185427,
          -3.0233166,
          -2.662688,
          1.1881423,
          -1.6106863
         ]
        },
        {
         "customdata": [
          [
           22
          ],
          [
           27
          ],
          [
           21
          ],
          [
           18
          ],
          [
           26
          ],
          [
           29
          ],
          [
           31
          ],
          [
           27
          ],
          [
           17
          ],
          [
           25
          ],
          [
           26
          ],
          [
           28
          ],
          [
           29
          ],
          [
           23
          ],
          [
           25
          ],
          [
           25
          ],
          [
           28
          ],
          [
           24
          ],
          [
           26
          ],
          [
           28
          ],
          [
           23
          ],
          [
           30
          ],
          [
           20
          ],
          [
           24
          ],
          [
           20
          ],
          [
           22
          ],
          [
           24
          ],
          [
           17
          ],
          [
           23
          ],
          [
           25
          ],
          [
           20
          ],
          [
           22
          ],
          [
           23
          ],
          [
           24
          ],
          [
           28
          ],
          [
           24
          ],
          [
           29
          ],
          [
           26
          ],
          [
           18
          ],
          [
           17
          ],
          [
           25
          ],
          [
           26
          ],
          [
           25
          ],
          [
           27
          ],
          [
           28
          ],
          [
           24
          ],
          [
           28
          ],
          [
           21
          ],
          [
           24
          ],
          [
           17
          ]
         ],
         "hovertemplate": "Cluster=Cluster 1<br>0=%{x}<br>1=%{y}<br>2=%{z}<br>Feature=%{customdata[0]}<extra></extra>",
         "legendgroup": "Cluster 1",
         "marker": {
          "color": "#EF553B",
          "opacity": 0.7,
          "symbol": "circle"
         },
         "mode": "markers",
         "name": "Cluster 1",
         "scene": "scene",
         "showlegend": true,
         "type": "scatter3d",
         "x": [
          14.425635,
          13.079272,
          13.933099,
          13.824156,
          14.924542,
          15.129722,
          14.833042,
          14.5104685,
          16.809036,
          13.121335,
          13.352985,
          16.16345,
          15.233025,
          15.628067,
          14.259103,
          14.594615,
          13.806704,
          15.713165,
          12.81083,
          14.964946,
          14.976812,
          13.118057,
          13.426993,
          15.514482,
          13.6493635,
          15.865109,
          14.64424,
          14.696984,
          15.418081,
          15.631506,
          13.568108,
          12.630817,
          13.50016,
          14.551638,
          13.556166,
          15.298951,
          15.800178,
          15.420373,
          14.977818,
          13.741233,
          14.528646,
          14.040075,
          14.836494,
          13.81035,
          13.3811865,
          16.451769,
          13.380893,
          15.749831,
          13.263893,
          14.661259
         ],
         "y": [
          1.9494256,
          3.0447083,
          3.3612485,
          2.2444806,
          2.6253262,
          4.6501617,
          4.480923,
          4.7818947,
          4.5853887,
          2.2622736,
          4.3081913,
          4.872709,
          2.0105138,
          3.821893,
          2.989321,
          2.1565201,
          4.688346,
          3.1176138,
          2.2325823,
          4.5574985,
          2.8240771,
          1.842378,
          2.6963062,
          3.0818717,
          2.0550592,
          3.8600192,
          2.9757712,
          3.330467,
          3.4738014,
          4.186349,
          3.1681554,
          3.651356,
          2.917539,
          3.0022657,
          1.8462265,
          4.1091475,
          2.9260626,
          3.96861,
          2.1310306,
          3.9773755,
          1.7502245,
          1.5744835,
          3.4202707,
          3.5419772,
          2.542771,
          4.352438,
          2.0712898,
          3.4000885,
          3.059933,
          3.4573436
         ],
         "z": [
          0.46654987,
          -0.65614086,
          0.97015333,
          1.0441523,
          -0.072256684,
          -1.1572526,
          -1.2805482,
          -0.4050657,
          -0.61155033,
          -0.72735,
          -0.053569976,
          -1.1362883,
          1.2863562,
          0.7557963,
          0.40992227,
          -0.19420299,
          -0.29260072,
          -1.0797793,
          0.023617702,
          -0.35493568,
          -0.24785654,
          -0.9605988,
          1.0231142,
          0.037284046,
          0.6673874,
          -0.07025763,
          0.90118885,
          1.5322279,
          -0.92478657,
          0.66686535,
          -0.053195305,
          0.45160887,
          -0.7875607,
          0.3576148,
          -0.44039276,
          -0.47859356,
          -0.6885311,
          -0.92489207,
          -1.5886887,
          1.0874364,
          -0.8602145,
          -0.83506167,
          0.16784197,
          -0.7993475,
          -1.4758828,
          -0.3478647,
          -1.1532451,
          -1.4793355,
          -0.57517177,
          1.5991398
         ]
        },
        {
         "customdata": [
          [
           87
          ],
          [
           87
          ],
          [
           92
          ],
          [
           92
          ],
          [
           93
          ],
          [
           90
          ],
          [
           91
          ],
          [
           91
          ],
          [
           85
          ],
          [
           84
          ],
          [
           87
          ],
          [
           87
          ],
          [
           89
          ],
          [
           94
          ],
          [
           87
          ],
          [
           91
          ],
          [
           89
          ],
          [
           88
          ],
          [
           90
          ],
          [
           91
          ],
          [
           84
          ],
          [
           92
          ],
          [
           93
          ],
          [
           87
          ],
          [
           84
          ],
          [
           91
          ],
          [
           90
          ],
          [
           88
          ],
          [
           91
          ],
          [
           89
          ],
          [
           88
          ],
          [
           97
          ],
          [
           88
          ],
          [
           84
          ],
          [
           85
          ],
          [
           86
          ],
          [
           86
          ],
          [
           91
          ],
          [
           86
          ],
          [
           87
          ],
          [
           88
          ],
          [
           91
          ],
          [
           87
          ],
          [
           83
          ],
          [
           83
          ],
          [
           91
          ],
          [
           79
          ],
          [
           83
          ],
          [
           84
          ],
          [
           90
          ],
          [
           83
          ],
          [
           90
          ],
          [
           86
          ],
          [
           87
          ],
          [
           82
          ],
          [
           88
          ],
          [
           88
          ],
          [
           90
          ],
          [
           84
          ],
          [
           87
          ],
          [
           88
          ],
          [
           94
          ],
          [
           92
          ],
          [
           87
          ],
          [
           91
          ],
          [
           85
          ],
          [
           82
          ],
          [
           89
          ],
          [
           84
          ],
          [
           94
          ],
          [
           88
          ],
          [
           87
          ],
          [
           92
          ],
          [
           92
          ],
          [
           85
          ],
          [
           88
          ],
          [
           94
          ],
          [
           88
          ],
          [
           87
          ],
          [
           90
          ],
          [
           93
          ],
          [
           90
          ],
          [
           82
          ],
          [
           89
          ],
          [
           84
          ],
          [
           91
          ],
          [
           83
          ],
          [
           88
          ],
          [
           89
          ],
          [
           89
          ],
          [
           95
          ],
          [
           85
          ],
          [
           83
          ],
          [
           90
          ],
          [
           92
          ],
          [
           84
          ],
          [
           88
          ],
          [
           84
          ],
          [
           88
          ],
          [
           89
          ],
          [
           88
          ],
          [
           91
          ],
          [
           94
          ],
          [
           88
          ],
          [
           85
          ],
          [
           91
          ],
          [
           94
          ],
          [
           85
          ],
          [
           94
          ],
          [
           85
          ],
          [
           85
          ],
          [
           87
          ],
          [
           88
          ],
          [
           89
          ],
          [
           87
          ],
          [
           85
          ],
          [
           92
          ],
          [
           84
          ],
          [
           82
          ],
          [
           86
          ],
          [
           83
          ],
          [
           79
          ],
          [
           83
          ],
          [
           83
          ],
          [
           90
          ],
          [
           87
          ],
          [
           87
          ],
          [
           83
          ],
          [
           86
          ],
          [
           81
          ],
          [
           91
          ],
          [
           84
          ],
          [
           91
          ],
          [
           82
          ],
          [
           91
          ],
          [
           84
          ],
          [
           86
          ],
          [
           90
          ],
          [
           91
          ],
          [
           85
          ],
          [
           89
          ],
          [
           89
          ],
          [
           91
          ],
          [
           87
          ],
          [
           86
          ],
          [
           89
          ],
          [
           86
          ]
         ],
         "hovertemplate": "Cluster=Cluster 2<br>0=%{x}<br>1=%{y}<br>2=%{z}<br>Feature=%{customdata[0]}<extra></extra>",
         "legendgroup": "Cluster 2",
         "marker": {
          "color": "#00cc96",
          "opacity": 0.7,
          "symbol": "circle"
         },
         "mode": "markers",
         "name": "Cluster 2",
         "scene": "scene",
         "showlegend": true,
         "type": "scatter3d",
         "x": [
          -15.414271,
          -12.564838,
          -12.920907,
          -15.762435,
          -12.865278,
          -12.698905,
          -13.4227295,
          -13.418385,
          -14.561076,
          -11.276704,
          -11.083578,
          -12.684138,
          -13.400528,
          -12.309607,
          -12.35402,
          -13.900223,
          -13.59787,
          -13.696094,
          -13.0798025,
          -13.539651,
          -12.78328,
          -12.822586,
          -12.075246,
          -14.582422,
          -11.617654,
          -12.378746,
          -12.931671,
          -14.249645,
          -12.356912,
          -14.022721,
          -13.008398,
          -13.75464,
          -14.939907,
          -15.11588,
          -10.633635,
          -15.437854,
          -10.158243,
          -15.89967,
          -10.367966,
          -11.178982,
          -12.252802,
          -14.431522,
          -15.986625,
          -11.341261,
          -13.25548,
          -12.687761,
          -11.04234,
          -15.058737,
          -11.70263,
          -11.858115,
          -13.007276,
          -12.218258,
          -13.522978,
          -13.770126,
          -10.335514,
          -14.827138,
          -13.281353,
          -13.309585,
          -11.623229,
          -13.936588,
          -15.116512,
          -13.776421,
          -12.277402,
          -11.302242,
          -10.715243,
          -14.880581,
          -11.074452,
          -14.601741,
          -10.015613,
          -13.809947,
          -14.399494,
          -14.561828,
          -13.448022,
          -12.86813,
          -11.484554,
          -13.893529,
          -12.848736,
          -13.880711,
          -14.942674,
          -13.558473,
          -13.58653,
          -14.453739,
          -11.144578,
          -14.845035,
          -14.382995,
          -10.329001,
          -11.202256,
          -10.42636,
          -15.227662,
          -11.178941,
          -12.717795,
          -11.287366,
          -14.862085,
          -14.105151,
          -13.593878,
          -10.94454,
          -12.481713,
          -10.9469595,
          -13.415137,
          -15.606609,
          -14.222148,
          -10.899752,
          -13.788838,
          -11.984292,
          -12.142304,
          -13.450477,
          -13.887432,
          -14.289982,
          -14.59377,
          -15.721087,
          -10.917594,
          -13.3942175,
          -15.436749,
          -12.513773,
          -12.741932,
          -15.231149,
          -12.562442,
          -11.722662,
          -11.425216,
          -10.978662,
          -10.832943,
          -12.6103,
          -11.726304,
          -10.494281,
          -12.424806,
          -14.435245,
          -16.129885,
          -10.492138,
          -11.857059,
          -10.772695,
          -13.165787,
          -13.2565775,
          -14.4185705,
          -15.314759,
          -13.753251,
          -12.830587,
          -10.088262,
          -15.025232,
          -13.0857935,
          -11.638444,
          -14.5301895,
          -12.7990465,
          -12.764373,
          -14.295322,
          -14.953819,
          -15.398268,
          -13.188056
         ],
         "y": [
          -3.5276093,
          -3.3785062,
          0.7441846,
          -2.3755746,
          -6.2558894,
          -1.7817427,
          -4.1818647,
          -1.2510986,
          -0.06948528,
          -0.73885316,
          0.77800107,
          -1.1049434,
          -2.9742465,
          1.4888016,
          -1.5863655,
          -2.0055578,
          -3.1440766,
          -5.0300117,
          0.8787402,
          -3.212716,
          -2.7435489,
          -5.7518015,
          -6.5137553,
          -1.084292,
          -2.6821113,
          -4.6346946,
          -4.3066387,
          -1.3750263,
          -4.6530805,
          -1.1625056,
          -0.10460743,
          -1.4733285,
          -3.0149055,
          -2.8243778,
          -3.5932498,
          -3.4033716,
          -4.5027537,
          -4.2572656,
          -1.8071914,
          -0.21808036,
          -0.21562535,
          -2.1700597,
          -3.961644,
          -2.699208,
          0.5979403,
          1.2311791,
          -0.38208717,
          -3.8455281,
          -2.666858,
          -6.1533403,
          0.25551215,
          0.6606839,
          -0.9891985,
          -0.40007576,
          -2.6248674,
          -3.7544234,
          -5.487646,
          -0.1795491,
          -0.5585534,
          -0.5025409,
          -0.17692718,
          -5.6332035,
          1.1797918,
          -3.514417,
          -5.478404,
          -3.453183,
          -1.6823903,
          0.73194164,
          -4.4464793,
          -1.386559,
          0.75005966,
          -0.9067251,
          0.5377169,
          0.4224399,
          -3.0916007,
          -0.80014455,
          -5.089246,
          -0.09168528,
          -3.005315,
          -1.419179,
          -5.5442877,
          -1.7185482,
          -1.3795989,
          -3.2011733,
          -0.5070142,
          -5.3548827,
          -1.0318943,
          -4.919229,
          -2.6062753,
          -4.610778,
          -5.385513,
          -1.0717263,
          -0.20083663,
          0.82455426,
          -4.9494286,
          -2.9097567,
          -3.6831374,
          0.055073224,
          0.17980827,
          0.7389546,
          -0.5976985,
          -5.515785,
          -4.7836537,
          -3.8669276,
          -0.54262877,
          -1.3722423,
          0.7140213,
          -0.59640044,
          -4.401951,
          -0.44363725,
          -2.5611112,
          -2.0296288,
          -1.8485649,
          -4.0823865,
          -3.0836208,
          0.045437664,
          0.8233433,
          -3.4897456,
          -3.5459843,
          0.579959,
          -2.5688996,
          0.557735,
          -3.2543552,
          -1.6724752,
          -1.5638639,
          -3.0400522,
          -0.6968399,
          -3.1987858,
          -2.9199564,
          -1.0932364,
          -5.437454,
          -1.1171781,
          -5.2751784,
          -1.4249214,
          -2.8737297,
          -5.507736,
          -4.894656,
          -2.3366766,
          -4.1500854,
          -2.4986303,
          -0.26983723,
          0.037362855,
          -4.6251345,
          -1.7114223,
          -1.8537248,
          -2.930531,
          -5.470151
         ],
         "z": [
          -1.5650381,
          -4.113228,
          -4.080214,
          0.33768684,
          -2.8492227,
          1.0658201,
          -2.8801625,
          1.4225845,
          -0.4641305,
          -3.3537226,
          -0.010039792,
          -0.31728312,
          -0.8465347,
          -3.6157384,
          0.71228373,
          -0.094746664,
          -0.7411697,
          0.3143086,
          -2.16255,
          -0.7020202,
          -4.25545,
          -3.4233549,
          -1.5148944,
          0.75623906,
          -0.814772,
          -2.6910806,
          -2.8839545,
          1.5023713,
          -2.017848,
          -0.052627455,
          -3.0248358,
          2.8168676,
          -1.8851755,
          -2.7050648,
          -3.3533013,
          -0.59159124,
          -1.9501485,
          -1.1825609,
          0.16247946,
          -4.00838,
          -4.0666776,
          1.8810809,
          -0.8794139,
          -3.5782769,
          0.5875553,
          -2.3405871,
          -2.0465791,
          0.831849,
          -3.8536694,
          -2.296515,
          0.6368603,
          -3.9203093,
          -0.70606065,
          0.62095606,
          -2.4758384,
          -0.35111994,
          -0.11918207,
          -4.2530737,
          -2.12457,
          -2.6515229,
          1.5848452,
          -2.8676238,
          -3.897908,
          -3.6136343,
          -3.1294408,
          0.53772676,
          -3.5401742,
          0.71988684,
          -1.6781859,
          2.533293,
          -1.398057,
          -1.7115948,
          -4.000497,
          -4.398741,
          -3.651966,
          -3.229106,
          -1.9392225,
          -2.2948813,
          1.5173295,
          1.1005565,
          -1.8133367,
          1.8071169,
          -1.5052029,
          0.07150504,
          -0.72504467,
          -3.1382308,
          -1.0816364,
          -3.2545578,
          -2.0334952,
          -1.9555043,
          -3.133669,
          -0.54474115,
          -1.4880441,
          -1.317774,
          -2.062145,
          -3.3380344,
          -1.4446474,
          -0.30562505,
          -0.5334104,
          -0.3601654,
          -2.8865938,
          -2.942853,
          -1.6166521,
          -1.695021,
          -2.5829244,
          1.7988735,
          -4.3371696,
          -1.5922188,
          -1.2462215,
          1.2585481,
          -0.92250645,
          -3.847849,
          -3.3878343,
          -1.5462832,
          -4.0236416,
          1.7235111,
          -4.1013684,
          0.3831826,
          0.14454842,
          -0.08750393,
          -3.016464,
          0.6441447,
          -0.34497806,
          0.13545996,
          1.5707545,
          0.2906331,
          0.9301111,
          -3.0721183,
          -1.607124,
          -0.08853419,
          -3.6735134,
          -3.0520253,
          -1.5155452,
          -3.4220479,
          0.37667796,
          0.19172889,
          -3.6961322,
          -0.9891966,
          -3.851644,
          -1.3427478,
          1.7251651,
          -3.7102318,
          -1.7554194,
          0.35743228,
          1.4789592,
          -2.0512862,
          0.239246
         ]
        },
        {
         "customdata": [
          [
           60
          ],
          [
           59
          ],
          [
           61
          ],
          [
           68
          ],
          [
           65
          ],
          [
           56
          ],
          [
           60
          ],
          [
           65
          ],
          [
           59
          ],
          [
           55
          ],
          [
           58
          ],
          [
           66
          ],
          [
           57
          ],
          [
           64
          ],
          [
           56
          ],
          [
           65
          ],
          [
           61
          ],
          [
           63
          ],
          [
           62
          ],
          [
           67
          ],
          [
           58
          ],
          [
           61
          ],
          [
           60
          ],
          [
           51
          ],
          [
           62
          ],
          [
           58
          ],
          [
           58
          ],
          [
           60
          ],
          [
           59
          ],
          [
           61
          ],
          [
           67
          ],
          [
           63
          ],
          [
           57
          ],
          [
           58
          ],
          [
           58
          ],
          [
           59
          ],
          [
           63
          ],
          [
           58
          ],
          [
           60
          ],
          [
           58
          ],
          [
           62
          ],
          [
           66
          ],
          [
           57
          ],
          [
           66
          ],
          [
           63
          ],
          [
           64
          ],
          [
           62
          ],
          [
           62
          ],
          [
           56
          ],
          [
           60
          ],
          [
           60
          ],
          [
           63
          ],
          [
           56
          ],
          [
           58
          ],
          [
           62
          ],
          [
           56
          ],
          [
           59
          ],
          [
           65
          ],
          [
           62
          ],
          [
           59
          ],
          [
           66
          ],
          [
           64
          ],
          [
           65
          ],
          [
           58
          ],
          [
           64
          ],
          [
           59
          ],
          [
           59
          ],
          [
           62
          ],
          [
           59
          ],
          [
           54
          ],
          [
           61
          ],
          [
           55
          ],
          [
           53
          ],
          [
           55
          ],
          [
           61
          ],
          [
           59
          ],
          [
           59
          ],
          [
           56
          ],
          [
           61
          ],
          [
           61
          ],
          [
           60
          ],
          [
           57
          ],
          [
           61
          ],
          [
           55
          ],
          [
           53
          ],
          [
           61
          ],
          [
           64
          ],
          [
           62
          ],
          [
           55
          ],
          [
           58
          ],
          [
           57
          ],
          [
           59
          ],
          [
           58
          ],
          [
           62
          ],
          [
           61
          ],
          [
           56
          ],
          [
           62
          ],
          [
           55
          ],
          [
           57
          ],
          [
           57
          ],
          [
           61
          ],
          [
           59
          ],
          [
           59
          ],
          [
           59
          ],
          [
           58
          ],
          [
           56
          ],
          [
           61
          ],
          [
           56
          ],
          [
           61
          ],
          [
           59
          ],
          [
           62
          ],
          [
           59
          ],
          [
           59
          ],
          [
           59
          ],
          [
           57
          ],
          [
           59
          ],
          [
           61
          ],
          [
           67
          ],
          [
           63
          ],
          [
           56
          ],
          [
           59
          ],
          [
           58
          ],
          [
           61
          ],
          [
           55
          ],
          [
           63
          ],
          [
           59
          ],
          [
           64
          ],
          [
           68
          ],
          [
           60
          ],
          [
           62
          ],
          [
           64
          ],
          [
           63
          ],
          [
           58
          ],
          [
           62
          ],
          [
           59
          ],
          [
           61
          ],
          [
           53
          ],
          [
           58
          ],
          [
           55
          ],
          [
           60
          ],
          [
           56
          ],
          [
           60
          ],
          [
           58
          ],
          [
           56
          ],
          [
           64
          ],
          [
           63
          ],
          [
           62
          ],
          [
           59
          ],
          [
           67
          ],
          [
           58
          ],
          [
           58
          ],
          [
           57
          ],
          [
           66
          ],
          [
           64
          ],
          [
           59
          ],
          [
           61
          ],
          [
           57
          ]
         ],
         "hovertemplate": "Cluster=Cluster 3<br>0=%{x}<br>1=%{y}<br>2=%{z}<br>Feature=%{customdata[0]}<extra></extra>",
         "legendgroup": "Cluster 3",
         "marker": {
          "color": "#ab63fa",
          "opacity": 0.7,
          "symbol": "circle"
         },
         "mode": "markers",
         "name": "Cluster 3",
         "scene": "scene",
         "showlegend": true,
         "type": "scatter3d",
         "x": [
          0.89471513,
          4.0419836,
          2.904558,
          3.2839894,
          1.5877942,
          4.921188,
          2.8393743,
          3.1924262,
          6.4254146,
          0.84116477,
          6.54268,
          2.091472,
          6.8129697,
          1.4525744,
          2.4208393,
          3.1020753,
          1.6611125,
          2.6396785,
          5.4221034,
          4.872632,
          6.3864646,
          2.8869019,
          1.2682949,
          7.1344643,
          5.5730386,
          5.8564734,
          2.475616,
          5.368093,
          1.6802278,
          0.56539035,
          4.48839,
          3.1424787,
          2.265324,
          1.6718644,
          5.8956113,
          5.3033514,
          4.6627884,
          2.6073244,
          6.0947385,
          0.6308178,
          2.00667,
          4.3576193,
          6.053568,
          4.1722784,
          5.849169,
          5.416343,
          3.0355637,
          1.4651666,
          2.780796,
          4.760745,
          1.0068611,
          5.2324686,
          5.373287,
          5.0956354,
          1.923249,
          0.3157356,
          0.9096429,
          4.1493006,
          1.080149,
          4.255559,
          4.000497,
          1.9565786,
          4.010563,
          3.7199013,
          4.4632525,
          3.3677027,
          6.2718797,
          2.0193653,
          3.0793767,
          6.447358,
          5.129014,
          1.9621991,
          3.648551,
          5.1057196,
          3.7660556,
          4.201039,
          1.6122414,
          0.9000411,
          5.1931877,
          4.573287,
          3.9776363,
          0.86512965,
          4.655265,
          6.6708593,
          0.45899945,
          5.772678,
          1.4593067,
          5.9786797,
          1.9317161,
          1.5731391,
          5.7012525,
          5.7581496,
          3.0097873,
          1.4448992,
          2.007461,
          4.475904,
          4.301635,
          3.460411,
          7.0866876,
          0.24018243,
          3.0183492,
          5.5578613,
          3.6239934,
          0.7398455,
          0.87077045,
          6.0812206,
          5.0146146,
          5.5195346,
          0.8964075,
          2.3471951,
          4.198161,
          2.662516,
          0.4857475,
          5.048865,
          1.0417293,
          0.2579149,
          3.538268,
          3.4875598,
          6.428273,
          2.8395498,
          6.4839206,
          2.263128,
          5.0815096,
          2.186639,
          1.4085251,
          5.5231895,
          3.8266685,
          4.2708592,
          1.5918909,
          4.226805,
          4.233341,
          2.2977765,
          5.184599,
          2.1866949,
          0.46089503,
          4.169233,
          1.9103324,
          6.7738886,
          7.463234,
          5.116605,
          0.52773345,
          1.4745586,
          6.718115,
          2.284361,
          3.686636,
          3.7451885,
          3.5762691,
          5.076271,
          3.877047,
          2.1790268,
          5.9669423,
          1.9687382,
          3.187489,
          2.9073052,
          2.462499,
          1.2947983,
          5.8747573
         ],
         "y": [
          -6.033265,
          -8.478454,
          -7.3874774,
          -6.114777,
          -6.403809,
          -9.57498,
          -8.654756,
          -10.732146,
          -7.0940037,
          -5.7680044,
          -8.927727,
          -6.0208497,
          -6.709143,
          -9.183208,
          -3.963263,
          -6.9209313,
          -5.8700976,
          -9.538874,
          -5.390954,
          -4.8074374,
          -8.488361,
          -7.4874196,
          -8.232022,
          -9.205278,
          -4.3177066,
          -7.858706,
          -8.856605,
          -4.4788055,
          -10.3868475,
          -6.9283323,
          -6.5534086,
          -7.211045,
          -6.713015,
          -10.421641,
          -7.8780546,
          -9.753447,
          -7.724858,
          -7.9578376,
          -4.958908,
          -6.2238164,
          -5.6537995,
          -6.070939,
          -8.063037,
          -3.8728685,
          -5.099189,
          -7.4624896,
          -4.733895,
          -8.4899845,
          -10.685988,
          -10.034089,
          -7.7028184,
          -4.7503066,
          -9.2042265,
          -9.140908,
          -6.7526035,
          -6.636681,
          -6.0498495,
          -5.043895,
          -6.793676,
          -7.9649587,
          -6.368987,
          -5.76817,
          -5.162252,
          -3.9991682,
          -7.7491636,
          -11.306882,
          -5.5725164,
          -11.085992,
          -8.66956,
          -8.9501095,
          -9.408984,
          -9.628813,
          -3.5249856,
          -10.324881,
          -8.484523,
          -7.469063,
          -7.487065,
          -7.475398,
          -4.278588,
          -7.6822286,
          -7.963821,
          -7.9281435,
          -8.486085,
          -8.334847,
          -6.8497977,
          -4.6910896,
          -8.719811,
          -5.5155077,
          -9.38142,
          -8.463057,
          -8.510189,
          -6.939519,
          -10.013846,
          -6.659903,
          -10.516677,
          -10.601033,
          -7.8965807,
          -3.7049398,
          -7.0493684,
          -4.9416275,
          -10.893708,
          -7.7997546,
          -5.427384,
          -5.7201185,
          -7.732811,
          -8.6335535,
          -9.271813,
          -9.30921,
          -7.8691254,
          -9.98117,
          -7.190323,
          -4.778051,
          -7.145342,
          -9.336653,
          -5.3153396,
          -6.458858,
          -5.617165,
          -6.480016,
          -6.4303765,
          -10.310381,
          -6.3397717,
          -9.737228,
          -3.5645328,
          -10.076537,
          -8.7293,
          -7.991285,
          -5.99839,
          -6.029139,
          -4.1820416,
          -6.2770576,
          -7.564647,
          -7.407691,
          -8.74833,
          -6.0147753,
          -6.148115,
          -10.650355,
          -10.101531,
          -7.3617005,
          -7.0317,
          -7.867588,
          -6.720314,
          -9.834039,
          -7.1288767,
          -6.732615,
          -4.4568186,
          -7.9661174,
          -4.6871,
          -4.234712,
          -3.8408926,
          -4.338369,
          -4.796088,
          -6.809366,
          -6.7309084,
          -6.416635,
          -4.909286,
          -5.8246617,
          -6.1655807
         ],
         "z": [
          1.227255,
          3.263706,
          1.5680444,
          0.6859966,
          0.122694805,
          1.6544946,
          0.8598117,
          3.651266,
          3.1342309,
          3.2172723,
          3.2507315,
          -1.2278465,
          -0.1020185,
          4.2620363,
          1.9773812,
          0.24716696,
          1.817432,
          -0.88359666,
          2.5739899,
          -1.0181519,
          3.3823173,
          -0.94935966,
          3.8149123,
          0.5933797,
          0.8378349,
          0.048393875,
          1.9555063,
          2.2214694,
          3.3517067,
          0.011097904,
          -1.6932344,
          1.2923473,
          2.5875552,
          3.2186782,
          0.13512738,
          3.1701648,
          -1.9813638,
          2.4460592,
          -0.02909263,
          1.7327808,
          0.15605156,
          -0.27425554,
          0.3283996,
          3.1697898,
          1.7992663,
          2.867903,
          3.1367137,
          4.223498,
          -0.28324974,
          3.300378,
          1.4824209,
          -0.6664789,
          -0.6671616,
          1.3229083,
          1.1195581,
          2.3101006,
          1.9341133,
          3.0406656,
          -1.0756941,
          3.3699758,
          -1.7181925,
          -1.1938655,
          3.008628,
          1.0636109,
          -2.110512,
          3.2673767,
          -0.37344363,
          2.9596612,
          1.0593804,
          0.3964908,
          3.2530944,
          1.5221342,
          0.23398057,
          1.8048689,
          0.38892812,
          3.6815295,
          1.9493207,
          3.9059653,
          0.5232578,
          3.8894987,
          2.7373552,
          0.26553115,
          2.3304794,
          0.5742515,
          3.9132113,
          1.9430902,
          4.525414,
          2.4543111,
          1.6576253,
          0.68831396,
          -0.15409541,
          1.0951837,
          0.5664395,
          1.3586235,
          3.3769732,
          3.281582,
          -0.30600363,
          0.43908566,
          0.42285216,
          1.2208827,
          3.4073687,
          0.5722825,
          4.418509,
          1.8358982,
          0.12547287,
          0.3642959,
          3.1443813,
          0.5882889,
          2.5106297,
          -0.2071201,
          2.662763,
          1.9443318,
          -0.97122383,
          2.761945,
          2.8008163,
          0.28859472,
          2.9709828,
          0.8670631,
          3.084622,
          0.27284893,
          -0.48355946,
          -0.23013592,
          1.2375809,
          0.6949074,
          4.6267576,
          -1.8061638,
          -1.1046925,
          -1.3681303,
          2.3826718,
          2.622103,
          -2.08028,
          1.1563424,
          0.18373786,
          1.9379746,
          0.96068877,
          3.4771886,
          1.0091074,
          -0.77166194,
          0.8728224,
          3.5992785,
          3.8340213,
          3.5282753,
          -0.2650631,
          3.612116,
          3.2289524,
          0.5901009,
          3.343621,
          0.41756043,
          3.446494,
          -0.20856287,
          1.7908505,
          3.6034226,
          0.62267846,
          -1.2649673,
          1.9297861,
          0.8812642,
          0.75896627
         ]
        }
       ],
       "layout": {
        "height": 800,
        "legend": {
         "title": {
          "text": "Cluster"
         },
         "tracegroupgap": 0
        },
        "scene": {
         "domain": {
          "x": [
           0,
           1
          ],
          "y": [
           0,
           1
          ]
         },
         "xaxis": {
          "title": {
           "text": "0"
          }
         },
         "yaxis": {
          "title": {
           "text": "1"
          }
         },
         "zaxis": {
          "title": {
           "text": "2"
          }
         }
        },
        "template": {
         "data": {
          "bar": [
           {
            "error_x": {
             "color": "#2a3f5f"
            },
            "error_y": {
             "color": "#2a3f5f"
            },
            "marker": {
             "line": {
              "color": "#E5ECF6",
              "width": 0.5
             },
             "pattern": {
              "fillmode": "overlay",
              "size": 10,
              "solidity": 0.2
             }
            },
            "type": "bar"
           }
          ],
          "barpolar": [
           {
            "marker": {
             "line": {
              "color": "#E5ECF6",
              "width": 0.5
             },
             "pattern": {
              "fillmode": "overlay",
              "size": 10,
              "solidity": 0.2
             }
            },
            "type": "barpolar"
           }
          ],
          "carpet": [
           {
            "aaxis": {
             "endlinecolor": "#2a3f5f",
             "gridcolor": "white",
             "linecolor": "white",
             "minorgridcolor": "white",
             "startlinecolor": "#2a3f5f"
            },
            "baxis": {
             "endlinecolor": "#2a3f5f",
             "gridcolor": "white",
             "linecolor": "white",
             "minorgridcolor": "white",
             "startlinecolor": "#2a3f5f"
            },
            "type": "carpet"
           }
          ],
          "choropleth": [
           {
            "colorbar": {
             "outlinewidth": 0,
             "ticks": ""
            },
            "type": "choropleth"
           }
          ],
          "contour": [
           {
            "colorbar": {
             "outlinewidth": 0,
             "ticks": ""
            },
            "colorscale": [
             [
              0,
              "#0d0887"
             ],
             [
              0.1111111111111111,
              "#46039f"
             ],
             [
              0.2222222222222222,
              "#7201a8"
             ],
             [
              0.3333333333333333,
              "#9c179e"
             ],
             [
              0.4444444444444444,
              "#bd3786"
             ],
             [
              0.5555555555555556,
              "#d8576b"
             ],
             [
              0.6666666666666666,
              "#ed7953"
             ],
             [
              0.7777777777777778,
              "#fb9f3a"
             ],
             [
              0.8888888888888888,
              "#fdca26"
             ],
             [
              1,
              "#f0f921"
             ]
            ],
            "type": "contour"
           }
          ],
          "contourcarpet": [
           {
            "colorbar": {
             "outlinewidth": 0,
             "ticks": ""
            },
            "type": "contourcarpet"
           }
          ],
          "heatmap": [
           {
            "colorbar": {
             "outlinewidth": 0,
             "ticks": ""
            },
            "colorscale": [
             [
              0,
              "#0d0887"
             ],
             [
              0.1111111111111111,
              "#46039f"
             ],
             [
              0.2222222222222222,
              "#7201a8"
             ],
             [
              0.3333333333333333,
              "#9c179e"
             ],
             [
              0.4444444444444444,
              "#bd3786"
             ],
             [
              0.5555555555555556,
              "#d8576b"
             ],
             [
              0.6666666666666666,
              "#ed7953"
             ],
             [
              0.7777777777777778,
              "#fb9f3a"
             ],
             [
              0.8888888888888888,
              "#fdca26"
             ],
             [
              1,
              "#f0f921"
             ]
            ],
            "type": "heatmap"
           }
          ],
          "heatmapgl": [
           {
            "colorbar": {
             "outlinewidth": 0,
             "ticks": ""
            },
            "colorscale": [
             [
              0,
              "#0d0887"
             ],
             [
              0.1111111111111111,
              "#46039f"
             ],
             [
              0.2222222222222222,
              "#7201a8"
             ],
             [
              0.3333333333333333,
              "#9c179e"
             ],
             [
              0.4444444444444444,
              "#bd3786"
             ],
             [
              0.5555555555555556,
              "#d8576b"
             ],
             [
              0.6666666666666666,
              "#ed7953"
             ],
             [
              0.7777777777777778,
              "#fb9f3a"
             ],
             [
              0.8888888888888888,
              "#fdca26"
             ],
             [
              1,
              "#f0f921"
             ]
            ],
            "type": "heatmapgl"
           }
          ],
          "histogram": [
           {
            "marker": {
             "pattern": {
              "fillmode": "overlay",
              "size": 10,
              "solidity": 0.2
             }
            },
            "type": "histogram"
           }
          ],
          "histogram2d": [
           {
            "colorbar": {
             "outlinewidth": 0,
             "ticks": ""
            },
            "colorscale": [
             [
              0,
              "#0d0887"
             ],
             [
              0.1111111111111111,
              "#46039f"
             ],
             [
              0.2222222222222222,
              "#7201a8"
             ],
             [
              0.3333333333333333,
              "#9c179e"
             ],
             [
              0.4444444444444444,
              "#bd3786"
             ],
             [
              0.5555555555555556,
              "#d8576b"
             ],
             [
              0.6666666666666666,
              "#ed7953"
             ],
             [
              0.7777777777777778,
              "#fb9f3a"
             ],
             [
              0.8888888888888888,
              "#fdca26"
             ],
             [
              1,
              "#f0f921"
             ]
            ],
            "type": "histogram2d"
           }
          ],
          "histogram2dcontour": [
           {
            "colorbar": {
             "outlinewidth": 0,
             "ticks": ""
            },
            "colorscale": [
             [
              0,
              "#0d0887"
             ],
             [
              0.1111111111111111,
              "#46039f"
             ],
             [
              0.2222222222222222,
              "#7201a8"
             ],
             [
              0.3333333333333333,
              "#9c179e"
             ],
             [
              0.4444444444444444,
              "#bd3786"
             ],
             [
              0.5555555555555556,
              "#d8576b"
             ],
             [
              0.6666666666666666,
              "#ed7953"
             ],
             [
              0.7777777777777778,
              "#fb9f3a"
             ],
             [
              0.8888888888888888,
              "#fdca26"
             ],
             [
              1,
              "#f0f921"
             ]
            ],
            "type": "histogram2dcontour"
           }
          ],
          "mesh3d": [
           {
            "colorbar": {
             "outlinewidth": 0,
             "ticks": ""
            },
            "type": "mesh3d"
           }
          ],
          "parcoords": [
           {
            "line": {
             "colorbar": {
              "outlinewidth": 0,
              "ticks": ""
             }
            },
            "type": "parcoords"
           }
          ],
          "pie": [
           {
            "automargin": true,
            "type": "pie"
           }
          ],
          "scatter": [
           {
            "fillpattern": {
             "fillmode": "overlay",
             "size": 10,
             "solidity": 0.2
            },
            "type": "scatter"
           }
          ],
          "scatter3d": [
           {
            "line": {
             "colorbar": {
              "outlinewidth": 0,
              "ticks": ""
             }
            },
            "marker": {
             "colorbar": {
              "outlinewidth": 0,
              "ticks": ""
             }
            },
            "type": "scatter3d"
           }
          ],
          "scattercarpet": [
           {
            "marker": {
             "colorbar": {
              "outlinewidth": 0,
              "ticks": ""
             }
            },
            "type": "scattercarpet"
           }
          ],
          "scattergeo": [
           {
            "marker": {
             "colorbar": {
              "outlinewidth": 0,
              "ticks": ""
             }
            },
            "type": "scattergeo"
           }
          ],
          "scattergl": [
           {
            "marker": {
             "colorbar": {
              "outlinewidth": 0,
              "ticks": ""
             }
            },
            "type": "scattergl"
           }
          ],
          "scattermapbox": [
           {
            "marker": {
             "colorbar": {
              "outlinewidth": 0,
              "ticks": ""
             }
            },
            "type": "scattermapbox"
           }
          ],
          "scatterpolar": [
           {
            "marker": {
             "colorbar": {
              "outlinewidth": 0,
              "ticks": ""
             }
            },
            "type": "scatterpolar"
           }
          ],
          "scatterpolargl": [
           {
            "marker": {
             "colorbar": {
              "outlinewidth": 0,
              "ticks": ""
             }
            },
            "type": "scatterpolargl"
           }
          ],
          "scatterternary": [
           {
            "marker": {
             "colorbar": {
              "outlinewidth": 0,
              "ticks": ""
             }
            },
            "type": "scatterternary"
           }
          ],
          "surface": [
           {
            "colorbar": {
             "outlinewidth": 0,
             "ticks": ""
            },
            "colorscale": [
             [
              0,
              "#0d0887"
             ],
             [
              0.1111111111111111,
              "#46039f"
             ],
             [
              0.2222222222222222,
              "#7201a8"
             ],
             [
              0.3333333333333333,
              "#9c179e"
             ],
             [
              0.4444444444444444,
              "#bd3786"
             ],
             [
              0.5555555555555556,
              "#d8576b"
             ],
             [
              0.6666666666666666,
              "#ed7953"
             ],
             [
              0.7777777777777778,
              "#fb9f3a"
             ],
             [
              0.8888888888888888,
              "#fdca26"
             ],
             [
              1,
              "#f0f921"
             ]
            ],
            "type": "surface"
           }
          ],
          "table": [
           {
            "cells": {
             "fill": {
              "color": "#EBF0F8"
             },
             "line": {
              "color": "white"
             }
            },
            "header": {
             "fill": {
              "color": "#C8D4E3"
             },
             "line": {
              "color": "white"
             }
            },
            "type": "table"
           }
          ]
         },
         "layout": {
          "annotationdefaults": {
           "arrowcolor": "#2a3f5f",
           "arrowhead": 0,
           "arrowwidth": 1
          },
          "autotypenumbers": "strict",
          "coloraxis": {
           "colorbar": {
            "outlinewidth": 0,
            "ticks": ""
           }
          },
          "colorscale": {
           "diverging": [
            [
             0,
             "#8e0152"
            ],
            [
             0.1,
             "#c51b7d"
            ],
            [
             0.2,
             "#de77ae"
            ],
            [
             0.3,
             "#f1b6da"
            ],
            [
             0.4,
             "#fde0ef"
            ],
            [
             0.5,
             "#f7f7f7"
            ],
            [
             0.6,
             "#e6f5d0"
            ],
            [
             0.7,
             "#b8e186"
            ],
            [
             0.8,
             "#7fbc41"
            ],
            [
             0.9,
             "#4d9221"
            ],
            [
             1,
             "#276419"
            ]
           ],
           "sequential": [
            [
             0,
             "#0d0887"
            ],
            [
             0.1111111111111111,
             "#46039f"
            ],
            [
             0.2222222222222222,
             "#7201a8"
            ],
            [
             0.3333333333333333,
             "#9c179e"
            ],
            [
             0.4444444444444444,
             "#bd3786"
            ],
            [
             0.5555555555555556,
             "#d8576b"
            ],
            [
             0.6666666666666666,
             "#ed7953"
            ],
            [
             0.7777777777777778,
             "#fb9f3a"
            ],
            [
             0.8888888888888888,
             "#fdca26"
            ],
            [
             1,
             "#f0f921"
            ]
           ],
           "sequentialminus": [
            [
             0,
             "#0d0887"
            ],
            [
             0.1111111111111111,
             "#46039f"
            ],
            [
             0.2222222222222222,
             "#7201a8"
            ],
            [
             0.3333333333333333,
             "#9c179e"
            ],
            [
             0.4444444444444444,
             "#bd3786"
            ],
            [
             0.5555555555555556,
             "#d8576b"
            ],
            [
             0.6666666666666666,
             "#ed7953"
            ],
            [
             0.7777777777777778,
             "#fb9f3a"
            ],
            [
             0.8888888888888888,
             "#fdca26"
            ],
            [
             1,
             "#f0f921"
            ]
           ]
          },
          "colorway": [
           "#636efa",
           "#EF553B",
           "#00cc96",
           "#ab63fa",
           "#FFA15A",
           "#19d3f3",
           "#FF6692",
           "#B6E880",
           "#FF97FF",
           "#FECB52"
          ],
          "font": {
           "color": "#2a3f5f"
          },
          "geo": {
           "bgcolor": "white",
           "lakecolor": "white",
           "landcolor": "#E5ECF6",
           "showlakes": true,
           "showland": true,
           "subunitcolor": "white"
          },
          "hoverlabel": {
           "align": "left"
          },
          "hovermode": "closest",
          "mapbox": {
           "style": "light"
          },
          "paper_bgcolor": "white",
          "plot_bgcolor": "#E5ECF6",
          "polar": {
           "angularaxis": {
            "gridcolor": "white",
            "linecolor": "white",
            "ticks": ""
           },
           "bgcolor": "#E5ECF6",
           "radialaxis": {
            "gridcolor": "white",
            "linecolor": "white",
            "ticks": ""
           }
          },
          "scene": {
           "xaxis": {
            "backgroundcolor": "#E5ECF6",
            "gridcolor": "white",
            "gridwidth": 2,
            "linecolor": "white",
            "showbackground": true,
            "ticks": "",
            "zerolinecolor": "white"
           },
           "yaxis": {
            "backgroundcolor": "#E5ECF6",
            "gridcolor": "white",
            "gridwidth": 2,
            "linecolor": "white",
            "showbackground": true,
            "ticks": "",
            "zerolinecolor": "white"
           },
           "zaxis": {
            "backgroundcolor": "#E5ECF6",
            "gridcolor": "white",
            "gridwidth": 2,
            "linecolor": "white",
            "showbackground": true,
            "ticks": "",
            "zerolinecolor": "white"
           }
          },
          "shapedefaults": {
           "line": {
            "color": "#2a3f5f"
           }
          },
          "ternary": {
           "aaxis": {
            "gridcolor": "white",
            "linecolor": "white",
            "ticks": ""
           },
           "baxis": {
            "gridcolor": "white",
            "linecolor": "white",
            "ticks": ""
           },
           "bgcolor": "#E5ECF6",
           "caxis": {
            "gridcolor": "white",
            "linecolor": "white",
            "ticks": ""
           }
          },
          "title": {
           "x": 0.05
          },
          "xaxis": {
           "automargin": true,
           "gridcolor": "white",
           "linecolor": "white",
           "ticks": "",
           "title": {
            "standoff": 15
           },
           "zerolinecolor": "white",
           "zerolinewidth": 2
          },
          "yaxis": {
           "automargin": true,
           "gridcolor": "white",
           "linecolor": "white",
           "ticks": "",
           "title": {
            "standoff": 15
           },
           "zerolinecolor": "white",
           "zerolinewidth": 2
          }
         }
        },
        "title": {
         "text": "3d TSNE Plot for Clusters"
        },
        "width": 900
       }
      }
     },
     "metadata": {},
     "output_type": "display_data"
    }
   ],
   "source": [
    "evaluate_model(kmeans)"
   ]
  },
  {
   "cell_type": "code",
   "execution_count": 1,
   "metadata": {},
   "outputs": [
    {
     "name": "stdout",
     "output_type": "stream",
     "text": [
      "[*********************100%***********************]  1 of 1 completed\n"
     ]
    },
    {
     "data": {
      "text/plain": [
       "Date\n",
       "2013-03-26     14.224213\n",
       "2013-03-27     13.944751\n",
       "2013-03-28     13.654182\n",
       "2013-04-01     13.230053\n",
       "2013-04-02     13.257195\n",
       "                 ...    \n",
       "2023-03-07    151.600006\n",
       "2023-03-08    152.869995\n",
       "2023-03-09    150.589996\n",
       "2023-03-10    148.500000\n",
       "2023-03-13    150.470001\n",
       "Name: Adj Close, Length: 2509, dtype: float64"
      ]
     },
     "execution_count": 1,
     "metadata": {},
     "output_type": "execute_result"
    }
   ],
   "source": [
    "from datetime import datetime, date, timedelta\n",
    "import yfinance as yf\n",
    "\n",
    "import numpy as np \n",
    "import pandas as pd\n",
    "\n",
    "\n",
    "\n",
    "start_date = date.today() - timedelta(weeks=52*10)\n",
    "end_date = date.today()\n",
    "df = yf.download('AAPL',\n",
    "    start=start_date,\n",
    "    end = end_date\n",
    ")['Adj Close']\n",
    "\n",
    "df"
   ]
  },
  {
   "cell_type": "code",
   "execution_count": 2,
   "metadata": {},
   "outputs": [
    {
     "ename": "ValueError",
     "evalue": "You must pass a freq argument as current index has none.",
     "output_type": "error",
     "traceback": [
      "\u001b[1;31m---------------------------------------------------------------------------\u001b[0m",
      "\u001b[1;31mValueError\u001b[0m                                Traceback (most recent call last)",
      "Cell \u001b[1;32mIn[2], line 2\u001b[0m\n\u001b[0;32m      1\u001b[0m \u001b[39mfrom\u001b[39;00m \u001b[39mpycaret\u001b[39;00m\u001b[39m.\u001b[39;00m\u001b[39mtime_series\u001b[39;00m \u001b[39mimport\u001b[39;00m \u001b[39m*\u001b[39m\n\u001b[1;32m----> 2\u001b[0m s \u001b[39m=\u001b[39m setup(df, fh \u001b[39m=\u001b[39;49m \u001b[39m7\u001b[39;49m, fold \u001b[39m=\u001b[39;49m \u001b[39m5\u001b[39;49m, session_id \u001b[39m=\u001b[39;49m \u001b[39m123\u001b[39;49m, numeric_imputation_target\u001b[39m=\u001b[39;49m\u001b[39m'\u001b[39;49m\u001b[39mmean\u001b[39;49m\u001b[39m'\u001b[39;49m)\n",
      "File \u001b[1;32mc:\\Users\\feldm\\Documents\\GitHub\\portfolio_forecasting\\myenv\\lib\\site-packages\\pycaret\\time_series\\forecasting\\functional.py:554\u001b[0m, in \u001b[0;36msetup\u001b[1;34m(data, data_func, target, index, ignore_features, numeric_imputation_target, numeric_imputation_exogenous, transform_target, transform_exogenous, fe_target_rr, fe_exogenous, scale_target, scale_exogenous, fold_strategy, fold, fh, hyperparameter_split, seasonal_period, sp_detection, max_sp_to_consider, remove_harmonics, harmonic_order_method, num_sps_to_use, point_alpha, coverage, enforce_exogenous, n_jobs, use_gpu, custom_pipeline, html, session_id, system_log, log_experiment, experiment_name, log_plots, log_profile, log_data, verbose, profile, profile_kwargs, fig_kwargs)\u001b[0m\n\u001b[0;32m    552\u001b[0m exp \u001b[39m=\u001b[39m _EXPERIMENT_CLASS()\n\u001b[0;32m    553\u001b[0m set_current_experiment(exp)\n\u001b[1;32m--> 554\u001b[0m \u001b[39mreturn\u001b[39;00m exp\u001b[39m.\u001b[39;49msetup(\n\u001b[0;32m    555\u001b[0m     data\u001b[39m=\u001b[39;49mdata,\n\u001b[0;32m    556\u001b[0m     data_func\u001b[39m=\u001b[39;49mdata_func,\n\u001b[0;32m    557\u001b[0m     target\u001b[39m=\u001b[39;49mtarget,\n\u001b[0;32m    558\u001b[0m     index\u001b[39m=\u001b[39;49mindex,\n\u001b[0;32m    559\u001b[0m     ignore_features\u001b[39m=\u001b[39;49mignore_features,\n\u001b[0;32m    560\u001b[0m     numeric_imputation_target\u001b[39m=\u001b[39;49mnumeric_imputation_target,\n\u001b[0;32m    561\u001b[0m     numeric_imputation_exogenous\u001b[39m=\u001b[39;49mnumeric_imputation_exogenous,\n\u001b[0;32m    562\u001b[0m     transform_target\u001b[39m=\u001b[39;49mtransform_target,\n\u001b[0;32m    563\u001b[0m     transform_exogenous\u001b[39m=\u001b[39;49mtransform_exogenous,\n\u001b[0;32m    564\u001b[0m     scale_target\u001b[39m=\u001b[39;49mscale_target,\n\u001b[0;32m    565\u001b[0m     scale_exogenous\u001b[39m=\u001b[39;49mscale_exogenous,\n\u001b[0;32m    566\u001b[0m     fe_target_rr\u001b[39m=\u001b[39;49mfe_target_rr,\n\u001b[0;32m    567\u001b[0m     fe_exogenous\u001b[39m=\u001b[39;49mfe_exogenous,\n\u001b[0;32m    568\u001b[0m     fold_strategy\u001b[39m=\u001b[39;49mfold_strategy,\n\u001b[0;32m    569\u001b[0m     fold\u001b[39m=\u001b[39;49mfold,\n\u001b[0;32m    570\u001b[0m     fh\u001b[39m=\u001b[39;49mfh,\n\u001b[0;32m    571\u001b[0m     hyperparameter_split\u001b[39m=\u001b[39;49mhyperparameter_split,\n\u001b[0;32m    572\u001b[0m     seasonal_period\u001b[39m=\u001b[39;49mseasonal_period,\n\u001b[0;32m    573\u001b[0m     sp_detection\u001b[39m=\u001b[39;49msp_detection,\n\u001b[0;32m    574\u001b[0m     max_sp_to_consider\u001b[39m=\u001b[39;49mmax_sp_to_consider,\n\u001b[0;32m    575\u001b[0m     remove_harmonics\u001b[39m=\u001b[39;49mremove_harmonics,\n\u001b[0;32m    576\u001b[0m     harmonic_order_method\u001b[39m=\u001b[39;49mharmonic_order_method,\n\u001b[0;32m    577\u001b[0m     num_sps_to_use\u001b[39m=\u001b[39;49mnum_sps_to_use,\n\u001b[0;32m    578\u001b[0m     point_alpha\u001b[39m=\u001b[39;49mpoint_alpha,\n\u001b[0;32m    579\u001b[0m     coverage\u001b[39m=\u001b[39;49mcoverage,\n\u001b[0;32m    580\u001b[0m     enforce_exogenous\u001b[39m=\u001b[39;49menforce_exogenous,\n\u001b[0;32m    581\u001b[0m     n_jobs\u001b[39m=\u001b[39;49mn_jobs,\n\u001b[0;32m    582\u001b[0m     use_gpu\u001b[39m=\u001b[39;49muse_gpu,\n\u001b[0;32m    583\u001b[0m     custom_pipeline\u001b[39m=\u001b[39;49mcustom_pipeline,\n\u001b[0;32m    584\u001b[0m     html\u001b[39m=\u001b[39;49mhtml,\n\u001b[0;32m    585\u001b[0m     session_id\u001b[39m=\u001b[39;49msession_id,\n\u001b[0;32m    586\u001b[0m     system_log\u001b[39m=\u001b[39;49msystem_log,\n\u001b[0;32m    587\u001b[0m     log_experiment\u001b[39m=\u001b[39;49mlog_experiment,\n\u001b[0;32m    588\u001b[0m     experiment_name\u001b[39m=\u001b[39;49mexperiment_name,\n\u001b[0;32m    589\u001b[0m     log_plots\u001b[39m=\u001b[39;49mlog_plots,\n\u001b[0;32m    590\u001b[0m     log_profile\u001b[39m=\u001b[39;49mlog_profile,\n\u001b[0;32m    591\u001b[0m     log_data\u001b[39m=\u001b[39;49mlog_data,\n\u001b[0;32m    592\u001b[0m     verbose\u001b[39m=\u001b[39;49mverbose,\n\u001b[0;32m    593\u001b[0m     profile\u001b[39m=\u001b[39;49mprofile,\n\u001b[0;32m    594\u001b[0m     profile_kwargs\u001b[39m=\u001b[39;49mprofile_kwargs,\n\u001b[0;32m    595\u001b[0m     fig_kwargs\u001b[39m=\u001b[39;49mfig_kwargs,\n\u001b[0;32m    596\u001b[0m )\n",
      "File \u001b[1;32mc:\\Users\\feldm\\Documents\\GitHub\\portfolio_forecasting\\myenv\\lib\\site-packages\\pycaret\\time_series\\forecasting\\oop.py:1963\u001b[0m, in \u001b[0;36mTSForecastingExperiment.setup\u001b[1;34m(self, data, data_func, target, index, ignore_features, numeric_imputation_target, numeric_imputation_exogenous, transform_target, transform_exogenous, scale_target, scale_exogenous, fe_target_rr, fe_exogenous, fold_strategy, fold, fh, hyperparameter_split, seasonal_period, sp_detection, max_sp_to_consider, remove_harmonics, harmonic_order_method, num_sps_to_use, point_alpha, coverage, enforce_exogenous, n_jobs, use_gpu, custom_pipeline, html, session_id, system_log, log_experiment, experiment_name, experiment_custom_tags, log_plots, log_profile, log_data, engine, verbose, profile, profile_kwargs, fig_kwargs)\u001b[0m\n\u001b[0;32m   1959\u001b[0m \u001b[39m# Features to be ignored (are not read by self.dataset, self.X, etc...)\u001b[39;00m\n\u001b[0;32m   1960\u001b[0m \u001b[39mself\u001b[39m\u001b[39m.\u001b[39m_fxs \u001b[39m=\u001b[39m {\u001b[39m\"\u001b[39m\u001b[39mIgnore\u001b[39m\u001b[39m\"\u001b[39m: ignore_features \u001b[39mor\u001b[39;00m []}\n\u001b[0;32m   1962\u001b[0m (\n\u001b[1;32m-> 1963\u001b[0m     \u001b[39mself\u001b[39;49m\u001b[39m.\u001b[39;49m_initialize_setup(\n\u001b[0;32m   1964\u001b[0m         n_jobs\u001b[39m=\u001b[39;49mn_jobs,\n\u001b[0;32m   1965\u001b[0m         use_gpu\u001b[39m=\u001b[39;49muse_gpu,\n\u001b[0;32m   1966\u001b[0m         html\u001b[39m=\u001b[39;49mhtml,\n\u001b[0;32m   1967\u001b[0m         session_id\u001b[39m=\u001b[39;49msession_id,\n\u001b[0;32m   1968\u001b[0m         system_log\u001b[39m=\u001b[39;49msystem_log,\n\u001b[0;32m   1969\u001b[0m         log_experiment\u001b[39m=\u001b[39;49mlog_experiment,\n\u001b[0;32m   1970\u001b[0m         experiment_name\u001b[39m=\u001b[39;49mexperiment_name,\n\u001b[0;32m   1971\u001b[0m         memory\u001b[39m=\u001b[39;49m\u001b[39mTrue\u001b[39;49;00m,\n\u001b[0;32m   1972\u001b[0m         verbose\u001b[39m=\u001b[39;49mverbose,\n\u001b[0;32m   1973\u001b[0m     )\n\u001b[0;32m   1974\u001b[0m     \u001b[39m.\u001b[39;49m_check_clean_and_set_data(data)\n\u001b[0;32m   1975\u001b[0m     \u001b[39m.\u001b[39;49m_check_and_clean_index(index\u001b[39m=\u001b[39;49mindex, seasonal_period\u001b[39m=\u001b[39;49mseasonal_period)\n\u001b[0;32m   1976\u001b[0m     \u001b[39m.\u001b[39m_check_and_set_targets(target\u001b[39m=\u001b[39mtarget)\n\u001b[0;32m   1977\u001b[0m     \u001b[39m.\u001b[39m_set_exogenous_names()\n\u001b[0;32m   1978\u001b[0m     \u001b[39m.\u001b[39m_check_and_set_forecasting_types()\n\u001b[0;32m   1979\u001b[0m     \u001b[39m.\u001b[39m_check_and_set_fh(fh\u001b[39m=\u001b[39mfh)\n\u001b[0;32m   1980\u001b[0m     \u001b[39m.\u001b[39m_set_point_alpha_intervals_enforce_pi(\n\u001b[0;32m   1981\u001b[0m         point_alpha\u001b[39m=\u001b[39mpoint_alpha, coverage\u001b[39m=\u001b[39mcoverage\n\u001b[0;32m   1982\u001b[0m     )\n\u001b[0;32m   1983\u001b[0m     \u001b[39m.\u001b[39m_setup_train_test_split()\n\u001b[0;32m   1984\u001b[0m     \u001b[39m.\u001b[39m_set_fold_generator()\n\u001b[0;32m   1985\u001b[0m     \u001b[39m.\u001b[39m_set_should_preprocess_data()\n\u001b[0;32m   1986\u001b[0m     \u001b[39m.\u001b[39m_set_missingness()\n\u001b[0;32m   1987\u001b[0m     \u001b[39m.\u001b[39m_initialize_pipeline()\n\u001b[0;32m   1988\u001b[0m     \u001b[39m##################################################################\u001b[39;00m\n\u001b[0;32m   1989\u001b[0m     \u001b[39m# Do these after the preprocessing pipeline has been setup.\u001b[39;00m\n\u001b[0;32m   1990\u001b[0m     \u001b[39m# Since the model will see transformed data, these parameters\u001b[39;00m\n\u001b[0;32m   1991\u001b[0m     \u001b[39m# should also be derived from the transformed data.\u001b[39;00m\n\u001b[0;32m   1992\u001b[0m     \u001b[39m##################################################################\u001b[39;00m\n\u001b[0;32m   1993\u001b[0m     \u001b[39m.\u001b[39m_check_and_set_seasonal_period()\n\u001b[0;32m   1994\u001b[0m     \u001b[39m.\u001b[39m_set_multiplicative_components()\n\u001b[0;32m   1995\u001b[0m     \u001b[39m.\u001b[39m_perform_setup_eda()\n\u001b[0;32m   1996\u001b[0m     \u001b[39m.\u001b[39m_setup_display_container()\n\u001b[0;32m   1997\u001b[0m     \u001b[39m.\u001b[39m_profile(profile, profile_kwargs)\n\u001b[0;32m   1998\u001b[0m     \u001b[39m.\u001b[39m_set_exp_model_engines(\n\u001b[0;32m   1999\u001b[0m         container_default_engines\u001b[39m=\u001b[39mget_container_default_engines(),\n\u001b[0;32m   2000\u001b[0m         engine\u001b[39m=\u001b[39mengine,\n\u001b[0;32m   2001\u001b[0m     )\n\u001b[0;32m   2002\u001b[0m     \u001b[39m.\u001b[39m_set_all_models()\n\u001b[0;32m   2003\u001b[0m     \u001b[39m.\u001b[39m_set_all_metrics()\n\u001b[0;32m   2004\u001b[0m )\n\u001b[0;32m   2006\u001b[0m runtime \u001b[39m=\u001b[39m np\u001b[39m.\u001b[39marray(time\u001b[39m.\u001b[39mtime() \u001b[39m-\u001b[39m runtime_start)\u001b[39m.\u001b[39mround(\u001b[39m2\u001b[39m)\n\u001b[0;32m   2008\u001b[0m \u001b[39mself\u001b[39m\u001b[39m.\u001b[39m_set_up_logging(\n\u001b[0;32m   2009\u001b[0m     runtime,\n\u001b[0;32m   2010\u001b[0m     log_data,\n\u001b[0;32m   2011\u001b[0m     log_profile,\n\u001b[0;32m   2012\u001b[0m     experiment_custom_tags\u001b[39m=\u001b[39mexperiment_custom_tags,\n\u001b[0;32m   2013\u001b[0m )\n",
      "File \u001b[1;32mc:\\Users\\feldm\\Documents\\GitHub\\portfolio_forecasting\\myenv\\lib\\site-packages\\pycaret\\time_series\\forecasting\\oop.py:558\u001b[0m, in \u001b[0;36mTSForecastingExperiment._check_and_clean_index\u001b[1;34m(self, index, seasonal_period)\u001b[0m\n\u001b[0;32m    554\u001b[0m \u001b[39m# Convert DatetimeIndex index to PeriodIndex ----\u001b[39;00m\n\u001b[0;32m    555\u001b[0m \u001b[39m# We use PeriodIndex in PyCaret since it seems to be more robust per `sktime``\u001b[39;00m\n\u001b[0;32m    556\u001b[0m \u001b[39m# Ref: https://github.com/sktime/sktime/blob/v0.10.0/sktime/forecasting/base/_fh.py#L524\u001b[39;00m\n\u001b[0;32m    557\u001b[0m \u001b[39mif\u001b[39;00m \u001b[39misinstance\u001b[39m(\u001b[39mself\u001b[39m\u001b[39m.\u001b[39mdata\u001b[39m.\u001b[39mindex, pd\u001b[39m.\u001b[39mDatetimeIndex):\n\u001b[1;32m--> 558\u001b[0m     \u001b[39mself\u001b[39m\u001b[39m.\u001b[39mdata\u001b[39m.\u001b[39mindex \u001b[39m=\u001b[39m \u001b[39mself\u001b[39;49m\u001b[39m.\u001b[39;49mdata\u001b[39m.\u001b[39;49mindex\u001b[39m.\u001b[39;49mto_period()\n\u001b[0;32m    560\u001b[0m \u001b[39m# Data must not have missing indices ----\u001b[39;00m\n\u001b[0;32m    561\u001b[0m \u001b[39mif\u001b[39;00m \u001b[39misinstance\u001b[39m(\u001b[39mself\u001b[39m\u001b[39m.\u001b[39mdata\u001b[39m.\u001b[39mindex, pd\u001b[39m.\u001b[39mPeriodIndex):\n",
      "File \u001b[1;32mc:\\Users\\feldm\\Documents\\GitHub\\portfolio_forecasting\\myenv\\lib\\site-packages\\pandas\\core\\indexes\\extension.py:98\u001b[0m, in \u001b[0;36m_inherit_from_data.<locals>.method\u001b[1;34m(self, *args, **kwargs)\u001b[0m\n\u001b[0;32m     96\u001b[0m \u001b[39mif\u001b[39;00m \u001b[39m\"\u001b[39m\u001b[39minplace\u001b[39m\u001b[39m\"\u001b[39m \u001b[39min\u001b[39;00m kwargs:\n\u001b[0;32m     97\u001b[0m     \u001b[39mraise\u001b[39;00m \u001b[39mValueError\u001b[39;00m(\u001b[39mf\u001b[39m\u001b[39m\"\u001b[39m\u001b[39mcannot use inplace with \u001b[39m\u001b[39m{\u001b[39;00m\u001b[39mtype\u001b[39m(\u001b[39mself\u001b[39m)\u001b[39m.\u001b[39m\u001b[39m__name__\u001b[39m\u001b[39m}\u001b[39;00m\u001b[39m\"\u001b[39m)\n\u001b[1;32m---> 98\u001b[0m result \u001b[39m=\u001b[39m attr(\u001b[39mself\u001b[39m\u001b[39m.\u001b[39m_data, \u001b[39m*\u001b[39margs, \u001b[39m*\u001b[39m\u001b[39m*\u001b[39mkwargs)\n\u001b[0;32m     99\u001b[0m \u001b[39mif\u001b[39;00m wrap:\n\u001b[0;32m    100\u001b[0m     \u001b[39mif\u001b[39;00m \u001b[39misinstance\u001b[39m(result, \u001b[39mtype\u001b[39m(\u001b[39mself\u001b[39m\u001b[39m.\u001b[39m_data)):\n",
      "File \u001b[1;32mc:\\Users\\feldm\\Documents\\GitHub\\portfolio_forecasting\\myenv\\lib\\site-packages\\pandas\\core\\arrays\\datetimes.py:1125\u001b[0m, in \u001b[0;36mDatetimeArray.to_period\u001b[1;34m(self, freq)\u001b[0m\n\u001b[0;32m   1122\u001b[0m freq \u001b[39m=\u001b[39m \u001b[39mself\u001b[39m\u001b[39m.\u001b[39mfreqstr \u001b[39mor\u001b[39;00m \u001b[39mself\u001b[39m\u001b[39m.\u001b[39minferred_freq\n\u001b[0;32m   1124\u001b[0m \u001b[39mif\u001b[39;00m freq \u001b[39mis\u001b[39;00m \u001b[39mNone\u001b[39;00m:\n\u001b[1;32m-> 1125\u001b[0m     \u001b[39mraise\u001b[39;00m \u001b[39mValueError\u001b[39;00m(\n\u001b[0;32m   1126\u001b[0m         \u001b[39m\"\u001b[39m\u001b[39mYou must pass a freq argument as current index has none.\u001b[39m\u001b[39m\"\u001b[39m\n\u001b[0;32m   1127\u001b[0m     )\n\u001b[0;32m   1129\u001b[0m res \u001b[39m=\u001b[39m get_period_alias(freq)\n\u001b[0;32m   1131\u001b[0m \u001b[39m#  https://github.com/pandas-dev/pandas/issues/33358\u001b[39;00m\n",
      "\u001b[1;31mValueError\u001b[0m: You must pass a freq argument as current index has none."
     ]
    }
   ],
   "source": [
    "from pycaret.time_series import *\n",
    "s = setup(df, fh = 7, fold = 5, session_id = 123, numeric_imputation_target='mean')"
   ]
  },
  {
   "cell_type": "code",
   "execution_count": 42,
   "metadata": {},
   "outputs": [
    {
     "data": {
      "text/html": [
       "<div>\n",
       "<style scoped>\n",
       "    .dataframe tbody tr th:only-of-type {\n",
       "        vertical-align: middle;\n",
       "    }\n",
       "\n",
       "    .dataframe tbody tr th {\n",
       "        vertical-align: top;\n",
       "    }\n",
       "\n",
       "    .dataframe thead th {\n",
       "        text-align: right;\n",
       "    }\n",
       "</style>\n",
       "<table border=\"1\" class=\"dataframe\">\n",
       "  <thead>\n",
       "    <tr style=\"text-align: right;\">\n",
       "      <th></th>\n",
       "      <th></th>\n",
       "      <th></th>\n",
       "    </tr>\n",
       "    <tr>\n",
       "      <th></th>\n",
       "      <th></th>\n",
       "      <th></th>\n",
       "    </tr>\n",
       "  </thead>\n",
       "  <tbody>\n",
       "    <tr>\n",
       "      <th>Initiated</th>\n",
       "      <td>. . . . . . . . . . . . . . . . . .</td>\n",
       "      <td>10:49:17</td>\n",
       "    </tr>\n",
       "    <tr>\n",
       "      <th>Status</th>\n",
       "      <td>. . . . . . . . . . . . . . . . . .</td>\n",
       "      <td>Loading Estimator</td>\n",
       "    </tr>\n",
       "    <tr>\n",
       "      <th>Estimator</th>\n",
       "      <td>. . . . . . . . . . . . . . . . . .</td>\n",
       "      <td>Naive Forecaster</td>\n",
       "    </tr>\n",
       "  </tbody>\n",
       "</table>\n",
       "</div>"
      ],
      "text/plain": [
       "                                                                 \n",
       "                                                                 \n",
       "Initiated  . . . . . . . . . . . . . . . . . .           10:49:17\n",
       "Status     . . . . . . . . . . . . . . . . . .  Loading Estimator\n",
       "Estimator  . . . . . . . . . . . . . . . . . .   Naive Forecaster"
      ]
     },
     "metadata": {},
     "output_type": "display_data"
    },
    {
     "data": {
      "text/html": [],
      "text/plain": [
       "<IPython.core.display.HTML object>"
      ]
     },
     "metadata": {},
     "output_type": "display_data"
    }
   ],
   "source": [
    "best = compare_models()"
   ]
  },
  {
   "cell_type": "code",
   "execution_count": 29,
   "metadata": {},
   "outputs": [
    {
     "data": {
      "application/vnd.plotly.v1+json": {
       "config": {
        "plotlyServerURL": "https://plot.ly"
       },
       "data": [
        {
         "line": {
          "color": "rgb(31, 119, 180)",
          "width": 2
         },
         "marker": {
          "color": "rgb(31, 119, 180)",
          "size": 5
         },
         "mode": "lines+markers",
         "name": "Number of airline passengers",
         "type": "scattergl",
         "x": [
          "1949-01-01T00:00:00",
          "1949-02-01T00:00:00",
          "1949-03-01T00:00:00",
          "1949-04-01T00:00:00",
          "1949-05-01T00:00:00",
          "1949-06-01T00:00:00",
          "1949-07-01T00:00:00",
          "1949-08-01T00:00:00",
          "1949-09-01T00:00:00",
          "1949-10-01T00:00:00",
          "1949-11-01T00:00:00",
          "1949-12-01T00:00:00",
          "1950-01-01T00:00:00",
          "1950-02-01T00:00:00",
          "1950-03-01T00:00:00",
          "1950-04-01T00:00:00",
          "1950-05-01T00:00:00",
          "1950-06-01T00:00:00",
          "1950-07-01T00:00:00",
          "1950-08-01T00:00:00",
          "1950-09-01T00:00:00",
          "1950-10-01T00:00:00",
          "1950-11-01T00:00:00",
          "1950-12-01T00:00:00",
          "1951-01-01T00:00:00",
          "1951-02-01T00:00:00",
          "1951-03-01T00:00:00",
          "1951-04-01T00:00:00",
          "1951-05-01T00:00:00",
          "1951-06-01T00:00:00",
          "1951-07-01T00:00:00",
          "1951-08-01T00:00:00",
          "1951-09-01T00:00:00",
          "1951-10-01T00:00:00",
          "1951-11-01T00:00:00",
          "1951-12-01T00:00:00",
          "1952-01-01T00:00:00",
          "1952-02-01T00:00:00",
          "1952-03-01T00:00:00",
          "1952-04-01T00:00:00",
          "1952-05-01T00:00:00",
          "1952-06-01T00:00:00",
          "1952-07-01T00:00:00",
          "1952-08-01T00:00:00",
          "1952-09-01T00:00:00",
          "1952-10-01T00:00:00",
          "1952-11-01T00:00:00",
          "1952-12-01T00:00:00",
          "1953-01-01T00:00:00",
          "1953-02-01T00:00:00",
          "1953-03-01T00:00:00",
          "1953-04-01T00:00:00",
          "1953-05-01T00:00:00",
          "1953-06-01T00:00:00",
          "1953-07-01T00:00:00",
          "1953-08-01T00:00:00",
          "1953-09-01T00:00:00",
          "1953-10-01T00:00:00",
          "1953-11-01T00:00:00",
          "1953-12-01T00:00:00",
          "1954-01-01T00:00:00",
          "1954-02-01T00:00:00",
          "1954-03-01T00:00:00",
          "1954-04-01T00:00:00",
          "1954-05-01T00:00:00",
          "1954-06-01T00:00:00",
          "1954-07-01T00:00:00",
          "1954-08-01T00:00:00",
          "1954-09-01T00:00:00",
          "1954-10-01T00:00:00",
          "1954-11-01T00:00:00",
          "1954-12-01T00:00:00",
          "1955-01-01T00:00:00",
          "1955-02-01T00:00:00",
          "1955-03-01T00:00:00",
          "1955-04-01T00:00:00",
          "1955-05-01T00:00:00",
          "1955-06-01T00:00:00",
          "1955-07-01T00:00:00",
          "1955-08-01T00:00:00",
          "1955-09-01T00:00:00",
          "1955-10-01T00:00:00",
          "1955-11-01T00:00:00",
          "1955-12-01T00:00:00",
          "1956-01-01T00:00:00",
          "1956-02-01T00:00:00",
          "1956-03-01T00:00:00",
          "1956-04-01T00:00:00",
          "1956-05-01T00:00:00",
          "1956-06-01T00:00:00",
          "1956-07-01T00:00:00",
          "1956-08-01T00:00:00",
          "1956-09-01T00:00:00",
          "1956-10-01T00:00:00",
          "1956-11-01T00:00:00",
          "1956-12-01T00:00:00",
          "1957-01-01T00:00:00",
          "1957-02-01T00:00:00",
          "1957-03-01T00:00:00",
          "1957-04-01T00:00:00",
          "1957-05-01T00:00:00",
          "1957-06-01T00:00:00",
          "1957-07-01T00:00:00",
          "1957-08-01T00:00:00",
          "1957-09-01T00:00:00",
          "1957-10-01T00:00:00",
          "1957-11-01T00:00:00",
          "1957-12-01T00:00:00",
          "1958-01-01T00:00:00",
          "1958-02-01T00:00:00",
          "1958-03-01T00:00:00",
          "1958-04-01T00:00:00",
          "1958-05-01T00:00:00",
          "1958-06-01T00:00:00",
          "1958-07-01T00:00:00",
          "1958-08-01T00:00:00",
          "1958-09-01T00:00:00",
          "1958-10-01T00:00:00",
          "1958-11-01T00:00:00",
          "1958-12-01T00:00:00",
          "1959-01-01T00:00:00",
          "1959-02-01T00:00:00",
          "1959-03-01T00:00:00",
          "1959-04-01T00:00:00",
          "1959-05-01T00:00:00",
          "1959-06-01T00:00:00",
          "1959-07-01T00:00:00",
          "1959-08-01T00:00:00",
          "1959-09-01T00:00:00",
          "1959-10-01T00:00:00",
          "1959-11-01T00:00:00",
          "1959-12-01T00:00:00",
          "1960-01-01T00:00:00",
          "1960-02-01T00:00:00",
          "1960-03-01T00:00:00",
          "1960-04-01T00:00:00",
          "1960-05-01T00:00:00",
          "1960-06-01T00:00:00",
          "1960-07-01T00:00:00",
          "1960-08-01T00:00:00",
          "1960-09-01T00:00:00",
          "1960-10-01T00:00:00",
          "1960-11-01T00:00:00",
          "1960-12-01T00:00:00",
          "1961-01-01T00:00:00",
          "1961-02-01T00:00:00",
          "1961-03-01T00:00:00",
          "1961-04-01T00:00:00",
          "1961-05-01T00:00:00",
          "1961-06-01T00:00:00",
          "1961-07-01T00:00:00",
          "1961-08-01T00:00:00",
          "1961-09-01T00:00:00",
          "1961-10-01T00:00:00",
          "1961-11-01T00:00:00",
          "1961-12-01T00:00:00",
          "1962-01-01T00:00:00",
          "1962-02-01T00:00:00",
          "1962-03-01T00:00:00",
          "1962-04-01T00:00:00",
          "1962-05-01T00:00:00",
          "1962-06-01T00:00:00",
          "1962-07-01T00:00:00",
          "1962-08-01T00:00:00",
          "1962-09-01T00:00:00"
         ],
         "xaxis": "x",
         "y": [
          112,
          118,
          132,
          129,
          121,
          135,
          148,
          148,
          136,
          119,
          104,
          118,
          115,
          126,
          141,
          135,
          125,
          149,
          170,
          170,
          158,
          133,
          114,
          140,
          145,
          150,
          178,
          163,
          172,
          178,
          199,
          199,
          184,
          162,
          146,
          166,
          171,
          180,
          193,
          181,
          183,
          218,
          230,
          242,
          209,
          191,
          172,
          194,
          196,
          196,
          236,
          235,
          229,
          243,
          264,
          272,
          237,
          211,
          180,
          201,
          204,
          188,
          235,
          227,
          234,
          264,
          302,
          293,
          259,
          229,
          203,
          229,
          242,
          233,
          267,
          269,
          270,
          315,
          364,
          347,
          312,
          274,
          237,
          278,
          284,
          277,
          317,
          313,
          318,
          374,
          413,
          405,
          355,
          306,
          271,
          306,
          315,
          301,
          356,
          348,
          355,
          422,
          465,
          467,
          404,
          347,
          305,
          336,
          340,
          318,
          362,
          348,
          363,
          435,
          491,
          505,
          404,
          359,
          310,
          337,
          360,
          342,
          406,
          396,
          420,
          472,
          548,
          559,
          463,
          407,
          362,
          405,
          417,
          391,
          419,
          461,
          472,
          535,
          622,
          606,
          508,
          461,
          390,
          432,
          null,
          null,
          null,
          null,
          null,
          null,
          null,
          null,
          null,
          null,
          null,
          null,
          null,
          null,
          null,
          null,
          null,
          null,
          null,
          null,
          null
         ],
         "yaxis": "y"
        },
        {
         "line": {
          "color": "rgb(255, 127, 14)",
          "width": 2
         },
         "marker": {
          "color": "rgb(255, 127, 14)",
          "size": 5
         },
         "mode": "lines+markers",
         "name": "Exponential Smoothing",
         "type": "scattergl",
         "x": [
          "1949-01-01T00:00:00",
          "1949-02-01T00:00:00",
          "1949-03-01T00:00:00",
          "1949-04-01T00:00:00",
          "1949-05-01T00:00:00",
          "1949-06-01T00:00:00",
          "1949-07-01T00:00:00",
          "1949-08-01T00:00:00",
          "1949-09-01T00:00:00",
          "1949-10-01T00:00:00",
          "1949-11-01T00:00:00",
          "1949-12-01T00:00:00",
          "1950-01-01T00:00:00",
          "1950-02-01T00:00:00",
          "1950-03-01T00:00:00",
          "1950-04-01T00:00:00",
          "1950-05-01T00:00:00",
          "1950-06-01T00:00:00",
          "1950-07-01T00:00:00",
          "1950-08-01T00:00:00",
          "1950-09-01T00:00:00",
          "1950-10-01T00:00:00",
          "1950-11-01T00:00:00",
          "1950-12-01T00:00:00",
          "1951-01-01T00:00:00",
          "1951-02-01T00:00:00",
          "1951-03-01T00:00:00",
          "1951-04-01T00:00:00",
          "1951-05-01T00:00:00",
          "1951-06-01T00:00:00",
          "1951-07-01T00:00:00",
          "1951-08-01T00:00:00",
          "1951-09-01T00:00:00",
          "1951-10-01T00:00:00",
          "1951-11-01T00:00:00",
          "1951-12-01T00:00:00",
          "1952-01-01T00:00:00",
          "1952-02-01T00:00:00",
          "1952-03-01T00:00:00",
          "1952-04-01T00:00:00",
          "1952-05-01T00:00:00",
          "1952-06-01T00:00:00",
          "1952-07-01T00:00:00",
          "1952-08-01T00:00:00",
          "1952-09-01T00:00:00",
          "1952-10-01T00:00:00",
          "1952-11-01T00:00:00",
          "1952-12-01T00:00:00",
          "1953-01-01T00:00:00",
          "1953-02-01T00:00:00",
          "1953-03-01T00:00:00",
          "1953-04-01T00:00:00",
          "1953-05-01T00:00:00",
          "1953-06-01T00:00:00",
          "1953-07-01T00:00:00",
          "1953-08-01T00:00:00",
          "1953-09-01T00:00:00",
          "1953-10-01T00:00:00",
          "1953-11-01T00:00:00",
          "1953-12-01T00:00:00",
          "1954-01-01T00:00:00",
          "1954-02-01T00:00:00",
          "1954-03-01T00:00:00",
          "1954-04-01T00:00:00",
          "1954-05-01T00:00:00",
          "1954-06-01T00:00:00",
          "1954-07-01T00:00:00",
          "1954-08-01T00:00:00",
          "1954-09-01T00:00:00",
          "1954-10-01T00:00:00",
          "1954-11-01T00:00:00",
          "1954-12-01T00:00:00",
          "1955-01-01T00:00:00",
          "1955-02-01T00:00:00",
          "1955-03-01T00:00:00",
          "1955-04-01T00:00:00",
          "1955-05-01T00:00:00",
          "1955-06-01T00:00:00",
          "1955-07-01T00:00:00",
          "1955-08-01T00:00:00",
          "1955-09-01T00:00:00",
          "1955-10-01T00:00:00",
          "1955-11-01T00:00:00",
          "1955-12-01T00:00:00",
          "1956-01-01T00:00:00",
          "1956-02-01T00:00:00",
          "1956-03-01T00:00:00",
          "1956-04-01T00:00:00",
          "1956-05-01T00:00:00",
          "1956-06-01T00:00:00",
          "1956-07-01T00:00:00",
          "1956-08-01T00:00:00",
          "1956-09-01T00:00:00",
          "1956-10-01T00:00:00",
          "1956-11-01T00:00:00",
          "1956-12-01T00:00:00",
          "1957-01-01T00:00:00",
          "1957-02-01T00:00:00",
          "1957-03-01T00:00:00",
          "1957-04-01T00:00:00",
          "1957-05-01T00:00:00",
          "1957-06-01T00:00:00",
          "1957-07-01T00:00:00",
          "1957-08-01T00:00:00",
          "1957-09-01T00:00:00",
          "1957-10-01T00:00:00",
          "1957-11-01T00:00:00",
          "1957-12-01T00:00:00",
          "1958-01-01T00:00:00",
          "1958-02-01T00:00:00",
          "1958-03-01T00:00:00",
          "1958-04-01T00:00:00",
          "1958-05-01T00:00:00",
          "1958-06-01T00:00:00",
          "1958-07-01T00:00:00",
          "1958-08-01T00:00:00",
          "1958-09-01T00:00:00",
          "1958-10-01T00:00:00",
          "1958-11-01T00:00:00",
          "1958-12-01T00:00:00",
          "1959-01-01T00:00:00",
          "1959-02-01T00:00:00",
          "1959-03-01T00:00:00",
          "1959-04-01T00:00:00",
          "1959-05-01T00:00:00",
          "1959-06-01T00:00:00",
          "1959-07-01T00:00:00",
          "1959-08-01T00:00:00",
          "1959-09-01T00:00:00",
          "1959-10-01T00:00:00",
          "1959-11-01T00:00:00",
          "1959-12-01T00:00:00",
          "1960-01-01T00:00:00",
          "1960-02-01T00:00:00",
          "1960-03-01T00:00:00",
          "1960-04-01T00:00:00",
          "1960-05-01T00:00:00",
          "1960-06-01T00:00:00",
          "1960-07-01T00:00:00",
          "1960-08-01T00:00:00",
          "1960-09-01T00:00:00",
          "1960-10-01T00:00:00",
          "1960-11-01T00:00:00",
          "1960-12-01T00:00:00",
          "1961-01-01T00:00:00",
          "1961-02-01T00:00:00",
          "1961-03-01T00:00:00",
          "1961-04-01T00:00:00",
          "1961-05-01T00:00:00",
          "1961-06-01T00:00:00",
          "1961-07-01T00:00:00",
          "1961-08-01T00:00:00",
          "1961-09-01T00:00:00",
          "1961-10-01T00:00:00",
          "1961-11-01T00:00:00",
          "1961-12-01T00:00:00",
          "1962-01-01T00:00:00",
          "1962-02-01T00:00:00",
          "1962-03-01T00:00:00",
          "1962-04-01T00:00:00",
          "1962-05-01T00:00:00",
          "1962-06-01T00:00:00",
          "1962-07-01T00:00:00",
          "1962-08-01T00:00:00",
          "1962-09-01T00:00:00"
         ],
         "xaxis": "x",
         "y": [
          null,
          null,
          null,
          null,
          null,
          null,
          null,
          null,
          null,
          null,
          null,
          null,
          null,
          null,
          null,
          null,
          null,
          null,
          null,
          null,
          null,
          null,
          null,
          null,
          null,
          null,
          null,
          null,
          null,
          null,
          null,
          null,
          null,
          null,
          null,
          null,
          null,
          null,
          null,
          null,
          null,
          null,
          null,
          null,
          null,
          null,
          null,
          null,
          null,
          null,
          null,
          null,
          null,
          null,
          null,
          null,
          null,
          null,
          null,
          null,
          null,
          null,
          null,
          null,
          null,
          null,
          null,
          null,
          null,
          null,
          null,
          null,
          null,
          null,
          null,
          null,
          null,
          null,
          null,
          null,
          null,
          null,
          null,
          null,
          null,
          null,
          null,
          null,
          null,
          null,
          null,
          null,
          null,
          null,
          null,
          null,
          null,
          null,
          null,
          null,
          null,
          null,
          null,
          null,
          null,
          null,
          null,
          null,
          null,
          null,
          null,
          null,
          null,
          null,
          null,
          null,
          null,
          null,
          null,
          null,
          null,
          null,
          null,
          null,
          null,
          null,
          null,
          null,
          null,
          null,
          null,
          null,
          null,
          null,
          null,
          null,
          null,
          null,
          null,
          null,
          null,
          442.8886,
          388.1647,
          427.6613,
          440.5849,
          413.9441,
          460.8743,
          490.1254,
          500.5098,
          567.8292,
          657.2934,
          648.7543,
          540.5014,
          472.0858,
          413.6145,
          455.5483,
          469.1593,
          440.6465,
          490.445,
          521.4056,
          532.2838,
          603.6872,
          698.5836,
          689.296,
          574.1031
         ],
         "yaxis": "y"
        }
       ],
       "layout": {
        "showlegend": true,
        "template": {
         "data": {
          "bar": [
           {
            "error_x": {
             "color": "rgb(51,51,51)"
            },
            "error_y": {
             "color": "rgb(51,51,51)"
            },
            "marker": {
             "line": {
              "color": "rgb(237,237,237)",
              "width": 0.5
             },
             "pattern": {
              "fillmode": "overlay",
              "size": 10,
              "solidity": 0.2
             }
            },
            "type": "bar"
           }
          ],
          "barpolar": [
           {
            "marker": {
             "line": {
              "color": "rgb(237,237,237)",
              "width": 0.5
             },
             "pattern": {
              "fillmode": "overlay",
              "size": 10,
              "solidity": 0.2
             }
            },
            "type": "barpolar"
           }
          ],
          "carpet": [
           {
            "aaxis": {
             "endlinecolor": "rgb(51,51,51)",
             "gridcolor": "white",
             "linecolor": "white",
             "minorgridcolor": "white",
             "startlinecolor": "rgb(51,51,51)"
            },
            "baxis": {
             "endlinecolor": "rgb(51,51,51)",
             "gridcolor": "white",
             "linecolor": "white",
             "minorgridcolor": "white",
             "startlinecolor": "rgb(51,51,51)"
            },
            "type": "carpet"
           }
          ],
          "choropleth": [
           {
            "colorbar": {
             "outlinewidth": 0,
             "tickcolor": "rgb(237,237,237)",
             "ticklen": 6,
             "ticks": "inside"
            },
            "type": "choropleth"
           }
          ],
          "contour": [
           {
            "colorbar": {
             "outlinewidth": 0,
             "tickcolor": "rgb(237,237,237)",
             "ticklen": 6,
             "ticks": "inside"
            },
            "colorscale": [
             [
              0,
              "rgb(20,44,66)"
             ],
             [
              1,
              "rgb(90,179,244)"
             ]
            ],
            "type": "contour"
           }
          ],
          "contourcarpet": [
           {
            "colorbar": {
             "outlinewidth": 0,
             "tickcolor": "rgb(237,237,237)",
             "ticklen": 6,
             "ticks": "inside"
            },
            "type": "contourcarpet"
           }
          ],
          "heatmap": [
           {
            "colorbar": {
             "outlinewidth": 0,
             "tickcolor": "rgb(237,237,237)",
             "ticklen": 6,
             "ticks": "inside"
            },
            "colorscale": [
             [
              0,
              "rgb(20,44,66)"
             ],
             [
              1,
              "rgb(90,179,244)"
             ]
            ],
            "type": "heatmap"
           }
          ],
          "heatmapgl": [
           {
            "colorbar": {
             "outlinewidth": 0,
             "tickcolor": "rgb(237,237,237)",
             "ticklen": 6,
             "ticks": "inside"
            },
            "colorscale": [
             [
              0,
              "rgb(20,44,66)"
             ],
             [
              1,
              "rgb(90,179,244)"
             ]
            ],
            "type": "heatmapgl"
           }
          ],
          "histogram": [
           {
            "marker": {
             "pattern": {
              "fillmode": "overlay",
              "size": 10,
              "solidity": 0.2
             }
            },
            "type": "histogram"
           }
          ],
          "histogram2d": [
           {
            "colorbar": {
             "outlinewidth": 0,
             "tickcolor": "rgb(237,237,237)",
             "ticklen": 6,
             "ticks": "inside"
            },
            "colorscale": [
             [
              0,
              "rgb(20,44,66)"
             ],
             [
              1,
              "rgb(90,179,244)"
             ]
            ],
            "type": "histogram2d"
           }
          ],
          "histogram2dcontour": [
           {
            "colorbar": {
             "outlinewidth": 0,
             "tickcolor": "rgb(237,237,237)",
             "ticklen": 6,
             "ticks": "inside"
            },
            "colorscale": [
             [
              0,
              "rgb(20,44,66)"
             ],
             [
              1,
              "rgb(90,179,244)"
             ]
            ],
            "type": "histogram2dcontour"
           }
          ],
          "mesh3d": [
           {
            "colorbar": {
             "outlinewidth": 0,
             "tickcolor": "rgb(237,237,237)",
             "ticklen": 6,
             "ticks": "inside"
            },
            "type": "mesh3d"
           }
          ],
          "parcoords": [
           {
            "line": {
             "colorbar": {
              "outlinewidth": 0,
              "tickcolor": "rgb(237,237,237)",
              "ticklen": 6,
              "ticks": "inside"
             }
            },
            "type": "parcoords"
           }
          ],
          "pie": [
           {
            "automargin": true,
            "type": "pie"
           }
          ],
          "scatter": [
           {
            "fillpattern": {
             "fillmode": "overlay",
             "size": 10,
             "solidity": 0.2
            },
            "type": "scatter"
           }
          ],
          "scatter3d": [
           {
            "line": {
             "colorbar": {
              "outlinewidth": 0,
              "tickcolor": "rgb(237,237,237)",
              "ticklen": 6,
              "ticks": "inside"
             }
            },
            "marker": {
             "colorbar": {
              "outlinewidth": 0,
              "tickcolor": "rgb(237,237,237)",
              "ticklen": 6,
              "ticks": "inside"
             }
            },
            "type": "scatter3d"
           }
          ],
          "scattercarpet": [
           {
            "marker": {
             "colorbar": {
              "outlinewidth": 0,
              "tickcolor": "rgb(237,237,237)",
              "ticklen": 6,
              "ticks": "inside"
             }
            },
            "type": "scattercarpet"
           }
          ],
          "scattergeo": [
           {
            "marker": {
             "colorbar": {
              "outlinewidth": 0,
              "tickcolor": "rgb(237,237,237)",
              "ticklen": 6,
              "ticks": "inside"
             }
            },
            "type": "scattergeo"
           }
          ],
          "scattergl": [
           {
            "marker": {
             "colorbar": {
              "outlinewidth": 0,
              "tickcolor": "rgb(237,237,237)",
              "ticklen": 6,
              "ticks": "inside"
             }
            },
            "type": "scattergl"
           }
          ],
          "scattermapbox": [
           {
            "marker": {
             "colorbar": {
              "outlinewidth": 0,
              "tickcolor": "rgb(237,237,237)",
              "ticklen": 6,
              "ticks": "inside"
             }
            },
            "type": "scattermapbox"
           }
          ],
          "scatterpolar": [
           {
            "marker": {
             "colorbar": {
              "outlinewidth": 0,
              "tickcolor": "rgb(237,237,237)",
              "ticklen": 6,
              "ticks": "inside"
             }
            },
            "type": "scatterpolar"
           }
          ],
          "scatterpolargl": [
           {
            "marker": {
             "colorbar": {
              "outlinewidth": 0,
              "tickcolor": "rgb(237,237,237)",
              "ticklen": 6,
              "ticks": "inside"
             }
            },
            "type": "scatterpolargl"
           }
          ],
          "scatterternary": [
           {
            "marker": {
             "colorbar": {
              "outlinewidth": 0,
              "tickcolor": "rgb(237,237,237)",
              "ticklen": 6,
              "ticks": "inside"
             }
            },
            "type": "scatterternary"
           }
          ],
          "surface": [
           {
            "colorbar": {
             "outlinewidth": 0,
             "tickcolor": "rgb(237,237,237)",
             "ticklen": 6,
             "ticks": "inside"
            },
            "colorscale": [
             [
              0,
              "rgb(20,44,66)"
             ],
             [
              1,
              "rgb(90,179,244)"
             ]
            ],
            "type": "surface"
           }
          ],
          "table": [
           {
            "cells": {
             "fill": {
              "color": "rgb(237,237,237)"
             },
             "line": {
              "color": "white"
             }
            },
            "header": {
             "fill": {
              "color": "rgb(217,217,217)"
             },
             "line": {
              "color": "white"
             }
            },
            "type": "table"
           }
          ]
         },
         "layout": {
          "annotationdefaults": {
           "arrowhead": 0,
           "arrowwidth": 1
          },
          "autotypenumbers": "strict",
          "coloraxis": {
           "colorbar": {
            "outlinewidth": 0,
            "tickcolor": "rgb(237,237,237)",
            "ticklen": 6,
            "ticks": "inside"
           }
          },
          "colorscale": {
           "sequential": [
            [
             0,
             "rgb(20,44,66)"
            ],
            [
             1,
             "rgb(90,179,244)"
            ]
           ],
           "sequentialminus": [
            [
             0,
             "rgb(20,44,66)"
            ],
            [
             1,
             "rgb(90,179,244)"
            ]
           ]
          },
          "colorway": [
           "#F8766D",
           "#A3A500",
           "#00BF7D",
           "#00B0F6",
           "#E76BF3"
          ],
          "font": {
           "color": "rgb(51,51,51)"
          },
          "geo": {
           "bgcolor": "white",
           "lakecolor": "white",
           "landcolor": "rgb(237,237,237)",
           "showlakes": true,
           "showland": true,
           "subunitcolor": "white"
          },
          "hoverlabel": {
           "align": "left"
          },
          "hovermode": "closest",
          "paper_bgcolor": "white",
          "plot_bgcolor": "rgb(237,237,237)",
          "polar": {
           "angularaxis": {
            "gridcolor": "white",
            "linecolor": "white",
            "showgrid": true,
            "tickcolor": "rgb(51,51,51)",
            "ticks": "outside"
           },
           "bgcolor": "rgb(237,237,237)",
           "radialaxis": {
            "gridcolor": "white",
            "linecolor": "white",
            "showgrid": true,
            "tickcolor": "rgb(51,51,51)",
            "ticks": "outside"
           }
          },
          "scene": {
           "xaxis": {
            "backgroundcolor": "rgb(237,237,237)",
            "gridcolor": "white",
            "gridwidth": 2,
            "linecolor": "white",
            "showbackground": true,
            "showgrid": true,
            "tickcolor": "rgb(51,51,51)",
            "ticks": "outside",
            "zerolinecolor": "white"
           },
           "yaxis": {
            "backgroundcolor": "rgb(237,237,237)",
            "gridcolor": "white",
            "gridwidth": 2,
            "linecolor": "white",
            "showbackground": true,
            "showgrid": true,
            "tickcolor": "rgb(51,51,51)",
            "ticks": "outside",
            "zerolinecolor": "white"
           },
           "zaxis": {
            "backgroundcolor": "rgb(237,237,237)",
            "gridcolor": "white",
            "gridwidth": 2,
            "linecolor": "white",
            "showbackground": true,
            "showgrid": true,
            "tickcolor": "rgb(51,51,51)",
            "ticks": "outside",
            "zerolinecolor": "white"
           }
          },
          "shapedefaults": {
           "fillcolor": "black",
           "line": {
            "width": 0
           },
           "opacity": 0.3
          },
          "ternary": {
           "aaxis": {
            "gridcolor": "white",
            "linecolor": "white",
            "showgrid": true,
            "tickcolor": "rgb(51,51,51)",
            "ticks": "outside"
           },
           "baxis": {
            "gridcolor": "white",
            "linecolor": "white",
            "showgrid": true,
            "tickcolor": "rgb(51,51,51)",
            "ticks": "outside"
           },
           "bgcolor": "rgb(237,237,237)",
           "caxis": {
            "gridcolor": "white",
            "linecolor": "white",
            "showgrid": true,
            "tickcolor": "rgb(51,51,51)",
            "ticks": "outside"
           }
          },
          "xaxis": {
           "automargin": true,
           "gridcolor": "white",
           "linecolor": "white",
           "showgrid": true,
           "tickcolor": "rgb(51,51,51)",
           "ticks": "outside",
           "title": {
            "standoff": 15
           },
           "zerolinecolor": "white"
          },
          "yaxis": {
           "automargin": true,
           "gridcolor": "white",
           "linecolor": "white",
           "showgrid": true,
           "tickcolor": "rgb(51,51,51)",
           "ticks": "outside",
           "title": {
            "standoff": 15
           },
           "zerolinecolor": "white"
          }
         }
        },
        "title": {
         "text": "Actual vs. Forecast (Out-of-Sample)"
        },
        "xaxis": {
         "anchor": "y",
         "domain": [
          0,
          1
         ]
        },
        "yaxis": {
         "anchor": "x",
         "domain": [
          0,
          1
         ]
        }
       }
      }
     },
     "metadata": {},
     "output_type": "display_data"
    }
   ],
   "source": [
    "plot_model(best, plot = 'forecast', data_kwargs = {'fh' : 24})"
   ]
  },
  {
   "cell_type": "code",
   "execution_count": 24,
   "metadata": {},
   "outputs": [
    {
     "data": {
      "application/vnd.plotly.v1+json": {
       "config": {
        "plotlyServerURL": "https://plot.ly"
       },
       "data": [
        {
         "line": {
          "color": "rgb(31, 119, 180)",
          "width": 2
         },
         "marker": {
          "color": "rgb(31, 119, 180)",
          "size": 5
         },
         "mode": "lines+markers",
         "name": "Exponential Smoothing",
         "showlegend": false,
         "type": "scattergl",
         "x": [
          "1949-01-01T00:00:00",
          "1949-02-01T00:00:00",
          "1949-03-01T00:00:00",
          "1949-04-01T00:00:00",
          "1949-05-01T00:00:00",
          "1949-06-01T00:00:00",
          "1949-07-01T00:00:00",
          "1949-08-01T00:00:00",
          "1949-09-01T00:00:00",
          "1949-10-01T00:00:00",
          "1949-11-01T00:00:00",
          "1949-12-01T00:00:00",
          "1950-01-01T00:00:00",
          "1950-02-01T00:00:00",
          "1950-03-01T00:00:00",
          "1950-04-01T00:00:00",
          "1950-05-01T00:00:00",
          "1950-06-01T00:00:00",
          "1950-07-01T00:00:00",
          "1950-08-01T00:00:00",
          "1950-09-01T00:00:00",
          "1950-10-01T00:00:00",
          "1950-11-01T00:00:00",
          "1950-12-01T00:00:00",
          "1951-01-01T00:00:00",
          "1951-02-01T00:00:00",
          "1951-03-01T00:00:00",
          "1951-04-01T00:00:00",
          "1951-05-01T00:00:00",
          "1951-06-01T00:00:00",
          "1951-07-01T00:00:00",
          "1951-08-01T00:00:00",
          "1951-09-01T00:00:00",
          "1951-10-01T00:00:00",
          "1951-11-01T00:00:00",
          "1951-12-01T00:00:00",
          "1952-01-01T00:00:00",
          "1952-02-01T00:00:00",
          "1952-03-01T00:00:00",
          "1952-04-01T00:00:00",
          "1952-05-01T00:00:00",
          "1952-06-01T00:00:00",
          "1952-07-01T00:00:00",
          "1952-08-01T00:00:00",
          "1952-09-01T00:00:00",
          "1952-10-01T00:00:00",
          "1952-11-01T00:00:00",
          "1952-12-01T00:00:00",
          "1953-01-01T00:00:00",
          "1953-02-01T00:00:00",
          "1953-03-01T00:00:00",
          "1953-04-01T00:00:00",
          "1953-05-01T00:00:00",
          "1953-06-01T00:00:00",
          "1953-07-01T00:00:00",
          "1953-08-01T00:00:00",
          "1953-09-01T00:00:00",
          "1953-10-01T00:00:00",
          "1953-11-01T00:00:00",
          "1953-12-01T00:00:00",
          "1954-01-01T00:00:00",
          "1954-02-01T00:00:00",
          "1954-03-01T00:00:00",
          "1954-04-01T00:00:00",
          "1954-05-01T00:00:00",
          "1954-06-01T00:00:00",
          "1954-07-01T00:00:00",
          "1954-08-01T00:00:00",
          "1954-09-01T00:00:00",
          "1954-10-01T00:00:00",
          "1954-11-01T00:00:00",
          "1954-12-01T00:00:00",
          "1955-01-01T00:00:00",
          "1955-02-01T00:00:00",
          "1955-03-01T00:00:00",
          "1955-04-01T00:00:00",
          "1955-05-01T00:00:00",
          "1955-06-01T00:00:00",
          "1955-07-01T00:00:00",
          "1955-08-01T00:00:00",
          "1955-09-01T00:00:00",
          "1955-10-01T00:00:00",
          "1955-11-01T00:00:00",
          "1955-12-01T00:00:00",
          "1956-01-01T00:00:00",
          "1956-02-01T00:00:00",
          "1956-03-01T00:00:00",
          "1956-04-01T00:00:00",
          "1956-05-01T00:00:00",
          "1956-06-01T00:00:00",
          "1956-07-01T00:00:00",
          "1956-08-01T00:00:00",
          "1956-09-01T00:00:00",
          "1956-10-01T00:00:00",
          "1956-11-01T00:00:00",
          "1956-12-01T00:00:00",
          "1957-01-01T00:00:00",
          "1957-02-01T00:00:00",
          "1957-03-01T00:00:00",
          "1957-04-01T00:00:00",
          "1957-05-01T00:00:00",
          "1957-06-01T00:00:00",
          "1957-07-01T00:00:00",
          "1957-08-01T00:00:00",
          "1957-09-01T00:00:00",
          "1957-10-01T00:00:00",
          "1957-11-01T00:00:00",
          "1957-12-01T00:00:00",
          "1958-01-01T00:00:00",
          "1958-02-01T00:00:00",
          "1958-03-01T00:00:00",
          "1958-04-01T00:00:00",
          "1958-05-01T00:00:00",
          "1958-06-01T00:00:00",
          "1958-07-01T00:00:00",
          "1958-08-01T00:00:00",
          "1958-09-01T00:00:00",
          "1958-10-01T00:00:00",
          "1958-11-01T00:00:00",
          "1958-12-01T00:00:00",
          "1959-01-01T00:00:00",
          "1959-02-01T00:00:00",
          "1959-03-01T00:00:00",
          "1959-04-01T00:00:00",
          "1959-05-01T00:00:00",
          "1959-06-01T00:00:00",
          "1959-07-01T00:00:00",
          "1959-08-01T00:00:00",
          "1959-09-01T00:00:00",
          "1959-10-01T00:00:00",
          "1959-11-01T00:00:00",
          "1959-12-01T00:00:00",
          "1960-01-01T00:00:00",
          "1960-02-01T00:00:00",
          "1960-03-01T00:00:00",
          "1960-04-01T00:00:00",
          "1960-05-01T00:00:00",
          "1960-06-01T00:00:00",
          "1960-07-01T00:00:00",
          "1960-08-01T00:00:00",
          "1960-09-01T00:00:00"
         ],
         "xaxis": "x",
         "y": [
          0.564700000000002,
          -2.1663000000000068,
          -2.917100000000005,
          -1.546199999999999,
          -2.8950999999999993,
          -1.9699999999999989,
          -3.2960999999999956,
          -3.3603999999999985,
          -3.6898999999999944,
          -4.176900000000003,
          -6.029399999999995,
          -8.441100000000006,
          -14.516400000000004,
          -6.171300000000002,
          -5.381699999999995,
          -6.502199999999988,
          -6.664199999999994,
          4.15979999999999,
          8.713799999999992,
          4.975999999999999,
          3.804699999999997,
          -4.300000000000011,
          -6.9024,
          2.5135999999999967,
          4.622099999999989,
          -6.02940000000001,
          4.2975999999999885,
          -6.731400000000008,
          14.781800000000004,
          -11.276199999999989,
          -7.979199999999992,
          -3.0012999999999863,
          -0.8789999999999907,
          4.709800000000001,
          7.282900000000012,
          -4.557199999999995,
          -1.567700000000002,
          -0.8137000000000114,
          -17.863499999999988,
          -9.798100000000005,
          -7.013299999999987,
          18.019299999999987,
          -2.133999999999986,
          10.424800000000005,
          -7.935000000000002,
          4.970799999999997,
          6.2797999999999945,
          0.8403000000000134,
          -3.1588000000000136,
          -12.388299999999987,
          9.159999999999997,
          17.08510000000001,
          1.186000000000007,
          -18.20440000000002,
          -7.093000000000018,
          -5.137900000000002,
          -4.871600000000001,
          -5.226699999999994,
          -10.413299999999992,
          -9.875400000000013,
          -7.050600000000003,
          -25.648200000000003,
          -6.787800000000004,
          -5.110500000000002,
          8.869200000000006,
          14.584000000000003,
          24.838900000000024,
          -2.2916999999999916,
          0.8374999999999773,
          -2.7926999999999964,
          2.030399999999986,
          0.7896000000000072,
          8.177999999999997,
          4.03479999999999,
          -19.712499999999977,
          -3.029200000000003,
          -4.1007999999999925,
          13.84620000000001,
          25.231400000000008,
          8.063800000000015,
          11.084600000000023,
          3.752900000000011,
          -2.0671000000000106,
          9.65519999999998,
          1.3702000000000112,
          6.1053,
          -5.005400000000009,
          -8.581799999999987,
          -3.1508999999999787,
          8.160799999999995,
          -1.561300000000017,
          12.744100000000003,
          3.4839999999999804,
          -2.4365999999999985,
          3.948500000000024,
          -3.8231999999999857,
          -0.11239999999997963,
          -3.43040000000002,
          6.371899999999982,
          -2.404100000000028,
          -0.5240999999999758,
          8.433699999999988,
          4.206700000000012,
          20.0591,
          7.51400000000001,
          2.0541999999999803,
          1.1739999999999782,
          -9.318300000000022,
          -11.754799999999989,
          -15.728200000000015,
          -23.215899999999976,
          -22.485299999999995,
          -7.334799999999973,
          1.321799999999996,
          13.809900000000027,
          29.415900000000022,
          -13.708000000000027,
          4.5061999999999784,
          -2.4821999999999775,
          -10.248800000000017,
          8.000200000000007,
          4.754000000000019,
          12.149999999999977,
          6.01400000000001,
          10.469600000000014,
          -21.03800000000001,
          5.782900000000041,
          11.834600000000023,
          14.685099999999977,
          7.806100000000015,
          13.884799999999984,
          17.460699999999974,
          2.1123000000000047,
          -1.8659000000000106,
          -41.113099999999974,
          27.363800000000026,
          7.1007999999999925,
          -0.15430000000003474,
          6.171199999999999,
          -18.908199999999965,
          1.636199999999974
         ],
         "yaxis": "y"
        },
        {
         "hoverinfo": "text",
         "hovertext": [
          "Freq: 0.0071<br>Ampl: 23.5089<br>Time period: 141.0",
          "Freq: 0.0142<br>Ampl: 26.7232<br>Time period: 70.5",
          "Freq: 0.0213<br>Ampl: 26.6455<br>Time period: 47.0",
          "Freq: 0.0284<br>Ampl: 24.6941<br>Time period: 35.25",
          "Freq: 0.0355<br>Ampl: 25.5118<br>Time period: 28.2",
          "Freq: 0.0426<br>Ampl: 21.5976<br>Time period: 23.5",
          "Freq: 0.0496<br>Ampl: 22.7402<br>Time period: 20.1429",
          "Freq: 0.0567<br>Ampl: 28.1737<br>Time period: 17.625",
          "Freq: 0.0638<br>Ampl: 27.0736<br>Time period: 15.6667",
          "Freq: 0.0709<br>Ampl: 27.2348<br>Time period: 14.1",
          "Freq: 0.078<br>Ampl: 30.1152<br>Time period: 12.8182",
          "Freq: 0.0851<br>Ampl: 29.8028<br>Time period: 11.75",
          "Freq: 0.0922<br>Ampl: 22.5351<br>Time period: 10.8462",
          "Freq: 0.0993<br>Ampl: 11.6532<br>Time period: 10.0714",
          "Freq: 0.1064<br>Ampl: 9.2223<br>Time period: 9.4",
          "Freq: 0.1135<br>Ampl: 9.0996<br>Time period: 8.8125",
          "Freq: 0.1206<br>Ampl: 19.265<br>Time period: 8.2941",
          "Freq: 0.1277<br>Ampl: 24.1431<br>Time period: 7.8333",
          "Freq: 0.1348<br>Ampl: 26.6779<br>Time period: 7.4211",
          "Freq: 0.1418<br>Ampl: 29.1073<br>Time period: 7.05",
          "Freq: 0.1489<br>Ampl: 29.2779<br>Time period: 6.7143",
          "Freq: 0.156<br>Ampl: 29.7188<br>Time period: 6.4091",
          "Freq: 0.1631<br>Ampl: 28.2904<br>Time period: 6.1304",
          "Freq: 0.1702<br>Ampl: 22.5892<br>Time period: 5.875",
          "Freq: 0.1773<br>Ampl: 19.337<br>Time period: 5.64",
          "Freq: 0.1844<br>Ampl: 22.6412<br>Time period: 5.4231",
          "Freq: 0.1915<br>Ampl: 23.5315<br>Time period: 5.2222",
          "Freq: 0.1986<br>Ampl: 19.3775<br>Time period: 5.0357",
          "Freq: 0.2057<br>Ampl: 20.6081<br>Time period: 4.8621",
          "Freq: 0.2128<br>Ampl: 22.1063<br>Time period: 4.7",
          "Freq: 0.2199<br>Ampl: 21.8219<br>Time period: 4.5484",
          "Freq: 0.227<br>Ampl: 22.2409<br>Time period: 4.4062",
          "Freq: 0.234<br>Ampl: 20.9398<br>Time period: 4.2727",
          "Freq: 0.2411<br>Ampl: 14.6849<br>Time period: 4.1471",
          "Freq: 0.2482<br>Ampl: 3.4633<br>Time period: 4.0286",
          "Freq: 0.2553<br>Ampl: 11.1516<br>Time period: 3.9167",
          "Freq: 0.2624<br>Ampl: 17.9896<br>Time period: 3.8108",
          "Freq: 0.2695<br>Ampl: 21.1182<br>Time period: 3.7105",
          "Freq: 0.2766<br>Ampl: 20.4444<br>Time period: 3.6154",
          "Freq: 0.2837<br>Ampl: 17.2597<br>Time period: 3.525",
          "Freq: 0.2908<br>Ampl: 12.9508<br>Time period: 3.439",
          "Freq: 0.2979<br>Ampl: 10.8655<br>Time period: 3.3571",
          "Freq: 0.305<br>Ampl: 15.5844<br>Time period: 3.2791",
          "Freq: 0.3121<br>Ampl: 20.9261<br>Time period: 3.2045",
          "Freq: 0.3191<br>Ampl: 20.7596<br>Time period: 3.1333",
          "Freq: 0.3262<br>Ampl: 19.56<br>Time period: 3.0652",
          "Freq: 0.3333<br>Ampl: 17.2504<br>Time period: 3.0",
          "Freq: 0.3404<br>Ampl: 21.8236<br>Time period: 2.9375",
          "Freq: 0.3475<br>Ampl: 24.2346<br>Time period: 2.8776",
          "Freq: 0.3546<br>Ampl: 17.3387<br>Time period: 2.82",
          "Freq: 0.3617<br>Ampl: 13.3626<br>Time period: 2.7647",
          "Freq: 0.3688<br>Ampl: 17.9693<br>Time period: 2.7115",
          "Freq: 0.3759<br>Ampl: 22.1501<br>Time period: 2.6604",
          "Freq: 0.383<br>Ampl: 23.7176<br>Time period: 2.6111",
          "Freq: 0.3901<br>Ampl: 20.857<br>Time period: 2.5636",
          "Freq: 0.3972<br>Ampl: 20.429<br>Time period: 2.5179",
          "Freq: 0.4043<br>Ampl: 20.0482<br>Time period: 2.4737",
          "Freq: 0.4113<br>Ampl: 12.4437<br>Time period: 2.431",
          "Freq: 0.4184<br>Ampl: 8.2688<br>Time period: 2.3898",
          "Freq: 0.4255<br>Ampl: 19.3679<br>Time period: 2.35",
          "Freq: 0.4326<br>Ampl: 24.985<br>Time period: 2.3115",
          "Freq: 0.4397<br>Ampl: 23.6185<br>Time period: 2.2742",
          "Freq: 0.4468<br>Ampl: 17.1787<br>Time period: 2.2381",
          "Freq: 0.4539<br>Ampl: 3.6295<br>Time period: 2.2031",
          "Freq: 0.461<br>Ampl: 3.2637<br>Time period: 2.1692",
          "Freq: 0.4681<br>Ampl: 21.8138<br>Time period: 2.1364",
          "Freq: 0.4752<br>Ampl: 24.5654<br>Time period: 2.1045",
          "Freq: 0.4823<br>Ampl: 22.9408<br>Time period: 2.0735",
          "Freq: 0.4894<br>Ampl: 18.7672<br>Time period: 2.0435",
          "Freq: 0.4965<br>Ampl: 11.3685<br>Time period: 2.0143"
         ],
         "line": {
          "color": "#1f77b4",
          "width": 2
         },
         "marker": {
          "size": 5
         },
         "mode": "lines+markers",
         "name": "Exponential Smoothing",
         "showlegend": false,
         "type": "scattergl",
         "x": [
          0.0070921985815602835,
          0.014184397163120567,
          0.02127659574468085,
          0.028368794326241134,
          0.035460992907801414,
          0.0425531914893617,
          0.04964539007092199,
          0.05673758865248227,
          0.06382978723404255,
          0.07092198581560283,
          0.07801418439716312,
          0.0851063829787234,
          0.09219858156028368,
          0.09929078014184398,
          0.10638297872340426,
          0.11347517730496454,
          0.12056737588652482,
          0.1276595744680851,
          0.1347517730496454,
          0.14184397163120566,
          0.14893617021276595,
          0.15602836879432624,
          0.1631205673758865,
          0.1702127659574468,
          0.1773049645390071,
          0.18439716312056736,
          0.19148936170212766,
          0.19858156028368795,
          0.20567375886524822,
          0.2127659574468085,
          0.21985815602836878,
          0.22695035460992907,
          0.23404255319148937,
          0.24113475177304963,
          0.24822695035460993,
          0.2553191489361702,
          0.2624113475177305,
          0.2695035460992908,
          0.2765957446808511,
          0.2836879432624113,
          0.2907801418439716,
          0.2978723404255319,
          0.3049645390070922,
          0.3120567375886525,
          0.3191489361702128,
          0.326241134751773,
          0.3333333333333333,
          0.3404255319148936,
          0.3475177304964539,
          0.3546099290780142,
          0.36170212765957444,
          0.36879432624113473,
          0.375886524822695,
          0.3829787234042553,
          0.3900709219858156,
          0.3971631205673759,
          0.40425531914893614,
          0.41134751773049644,
          0.41843971631205673,
          0.425531914893617,
          0.4326241134751773,
          0.43971631205673756,
          0.44680851063829785,
          0.45390070921985815,
          0.46099290780141844,
          0.46808510638297873,
          0.47517730496453897,
          0.48226950354609927,
          0.48936170212765956,
          0.49645390070921985
         ],
         "xaxis": "x2",
         "y": [
          23.508929986504477,
          26.723155939580906,
          26.64554351079611,
          24.694103754746436,
          25.51175140084577,
          21.597573476274853,
          22.740218394988965,
          28.173726169401863,
          27.073634373744447,
          27.234762461169947,
          30.115220872617403,
          29.802755495848107,
          22.5351208332291,
          11.653228193775615,
          9.222327114594044,
          9.099638961858513,
          19.265012793146965,
          24.14311202765564,
          26.67791957589778,
          29.107327312627543,
          29.277908688610275,
          29.718793509399887,
          28.290414210226615,
          22.58916235062962,
          19.33699929407822,
          22.641223708987894,
          23.53145365207225,
          19.37749516400151,
          20.60806405868137,
          22.106329816037515,
          21.821877114110016,
          22.24086906572818,
          20.939813297590778,
          14.684935369585881,
          3.463254531999813,
          11.151573693236534,
          17.98960174859879,
          21.11821022083811,
          20.44442558741412,
          17.25965638591829,
          12.95075571324051,
          10.865468077604643,
          15.584431555152827,
          20.926123975244202,
          20.759647853397837,
          19.560033036911022,
          17.2504228258519,
          21.823585970784162,
          24.234564946396596,
          17.338686528444985,
          13.362557827142878,
          17.969314634078557,
          22.15009390008802,
          23.71761270555425,
          20.856979762436282,
          20.428969804502863,
          20.04822190653246,
          12.443669644402643,
          8.268770375589241,
          19.367901292599242,
          24.985012776224984,
          23.618485387790855,
          17.17872458673272,
          3.62947277246872,
          3.2636556706569984,
          21.813760481517882,
          24.56538337036723,
          22.940846222866256,
          18.76718499592028,
          11.368498988079876
         ],
         "yaxis": "y2"
        },
        {
         "alignmentgroup": "True",
         "bingroup": "x",
         "hovertemplate": "variable=Exponential Smoothing<br>value=%{x}<br>count=%{y}<extra></extra>",
         "legendgroup": "Exponential Smoothing",
         "marker": {
          "color": "#1f77b4",
          "pattern": {
           "shape": ""
          }
         },
         "name": "Exponential Smoothing",
         "offsetgroup": "Exponential Smoothing",
         "orientation": "v",
         "showlegend": false,
         "type": "histogram",
         "x": [
          0.564700000000002,
          -2.1663000000000068,
          -2.917100000000005,
          -1.546199999999999,
          -2.8950999999999993,
          -1.9699999999999989,
          -3.2960999999999956,
          -3.3603999999999985,
          -3.6898999999999944,
          -4.176900000000003,
          -6.029399999999995,
          -8.441100000000006,
          -14.516400000000004,
          -6.171300000000002,
          -5.381699999999995,
          -6.502199999999988,
          -6.664199999999994,
          4.15979999999999,
          8.713799999999992,
          4.975999999999999,
          3.804699999999997,
          -4.300000000000011,
          -6.9024,
          2.5135999999999967,
          4.622099999999989,
          -6.02940000000001,
          4.2975999999999885,
          -6.731400000000008,
          14.781800000000004,
          -11.276199999999989,
          -7.979199999999992,
          -3.0012999999999863,
          -0.8789999999999907,
          4.709800000000001,
          7.282900000000012,
          -4.557199999999995,
          -1.567700000000002,
          -0.8137000000000114,
          -17.863499999999988,
          -9.798100000000005,
          -7.013299999999987,
          18.019299999999987,
          -2.133999999999986,
          10.424800000000005,
          -7.935000000000002,
          4.970799999999997,
          6.2797999999999945,
          0.8403000000000134,
          -3.1588000000000136,
          -12.388299999999987,
          9.159999999999997,
          17.08510000000001,
          1.186000000000007,
          -18.20440000000002,
          -7.093000000000018,
          -5.137900000000002,
          -4.871600000000001,
          -5.226699999999994,
          -10.413299999999992,
          -9.875400000000013,
          -7.050600000000003,
          -25.648200000000003,
          -6.787800000000004,
          -5.110500000000002,
          8.869200000000006,
          14.584000000000003,
          24.838900000000024,
          -2.2916999999999916,
          0.8374999999999773,
          -2.7926999999999964,
          2.030399999999986,
          0.7896000000000072,
          8.177999999999997,
          4.03479999999999,
          -19.712499999999977,
          -3.029200000000003,
          -4.1007999999999925,
          13.84620000000001,
          25.231400000000008,
          8.063800000000015,
          11.084600000000023,
          3.752900000000011,
          -2.0671000000000106,
          9.65519999999998,
          1.3702000000000112,
          6.1053,
          -5.005400000000009,
          -8.581799999999987,
          -3.1508999999999787,
          8.160799999999995,
          -1.561300000000017,
          12.744100000000003,
          3.4839999999999804,
          -2.4365999999999985,
          3.948500000000024,
          -3.8231999999999857,
          -0.11239999999997963,
          -3.43040000000002,
          6.371899999999982,
          -2.404100000000028,
          -0.5240999999999758,
          8.433699999999988,
          4.206700000000012,
          20.0591,
          7.51400000000001,
          2.0541999999999803,
          1.1739999999999782,
          -9.318300000000022,
          -11.754799999999989,
          -15.728200000000015,
          -23.215899999999976,
          -22.485299999999995,
          -7.334799999999973,
          1.321799999999996,
          13.809900000000027,
          29.415900000000022,
          -13.708000000000027,
          4.5061999999999784,
          -2.4821999999999775,
          -10.248800000000017,
          8.000200000000007,
          4.754000000000019,
          12.149999999999977,
          6.01400000000001,
          10.469600000000014,
          -21.03800000000001,
          5.782900000000041,
          11.834600000000023,
          14.685099999999977,
          7.806100000000015,
          13.884799999999984,
          17.460699999999974,
          2.1123000000000047,
          -1.8659000000000106,
          -41.113099999999974,
          27.363800000000026,
          7.1007999999999925,
          -0.15430000000003474,
          6.171199999999999,
          -18.908199999999965,
          1.636199999999974
         ],
         "xaxis": "x3",
         "yaxis": "y3"
        },
        {
         "marker": {
          "color": "#1f77b4"
         },
         "mode": "markers",
         "name": "Exponential Smoothing",
         "showlegend": false,
         "type": "scattergl",
         "x": [
          -2.4551008462990382,
          -2.1949244993050554,
          -2.031014525566918,
          -1.9084116818884704,
          -1.8091832741840426,
          -1.7251133770389842,
          -1.6517204624868653,
          -1.5862789009146592,
          -1.5270018016004931,
          -1.472651352164115,
          -1.4223330888521888,
          -1.3753786498834617,
          -1.3312748466809177,
          -1.2896186457164065,
          -1.2500874448553163,
          -1.2124187877842667,
          -1.1763961244428374,
          -1.1418385701455152,
          -1.1085933833417223,
          -1.0765303368163022,
          -1.0455374359127296,
          -1.015517613293485,
          -0.9863861436902606,
          -0.9580685976089729,
          -0.9304992040482307,
          -0.9036195275140624,
          -0.8773773893133454,
          -0.8517259806982667,
          -0.8266231281397206,
          -0.8020306803054005,
          -0.7779139932047425,
          -0.7542414951202904,
          -0.730984316847628,
          -0.708115975747597,
          -0.6856121044129418,
          -0.6634502165382117,
          -0.6416095039816206,
          -0.6200706601124467,
          -0.5988157254156958,
          -0.5778279520282654,
          -0.5570916844463072,
          -0.5365922541013274,
          -0.5163158858752857,
          -0.49624961492999053,
          -0.47638121247696114,
          -0.45669911932122276,
          -0.43719238618455963,
          -0.41785061995716233,
          -0.39866393514661363,
          -0.37962290989397623,
          -0.3607185460117304,
          -0.34194223257020145,
          -0.32328571262011585,
          -0.30474105269084506,
          -0.2863006147481918,
          -0.2679570303334746,
          -0.2497031766381543,
          -0.231532154296155,
          -0.2134372667000334,
          -0.19541200066782957,
          -0.1774500083052407,
          -0.15954508992311356,
          -0.1416911778834665,
          -0.12388232125861309,
          -0.10611267119769242,
          -0.08837646690321861,
          -0.07066802212728994,
          -0.05298171210299662,
          -0.0353119608314343,
          -0.017653228648661298,
          0,
          0.017653228648661298,
          0.0353119608314343,
          0.05298171210299648,
          0.07066802212728979,
          0.08837646690321847,
          0.10611267119769256,
          0.12388232125861323,
          0.14169117788346663,
          0.15954508992311356,
          0.1774500083052407,
          0.19541200066782957,
          0.2134372667000334,
          0.231532154296155,
          0.2497031766381543,
          0.26795703033347446,
          0.2863006147481917,
          0.3047410526908449,
          0.323285712620116,
          0.3419422325702016,
          0.36071854601173053,
          0.37962290989397623,
          0.39866393514661363,
          0.41785061995716233,
          0.43719238618455963,
          0.45669911932122276,
          0.47638121247696114,
          0.4962496149299904,
          0.5163158858752855,
          0.5365922541013273,
          0.5570916844463074,
          0.5778279520282655,
          0.598815725415696,
          0.6200706601124467,
          0.6416095039816206,
          0.6634502165382117,
          0.6856121044129418,
          0.708115975747597,
          0.730984316847628,
          0.7542414951202904,
          0.7779139932047423,
          0.8020306803054003,
          0.8266231281397208,
          0.8517259806982667,
          0.8773773893133454,
          0.9036195275140624,
          0.9304992040482307,
          0.9580685976089729,
          0.9863861436902606,
          1.015517613293485,
          1.0455374359127296,
          1.0765303368163022,
          1.1085933833417223,
          1.1418385701455152,
          1.176396124442838,
          1.2124187877842671,
          1.2500874448553163,
          1.2896186457164065,
          1.3312748466809177,
          1.3753786498834617,
          1.4223330888521888,
          1.472651352164115,
          1.5270018016004925,
          1.5862789009146592,
          1.6517204624868647,
          1.7251133770389837,
          1.809183274184043,
          1.908411681888471,
          2.0310145255669183,
          2.194924499305056,
          2.4551008462990387
         ],
         "xaxis": "x4",
         "y": [
          -41.113099999999974,
          -25.648200000000003,
          -23.215899999999976,
          -22.485299999999995,
          -21.03800000000001,
          -19.712499999999977,
          -18.908199999999965,
          -18.20440000000002,
          -17.863499999999988,
          -15.728200000000015,
          -14.516400000000004,
          -13.708000000000027,
          -12.388299999999987,
          -11.754799999999989,
          -11.276199999999989,
          -10.413299999999992,
          -10.248800000000017,
          -9.875400000000013,
          -9.798100000000005,
          -9.318300000000022,
          -8.581799999999987,
          -8.441100000000006,
          -7.979199999999992,
          -7.935000000000002,
          -7.334799999999973,
          -7.093000000000018,
          -7.050600000000003,
          -7.013299999999987,
          -6.9024,
          -6.787800000000004,
          -6.731400000000008,
          -6.664199999999994,
          -6.502199999999988,
          -6.171300000000002,
          -6.02940000000001,
          -6.029399999999995,
          -5.381699999999995,
          -5.226699999999994,
          -5.137900000000002,
          -5.110500000000002,
          -5.005400000000009,
          -4.871600000000001,
          -4.557199999999995,
          -4.300000000000011,
          -4.176900000000003,
          -4.1007999999999925,
          -3.8231999999999857,
          -3.6898999999999944,
          -3.43040000000002,
          -3.3603999999999985,
          -3.2960999999999956,
          -3.1588000000000136,
          -3.1508999999999787,
          -3.029200000000003,
          -3.0012999999999863,
          -2.917100000000005,
          -2.8950999999999993,
          -2.7926999999999964,
          -2.4821999999999775,
          -2.4365999999999985,
          -2.404100000000028,
          -2.2916999999999916,
          -2.1663000000000068,
          -2.133999999999986,
          -2.0671000000000106,
          -1.9699999999999989,
          -1.8659000000000106,
          -1.567700000000002,
          -1.561300000000017,
          -1.546199999999999,
          -0.8789999999999907,
          -0.8137000000000114,
          -0.5240999999999758,
          -0.15430000000003474,
          -0.11239999999997963,
          0.564700000000002,
          0.7896000000000072,
          0.8374999999999773,
          0.8403000000000134,
          1.1739999999999782,
          1.186000000000007,
          1.321799999999996,
          1.3702000000000112,
          1.636199999999974,
          2.030399999999986,
          2.0541999999999803,
          2.1123000000000047,
          2.5135999999999967,
          3.4839999999999804,
          3.752900000000011,
          3.804699999999997,
          3.948500000000024,
          4.03479999999999,
          4.15979999999999,
          4.206700000000012,
          4.2975999999999885,
          4.5061999999999784,
          4.622099999999989,
          4.709800000000001,
          4.754000000000019,
          4.970799999999997,
          4.975999999999999,
          5.782900000000041,
          6.01400000000001,
          6.1053,
          6.171199999999999,
          6.2797999999999945,
          6.371899999999982,
          7.1007999999999925,
          7.282900000000012,
          7.51400000000001,
          7.806100000000015,
          8.000200000000007,
          8.063800000000015,
          8.160799999999995,
          8.177999999999997,
          8.433699999999988,
          8.713799999999992,
          8.869200000000006,
          9.159999999999997,
          9.65519999999998,
          10.424800000000005,
          10.469600000000014,
          11.084600000000023,
          11.834600000000023,
          12.149999999999977,
          12.744100000000003,
          13.809900000000027,
          13.84620000000001,
          13.884799999999984,
          14.584000000000003,
          14.685099999999977,
          14.781800000000004,
          17.08510000000001,
          17.460699999999974,
          18.019299999999987,
          20.0591,
          24.838900000000024,
          25.231400000000008,
          27.363800000000026,
          29.415900000000022
         ],
         "yaxis": "y4"
        },
        {
         "line": {
          "color": "#3f3f3f"
         },
         "mode": "lines",
         "name": "Exponential Smoothing",
         "showlegend": false,
         "type": "scattergl",
         "x": [
          -2.4551008462990382,
          -2.1949244993050554,
          -2.031014525566918,
          -1.9084116818884704,
          -1.8091832741840426,
          -1.7251133770389842,
          -1.6517204624868653,
          -1.5862789009146592,
          -1.5270018016004931,
          -1.472651352164115,
          -1.4223330888521888,
          -1.3753786498834617,
          -1.3312748466809177,
          -1.2896186457164065,
          -1.2500874448553163,
          -1.2124187877842667,
          -1.1763961244428374,
          -1.1418385701455152,
          -1.1085933833417223,
          -1.0765303368163022,
          -1.0455374359127296,
          -1.015517613293485,
          -0.9863861436902606,
          -0.9580685976089729,
          -0.9304992040482307,
          -0.9036195275140624,
          -0.8773773893133454,
          -0.8517259806982667,
          -0.8266231281397206,
          -0.8020306803054005,
          -0.7779139932047425,
          -0.7542414951202904,
          -0.730984316847628,
          -0.708115975747597,
          -0.6856121044129418,
          -0.6634502165382117,
          -0.6416095039816206,
          -0.6200706601124467,
          -0.5988157254156958,
          -0.5778279520282654,
          -0.5570916844463072,
          -0.5365922541013274,
          -0.5163158858752857,
          -0.49624961492999053,
          -0.47638121247696114,
          -0.45669911932122276,
          -0.43719238618455963,
          -0.41785061995716233,
          -0.39866393514661363,
          -0.37962290989397623,
          -0.3607185460117304,
          -0.34194223257020145,
          -0.32328571262011585,
          -0.30474105269084506,
          -0.2863006147481918,
          -0.2679570303334746,
          -0.2497031766381543,
          -0.231532154296155,
          -0.2134372667000334,
          -0.19541200066782957,
          -0.1774500083052407,
          -0.15954508992311356,
          -0.1416911778834665,
          -0.12388232125861309,
          -0.10611267119769242,
          -0.08837646690321861,
          -0.07066802212728994,
          -0.05298171210299662,
          -0.0353119608314343,
          -0.017653228648661298,
          0,
          0.017653228648661298,
          0.0353119608314343,
          0.05298171210299648,
          0.07066802212728979,
          0.08837646690321847,
          0.10611267119769256,
          0.12388232125861323,
          0.14169117788346663,
          0.15954508992311356,
          0.1774500083052407,
          0.19541200066782957,
          0.2134372667000334,
          0.231532154296155,
          0.2497031766381543,
          0.26795703033347446,
          0.2863006147481917,
          0.3047410526908449,
          0.323285712620116,
          0.3419422325702016,
          0.36071854601173053,
          0.37962290989397623,
          0.39866393514661363,
          0.41785061995716233,
          0.43719238618455963,
          0.45669911932122276,
          0.47638121247696114,
          0.4962496149299904,
          0.5163158858752855,
          0.5365922541013273,
          0.5570916844463074,
          0.5778279520282655,
          0.598815725415696,
          0.6200706601124467,
          0.6416095039816206,
          0.6634502165382117,
          0.6856121044129418,
          0.708115975747597,
          0.730984316847628,
          0.7542414951202904,
          0.7779139932047423,
          0.8020306803054003,
          0.8266231281397208,
          0.8517259806982667,
          0.8773773893133454,
          0.9036195275140624,
          0.9304992040482307,
          0.9580685976089729,
          0.9863861436902606,
          1.015517613293485,
          1.0455374359127296,
          1.0765303368163022,
          1.1085933833417223,
          1.1418385701455152,
          1.176396124442838,
          1.2124187877842671,
          1.2500874448553163,
          1.2896186457164065,
          1.3312748466809177,
          1.3753786498834617,
          1.4223330888521888,
          1.472651352164115,
          1.5270018016004925,
          1.5862789009146592,
          1.6517204624868647,
          1.7251133770389837,
          1.809183274184043,
          1.908411681888471,
          2.0310145255669183,
          2.194924499305056,
          2.4551008462990387
         ],
         "xaxis": "x4",
         "y": [
          -25.89447607438803,
          -23.156169707405066,
          -21.431048535227443,
          -20.14067701862423,
          -19.09631697689876,
          -18.21149736403349,
          -17.43905095400625,
          -16.75029101564558,
          -16.126410865341157,
          -15.554382764172292,
          -15.024792651948296,
          -14.530606148556611,
          -14.066422042226288,
          -13.6279984820397,
          -13.211940142136461,
          -12.81548471993877,
          -12.436353067414641,
          -12.07264140779208,
          -11.72274216541987,
          -11.385284723727603,
          -11.059090360342651,
          -10.743137460074289,
          -10.436534305653318,
          -10.138497540868098,
          -9.848334938489083,
          -9.565431476101482,
          -9.289237982924595,
          -9.01926180582662,
          -8.755059076467479,
          -8.496228259360294,
          -8.242404733120244,
          -7.9932562114502606,
          -7.748478851486936,
          -7.507793928510439,
          -7.2709449802127795,
          -7.037695342523234,
          -6.807826013723175,
          -6.581133795211186,
          -6.357429666521632,
          -6.13653735959365,
          -5.918292103238921,
          -5.702539513575264,
          -5.489134610115899,
          -5.2779409404147195,
          -5.068829798808259,
          -4.861679526976836,
          -4.656374885858181,
          -4.452806489956293,
          -4.250870296351285,
          -4.050467141777106,
          -3.851502322028469,
          -3.653885208714953,
          -3.45752889902226,
          -3.262349894687057,
          -3.0682678068580294,
          -2.87520508391469,
          -2.683086759657385,
          -2.4918402195757183,
          -2.301394983155181,
          -2.1116825003994486,
          -1.9226359609332224,
          -1.7341901142121026,
          -1.5462810995050509,
          -1.3588462844345994,
          -1.1718241109623753,
          -0.9851539477949623,
          -0.7987759482590817,
          -0.6126309127571532,
          -0.4266601549655412,
          -0.24080537097915308,
          -0.05500851063829651,
          0.13078834970256006,
          0.31664313368894825,
          0.5026138914805588,
          0.6887589269824871,
          0.8751369265183679,
          1.0618070896857836,
          1.2488292631580078,
          1.4362640782284593,
          1.6241730929355096,
          1.8126189396566295,
          2.0016654791228556,
          2.191377961878588,
          2.3818231982991254,
          2.573069738380792,
          2.7651880626380954,
          2.9582507855814355,
          3.152332873410462,
          3.347511877745669,
          3.543868187438362,
          3.7414853007518776,
          3.9404501205005125,
          4.140853275074691,
          4.342789468679699,
          4.546357864581587,
          4.751662505700242,
          4.958812777531665,
          5.167923919138124,
          5.379117588839304,
          5.592522492298669,
          5.8082750819623294,
          6.026520338317057,
          6.247412645245041,
          6.471116773934592,
          6.697808992446581,
          6.92767832124664,
          7.160927958936186,
          7.397776907233845,
          7.638461830210342,
          7.883239190173667,
          8.132387711843647,
          8.386211238083698,
          8.645042055190887,
          8.909244784550026,
          9.179220961648001,
          9.455414454824888,
          9.73831791721249,
          10.028480519591504,
          10.326517284376724,
          10.633120438797695,
          10.949073339066057,
          11.275267702451009,
          11.612725144143276,
          11.962624386515486,
          12.326336046138055,
          12.70546769866218,
          13.101923120859867,
          13.517981460763107,
          13.956405020949694,
          14.420589127280017,
          14.914775630671702,
          15.444365742895698,
          16.01639384406456,
          16.64027399436899,
          17.329033932729654,
          18.101480342756894,
          18.986299955622176,
          20.030659997347648,
          21.321031513950857,
          23.046152686128483,
          25.784459053111444
         ],
         "yaxis": "y4"
        },
        {
         "line": {
          "color": "#3f3f3f"
         },
         "mode": "lines",
         "name": "ACF",
         "showlegend": false,
         "type": "scattergl",
         "x": [
          0,
          0
         ],
         "xaxis": "x5",
         "y": [
          0,
          1
         ],
         "yaxis": "y5"
        },
        {
         "line": {
          "color": "#3f3f3f"
         },
         "mode": "lines",
         "name": "ACF",
         "showlegend": false,
         "type": "scattergl",
         "x": [
          1,
          1
         ],
         "xaxis": "x5",
         "y": [
          0,
          0.21331630477610972
         ],
         "yaxis": "y5"
        },
        {
         "line": {
          "color": "#3f3f3f"
         },
         "mode": "lines",
         "name": "ACF",
         "showlegend": false,
         "type": "scattergl",
         "x": [
          2,
          2
         ],
         "xaxis": "x5",
         "y": [
          0,
          0.13269684349044533
         ],
         "yaxis": "y5"
        },
        {
         "line": {
          "color": "#3f3f3f"
         },
         "mode": "lines",
         "name": "ACF",
         "showlegend": false,
         "type": "scattergl",
         "x": [
          3,
          3
         ],
         "xaxis": "x5",
         "y": [
          0,
          -0.08553774936205318
         ],
         "yaxis": "y5"
        },
        {
         "line": {
          "color": "#3f3f3f"
         },
         "mode": "lines",
         "name": "ACF",
         "showlegend": false,
         "type": "scattergl",
         "x": [
          4,
          4
         ],
         "xaxis": "x5",
         "y": [
          0,
          -0.1520108126062694
         ],
         "yaxis": "y5"
        },
        {
         "line": {
          "color": "#3f3f3f"
         },
         "mode": "lines",
         "name": "ACF",
         "showlegend": false,
         "type": "scattergl",
         "x": [
          5,
          5
         ],
         "xaxis": "x5",
         "y": [
          0,
          0.01140157693942463
         ],
         "yaxis": "y5"
        },
        {
         "line": {
          "color": "#3f3f3f"
         },
         "mode": "lines",
         "name": "ACF",
         "showlegend": false,
         "type": "scattergl",
         "x": [
          6,
          6
         ],
         "xaxis": "x5",
         "y": [
          0,
          -0.043125989147636504
         ],
         "yaxis": "y5"
        },
        {
         "line": {
          "color": "#3f3f3f"
         },
         "mode": "lines",
         "name": "ACF",
         "showlegend": false,
         "type": "scattergl",
         "x": [
          7,
          7
         ],
         "xaxis": "x5",
         "y": [
          0,
          -0.014082223531194992
         ],
         "yaxis": "y5"
        },
        {
         "line": {
          "color": "#3f3f3f"
         },
         "mode": "lines",
         "name": "ACF",
         "showlegend": false,
         "type": "scattergl",
         "x": [
          8,
          8
         ],
         "xaxis": "x5",
         "y": [
          0,
          -0.03189694064160539
         ],
         "yaxis": "y5"
        },
        {
         "line": {
          "color": "#3f3f3f"
         },
         "mode": "lines",
         "name": "ACF",
         "showlegend": false,
         "type": "scattergl",
         "x": [
          9,
          9
         ],
         "xaxis": "x5",
         "y": [
          0,
          0.09638944421506702
         ],
         "yaxis": "y5"
        },
        {
         "line": {
          "color": "#3f3f3f"
         },
         "mode": "lines",
         "name": "ACF",
         "showlegend": false,
         "type": "scattergl",
         "x": [
          10,
          10
         ],
         "xaxis": "x5",
         "y": [
          0,
          -0.1535146613132387
         ],
         "yaxis": "y5"
        },
        {
         "line": {
          "color": "#3f3f3f"
         },
         "mode": "lines",
         "name": "ACF",
         "showlegend": false,
         "type": "scattergl",
         "x": [
          11,
          11
         ],
         "xaxis": "x5",
         "y": [
          0,
          -0.055406931962840286
         ],
         "yaxis": "y5"
        },
        {
         "line": {
          "color": "#3f3f3f"
         },
         "mode": "lines",
         "name": "ACF",
         "showlegend": false,
         "type": "scattergl",
         "x": [
          12,
          12
         ],
         "xaxis": "x5",
         "y": [
          0,
          -0.035172230431612744
         ],
         "yaxis": "y5"
        },
        {
         "line": {
          "color": "#3f3f3f"
         },
         "mode": "lines",
         "name": "ACF",
         "showlegend": false,
         "type": "scattergl",
         "x": [
          13,
          13
         ],
         "xaxis": "x5",
         "y": [
          0,
          0.08958441220698286
         ],
         "yaxis": "y5"
        },
        {
         "line": {
          "color": "#3f3f3f"
         },
         "mode": "lines",
         "name": "ACF",
         "showlegend": false,
         "type": "scattergl",
         "x": [
          14,
          14
         ],
         "xaxis": "x5",
         "y": [
          0,
          0.14238634995505636
         ],
         "yaxis": "y5"
        },
        {
         "line": {
          "color": "#3f3f3f"
         },
         "mode": "lines",
         "name": "ACF",
         "showlegend": false,
         "type": "scattergl",
         "x": [
          15,
          15
         ],
         "xaxis": "x5",
         "y": [
          0,
          0.08722140692443402
         ],
         "yaxis": "y5"
        },
        {
         "line": {
          "color": "#3f3f3f"
         },
         "mode": "lines",
         "name": "ACF",
         "showlegend": false,
         "type": "scattergl",
         "x": [
          16,
          16
         ],
         "xaxis": "x5",
         "y": [
          0,
          -0.06428777554634119
         ],
         "yaxis": "y5"
        },
        {
         "line": {
          "color": "#3f3f3f"
         },
         "mode": "lines",
         "name": "ACF",
         "showlegend": false,
         "type": "scattergl",
         "x": [
          17,
          17
         ],
         "xaxis": "x5",
         "y": [
          0,
          -0.07882499283267168
         ],
         "yaxis": "y5"
        },
        {
         "line": {
          "color": "#3f3f3f"
         },
         "mode": "lines",
         "name": "ACF",
         "showlegend": false,
         "type": "scattergl",
         "x": [
          18,
          18
         ],
         "xaxis": "x5",
         "y": [
          0,
          -0.03804482035626295
         ],
         "yaxis": "y5"
        },
        {
         "line": {
          "color": "#3f3f3f"
         },
         "mode": "lines",
         "name": "ACF",
         "showlegend": false,
         "type": "scattergl",
         "x": [
          19,
          19
         ],
         "xaxis": "x5",
         "y": [
          0,
          -0.182110951371369
         ],
         "yaxis": "y5"
        },
        {
         "line": {
          "color": "#3f3f3f"
         },
         "mode": "lines",
         "name": "ACF",
         "showlegend": false,
         "type": "scattergl",
         "x": [
          20,
          20
         ],
         "xaxis": "x5",
         "y": [
          0,
          -0.09518475837833379
         ],
         "yaxis": "y5"
        },
        {
         "line": {
          "color": "#3f3f3f"
         },
         "mode": "lines",
         "name": "ACF",
         "showlegend": false,
         "type": "scattergl",
         "x": [
          21,
          21
         ],
         "xaxis": "x5",
         "y": [
          0,
          -0.009026762180050886
         ],
         "yaxis": "y5"
        },
        {
         "line": {
          "color": "#3f3f3f"
         },
         "mode": "lines",
         "name": "ACF",
         "showlegend": false,
         "type": "scattergl",
         "x": [
          22,
          22
         ],
         "xaxis": "x5",
         "y": [
          0,
          -0.04583452570829346
         ],
         "yaxis": "y5"
        },
        {
         "line": {
          "color": "#3f3f3f"
         },
         "mode": "lines",
         "name": "ACF",
         "showlegend": false,
         "type": "scattergl",
         "x": [
          23,
          23
         ],
         "xaxis": "x5",
         "y": [
          0,
          0.1997250814077949
         ],
         "yaxis": "y5"
        },
        {
         "line": {
          "color": "#3f3f3f"
         },
         "mode": "lines",
         "name": "ACF",
         "showlegend": false,
         "type": "scattergl",
         "x": [
          24,
          24
         ],
         "xaxis": "x5",
         "y": [
          0,
          0.0339975651203037
         ],
         "yaxis": "y5"
        },
        {
         "line": {
          "color": "#3f3f3f"
         },
         "mode": "lines",
         "name": "ACF",
         "showlegend": false,
         "type": "scattergl",
         "x": [
          25,
          25
         ],
         "xaxis": "x5",
         "y": [
          0,
          0.05462970027069911
         ],
         "yaxis": "y5"
        },
        {
         "line": {
          "color": "#3f3f3f"
         },
         "mode": "lines",
         "name": "ACF",
         "showlegend": false,
         "type": "scattergl",
         "x": [
          26,
          26
         ],
         "xaxis": "x5",
         "y": [
          0,
          0.08265004721346253
         ],
         "yaxis": "y5"
        },
        {
         "line": {
          "color": "#3f3f3f"
         },
         "mode": "lines",
         "name": "ACF",
         "showlegend": false,
         "type": "scattergl",
         "x": [
          27,
          27
         ],
         "xaxis": "x5",
         "y": [
          0,
          -0.0164923426697784
         ],
         "yaxis": "y5"
        },
        {
         "line": {
          "color": "#3f3f3f"
         },
         "mode": "lines",
         "name": "ACF",
         "showlegend": false,
         "type": "scattergl",
         "x": [
          28,
          28
         ],
         "xaxis": "x5",
         "y": [
          0,
          -0.03633698252582063
         ],
         "yaxis": "y5"
        },
        {
         "line": {
          "color": "#3f3f3f"
         },
         "mode": "lines",
         "name": "ACF",
         "showlegend": false,
         "type": "scattergl",
         "x": [
          29,
          29
         ],
         "xaxis": "x5",
         "y": [
          0,
          -0.056550963706631235
         ],
         "yaxis": "y5"
        },
        {
         "line": {
          "color": "#3f3f3f"
         },
         "mode": "lines",
         "name": "ACF",
         "showlegend": false,
         "type": "scattergl",
         "x": [
          30,
          30
         ],
         "xaxis": "x5",
         "y": [
          0,
          -0.06729185291973139
         ],
         "yaxis": "y5"
        },
        {
         "line": {
          "color": "#3f3f3f"
         },
         "mode": "lines",
         "name": "ACF",
         "showlegend": false,
         "type": "scattergl",
         "x": [
          31,
          31
         ],
         "xaxis": "x5",
         "y": [
          0,
          -0.08630876373521418
         ],
         "yaxis": "y5"
        },
        {
         "line": {
          "color": "#3f3f3f"
         },
         "mode": "lines",
         "name": "ACF",
         "showlegend": false,
         "type": "scattergl",
         "x": [
          32,
          32
         ],
         "xaxis": "x5",
         "y": [
          0,
          0.07906503213050593
         ],
         "yaxis": "y5"
        },
        {
         "line": {
          "color": "#3f3f3f"
         },
         "mode": "lines",
         "name": "ACF",
         "showlegend": false,
         "type": "scattergl",
         "x": [
          33,
          33
         ],
         "xaxis": "x5",
         "y": [
          0,
          -0.06635767262153477
         ],
         "yaxis": "y5"
        },
        {
         "line": {
          "color": "#3f3f3f"
         },
         "mode": "lines",
         "name": "ACF",
         "showlegend": false,
         "type": "scattergl",
         "x": [
          34,
          34
         ],
         "xaxis": "x5",
         "y": [
          0,
          0.003932055850972839
         ],
         "yaxis": "y5"
        },
        {
         "line": {
          "color": "#3f3f3f"
         },
         "mode": "lines",
         "name": "ACF",
         "showlegend": false,
         "type": "scattergl",
         "x": [
          35,
          35
         ],
         "xaxis": "x5",
         "y": [
          0,
          0.02112732990812699
         ],
         "yaxis": "y5"
        },
        {
         "line": {
          "color": "#3f3f3f"
         },
         "mode": "lines",
         "name": "ACF",
         "showlegend": false,
         "type": "scattergl",
         "x": [
          36,
          36
         ],
         "xaxis": "x5",
         "y": [
          0,
          0.004179009695846086
         ],
         "yaxis": "y5"
        },
        {
         "line": {
          "color": "#3f3f3f"
         },
         "mode": "lines",
         "name": "ACF",
         "showlegend": false,
         "type": "scattergl",
         "x": [
          37,
          37
         ],
         "xaxis": "x5",
         "y": [
          0,
          0.16759018249837937
         ],
         "yaxis": "y5"
        },
        {
         "line": {
          "color": "#3f3f3f"
         },
         "mode": "lines",
         "name": "ACF",
         "showlegend": false,
         "type": "scattergl",
         "x": [
          38,
          38
         ],
         "xaxis": "x5",
         "y": [
          0,
          0.054438717188397295
         ],
         "yaxis": "y5"
        },
        {
         "line": {
          "color": "#3f3f3f"
         },
         "mode": "lines",
         "name": "ACF",
         "showlegend": false,
         "type": "scattergl",
         "x": [
          39,
          39
         ],
         "xaxis": "x5",
         "y": [
          0,
          -0.01153149259773422
         ],
         "yaxis": "y5"
        },
        {
         "line": {
          "color": "#3f3f3f"
         },
         "mode": "lines",
         "name": "ACF",
         "showlegend": false,
         "type": "scattergl",
         "x": [
          40,
          40
         ],
         "xaxis": "x5",
         "y": [
          0,
          -0.07159432650781226
         ],
         "yaxis": "y5"
        },
        {
         "marker": {
          "color": "#1f77b4",
          "size": 6
         },
         "mode": "markers",
         "name": "ACF",
         "showlegend": false,
         "type": "scattergl",
         "x": [
          0,
          1,
          2,
          3,
          4,
          5,
          6,
          7,
          8,
          9,
          10,
          11,
          12,
          13,
          14,
          15,
          16,
          17,
          18,
          19,
          20,
          21,
          22,
          23,
          24,
          25,
          26,
          27,
          28,
          29,
          30,
          31,
          32,
          33,
          34,
          35,
          36,
          37,
          38,
          39,
          40
         ],
         "xaxis": "x5",
         "y": [
          1,
          0.21331630477610972,
          0.13269684349044533,
          -0.08553774936205318,
          -0.1520108126062694,
          0.01140157693942463,
          -0.043125989147636504,
          -0.014082223531194992,
          -0.03189694064160539,
          0.09638944421506702,
          -0.1535146613132387,
          -0.055406931962840286,
          -0.035172230431612744,
          0.08958441220698286,
          0.14238634995505636,
          0.08722140692443402,
          -0.06428777554634119,
          -0.07882499283267168,
          -0.03804482035626295,
          -0.182110951371369,
          -0.09518475837833379,
          -0.009026762180050886,
          -0.04583452570829346,
          0.1997250814077949,
          0.0339975651203037,
          0.05462970027069911,
          0.08265004721346253,
          -0.0164923426697784,
          -0.03633698252582063,
          -0.056550963706631235,
          -0.06729185291973139,
          -0.08630876373521418,
          0.07906503213050593,
          -0.06635767262153477,
          0.003932055850972839,
          0.02112732990812699,
          0.004179009695846086,
          0.16759018249837937,
          0.054438717188397295,
          -0.01153149259773422,
          -0.07159432650781226
         ],
         "yaxis": "y5"
        },
        {
         "line": {
          "color": "rgba(255,255,255,0)"
         },
         "mode": "lines",
         "name": "UC",
         "showlegend": false,
         "type": "scatter",
         "x": [
          0,
          1,
          2,
          3,
          4,
          5,
          6,
          7,
          8,
          9,
          10,
          11,
          12,
          13,
          14,
          15,
          16,
          17,
          18,
          19,
          20,
          21,
          22,
          23,
          24,
          25,
          26,
          27,
          28,
          29,
          30,
          31,
          32,
          33,
          34,
          35,
          36,
          37,
          38,
          39,
          40
         ],
         "xaxis": "x5",
         "y": [
          0,
          0.16505874348015956,
          0.172406025815406,
          0.17516649444794827,
          0.17630082011722822,
          0.1798362227260839,
          0.17985591545778884,
          0.1801374234560749,
          0.18016741366145284,
          0.1803211985192935,
          0.18171952503528932,
          0.18521908445401658,
          0.18567009957445474,
          0.18585153528734188,
          0.18702429147411062,
          0.18995468970117907,
          0.19104269558853493,
          0.19163118011451968,
          0.19251251555554888,
          0.19271724405855978,
          0.19735000303405426,
          0.19859682664744016,
          0.1986080044528344,
          0.1988959769851574,
          0.20428698659455358,
          0.20444107438894024,
          0.20483839833241319,
          0.20574494871663981,
          0.20578096298354778,
          0.20595570013219658,
          0.20637830834202114,
          0.20697522045160352,
          0.2079534559223774,
          0.2087708418286899,
          0.2093446847923553,
          0.20934669690550542,
          0.2094047786888633,
          0.20940705082779204,
          0.21302983432835146,
          0.2134085092836865,
          0.21342548464840444
         ],
         "yaxis": "y5"
        },
        {
         "fill": "tonexty",
         "fillcolor": "rgba(32, 146, 230,0.3)",
         "line": {
          "color": "rgba(255,255,255,0)"
         },
         "mode": "lines",
         "name": "LC",
         "showlegend": false,
         "type": "scatter",
         "x": [
          0,
          1,
          2,
          3,
          4,
          5,
          6,
          7,
          8,
          9,
          10,
          11,
          12,
          13,
          14,
          15,
          16,
          17,
          18,
          19,
          20,
          21,
          22,
          23,
          24,
          25,
          26,
          27,
          28,
          29,
          30,
          31,
          32,
          33,
          34,
          35,
          36,
          37,
          38,
          39,
          40
         ],
         "xaxis": "x5",
         "y": [
          0,
          -0.16505874348015956,
          -0.172406025815406,
          -0.1751664944479483,
          -0.17630082011722822,
          -0.1798362227260839,
          -0.1798559154577889,
          -0.1801374234560749,
          -0.18016741366145284,
          -0.18032119851929349,
          -0.18171952503528932,
          -0.18521908445401658,
          -0.18567009957445474,
          -0.1858515352873419,
          -0.18702429147411062,
          -0.18995468970117907,
          -0.19104269558853493,
          -0.19163118011451968,
          -0.19251251555554888,
          -0.19271724405855978,
          -0.19735000303405426,
          -0.19859682664744016,
          -0.1986080044528344,
          -0.1988959769851574,
          -0.20428698659455358,
          -0.2044410743889402,
          -0.20483839833241316,
          -0.20574494871663981,
          -0.20578096298354778,
          -0.20595570013219658,
          -0.20637830834202114,
          -0.2069752204516035,
          -0.20795345592237735,
          -0.2087708418286899,
          -0.2093446847923553,
          -0.20934669690550542,
          -0.2094047786888633,
          -0.20940705082779207,
          -0.21302983432835143,
          -0.2134085092836865,
          -0.21342548464840444
         ],
         "yaxis": "y5"
        },
        {
         "line": {
          "color": "#3f3f3f"
         },
         "mode": "lines",
         "name": "PACF",
         "showlegend": false,
         "type": "scattergl",
         "x": [
          0,
          0
         ],
         "xaxis": "x6",
         "y": [
          0,
          1
         ],
         "yaxis": "y6"
        },
        {
         "line": {
          "color": "#3f3f3f"
         },
         "mode": "lines",
         "name": "PACF",
         "showlegend": false,
         "type": "scattergl",
         "x": [
          1,
          1
         ],
         "xaxis": "x6",
         "y": [
          0,
          0.21483999266736767
         ],
         "yaxis": "y6"
        },
        {
         "line": {
          "color": "#3f3f3f"
         },
         "mode": "lines",
         "name": "PACF",
         "showlegend": false,
         "type": "scattergl",
         "x": [
          2,
          2
         ],
         "xaxis": "x6",
         "y": [
          0,
          0.09272999439052547
         ],
         "yaxis": "y6"
        },
        {
         "line": {
          "color": "#3f3f3f"
         },
         "mode": "lines",
         "name": "PACF",
         "showlegend": false,
         "type": "scattergl",
         "x": [
          3,
          3
         ],
         "xaxis": "x6",
         "y": [
          0,
          -0.1412337318086149
         ],
         "yaxis": "y6"
        },
        {
         "line": {
          "color": "#3f3f3f"
         },
         "mode": "lines",
         "name": "PACF",
         "showlegend": false,
         "type": "scattergl",
         "x": [
          4,
          4
         ],
         "xaxis": "x6",
         "y": [
          0,
          -0.13391985964474962
         ],
         "yaxis": "y6"
        },
        {
         "line": {
          "color": "#3f3f3f"
         },
         "mode": "lines",
         "name": "PACF",
         "showlegend": false,
         "type": "scattergl",
         "x": [
          5,
          5
         ],
         "xaxis": "x6",
         "y": [
          0,
          0.10696574444687709
         ],
         "yaxis": "y6"
        },
        {
         "line": {
          "color": "#3f3f3f"
         },
         "mode": "lines",
         "name": "PACF",
         "showlegend": false,
         "type": "scattergl",
         "x": [
          6,
          6
         ],
         "xaxis": "x6",
         "y": [
          0,
          -0.04182406291746075
         ],
         "yaxis": "y6"
        },
        {
         "line": {
          "color": "#3f3f3f"
         },
         "mode": "lines",
         "name": "PACF",
         "showlegend": false,
         "type": "scattergl",
         "x": [
          7,
          7
         ],
         "xaxis": "x6",
         "y": [
          0,
          -0.052859488560295785
         ],
         "yaxis": "y6"
        },
        {
         "line": {
          "color": "#3f3f3f"
         },
         "mode": "lines",
         "name": "PACF",
         "showlegend": false,
         "type": "scattergl",
         "x": [
          8,
          8
         ],
         "xaxis": "x6",
         "y": [
          0,
          -0.02279685534264624
         ],
         "yaxis": "y6"
        },
        {
         "line": {
          "color": "#3f3f3f"
         },
         "mode": "lines",
         "name": "PACF",
         "showlegend": false,
         "type": "scattergl",
         "x": [
          9,
          9
         ],
         "xaxis": "x6",
         "y": [
          0,
          0.15127773811609863
         ],
         "yaxis": "y6"
        },
        {
         "line": {
          "color": "#3f3f3f"
         },
         "mode": "lines",
         "name": "PACF",
         "showlegend": false,
         "type": "scattergl",
         "x": [
          10,
          10
         ],
         "xaxis": "x6",
         "y": [
          0,
          -0.2578031104056486
         ],
         "yaxis": "y6"
        },
        {
         "line": {
          "color": "#3f3f3f"
         },
         "mode": "lines",
         "name": "PACF",
         "showlegend": false,
         "type": "scattergl",
         "x": [
          11,
          11
         ],
         "xaxis": "x6",
         "y": [
          0,
          -0.02776614320964359
         ],
         "yaxis": "y6"
        },
        {
         "line": {
          "color": "#3f3f3f"
         },
         "mode": "lines",
         "name": "PACF",
         "showlegend": false,
         "type": "scattergl",
         "x": [
          12,
          12
         ],
         "xaxis": "x6",
         "y": [
          0,
          0.08184928239031675
         ],
         "yaxis": "y6"
        },
        {
         "line": {
          "color": "#3f3f3f"
         },
         "mode": "lines",
         "name": "PACF",
         "showlegend": false,
         "type": "scattergl",
         "x": [
          13,
          13
         ],
         "xaxis": "x6",
         "y": [
          0,
          0.13456909295913813
         ],
         "yaxis": "y6"
        },
        {
         "line": {
          "color": "#3f3f3f"
         },
         "mode": "lines",
         "name": "PACF",
         "showlegend": false,
         "type": "scattergl",
         "x": [
          14,
          14
         ],
         "xaxis": "x6",
         "y": [
          0,
          -0.007846595506887828
         ],
         "yaxis": "y6"
        },
        {
         "line": {
          "color": "#3f3f3f"
         },
         "mode": "lines",
         "name": "PACF",
         "showlegend": false,
         "type": "scattergl",
         "x": [
          15,
          15
         ],
         "xaxis": "x6",
         "y": [
          0,
          0.05815759988464918
         ],
         "yaxis": "y6"
        },
        {
         "line": {
          "color": "#3f3f3f"
         },
         "mode": "lines",
         "name": "PACF",
         "showlegend": false,
         "type": "scattergl",
         "x": [
          16,
          16
         ],
         "xaxis": "x6",
         "y": [
          0,
          -0.12016061260245173
         ],
         "yaxis": "y6"
        },
        {
         "line": {
          "color": "#3f3f3f"
         },
         "mode": "lines",
         "name": "PACF",
         "showlegend": false,
         "type": "scattergl",
         "x": [
          17,
          17
         ],
         "xaxis": "x6",
         "y": [
          0,
          -0.031164393738996383
         ],
         "yaxis": "y6"
        },
        {
         "line": {
          "color": "#3f3f3f"
         },
         "mode": "lines",
         "name": "PACF",
         "showlegend": false,
         "type": "scattergl",
         "x": [
          18,
          18
         ],
         "xaxis": "x6",
         "y": [
          0,
          -0.0027716925271696158
         ],
         "yaxis": "y6"
        },
        {
         "line": {
          "color": "#3f3f3f"
         },
         "mode": "lines",
         "name": "PACF",
         "showlegend": false,
         "type": "scattergl",
         "x": [
          19,
          19
         ],
         "xaxis": "x6",
         "y": [
          0,
          -0.16057483477414547
         ],
         "yaxis": "y6"
        },
        {
         "line": {
          "color": "#3f3f3f"
         },
         "mode": "lines",
         "name": "PACF",
         "showlegend": false,
         "type": "scattergl",
         "x": [
          20,
          20
         ],
         "xaxis": "x6",
         "y": [
          0,
          -0.12164428463900463
         ],
         "yaxis": "y6"
        },
        {
         "line": {
          "color": "#3f3f3f"
         },
         "mode": "lines",
         "name": "PACF",
         "showlegend": false,
         "type": "scattergl",
         "x": [
          21,
          21
         ],
         "xaxis": "x6",
         "y": [
          0,
          0.13347815702170557
         ],
         "yaxis": "y6"
        },
        {
         "marker": {
          "color": "#1f77b4",
          "size": 6
         },
         "mode": "markers",
         "name": "PACF",
         "showlegend": false,
         "type": "scattergl",
         "x": [
          0,
          1,
          2,
          3,
          4,
          5,
          6,
          7,
          8,
          9,
          10,
          11,
          12,
          13,
          14,
          15,
          16,
          17,
          18,
          19,
          20,
          21
         ],
         "xaxis": "x6",
         "y": [
          1,
          0.21483999266736767,
          0.09272999439052547,
          -0.1412337318086149,
          -0.13391985964474962,
          0.10696574444687709,
          -0.04182406291746075,
          -0.052859488560295785,
          -0.02279685534264624,
          0.15127773811609863,
          -0.2578031104056486,
          -0.02776614320964359,
          0.08184928239031675,
          0.13456909295913813,
          -0.007846595506887828,
          0.05815759988464918,
          -0.12016061260245173,
          -0.031164393738996383,
          -0.0027716925271696158,
          -0.16057483477414547,
          -0.12164428463900463,
          0.13347815702170557
         ],
         "yaxis": "y6"
        },
        {
         "line": {
          "color": "rgba(255,255,255,0)"
         },
         "mode": "lines",
         "name": "UC",
         "showlegend": false,
         "type": "scatter",
         "x": [
          0,
          1,
          2,
          3,
          4,
          5,
          6,
          7,
          8,
          9,
          10,
          11,
          12,
          13,
          14,
          15,
          16,
          17,
          18,
          19,
          20,
          21
         ],
         "xaxis": "x6",
         "y": [
          0,
          0.16505874348015956,
          0.16505874348015953,
          0.16505874348015956,
          0.16505874348015956,
          0.16505874348015956,
          0.16505874348015956,
          0.16505874348015956,
          0.16505874348015956,
          0.16505874348015953,
          0.16505874348015956,
          0.16505874348015956,
          0.16505874348015956,
          0.16505874348015956,
          0.16505874348015956,
          0.16505874348015953,
          0.16505874348015956,
          0.16505874348015956,
          0.16505874348015956,
          0.16505874348015956,
          0.16505874348015956,
          0.16505874348015953
         ],
         "yaxis": "y6"
        },
        {
         "fill": "tonexty",
         "fillcolor": "rgba(32, 146, 230,0.3)",
         "line": {
          "color": "rgba(255,255,255,0)"
         },
         "mode": "lines",
         "name": "LC",
         "showlegend": false,
         "type": "scatter",
         "x": [
          0,
          1,
          2,
          3,
          4,
          5,
          6,
          7,
          8,
          9,
          10,
          11,
          12,
          13,
          14,
          15,
          16,
          17,
          18,
          19,
          20,
          21
         ],
         "xaxis": "x6",
         "y": [
          0,
          -0.16505874348015956,
          -0.16505874348015956,
          -0.16505874348015956,
          -0.1650587434801596,
          -0.16505874348015956,
          -0.16505874348015956,
          -0.16505874348015956,
          -0.16505874348015956,
          -0.16505874348015956,
          -0.16505874348015953,
          -0.16505874348015956,
          -0.16505874348015956,
          -0.16505874348015956,
          -0.16505874348015956,
          -0.16505874348015956,
          -0.16505874348015956,
          -0.16505874348015956,
          -0.16505874348015956,
          -0.1650587434801596,
          -0.1650587434801596,
          -0.16505874348015956
         ],
         "yaxis": "y6"
        }
       ],
       "layout": {
        "annotations": [
         {
          "font": {
           "size": 16
          },
          "showarrow": false,
          "text": "Exponential Smoothing Residuals",
          "x": 0.225,
          "xanchor": "center",
          "xref": "paper",
          "y": 1.0000000000000002,
          "yanchor": "bottom",
          "yref": "paper"
         },
         {
          "font": {
           "size": 16
          },
          "showarrow": false,
          "text": "Periodogram",
          "x": 0.775,
          "xanchor": "center",
          "xref": "paper",
          "y": 1.0000000000000002,
          "yanchor": "bottom",
          "yref": "paper"
         },
         {
          "font": {
           "size": 16
          },
          "showarrow": false,
          "text": "Histogram",
          "x": 0.225,
          "xanchor": "center",
          "xref": "paper",
          "y": 0.6111111111111112,
          "yanchor": "bottom",
          "yref": "paper"
         },
         {
          "font": {
           "size": 16
          },
          "showarrow": false,
          "text": "Q-Q Plot",
          "x": 0.775,
          "xanchor": "center",
          "xref": "paper",
          "y": 0.6111111111111112,
          "yanchor": "bottom",
          "yref": "paper"
         },
         {
          "font": {
           "size": 16
          },
          "showarrow": false,
          "text": "ACF",
          "x": 0.225,
          "xanchor": "center",
          "xref": "paper",
          "y": 0.22222222222222227,
          "yanchor": "bottom",
          "yref": "paper"
         },
         {
          "font": {
           "size": 16
          },
          "showarrow": false,
          "text": "PACF",
          "x": 0.775,
          "xanchor": "center",
          "xref": "paper",
          "y": 0.22222222222222227,
          "yanchor": "bottom",
          "yref": "paper"
         }
        ],
        "showlegend": false,
        "template": {
         "data": {
          "bar": [
           {
            "error_x": {
             "color": "rgb(51,51,51)"
            },
            "error_y": {
             "color": "rgb(51,51,51)"
            },
            "marker": {
             "line": {
              "color": "rgb(237,237,237)",
              "width": 0.5
             },
             "pattern": {
              "fillmode": "overlay",
              "size": 10,
              "solidity": 0.2
             }
            },
            "type": "bar"
           }
          ],
          "barpolar": [
           {
            "marker": {
             "line": {
              "color": "rgb(237,237,237)",
              "width": 0.5
             },
             "pattern": {
              "fillmode": "overlay",
              "size": 10,
              "solidity": 0.2
             }
            },
            "type": "barpolar"
           }
          ],
          "carpet": [
           {
            "aaxis": {
             "endlinecolor": "rgb(51,51,51)",
             "gridcolor": "white",
             "linecolor": "white",
             "minorgridcolor": "white",
             "startlinecolor": "rgb(51,51,51)"
            },
            "baxis": {
             "endlinecolor": "rgb(51,51,51)",
             "gridcolor": "white",
             "linecolor": "white",
             "minorgridcolor": "white",
             "startlinecolor": "rgb(51,51,51)"
            },
            "type": "carpet"
           }
          ],
          "choropleth": [
           {
            "colorbar": {
             "outlinewidth": 0,
             "tickcolor": "rgb(237,237,237)",
             "ticklen": 6,
             "ticks": "inside"
            },
            "type": "choropleth"
           }
          ],
          "contour": [
           {
            "colorbar": {
             "outlinewidth": 0,
             "tickcolor": "rgb(237,237,237)",
             "ticklen": 6,
             "ticks": "inside"
            },
            "colorscale": [
             [
              0,
              "rgb(20,44,66)"
             ],
             [
              1,
              "rgb(90,179,244)"
             ]
            ],
            "type": "contour"
           }
          ],
          "contourcarpet": [
           {
            "colorbar": {
             "outlinewidth": 0,
             "tickcolor": "rgb(237,237,237)",
             "ticklen": 6,
             "ticks": "inside"
            },
            "type": "contourcarpet"
           }
          ],
          "heatmap": [
           {
            "colorbar": {
             "outlinewidth": 0,
             "tickcolor": "rgb(237,237,237)",
             "ticklen": 6,
             "ticks": "inside"
            },
            "colorscale": [
             [
              0,
              "rgb(20,44,66)"
             ],
             [
              1,
              "rgb(90,179,244)"
             ]
            ],
            "type": "heatmap"
           }
          ],
          "heatmapgl": [
           {
            "colorbar": {
             "outlinewidth": 0,
             "tickcolor": "rgb(237,237,237)",
             "ticklen": 6,
             "ticks": "inside"
            },
            "colorscale": [
             [
              0,
              "rgb(20,44,66)"
             ],
             [
              1,
              "rgb(90,179,244)"
             ]
            ],
            "type": "heatmapgl"
           }
          ],
          "histogram": [
           {
            "marker": {
             "pattern": {
              "fillmode": "overlay",
              "size": 10,
              "solidity": 0.2
             }
            },
            "type": "histogram"
           }
          ],
          "histogram2d": [
           {
            "colorbar": {
             "outlinewidth": 0,
             "tickcolor": "rgb(237,237,237)",
             "ticklen": 6,
             "ticks": "inside"
            },
            "colorscale": [
             [
              0,
              "rgb(20,44,66)"
             ],
             [
              1,
              "rgb(90,179,244)"
             ]
            ],
            "type": "histogram2d"
           }
          ],
          "histogram2dcontour": [
           {
            "colorbar": {
             "outlinewidth": 0,
             "tickcolor": "rgb(237,237,237)",
             "ticklen": 6,
             "ticks": "inside"
            },
            "colorscale": [
             [
              0,
              "rgb(20,44,66)"
             ],
             [
              1,
              "rgb(90,179,244)"
             ]
            ],
            "type": "histogram2dcontour"
           }
          ],
          "mesh3d": [
           {
            "colorbar": {
             "outlinewidth": 0,
             "tickcolor": "rgb(237,237,237)",
             "ticklen": 6,
             "ticks": "inside"
            },
            "type": "mesh3d"
           }
          ],
          "parcoords": [
           {
            "line": {
             "colorbar": {
              "outlinewidth": 0,
              "tickcolor": "rgb(237,237,237)",
              "ticklen": 6,
              "ticks": "inside"
             }
            },
            "type": "parcoords"
           }
          ],
          "pie": [
           {
            "automargin": true,
            "type": "pie"
           }
          ],
          "scatter": [
           {
            "fillpattern": {
             "fillmode": "overlay",
             "size": 10,
             "solidity": 0.2
            },
            "type": "scatter"
           }
          ],
          "scatter3d": [
           {
            "line": {
             "colorbar": {
              "outlinewidth": 0,
              "tickcolor": "rgb(237,237,237)",
              "ticklen": 6,
              "ticks": "inside"
             }
            },
            "marker": {
             "colorbar": {
              "outlinewidth": 0,
              "tickcolor": "rgb(237,237,237)",
              "ticklen": 6,
              "ticks": "inside"
             }
            },
            "type": "scatter3d"
           }
          ],
          "scattercarpet": [
           {
            "marker": {
             "colorbar": {
              "outlinewidth": 0,
              "tickcolor": "rgb(237,237,237)",
              "ticklen": 6,
              "ticks": "inside"
             }
            },
            "type": "scattercarpet"
           }
          ],
          "scattergeo": [
           {
            "marker": {
             "colorbar": {
              "outlinewidth": 0,
              "tickcolor": "rgb(237,237,237)",
              "ticklen": 6,
              "ticks": "inside"
             }
            },
            "type": "scattergeo"
           }
          ],
          "scattergl": [
           {
            "marker": {
             "colorbar": {
              "outlinewidth": 0,
              "tickcolor": "rgb(237,237,237)",
              "ticklen": 6,
              "ticks": "inside"
             }
            },
            "type": "scattergl"
           }
          ],
          "scattermapbox": [
           {
            "marker": {
             "colorbar": {
              "outlinewidth": 0,
              "tickcolor": "rgb(237,237,237)",
              "ticklen": 6,
              "ticks": "inside"
             }
            },
            "type": "scattermapbox"
           }
          ],
          "scatterpolar": [
           {
            "marker": {
             "colorbar": {
              "outlinewidth": 0,
              "tickcolor": "rgb(237,237,237)",
              "ticklen": 6,
              "ticks": "inside"
             }
            },
            "type": "scatterpolar"
           }
          ],
          "scatterpolargl": [
           {
            "marker": {
             "colorbar": {
              "outlinewidth": 0,
              "tickcolor": "rgb(237,237,237)",
              "ticklen": 6,
              "ticks": "inside"
             }
            },
            "type": "scatterpolargl"
           }
          ],
          "scatterternary": [
           {
            "marker": {
             "colorbar": {
              "outlinewidth": 0,
              "tickcolor": "rgb(237,237,237)",
              "ticklen": 6,
              "ticks": "inside"
             }
            },
            "type": "scatterternary"
           }
          ],
          "surface": [
           {
            "colorbar": {
             "outlinewidth": 0,
             "tickcolor": "rgb(237,237,237)",
             "ticklen": 6,
             "ticks": "inside"
            },
            "colorscale": [
             [
              0,
              "rgb(20,44,66)"
             ],
             [
              1,
              "rgb(90,179,244)"
             ]
            ],
            "type": "surface"
           }
          ],
          "table": [
           {
            "cells": {
             "fill": {
              "color": "rgb(237,237,237)"
             },
             "line": {
              "color": "white"
             }
            },
            "header": {
             "fill": {
              "color": "rgb(217,217,217)"
             },
             "line": {
              "color": "white"
             }
            },
            "type": "table"
           }
          ]
         },
         "layout": {
          "annotationdefaults": {
           "arrowhead": 0,
           "arrowwidth": 1
          },
          "autotypenumbers": "strict",
          "coloraxis": {
           "colorbar": {
            "outlinewidth": 0,
            "tickcolor": "rgb(237,237,237)",
            "ticklen": 6,
            "ticks": "inside"
           }
          },
          "colorscale": {
           "sequential": [
            [
             0,
             "rgb(20,44,66)"
            ],
            [
             1,
             "rgb(90,179,244)"
            ]
           ],
           "sequentialminus": [
            [
             0,
             "rgb(20,44,66)"
            ],
            [
             1,
             "rgb(90,179,244)"
            ]
           ]
          },
          "colorway": [
           "#F8766D",
           "#A3A500",
           "#00BF7D",
           "#00B0F6",
           "#E76BF3"
          ],
          "font": {
           "color": "rgb(51,51,51)"
          },
          "geo": {
           "bgcolor": "white",
           "lakecolor": "white",
           "landcolor": "rgb(237,237,237)",
           "showlakes": true,
           "showland": true,
           "subunitcolor": "white"
          },
          "hoverlabel": {
           "align": "left"
          },
          "hovermode": "closest",
          "paper_bgcolor": "white",
          "plot_bgcolor": "rgb(237,237,237)",
          "polar": {
           "angularaxis": {
            "gridcolor": "white",
            "linecolor": "white",
            "showgrid": true,
            "tickcolor": "rgb(51,51,51)",
            "ticks": "outside"
           },
           "bgcolor": "rgb(237,237,237)",
           "radialaxis": {
            "gridcolor": "white",
            "linecolor": "white",
            "showgrid": true,
            "tickcolor": "rgb(51,51,51)",
            "ticks": "outside"
           }
          },
          "scene": {
           "xaxis": {
            "backgroundcolor": "rgb(237,237,237)",
            "gridcolor": "white",
            "gridwidth": 2,
            "linecolor": "white",
            "showbackground": true,
            "showgrid": true,
            "tickcolor": "rgb(51,51,51)",
            "ticks": "outside",
            "zerolinecolor": "white"
           },
           "yaxis": {
            "backgroundcolor": "rgb(237,237,237)",
            "gridcolor": "white",
            "gridwidth": 2,
            "linecolor": "white",
            "showbackground": true,
            "showgrid": true,
            "tickcolor": "rgb(51,51,51)",
            "ticks": "outside",
            "zerolinecolor": "white"
           },
           "zaxis": {
            "backgroundcolor": "rgb(237,237,237)",
            "gridcolor": "white",
            "gridwidth": 2,
            "linecolor": "white",
            "showbackground": true,
            "showgrid": true,
            "tickcolor": "rgb(51,51,51)",
            "ticks": "outside",
            "zerolinecolor": "white"
           }
          },
          "shapedefaults": {
           "fillcolor": "black",
           "line": {
            "width": 0
           },
           "opacity": 0.3
          },
          "ternary": {
           "aaxis": {
            "gridcolor": "white",
            "linecolor": "white",
            "showgrid": true,
            "tickcolor": "rgb(51,51,51)",
            "ticks": "outside"
           },
           "baxis": {
            "gridcolor": "white",
            "linecolor": "white",
            "showgrid": true,
            "tickcolor": "rgb(51,51,51)",
            "ticks": "outside"
           },
           "bgcolor": "rgb(237,237,237)",
           "caxis": {
            "gridcolor": "white",
            "linecolor": "white",
            "showgrid": true,
            "tickcolor": "rgb(51,51,51)",
            "ticks": "outside"
           }
          },
          "xaxis": {
           "automargin": true,
           "gridcolor": "white",
           "linecolor": "white",
           "showgrid": true,
           "tickcolor": "rgb(51,51,51)",
           "ticks": "outside",
           "title": {
            "standoff": 15
           },
           "zerolinecolor": "white"
          },
          "yaxis": {
           "automargin": true,
           "gridcolor": "white",
           "linecolor": "white",
           "showgrid": true,
           "tickcolor": "rgb(51,51,51)",
           "ticks": "outside",
           "title": {
            "standoff": 15
           },
           "zerolinecolor": "white"
          }
         }
        },
        "title": {
         "text": "Diagnostics | Model Residuals"
        },
        "xaxis": {
         "anchor": "y",
         "domain": [
          0,
          0.45
         ]
        },
        "xaxis2": {
         "anchor": "y2",
         "domain": [
          0.55,
          1
         ],
         "range": [
          0,
          0.5
         ]
        },
        "xaxis3": {
         "anchor": "y3",
         "domain": [
          0,
          0.45
         ],
         "title": {
          "text": "Range of Values"
         }
        },
        "xaxis4": {
         "anchor": "y4",
         "domain": [
          0.55,
          1
         ],
         "title": {
          "text": "Theoretical Quantities"
         }
        },
        "xaxis5": {
         "anchor": "y5",
         "domain": [
          0,
          0.45
         ],
         "range": [
          -1,
          42
         ]
        },
        "xaxis6": {
         "anchor": "y6",
         "domain": [
          0.55,
          1
         ],
         "range": [
          -1,
          23
         ]
        },
        "yaxis": {
         "anchor": "x",
         "domain": [
          0.7777777777777779,
          1
         ]
        },
        "yaxis2": {
         "anchor": "x2",
         "domain": [
          0.7777777777777779,
          1
         ]
        },
        "yaxis3": {
         "anchor": "x3",
         "domain": [
          0.38888888888888895,
          0.6111111111111112
         ],
         "title": {
          "text": "PDF"
         }
        },
        "yaxis4": {
         "anchor": "x4",
         "domain": [
          0.38888888888888895,
          0.6111111111111112
         ],
         "title": {
          "text": "Sample Quantities"
         }
        },
        "yaxis5": {
         "anchor": "x5",
         "domain": [
          0,
          0.22222222222222227
         ],
         "range": [
          -1.1,
          1.1
         ],
         "zerolinecolor": "#000000"
        },
        "yaxis6": {
         "anchor": "x6",
         "domain": [
          0,
          0.22222222222222227
         ],
         "range": [
          -1.1,
          1.1
         ],
         "zerolinecolor": "#000000"
        }
       }
      }
     },
     "metadata": {},
     "output_type": "display_data"
    }
   ],
   "source": [
    "plot_model(best, plot = 'diagnostics')"
   ]
  },
  {
   "cell_type": "code",
   "execution_count": 5,
   "metadata": {},
   "outputs": [
    {
     "data": {
      "text/html": [
       "<style type=\"text/css\">\n",
       "#T_3f63b_row11_col1 {\n",
       "  background-color: lightgreen;\n",
       "}\n",
       "</style>\n",
       "<table id=\"T_3f63b\">\n",
       "  <thead>\n",
       "    <tr>\n",
       "      <th class=\"blank level0\" >&nbsp;</th>\n",
       "      <th id=\"T_3f63b_level0_col0\" class=\"col_heading level0 col0\" >Description</th>\n",
       "      <th id=\"T_3f63b_level0_col1\" class=\"col_heading level0 col1\" >Value</th>\n",
       "    </tr>\n",
       "  </thead>\n",
       "  <tbody>\n",
       "    <tr>\n",
       "      <th id=\"T_3f63b_level0_row0\" class=\"row_heading level0 row0\" >0</th>\n",
       "      <td id=\"T_3f63b_row0_col0\" class=\"data row0 col0\" >Session id</td>\n",
       "      <td id=\"T_3f63b_row0_col1\" class=\"data row0 col1\" >5447</td>\n",
       "    </tr>\n",
       "    <tr>\n",
       "      <th id=\"T_3f63b_level0_row1\" class=\"row_heading level0 row1\" >1</th>\n",
       "      <td id=\"T_3f63b_row1_col0\" class=\"data row1 col0\" >Target</td>\n",
       "      <td id=\"T_3f63b_row1_col1\" class=\"data row1 col1\" >Purchase</td>\n",
       "    </tr>\n",
       "    <tr>\n",
       "      <th id=\"T_3f63b_level0_row2\" class=\"row_heading level0 row2\" >2</th>\n",
       "      <td id=\"T_3f63b_row2_col0\" class=\"data row2 col0\" >Target type</td>\n",
       "      <td id=\"T_3f63b_row2_col1\" class=\"data row2 col1\" >Binary</td>\n",
       "    </tr>\n",
       "    <tr>\n",
       "      <th id=\"T_3f63b_level0_row3\" class=\"row_heading level0 row3\" >3</th>\n",
       "      <td id=\"T_3f63b_row3_col0\" class=\"data row3 col0\" >Target mapping</td>\n",
       "      <td id=\"T_3f63b_row3_col1\" class=\"data row3 col1\" >CH: 0, MM: 1</td>\n",
       "    </tr>\n",
       "    <tr>\n",
       "      <th id=\"T_3f63b_level0_row4\" class=\"row_heading level0 row4\" >4</th>\n",
       "      <td id=\"T_3f63b_row4_col0\" class=\"data row4 col0\" >Original data shape</td>\n",
       "      <td id=\"T_3f63b_row4_col1\" class=\"data row4 col1\" >(1070, 19)</td>\n",
       "    </tr>\n",
       "    <tr>\n",
       "      <th id=\"T_3f63b_level0_row5\" class=\"row_heading level0 row5\" >5</th>\n",
       "      <td id=\"T_3f63b_row5_col0\" class=\"data row5 col0\" >Transformed data shape</td>\n",
       "      <td id=\"T_3f63b_row5_col1\" class=\"data row5 col1\" >(1070, 19)</td>\n",
       "    </tr>\n",
       "    <tr>\n",
       "      <th id=\"T_3f63b_level0_row6\" class=\"row_heading level0 row6\" >6</th>\n",
       "      <td id=\"T_3f63b_row6_col0\" class=\"data row6 col0\" >Transformed train set shape</td>\n",
       "      <td id=\"T_3f63b_row6_col1\" class=\"data row6 col1\" >(749, 19)</td>\n",
       "    </tr>\n",
       "    <tr>\n",
       "      <th id=\"T_3f63b_level0_row7\" class=\"row_heading level0 row7\" >7</th>\n",
       "      <td id=\"T_3f63b_row7_col0\" class=\"data row7 col0\" >Transformed test set shape</td>\n",
       "      <td id=\"T_3f63b_row7_col1\" class=\"data row7 col1\" >(321, 19)</td>\n",
       "    </tr>\n",
       "    <tr>\n",
       "      <th id=\"T_3f63b_level0_row8\" class=\"row_heading level0 row8\" >8</th>\n",
       "      <td id=\"T_3f63b_row8_col0\" class=\"data row8 col0\" >Ordinal features</td>\n",
       "      <td id=\"T_3f63b_row8_col1\" class=\"data row8 col1\" >1</td>\n",
       "    </tr>\n",
       "    <tr>\n",
       "      <th id=\"T_3f63b_level0_row9\" class=\"row_heading level0 row9\" >9</th>\n",
       "      <td id=\"T_3f63b_row9_col0\" class=\"data row9 col0\" >Numeric features</td>\n",
       "      <td id=\"T_3f63b_row9_col1\" class=\"data row9 col1\" >17</td>\n",
       "    </tr>\n",
       "    <tr>\n",
       "      <th id=\"T_3f63b_level0_row10\" class=\"row_heading level0 row10\" >10</th>\n",
       "      <td id=\"T_3f63b_row10_col0\" class=\"data row10 col0\" >Categorical features</td>\n",
       "      <td id=\"T_3f63b_row10_col1\" class=\"data row10 col1\" >1</td>\n",
       "    </tr>\n",
       "    <tr>\n",
       "      <th id=\"T_3f63b_level0_row11\" class=\"row_heading level0 row11\" >11</th>\n",
       "      <td id=\"T_3f63b_row11_col0\" class=\"data row11 col0\" >Preprocess</td>\n",
       "      <td id=\"T_3f63b_row11_col1\" class=\"data row11 col1\" >True</td>\n",
       "    </tr>\n",
       "    <tr>\n",
       "      <th id=\"T_3f63b_level0_row12\" class=\"row_heading level0 row12\" >12</th>\n",
       "      <td id=\"T_3f63b_row12_col0\" class=\"data row12 col0\" >Imputation type</td>\n",
       "      <td id=\"T_3f63b_row12_col1\" class=\"data row12 col1\" >simple</td>\n",
       "    </tr>\n",
       "    <tr>\n",
       "      <th id=\"T_3f63b_level0_row13\" class=\"row_heading level0 row13\" >13</th>\n",
       "      <td id=\"T_3f63b_row13_col0\" class=\"data row13 col0\" >Numeric imputation</td>\n",
       "      <td id=\"T_3f63b_row13_col1\" class=\"data row13 col1\" >mean</td>\n",
       "    </tr>\n",
       "    <tr>\n",
       "      <th id=\"T_3f63b_level0_row14\" class=\"row_heading level0 row14\" >14</th>\n",
       "      <td id=\"T_3f63b_row14_col0\" class=\"data row14 col0\" >Categorical imputation</td>\n",
       "      <td id=\"T_3f63b_row14_col1\" class=\"data row14 col1\" >mode</td>\n",
       "    </tr>\n",
       "    <tr>\n",
       "      <th id=\"T_3f63b_level0_row15\" class=\"row_heading level0 row15\" >15</th>\n",
       "      <td id=\"T_3f63b_row15_col0\" class=\"data row15 col0\" >Maximum one-hot encoding</td>\n",
       "      <td id=\"T_3f63b_row15_col1\" class=\"data row15 col1\" >25</td>\n",
       "    </tr>\n",
       "    <tr>\n",
       "      <th id=\"T_3f63b_level0_row16\" class=\"row_heading level0 row16\" >16</th>\n",
       "      <td id=\"T_3f63b_row16_col0\" class=\"data row16 col0\" >Encoding method</td>\n",
       "      <td id=\"T_3f63b_row16_col1\" class=\"data row16 col1\" >None</td>\n",
       "    </tr>\n",
       "    <tr>\n",
       "      <th id=\"T_3f63b_level0_row17\" class=\"row_heading level0 row17\" >17</th>\n",
       "      <td id=\"T_3f63b_row17_col0\" class=\"data row17 col0\" >Fold Generator</td>\n",
       "      <td id=\"T_3f63b_row17_col1\" class=\"data row17 col1\" >StratifiedKFold</td>\n",
       "    </tr>\n",
       "    <tr>\n",
       "      <th id=\"T_3f63b_level0_row18\" class=\"row_heading level0 row18\" >18</th>\n",
       "      <td id=\"T_3f63b_row18_col0\" class=\"data row18 col0\" >Fold Number</td>\n",
       "      <td id=\"T_3f63b_row18_col1\" class=\"data row18 col1\" >10</td>\n",
       "    </tr>\n",
       "    <tr>\n",
       "      <th id=\"T_3f63b_level0_row19\" class=\"row_heading level0 row19\" >19</th>\n",
       "      <td id=\"T_3f63b_row19_col0\" class=\"data row19 col0\" >CPU Jobs</td>\n",
       "      <td id=\"T_3f63b_row19_col1\" class=\"data row19 col1\" >-1</td>\n",
       "    </tr>\n",
       "    <tr>\n",
       "      <th id=\"T_3f63b_level0_row20\" class=\"row_heading level0 row20\" >20</th>\n",
       "      <td id=\"T_3f63b_row20_col0\" class=\"data row20 col0\" >Use GPU</td>\n",
       "      <td id=\"T_3f63b_row20_col1\" class=\"data row20 col1\" >False</td>\n",
       "    </tr>\n",
       "    <tr>\n",
       "      <th id=\"T_3f63b_level0_row21\" class=\"row_heading level0 row21\" >21</th>\n",
       "      <td id=\"T_3f63b_row21_col0\" class=\"data row21 col0\" >Log Experiment</td>\n",
       "      <td id=\"T_3f63b_row21_col1\" class=\"data row21 col1\" >False</td>\n",
       "    </tr>\n",
       "    <tr>\n",
       "      <th id=\"T_3f63b_level0_row22\" class=\"row_heading level0 row22\" >22</th>\n",
       "      <td id=\"T_3f63b_row22_col0\" class=\"data row22 col0\" >Experiment Name</td>\n",
       "      <td id=\"T_3f63b_row22_col1\" class=\"data row22 col1\" >clf-default-name</td>\n",
       "    </tr>\n",
       "    <tr>\n",
       "      <th id=\"T_3f63b_level0_row23\" class=\"row_heading level0 row23\" >23</th>\n",
       "      <td id=\"T_3f63b_row23_col0\" class=\"data row23 col0\" >USI</td>\n",
       "      <td id=\"T_3f63b_row23_col1\" class=\"data row23 col1\" >21d2</td>\n",
       "    </tr>\n",
       "  </tbody>\n",
       "</table>\n"
      ],
      "text/plain": [
       "<pandas.io.formats.style.Styler at 0x1c928523e80>"
      ]
     },
     "metadata": {},
     "output_type": "display_data"
    },
    {
     "data": {
      "text/html": [
       "<div>\n",
       "<style scoped>\n",
       "    .dataframe tbody tr th:only-of-type {\n",
       "        vertical-align: middle;\n",
       "    }\n",
       "\n",
       "    .dataframe tbody tr th {\n",
       "        vertical-align: top;\n",
       "    }\n",
       "\n",
       "    .dataframe thead th {\n",
       "        text-align: right;\n",
       "    }\n",
       "</style>\n",
       "<table border=\"1\" class=\"dataframe\">\n",
       "  <thead>\n",
       "    <tr style=\"text-align: right;\">\n",
       "      <th></th>\n",
       "      <th></th>\n",
       "      <th></th>\n",
       "    </tr>\n",
       "    <tr>\n",
       "      <th></th>\n",
       "      <th></th>\n",
       "      <th></th>\n",
       "    </tr>\n",
       "  </thead>\n",
       "  <tbody>\n",
       "    <tr>\n",
       "      <th>Initiated</th>\n",
       "      <td>. . . . . . . . . . . . . . . . . .</td>\n",
       "      <td>11:48:01</td>\n",
       "    </tr>\n",
       "    <tr>\n",
       "      <th>Status</th>\n",
       "      <td>. . . . . . . . . . . . . . . . . .</td>\n",
       "      <td>Fitting 10 Folds</td>\n",
       "    </tr>\n",
       "    <tr>\n",
       "      <th>Estimator</th>\n",
       "      <td>. . . . . . . . . . . . . . . . . .</td>\n",
       "      <td>Logistic Regression</td>\n",
       "    </tr>\n",
       "  </tbody>\n",
       "</table>\n",
       "</div>"
      ],
      "text/plain": [
       "                                                                   \n",
       "                                                                   \n",
       "Initiated  . . . . . . . . . . . . . . . . . .             11:48:01\n",
       "Status     . . . . . . . . . . . . . . . . . .     Fitting 10 Folds\n",
       "Estimator  . . . . . . . . . . . . . . . . . .  Logistic Regression"
      ]
     },
     "metadata": {},
     "output_type": "display_data"
    },
    {
     "data": {
      "text/html": [
       "<style type=\"text/css\">\n",
       "#T_04a94_row10_col0, #T_04a94_row10_col1, #T_04a94_row10_col2, #T_04a94_row10_col3, #T_04a94_row10_col4, #T_04a94_row10_col5, #T_04a94_row10_col6 {\n",
       "  background: yellow;\n",
       "}\n",
       "</style>\n",
       "<table id=\"T_04a94\">\n",
       "  <thead>\n",
       "    <tr>\n",
       "      <th class=\"blank level0\" >&nbsp;</th>\n",
       "      <th id=\"T_04a94_level0_col0\" class=\"col_heading level0 col0\" >Accuracy</th>\n",
       "      <th id=\"T_04a94_level0_col1\" class=\"col_heading level0 col1\" >AUC</th>\n",
       "      <th id=\"T_04a94_level0_col2\" class=\"col_heading level0 col2\" >Recall</th>\n",
       "      <th id=\"T_04a94_level0_col3\" class=\"col_heading level0 col3\" >Prec.</th>\n",
       "      <th id=\"T_04a94_level0_col4\" class=\"col_heading level0 col4\" >F1</th>\n",
       "      <th id=\"T_04a94_level0_col5\" class=\"col_heading level0 col5\" >Kappa</th>\n",
       "      <th id=\"T_04a94_level0_col6\" class=\"col_heading level0 col6\" >MCC</th>\n",
       "    </tr>\n",
       "    <tr>\n",
       "      <th class=\"index_name level0\" >Fold</th>\n",
       "      <th class=\"blank col0\" >&nbsp;</th>\n",
       "      <th class=\"blank col1\" >&nbsp;</th>\n",
       "      <th class=\"blank col2\" >&nbsp;</th>\n",
       "      <th class=\"blank col3\" >&nbsp;</th>\n",
       "      <th class=\"blank col4\" >&nbsp;</th>\n",
       "      <th class=\"blank col5\" >&nbsp;</th>\n",
       "      <th class=\"blank col6\" >&nbsp;</th>\n",
       "    </tr>\n",
       "  </thead>\n",
       "  <tbody>\n",
       "    <tr>\n",
       "      <th id=\"T_04a94_level0_row0\" class=\"row_heading level0 row0\" >0</th>\n",
       "      <td id=\"T_04a94_row0_col0\" class=\"data row0 col0\" >0.8533</td>\n",
       "      <td id=\"T_04a94_row0_col1\" class=\"data row0 col1\" >0.9067</td>\n",
       "      <td id=\"T_04a94_row0_col2\" class=\"data row0 col2\" >0.8667</td>\n",
       "      <td id=\"T_04a94_row0_col3\" class=\"data row0 col3\" >0.7879</td>\n",
       "      <td id=\"T_04a94_row0_col4\" class=\"data row0 col4\" >0.8254</td>\n",
       "      <td id=\"T_04a94_row0_col5\" class=\"data row0 col5\" >0.6995</td>\n",
       "      <td id=\"T_04a94_row0_col6\" class=\"data row0 col6\" >0.7018</td>\n",
       "    </tr>\n",
       "    <tr>\n",
       "      <th id=\"T_04a94_level0_row1\" class=\"row_heading level0 row1\" >1</th>\n",
       "      <td id=\"T_04a94_row1_col0\" class=\"data row1 col0\" >0.8533</td>\n",
       "      <td id=\"T_04a94_row1_col1\" class=\"data row1 col1\" >0.9244</td>\n",
       "      <td id=\"T_04a94_row1_col2\" class=\"data row1 col2\" >0.8333</td>\n",
       "      <td id=\"T_04a94_row1_col3\" class=\"data row1 col3\" >0.8065</td>\n",
       "      <td id=\"T_04a94_row1_col4\" class=\"data row1 col4\" >0.8197</td>\n",
       "      <td id=\"T_04a94_row1_col5\" class=\"data row1 col5\" >0.6961</td>\n",
       "      <td id=\"T_04a94_row1_col6\" class=\"data row1 col6\" >0.6964</td>\n",
       "    </tr>\n",
       "    <tr>\n",
       "      <th id=\"T_04a94_level0_row2\" class=\"row_heading level0 row2\" >2</th>\n",
       "      <td id=\"T_04a94_row2_col0\" class=\"data row2 col0\" >0.8667</td>\n",
       "      <td id=\"T_04a94_row2_col1\" class=\"data row2 col1\" >0.9348</td>\n",
       "      <td id=\"T_04a94_row2_col2\" class=\"data row2 col2\" >0.7241</td>\n",
       "      <td id=\"T_04a94_row2_col3\" class=\"data row2 col3\" >0.9130</td>\n",
       "      <td id=\"T_04a94_row2_col4\" class=\"data row2 col4\" >0.8077</td>\n",
       "      <td id=\"T_04a94_row2_col5\" class=\"data row2 col5\" >0.7077</td>\n",
       "      <td id=\"T_04a94_row2_col6\" class=\"data row2 col6\" >0.7189</td>\n",
       "    </tr>\n",
       "    <tr>\n",
       "      <th id=\"T_04a94_level0_row3\" class=\"row_heading level0 row3\" >3</th>\n",
       "      <td id=\"T_04a94_row3_col0\" class=\"data row3 col0\" >0.7600</td>\n",
       "      <td id=\"T_04a94_row3_col1\" class=\"data row3 col1\" >0.8066</td>\n",
       "      <td id=\"T_04a94_row3_col2\" class=\"data row3 col2\" >0.6897</td>\n",
       "      <td id=\"T_04a94_row3_col3\" class=\"data row3 col3\" >0.6897</td>\n",
       "      <td id=\"T_04a94_row3_col4\" class=\"data row3 col4\" >0.6897</td>\n",
       "      <td id=\"T_04a94_row3_col5\" class=\"data row3 col5\" >0.4940</td>\n",
       "      <td id=\"T_04a94_row3_col6\" class=\"data row3 col6\" >0.4940</td>\n",
       "    </tr>\n",
       "    <tr>\n",
       "      <th id=\"T_04a94_level0_row4\" class=\"row_heading level0 row4\" >4</th>\n",
       "      <td id=\"T_04a94_row4_col0\" class=\"data row4 col0\" >0.8933</td>\n",
       "      <td id=\"T_04a94_row4_col1\" class=\"data row4 col1\" >0.9160</td>\n",
       "      <td id=\"T_04a94_row4_col2\" class=\"data row4 col2\" >0.8621</td>\n",
       "      <td id=\"T_04a94_row4_col3\" class=\"data row4 col3\" >0.8621</td>\n",
       "      <td id=\"T_04a94_row4_col4\" class=\"data row4 col4\" >0.8621</td>\n",
       "      <td id=\"T_04a94_row4_col5\" class=\"data row4 col5\" >0.7751</td>\n",
       "      <td id=\"T_04a94_row4_col6\" class=\"data row4 col6\" >0.7751</td>\n",
       "    </tr>\n",
       "    <tr>\n",
       "      <th id=\"T_04a94_level0_row5\" class=\"row_heading level0 row5\" >5</th>\n",
       "      <td id=\"T_04a94_row5_col0\" class=\"data row5 col0\" >0.8000</td>\n",
       "      <td id=\"T_04a94_row5_col1\" class=\"data row5 col1\" >0.8613</td>\n",
       "      <td id=\"T_04a94_row5_col2\" class=\"data row5 col2\" >0.6897</td>\n",
       "      <td id=\"T_04a94_row5_col3\" class=\"data row5 col3\" >0.7692</td>\n",
       "      <td id=\"T_04a94_row5_col4\" class=\"data row5 col4\" >0.7273</td>\n",
       "      <td id=\"T_04a94_row5_col5\" class=\"data row5 col5\" >0.5701</td>\n",
       "      <td id=\"T_04a94_row5_col6\" class=\"data row5 col6\" >0.5722</td>\n",
       "    </tr>\n",
       "    <tr>\n",
       "      <th id=\"T_04a94_level0_row6\" class=\"row_heading level0 row6\" >6</th>\n",
       "      <td id=\"T_04a94_row6_col0\" class=\"data row6 col0\" >0.9200</td>\n",
       "      <td id=\"T_04a94_row6_col1\" class=\"data row6 col1\" >0.9835</td>\n",
       "      <td id=\"T_04a94_row6_col2\" class=\"data row6 col2\" >0.8621</td>\n",
       "      <td id=\"T_04a94_row6_col3\" class=\"data row6 col3\" >0.9259</td>\n",
       "      <td id=\"T_04a94_row6_col4\" class=\"data row6 col4\" >0.8929</td>\n",
       "      <td id=\"T_04a94_row6_col5\" class=\"data row6 col5\" >0.8292</td>\n",
       "      <td id=\"T_04a94_row6_col6\" class=\"data row6 col6\" >0.8305</td>\n",
       "    </tr>\n",
       "    <tr>\n",
       "      <th id=\"T_04a94_level0_row7\" class=\"row_heading level0 row7\" >7</th>\n",
       "      <td id=\"T_04a94_row7_col0\" class=\"data row7 col0\" >0.8000</td>\n",
       "      <td id=\"T_04a94_row7_col1\" class=\"data row7 col1\" >0.8591</td>\n",
       "      <td id=\"T_04a94_row7_col2\" class=\"data row7 col2\" >0.6552</td>\n",
       "      <td id=\"T_04a94_row7_col3\" class=\"data row7 col3\" >0.7917</td>\n",
       "      <td id=\"T_04a94_row7_col4\" class=\"data row7 col4\" >0.7170</td>\n",
       "      <td id=\"T_04a94_row7_col5\" class=\"data row7 col5\" >0.5645</td>\n",
       "      <td id=\"T_04a94_row7_col6\" class=\"data row7 col6\" >0.5705</td>\n",
       "    </tr>\n",
       "    <tr>\n",
       "      <th id=\"T_04a94_level0_row8\" class=\"row_heading level0 row8\" >8</th>\n",
       "      <td id=\"T_04a94_row8_col0\" class=\"data row8 col0\" >0.7600</td>\n",
       "      <td id=\"T_04a94_row8_col1\" class=\"data row8 col1\" >0.8441</td>\n",
       "      <td id=\"T_04a94_row8_col2\" class=\"data row8 col2\" >0.6207</td>\n",
       "      <td id=\"T_04a94_row8_col3\" class=\"data row8 col3\" >0.7200</td>\n",
       "      <td id=\"T_04a94_row8_col4\" class=\"data row8 col4\" >0.6667</td>\n",
       "      <td id=\"T_04a94_row8_col5\" class=\"data row8 col5\" >0.4808</td>\n",
       "      <td id=\"T_04a94_row8_col6\" class=\"data row8 col6\" >0.4840</td>\n",
       "    </tr>\n",
       "    <tr>\n",
       "      <th id=\"T_04a94_level0_row9\" class=\"row_heading level0 row9\" >9</th>\n",
       "      <td id=\"T_04a94_row9_col0\" class=\"data row9 col0\" >0.8514</td>\n",
       "      <td id=\"T_04a94_row9_col1\" class=\"data row9 col1\" >0.9249</td>\n",
       "      <td id=\"T_04a94_row9_col2\" class=\"data row9 col2\" >0.7586</td>\n",
       "      <td id=\"T_04a94_row9_col3\" class=\"data row9 col3\" >0.8462</td>\n",
       "      <td id=\"T_04a94_row9_col4\" class=\"data row9 col4\" >0.8000</td>\n",
       "      <td id=\"T_04a94_row9_col5\" class=\"data row9 col5\" >0.6823</td>\n",
       "      <td id=\"T_04a94_row9_col6\" class=\"data row9 col6\" >0.6849</td>\n",
       "    </tr>\n",
       "    <tr>\n",
       "      <th id=\"T_04a94_level0_row10\" class=\"row_heading level0 row10\" >Mean</th>\n",
       "      <td id=\"T_04a94_row10_col0\" class=\"data row10 col0\" >0.8358</td>\n",
       "      <td id=\"T_04a94_row10_col1\" class=\"data row10 col1\" >0.8961</td>\n",
       "      <td id=\"T_04a94_row10_col2\" class=\"data row10 col2\" >0.7562</td>\n",
       "      <td id=\"T_04a94_row10_col3\" class=\"data row10 col3\" >0.8112</td>\n",
       "      <td id=\"T_04a94_row10_col4\" class=\"data row10 col4\" >0.7808</td>\n",
       "      <td id=\"T_04a94_row10_col5\" class=\"data row10 col5\" >0.6499</td>\n",
       "      <td id=\"T_04a94_row10_col6\" class=\"data row10 col6\" >0.6528</td>\n",
       "    </tr>\n",
       "    <tr>\n",
       "      <th id=\"T_04a94_level0_row11\" class=\"row_heading level0 row11\" >Std</th>\n",
       "      <td id=\"T_04a94_row11_col0\" class=\"data row11 col0\" >0.0512</td>\n",
       "      <td id=\"T_04a94_row11_col1\" class=\"data row11 col1\" >0.0496</td>\n",
       "      <td id=\"T_04a94_row11_col2\" class=\"data row11 col2\" >0.0889</td>\n",
       "      <td id=\"T_04a94_row11_col3\" class=\"data row11 col3\" >0.0729</td>\n",
       "      <td id=\"T_04a94_row11_col4\" class=\"data row11 col4\" >0.0721</td>\n",
       "      <td id=\"T_04a94_row11_col5\" class=\"data row11 col5\" >0.1111</td>\n",
       "      <td id=\"T_04a94_row11_col6\" class=\"data row11 col6\" >0.1110</td>\n",
       "    </tr>\n",
       "  </tbody>\n",
       "</table>\n"
      ],
      "text/plain": [
       "<pandas.io.formats.style.Styler at 0x1c9283af970>"
      ]
     },
     "metadata": {},
     "output_type": "display_data"
    },
    {
     "data": {
      "application/vnd.jupyter.widget-view+json": {
       "model_id": "28b75ef61dc541a791069d741f6320e2",
       "version_major": 2,
       "version_minor": 0
      },
      "text/plain": [
       "Processing:   0%|          | 0/4 [00:00<?, ?it/s]"
      ]
     },
     "metadata": {},
     "output_type": "display_data"
    },
    {
     "ename": "ModuleNotFoundError",
     "evalue": "\n'gradio' is a soft dependency and not included in the pycaret installation. Please run: `pip install gradio` to install.\nAlternately, you can install this by running `pip install pycaret[mlops]`",
     "output_type": "error",
     "traceback": [
      "\u001b[1;31m---------------------------------------------------------------------------\u001b[0m",
      "\u001b[1;31mModuleNotFoundError\u001b[0m                       Traceback (most recent call last)",
      "Cell \u001b[1;32mIn[5], line 13\u001b[0m\n\u001b[0;32m     10\u001b[0m lr \u001b[39m=\u001b[39m create_model(\u001b[39m'\u001b[39m\u001b[39mlr\u001b[39m\u001b[39m'\u001b[39m)\n\u001b[0;32m     12\u001b[0m \u001b[39m# create app\u001b[39;00m\n\u001b[1;32m---> 13\u001b[0m create_app(lr)\n",
      "File \u001b[1;32mc:\\Users\\feldm\\Documents\\GitHub\\portfolio_forecasting\\myenv\\lib\\site-packages\\pycaret\\utils\\generic.py:964\u001b[0m, in \u001b[0;36mcheck_if_global_is_not_none.<locals>.decorator.<locals>.wrapper\u001b[1;34m(*args, **kwargs)\u001b[0m\n\u001b[0;32m    962\u001b[0m     \u001b[39mif\u001b[39;00m globals_d[name] \u001b[39mis\u001b[39;00m \u001b[39mNone\u001b[39;00m:\n\u001b[0;32m    963\u001b[0m         \u001b[39mraise\u001b[39;00m \u001b[39mValueError\u001b[39;00m(message)\n\u001b[1;32m--> 964\u001b[0m \u001b[39mreturn\u001b[39;00m func(\u001b[39m*\u001b[39margs, \u001b[39m*\u001b[39m\u001b[39m*\u001b[39mkwargs)\n",
      "File \u001b[1;32mc:\\Users\\feldm\\Documents\\GitHub\\portfolio_forecasting\\myenv\\lib\\site-packages\\pycaret\\classification\\functional.py:3290\u001b[0m, in \u001b[0;36mcreate_app\u001b[1;34m(estimator, app_kwargs)\u001b[0m\n\u001b[0;32m   3260\u001b[0m \u001b[39m@check_if_global_is_not_none\u001b[39m(\u001b[39mglobals\u001b[39m(), _CURRENT_EXPERIMENT_DECORATOR_DICT)\n\u001b[0;32m   3261\u001b[0m \u001b[39mdef\u001b[39;00m \u001b[39mcreate_app\u001b[39m(estimator, app_kwargs: Optional[\u001b[39mdict\u001b[39m] \u001b[39m=\u001b[39m \u001b[39mNone\u001b[39;00m) \u001b[39m-\u001b[39m\u001b[39m>\u001b[39m \u001b[39mNone\u001b[39;00m:\n\u001b[0;32m   3263\u001b[0m \u001b[39m    \u001b[39m\u001b[39m\"\"\"\u001b[39;00m\n\u001b[0;32m   3264\u001b[0m \u001b[39m    This function creates a basic gradio app for inference.\u001b[39;00m\n\u001b[0;32m   3265\u001b[0m \u001b[39m    It will later be expanded for other app types such as\u001b[39;00m\n\u001b[1;32m   (...)\u001b[0m\n\u001b[0;32m   3288\u001b[0m \u001b[39m        None\u001b[39;00m\n\u001b[0;32m   3289\u001b[0m \u001b[39m    \"\"\"\u001b[39;00m\n\u001b[1;32m-> 3290\u001b[0m     \u001b[39mreturn\u001b[39;00m _CURRENT_EXPERIMENT\u001b[39m.\u001b[39;49mcreate_app(estimator\u001b[39m=\u001b[39;49mestimator, app_kwargs\u001b[39m=\u001b[39;49mapp_kwargs)\n",
      "File \u001b[1;32mc:\\Users\\feldm\\Documents\\GitHub\\portfolio_forecasting\\myenv\\lib\\site-packages\\pycaret\\internal\\pycaret_experiment\\supervised_experiment.py:5397\u001b[0m, in \u001b[0;36m_SupervisedExperiment.create_app\u001b[1;34m(self, estimator, app_kwargs)\u001b[0m\n\u001b[0;32m   5368\u001b[0m \u001b[39mdef\u001b[39;00m \u001b[39mcreate_app\u001b[39m(\u001b[39mself\u001b[39m, estimator, app_kwargs: Optional[\u001b[39mdict\u001b[39m]):\n\u001b[0;32m   5369\u001b[0m \u001b[39m    \u001b[39m\u001b[39m\"\"\"\u001b[39;00m\n\u001b[0;32m   5370\u001b[0m \u001b[39m    This function creates a basic gradio app for inference.\u001b[39;00m\n\u001b[0;32m   5371\u001b[0m \u001b[39m    It will later be expanded for other app types such as\u001b[39;00m\n\u001b[1;32m   (...)\u001b[0m\n\u001b[0;32m   5394\u001b[0m \u001b[39m        None\u001b[39;00m\n\u001b[0;32m   5395\u001b[0m \u001b[39m    \"\"\"\u001b[39;00m\n\u001b[1;32m-> 5397\u001b[0m     _check_soft_dependencies(\u001b[39m\"\u001b[39;49m\u001b[39mgradio\u001b[39;49m\u001b[39m\"\u001b[39;49m, extra\u001b[39m=\u001b[39;49m\u001b[39m\"\u001b[39;49m\u001b[39mmlops\u001b[39;49m\u001b[39m\"\u001b[39;49m, severity\u001b[39m=\u001b[39;49m\u001b[39m\"\u001b[39;49m\u001b[39merror\u001b[39;49m\u001b[39m\"\u001b[39;49m)\n\u001b[0;32m   5398\u001b[0m     \u001b[39mimport\u001b[39;00m \u001b[39mgradio\u001b[39;00m \u001b[39mas\u001b[39;00m \u001b[39mgr\u001b[39;00m\n\u001b[0;32m   5400\u001b[0m     all_inputs \u001b[39m=\u001b[39m []\n",
      "File \u001b[1;32mc:\\Users\\feldm\\Documents\\GitHub\\portfolio_forecasting\\myenv\\lib\\site-packages\\pycaret\\utils\\_dependencies.py:152\u001b[0m, in \u001b[0;36m_check_soft_dependencies\u001b[1;34m(package, severity, extra, install_name)\u001b[0m\n\u001b[0;32m    150\u001b[0m \u001b[39mif\u001b[39;00m severity \u001b[39m==\u001b[39m \u001b[39m\"\u001b[39m\u001b[39merror\u001b[39m\u001b[39m\"\u001b[39m:\n\u001b[0;32m    151\u001b[0m     logger\u001b[39m.\u001b[39mexception(\u001b[39mf\u001b[39m\u001b[39m\"\u001b[39m\u001b[39m{\u001b[39;00mmsg\u001b[39m}\u001b[39;00m\u001b[39m\"\u001b[39m)\n\u001b[1;32m--> 152\u001b[0m     \u001b[39mraise\u001b[39;00m \u001b[39mModuleNotFoundError\u001b[39;00m(msg)\n\u001b[0;32m    153\u001b[0m \u001b[39melif\u001b[39;00m severity \u001b[39m==\u001b[39m \u001b[39m\"\u001b[39m\u001b[39mwarning\u001b[39m\u001b[39m\"\u001b[39m:\n\u001b[0;32m    154\u001b[0m     logger\u001b[39m.\u001b[39mwarning(\u001b[39mf\u001b[39m\u001b[39m\"\u001b[39m\u001b[39m{\u001b[39;00mmsg\u001b[39m}\u001b[39;00m\u001b[39m\"\u001b[39m)\n",
      "\u001b[1;31mModuleNotFoundError\u001b[0m: \n'gradio' is a soft dependency and not included in the pycaret installation. Please run: `pip install gradio` to install.\nAlternately, you can install this by running `pip install pycaret[mlops]`"
     ]
    }
   ],
   "source": [
    "# load dataset\n",
    "from pycaret.datasets import get_data\n",
    "juice = get_data('juice')\n",
    "\n",
    "# init setup\n",
    "from pycaret.classification import *\n",
    "exp_name = setup(data = juice,  target = 'Purchase')\n",
    "\n",
    "# train a model\n",
    "lr = create_model('lr')\n",
    "\n",
    "# create app\n",
    "create_app(lr)"
   ]
  }
 ],
 "metadata": {
  "kernelspec": {
   "display_name": "myenv",
   "language": "python",
   "name": "python3"
  },
  "language_info": {
   "codemirror_mode": {
    "name": "ipython",
    "version": 3
   },
   "file_extension": ".py",
   "mimetype": "text/x-python",
   "name": "python",
   "nbconvert_exporter": "python",
   "pygments_lexer": "ipython3",
   "version": "3.9.0"
  },
  "orig_nbformat": 4
 },
 "nbformat": 4,
 "nbformat_minor": 2
}
